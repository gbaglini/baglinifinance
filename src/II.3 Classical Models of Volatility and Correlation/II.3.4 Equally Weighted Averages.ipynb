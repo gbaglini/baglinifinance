{
 "cells": [
  {
   "cell_type": "markdown",
   "id": "45cba64f",
   "metadata": {},
   "source": [
    "*All content and data presented in the articles on this platform are sourced from the comprehensive boxset titled “Market Risk Analysis” by Carol Alexander. The author of the articles acknowledges and respects the intellectual property rights and copyrights held by the original author of the boxset. The purpose of sharing this information is solely for educational and informational purposes, and no infringement of intellectual property rights is intended.*"
   ]
  },
  {
   "cell_type": "code",
   "execution_count": 72,
   "id": "e7b96865",
   "metadata": {},
   "outputs": [],
   "source": [
    "from scipy import stats\n",
    "import pandas as pd\n",
    "import numpy as np\n",
    "import plotly.express as px\n",
    "from plotly.subplots import make_subplots\n",
    "import plotly.graph_objects as go\n",
    "import plotly.io as pio\n",
    "import statsmodels.api as sm\n",
    "\n",
    "import pathlib\n",
    "import sys\n",
    "utils_path = pathlib.Path().absolute().parent.parent\n",
    "sys.path.append(utils_path.__str__())\n",
    "import utils.layout as lay\n",
    "from utils.functions import PCA"
   ]
  },
  {
   "cell_type": "code",
   "execution_count": 73,
   "id": "bab7d532",
   "metadata": {},
   "outputs": [],
   "source": [
    "pio.templates.default = 'simple_white+blog_mra'"
   ]
  },
  {
   "cell_type": "markdown",
   "id": "42f2382c",
   "metadata": {},
   "source": [
    "# Equally Weighted Averages"
   ]
  },
  {
   "cell_type": "markdown",
   "id": "2a009904",
   "metadata": {},
   "source": [
    "This section describes how to derive equally weighted estimates for volatility and correlation."
   ]
  },
  {
   "cell_type": "markdown",
   "id": "9cd29402",
   "metadata": {},
   "source": [
    "## Unconditional Variance and Volatility"
   ]
  },
  {
   "cell_type": "markdown",
   "id": "634c7954",
   "metadata": {},
   "source": [
    "The traditional approach for calculating volatility entails derving an unbiased estimate of the variance using an equally weighted average of squared returns and converting that value into a volatility estimate by applying the squared root of time rule. Assuming that each return has zero mean:\n",
    "\n",
    "\\begin{equation}\n",
    "\\hat{\\sigma_{it}}^2 = T^{-1} \\sum_{h=1}^{T} r_{i, t-k}^2\n",
    "\\end{equation}\n",
    "\n",
    "After having obtained an unbiased estimate of the variance, we can use the square-root-of-time rule to convert it into volatility as:\n",
    "\n",
    "\\begin{equation}\n",
    "Equally\\ Weighted\\ Volatility\\ Estimate = \\hat{\\sigma_{it}} \\sqrt{250}\n",
    "\\end{equation}"
   ]
  },
  {
   "cell_type": "markdown",
   "id": "422b0978",
   "metadata": {},
   "source": [
    "### *Example: Estimate of FTSE 100 volatility*"
   ]
  },
  {
   "cell_type": "markdown",
   "id": "f2b759c6",
   "metadata": {},
   "source": [
    "*Daily closing values on the FTSE 100 index between Friday 10 August and Friday 24 August\n",
    "2007 are shown in the below table. Use these data to estimate the volatility of the FTSE 100\n",
    "index at the close of the market on 24 August 2007.*"
   ]
  },
  {
   "cell_type": "code",
   "execution_count": 3,
   "id": "28bb3508",
   "metadata": {},
   "outputs": [],
   "source": [
    "df = pd.read_excel(r\"data/Examples_II.3.xls\", sheet_name=\"EX_II.3.5&8\").iloc[:11, :2].set_index(\"Date\")\n",
    "df.index = df.index.date\n",
    "df[\"LogRet\"] = np.log(df/df.shift())[1:]"
   ]
  },
  {
   "cell_type": "markdown",
   "id": "52242123",
   "metadata": {},
   "source": [
    "$$\\begin{array}{lrr}\n",
    "\\hline\n",
    " & FTSE & LogRet \\\\\n",
    "\\hline\n",
    "2007-08-10 & 6038.30 & NaN \\\\\n",
    "2007-08-13 & 6219.00 & 0.03 \\\\\n",
    "2007-08-14 & 6143.50 & -0.01 \\\\\n",
    "2007-08-15 & 6109.30 & -0.01 \\\\\n",
    "2007-08-16 & 5858.90 & -0.04 \\\\\n",
    "2007-08-17 & 6064.20 & 0.03 \\\\\n",
    "2007-08-20 & 6078.70 & 0.00 \\\\\n",
    "2007-08-21 & 6086.10 & 0.00 \\\\\n",
    "2007-08-22 & 6196.00 & 0.02 \\\\\n",
    "2007-08-23 & 6196.90 & 0.00 \\\\\n",
    "2007-08-24 & 6220.10 & 0.00 \\\\\n",
    "\\hline\n",
    "\\end{array}\n",
    "$$"
   ]
  },
  {
   "cell_type": "markdown",
   "id": "92f0dde4",
   "metadata": {},
   "source": [
    "### *(1) Zero mean assumption*"
   ]
  },
  {
   "cell_type": "code",
   "execution_count": 45,
   "id": "86d03f8d",
   "metadata": {},
   "outputs": [
    {
     "name": "stdout",
     "output_type": "stream",
     "text": [
      "Variance: 0.000433\n",
      "Volatility: 0.329\n"
     ]
    }
   ],
   "source": [
    "df[\"SqRet\"] = df[\"LogRet\"]**2\n",
    "var_FTSE = df[\"SqRet\"].mean()\n",
    "vol_FTSE  = np.sqrt(var_FTSE*250)\n",
    "print(\"Variance: {}\".format(round(var_FTSE, 6)))\n",
    "print(\"Volatility: {}\".format(round(vol_FTSE, 3)))"
   ]
  },
  {
   "cell_type": "markdown",
   "id": "8717c070",
   "metadata": {},
   "source": [
    "The reason why we use log returns rather than ordinary returns are the following:\n",
    "* at daily frequency there is very little difference from the two. For lower frequencies e.g. weekly, montly etc. it is conventional to use ordinary returns instead\n",
    "* the geometric brownian motion assumes a price process whose log returns are normally distributed\n",
    "* unlike ordinary returns, the h-period log return is the sum of h consecutive one-period returns.\n",
    "\n",
    "If the expected return is assumed to be zero then the variance obtained in Equation (1) is an unbiased estimator i.e. $E(\\hat{\\sigma}^2) = \\sigma^2$ and so $\\sqrt{E(\\hat{\\sigma}^2)} = \\sigma$\n",
    "\n",
    "Otherwise, the expected return has to be calculated from the sample, and an unbiased estimate of the sample variance is derived as:\n",
    "\n",
    "\\begin{equation}\n",
    "\\hat{s_{it}}^2 = (T-1)^{-1} \\sum_{h=1}^{T}(r_{i, t-k} -  \\bar{r_{i}})^2\n",
    "\\end{equation}\n"
   ]
  },
  {
   "cell_type": "markdown",
   "id": "870634a5",
   "metadata": {},
   "source": [
    "### *(2) Without zero mean assumption*"
   ]
  },
  {
   "cell_type": "code",
   "execution_count": 46,
   "id": "c7044a46",
   "metadata": {},
   "outputs": [
    {
     "name": "stdout",
     "output_type": "stream",
     "text": [
      "Variance: 0.000471\n",
      "Volatility: 0.343\n"
     ]
    }
   ],
   "source": [
    "avg_log_ret = df[\"LogRet\"].mean()\n",
    "df[\"SqMeanDev\"] = (df[\"LogRet\"] - avg_log_ret)**2\n",
    "\n",
    "variance = sum(df[\"SqMeanDev\"][1:])/(len(df[\"SqMeanDev\"][1:]) - 1)\n",
    "volatility = np.sqrt(variance*250)\n",
    "print(\"Variance: {}\".format(round(variance, 6)))\n",
    "print(\"Volatility: {}\".format(round(volatility, 3)))"
   ]
  },
  {
   "cell_type": "markdown",
   "id": "1ae37605",
   "metadata": {},
   "source": [
    "The result is an equally weighted volatility estimate of 34.32%. This is quite different from\n",
    "the volatility of 32.9% that we obtained in the previous example, based on the zero mean\n",
    "return assumption, since the sample is small and there is a considerable sampling error. With\n",
    "a large sample the difference would be much smaller."
   ]
  },
  {
   "cell_type": "markdown",
   "id": "de6344e1",
   "metadata": {},
   "source": [
    "## Unconditional Covariance and Correlation\n"
   ]
  },
  {
   "cell_type": "markdown",
   "id": "a61f4665",
   "metadata": {},
   "source": [
    "Equally weighted estimate of covariance can be computed as:\n",
    "\n",
    "\\begin{equation}\n",
    "\\hat{\\sigma_{ijt}} = T^{-1} \\sum_{h=1}^{T} r_{i, t-k} r_{j, t-k}\n",
    "\\end{equation}\n",
    "\n",
    "However, this only works for high frequency data and under the assumption of zero mean returns.\n",
    "When these conditions are not met, it is recommended to:\n",
    "* use ordinary returns instead of log returns\n",
    "* take the sum of the cross prodcut of the mean deviations of returns\n",
    "* use T-1 instead of T in the denominator\n",
    "\n",
    "Once the two variances and the covariance metrics are calculated, a correlation esimate can be derived as:\n",
    "\n",
    "\\begin{equation}\n",
    "Equally\\ Weighted\\ Correlation\\ Estimate = \\hat{\\rho_{ijt}} = \\frac{\\hat{\\sigma_{ijt}}}{\\hat{\\sigma_{it}}\\hat{\\sigma_{jt}}}\n",
    "\\end{equation}\n"
   ]
  },
  {
   "cell_type": "markdown",
   "id": "d10ee5d1",
   "metadata": {},
   "source": [
    "### *Example: Estimate of FTSE-S&P correlation*"
   ]
  },
  {
   "cell_type": "markdown",
   "id": "1471369a",
   "metadata": {},
   "source": [
    "*Use the data in table below, which is taken over the same period as the FTSE 100 data, to\n",
    "estimate the correlation between the FTSE 100 and S&P 500 index*"
   ]
  },
  {
   "cell_type": "code",
   "execution_count": 47,
   "id": "7436bfa9",
   "metadata": {},
   "outputs": [],
   "source": [
    "df1 = pd.read_excel(r\"data/Examples_II.3.xls\", sheet_name=\"EX_II.3.7\").iloc[:11, :2].set_index(\"Date\").astype(float)\n",
    "df1.index = df1.index.date\n",
    "df1[\"LogRet\"] = np.log(df1/df1.shift())\n",
    "df1[\"SqRet\"] = df1[\"LogRet\"]**2\n",
    "df1[\"CrossProduct\"] = df1[\"SqRet\"]*df1[\"SqRet\"]"
   ]
  },
  {
   "cell_type": "code",
   "execution_count": 64,
   "id": "5871f694",
   "metadata": {},
   "outputs": [
    {
     "data": {
      "application/vnd.plotly.v1+json": {
       "config": {
        "plotlyServerURL": "https://plot.ly"
       },
       "data": [
        {
         "mode": "lines",
         "name": "FTSE",
         "type": "scatter",
         "x": [
          "2007-08-10",
          "2007-08-13",
          "2007-08-14",
          "2007-08-15",
          "2007-08-16",
          "2007-08-17",
          "2007-08-20",
          "2007-08-21",
          "2007-08-22",
          "2007-08-23",
          "2007-08-24"
         ],
         "y": [
          100,
          102.99256413228889,
          101.74221221204644,
          101.17582763360548,
          97.0289651060729,
          100.4289286719772,
          100.66906248447411,
          100.79161353361044,
          102.61166222281105,
          102.62656708013844,
          103.01078118013348
         ]
        },
        {
         "mode": "lines",
         "name": "SP500",
         "type": "scatter",
         "x": [
          "2007-08-10",
          "2007-08-13",
          "2007-08-14",
          "2007-08-15",
          "2007-08-16",
          "2007-08-17",
          "2007-08-20",
          "2007-08-21",
          "2007-08-22",
          "2007-08-23",
          "2007-08-24"
         ],
         "y": [
          100,
          99.95046916705648,
          98.1357144822652,
          96.77086486337744,
          97.08524806692165,
          99.4702952587986,
          99.44346605762087,
          99.55147079056712,
          100.71750914944552,
          100.60950441649926,
          101.77003934949505
         ]
        }
       ],
       "layout": {
        "template": {
         "data": {
          "bar": [
           {
            "error_x": {
             "color": "rgb(36,36,36)"
            },
            "error_y": {
             "color": "rgb(36,36,36)"
            },
            "marker": {
             "line": {
              "color": "white",
              "width": 0.5
             },
             "pattern": {
              "fillmode": "overlay",
              "size": 10,
              "solidity": 0.2
             }
            },
            "type": "bar"
           }
          ],
          "barpolar": [
           {
            "marker": {
             "line": {
              "color": "white",
              "width": 0.5
             },
             "pattern": {
              "fillmode": "overlay",
              "size": 10,
              "solidity": 0.2
             }
            },
            "type": "barpolar"
           }
          ],
          "carpet": [
           {
            "aaxis": {
             "endlinecolor": "rgb(36,36,36)",
             "gridcolor": "white",
             "linecolor": "white",
             "minorgridcolor": "white",
             "startlinecolor": "rgb(36,36,36)"
            },
            "baxis": {
             "endlinecolor": "rgb(36,36,36)",
             "gridcolor": "white",
             "linecolor": "white",
             "minorgridcolor": "white",
             "startlinecolor": "rgb(36,36,36)"
            },
            "type": "carpet"
           }
          ],
          "choropleth": [
           {
            "colorbar": {
             "outlinewidth": 1,
             "tickcolor": "rgb(36,36,36)",
             "ticks": "outside"
            },
            "type": "choropleth"
           }
          ],
          "contour": [
           {
            "colorbar": {
             "outlinewidth": 1,
             "tickcolor": "rgb(36,36,36)",
             "ticks": "outside"
            },
            "colorscale": [
             [
              0,
              "#440154"
             ],
             [
              0.1111111111111111,
              "#482878"
             ],
             [
              0.2222222222222222,
              "#3e4989"
             ],
             [
              0.3333333333333333,
              "#31688e"
             ],
             [
              0.4444444444444444,
              "#26828e"
             ],
             [
              0.5555555555555556,
              "#1f9e89"
             ],
             [
              0.6666666666666666,
              "#35b779"
             ],
             [
              0.7777777777777778,
              "#6ece58"
             ],
             [
              0.8888888888888888,
              "#b5de2b"
             ],
             [
              1,
              "#fde725"
             ]
            ],
            "type": "contour"
           }
          ],
          "contourcarpet": [
           {
            "colorbar": {
             "outlinewidth": 1,
             "tickcolor": "rgb(36,36,36)",
             "ticks": "outside"
            },
            "type": "contourcarpet"
           }
          ],
          "heatmap": [
           {
            "colorbar": {
             "outlinewidth": 1,
             "tickcolor": "rgb(36,36,36)",
             "ticks": "outside"
            },
            "colorscale": [
             [
              0,
              "#440154"
             ],
             [
              0.1111111111111111,
              "#482878"
             ],
             [
              0.2222222222222222,
              "#3e4989"
             ],
             [
              0.3333333333333333,
              "#31688e"
             ],
             [
              0.4444444444444444,
              "#26828e"
             ],
             [
              0.5555555555555556,
              "#1f9e89"
             ],
             [
              0.6666666666666666,
              "#35b779"
             ],
             [
              0.7777777777777778,
              "#6ece58"
             ],
             [
              0.8888888888888888,
              "#b5de2b"
             ],
             [
              1,
              "#fde725"
             ]
            ],
            "type": "heatmap"
           }
          ],
          "heatmapgl": [
           {
            "colorbar": {
             "outlinewidth": 1,
             "tickcolor": "rgb(36,36,36)",
             "ticks": "outside"
            },
            "colorscale": [
             [
              0,
              "#440154"
             ],
             [
              0.1111111111111111,
              "#482878"
             ],
             [
              0.2222222222222222,
              "#3e4989"
             ],
             [
              0.3333333333333333,
              "#31688e"
             ],
             [
              0.4444444444444444,
              "#26828e"
             ],
             [
              0.5555555555555556,
              "#1f9e89"
             ],
             [
              0.6666666666666666,
              "#35b779"
             ],
             [
              0.7777777777777778,
              "#6ece58"
             ],
             [
              0.8888888888888888,
              "#b5de2b"
             ],
             [
              1,
              "#fde725"
             ]
            ],
            "type": "heatmapgl"
           }
          ],
          "histogram": [
           {
            "marker": {
             "line": {
              "color": "white",
              "width": 0.6
             }
            },
            "type": "histogram"
           }
          ],
          "histogram2d": [
           {
            "colorbar": {
             "outlinewidth": 1,
             "tickcolor": "rgb(36,36,36)",
             "ticks": "outside"
            },
            "colorscale": [
             [
              0,
              "#440154"
             ],
             [
              0.1111111111111111,
              "#482878"
             ],
             [
              0.2222222222222222,
              "#3e4989"
             ],
             [
              0.3333333333333333,
              "#31688e"
             ],
             [
              0.4444444444444444,
              "#26828e"
             ],
             [
              0.5555555555555556,
              "#1f9e89"
             ],
             [
              0.6666666666666666,
              "#35b779"
             ],
             [
              0.7777777777777778,
              "#6ece58"
             ],
             [
              0.8888888888888888,
              "#b5de2b"
             ],
             [
              1,
              "#fde725"
             ]
            ],
            "type": "histogram2d"
           }
          ],
          "histogram2dcontour": [
           {
            "colorbar": {
             "outlinewidth": 1,
             "tickcolor": "rgb(36,36,36)",
             "ticks": "outside"
            },
            "colorscale": [
             [
              0,
              "#440154"
             ],
             [
              0.1111111111111111,
              "#482878"
             ],
             [
              0.2222222222222222,
              "#3e4989"
             ],
             [
              0.3333333333333333,
              "#31688e"
             ],
             [
              0.4444444444444444,
              "#26828e"
             ],
             [
              0.5555555555555556,
              "#1f9e89"
             ],
             [
              0.6666666666666666,
              "#35b779"
             ],
             [
              0.7777777777777778,
              "#6ece58"
             ],
             [
              0.8888888888888888,
              "#b5de2b"
             ],
             [
              1,
              "#fde725"
             ]
            ],
            "type": "histogram2dcontour"
           }
          ],
          "mesh3d": [
           {
            "colorbar": {
             "outlinewidth": 1,
             "tickcolor": "rgb(36,36,36)",
             "ticks": "outside"
            },
            "type": "mesh3d"
           }
          ],
          "parcoords": [
           {
            "line": {
             "colorbar": {
              "outlinewidth": 1,
              "tickcolor": "rgb(36,36,36)",
              "ticks": "outside"
             }
            },
            "type": "parcoords"
           }
          ],
          "pie": [
           {
            "automargin": true,
            "type": "pie"
           }
          ],
          "scatter": [
           {
            "fillpattern": {
             "fillmode": "overlay",
             "size": 10,
             "solidity": 0.2
            },
            "type": "scatter"
           }
          ],
          "scatter3d": [
           {
            "line": {
             "colorbar": {
              "outlinewidth": 1,
              "tickcolor": "rgb(36,36,36)",
              "ticks": "outside"
             }
            },
            "marker": {
             "colorbar": {
              "outlinewidth": 1,
              "tickcolor": "rgb(36,36,36)",
              "ticks": "outside"
             }
            },
            "type": "scatter3d"
           }
          ],
          "scattercarpet": [
           {
            "marker": {
             "colorbar": {
              "outlinewidth": 1,
              "tickcolor": "rgb(36,36,36)",
              "ticks": "outside"
             }
            },
            "type": "scattercarpet"
           }
          ],
          "scattergeo": [
           {
            "marker": {
             "colorbar": {
              "outlinewidth": 1,
              "tickcolor": "rgb(36,36,36)",
              "ticks": "outside"
             }
            },
            "type": "scattergeo"
           }
          ],
          "scattergl": [
           {
            "marker": {
             "colorbar": {
              "outlinewidth": 1,
              "tickcolor": "rgb(36,36,36)",
              "ticks": "outside"
             }
            },
            "type": "scattergl"
           }
          ],
          "scattermapbox": [
           {
            "marker": {
             "colorbar": {
              "outlinewidth": 1,
              "tickcolor": "rgb(36,36,36)",
              "ticks": "outside"
             }
            },
            "type": "scattermapbox"
           }
          ],
          "scatterpolar": [
           {
            "marker": {
             "colorbar": {
              "outlinewidth": 1,
              "tickcolor": "rgb(36,36,36)",
              "ticks": "outside"
             }
            },
            "type": "scatterpolar"
           }
          ],
          "scatterpolargl": [
           {
            "marker": {
             "colorbar": {
              "outlinewidth": 1,
              "tickcolor": "rgb(36,36,36)",
              "ticks": "outside"
             }
            },
            "type": "scatterpolargl"
           }
          ],
          "scatterternary": [
           {
            "marker": {
             "colorbar": {
              "outlinewidth": 1,
              "tickcolor": "rgb(36,36,36)",
              "ticks": "outside"
             }
            },
            "type": "scatterternary"
           }
          ],
          "surface": [
           {
            "colorbar": {
             "outlinewidth": 1,
             "tickcolor": "rgb(36,36,36)",
             "ticks": "outside"
            },
            "colorscale": [
             [
              0,
              "#440154"
             ],
             [
              0.1111111111111111,
              "#482878"
             ],
             [
              0.2222222222222222,
              "#3e4989"
             ],
             [
              0.3333333333333333,
              "#31688e"
             ],
             [
              0.4444444444444444,
              "#26828e"
             ],
             [
              0.5555555555555556,
              "#1f9e89"
             ],
             [
              0.6666666666666666,
              "#35b779"
             ],
             [
              0.7777777777777778,
              "#6ece58"
             ],
             [
              0.8888888888888888,
              "#b5de2b"
             ],
             [
              1,
              "#fde725"
             ]
            ],
            "type": "surface"
           }
          ],
          "table": [
           {
            "cells": {
             "fill": {
              "color": "rgb(237,237,237)"
             },
             "line": {
              "color": "white"
             }
            },
            "header": {
             "fill": {
              "color": "rgb(217,217,217)"
             },
             "line": {
              "color": "white"
             }
            },
            "type": "table"
           }
          ]
         },
         "layout": {
          "annotationdefaults": {
           "arrowhead": 0,
           "arrowwidth": 1
          },
          "autotypenumbers": "strict",
          "coloraxis": {
           "colorbar": {
            "outlinewidth": 1,
            "tickcolor": "rgb(36,36,36)",
            "ticks": "outside"
           }
          },
          "colorscale": {
           "diverging": [
            [
             0,
             "rgb(103,0,31)"
            ],
            [
             0.1,
             "rgb(178,24,43)"
            ],
            [
             0.2,
             "rgb(214,96,77)"
            ],
            [
             0.3,
             "rgb(244,165,130)"
            ],
            [
             0.4,
             "rgb(253,219,199)"
            ],
            [
             0.5,
             "rgb(247,247,247)"
            ],
            [
             0.6,
             "rgb(209,229,240)"
            ],
            [
             0.7,
             "rgb(146,197,222)"
            ],
            [
             0.8,
             "rgb(67,147,195)"
            ],
            [
             0.9,
             "rgb(33,102,172)"
            ],
            [
             1,
             "rgb(5,48,97)"
            ]
           ],
           "sequential": [
            [
             0,
             "#440154"
            ],
            [
             0.1111111111111111,
             "#482878"
            ],
            [
             0.2222222222222222,
             "#3e4989"
            ],
            [
             0.3333333333333333,
             "#31688e"
            ],
            [
             0.4444444444444444,
             "#26828e"
            ],
            [
             0.5555555555555556,
             "#1f9e89"
            ],
            [
             0.6666666666666666,
             "#35b779"
            ],
            [
             0.7777777777777778,
             "#6ece58"
            ],
            [
             0.8888888888888888,
             "#b5de2b"
            ],
            [
             1,
             "#fde725"
            ]
           ],
           "sequentialminus": [
            [
             0,
             "#440154"
            ],
            [
             0.1111111111111111,
             "#482878"
            ],
            [
             0.2222222222222222,
             "#3e4989"
            ],
            [
             0.3333333333333333,
             "#31688e"
            ],
            [
             0.4444444444444444,
             "#26828e"
            ],
            [
             0.5555555555555556,
             "#1f9e89"
            ],
            [
             0.6666666666666666,
             "#35b779"
            ],
            [
             0.7777777777777778,
             "#6ece58"
            ],
            [
             0.8888888888888888,
             "#b5de2b"
            ],
            [
             1,
             "#fde725"
            ]
           ]
          },
          "colorway": [
           "#4C78A8",
           "#F58518",
           "#E45756",
           "#72B7B2",
           "#54A24B",
           "#EECA3B",
           "#B279A2",
           "#FF9DA6",
           "#9D755D",
           "#BAB0AC"
          ],
          "font": {
           "color": "rgb(36,36,36)",
           "family": "merriserif",
           "size": 12
          },
          "geo": {
           "bgcolor": "white",
           "lakecolor": "white",
           "landcolor": "white",
           "showlakes": true,
           "showland": true,
           "subunitcolor": "white"
          },
          "hoverlabel": {
           "align": "left"
          },
          "hovermode": "closest",
          "legend": {
           "bgcolor": "white",
           "bordercolor": "Black",
           "borderwidth": 1,
           "orientation": "h",
           "traceorder": "reversed",
           "x": 0.5,
           "xanchor": "center",
           "y": -0.2
          },
          "mapbox": {
           "style": "light"
          },
          "paper_bgcolor": "white",
          "plot_bgcolor": "white",
          "polar": {
           "angularaxis": {
            "gridcolor": "rgb(232,232,232)",
            "linecolor": "rgb(36,36,36)",
            "showgrid": false,
            "showline": true,
            "ticks": "outside"
           },
           "bgcolor": "white",
           "radialaxis": {
            "gridcolor": "rgb(232,232,232)",
            "linecolor": "rgb(36,36,36)",
            "showgrid": false,
            "showline": true,
            "ticks": "outside"
           }
          },
          "scene": {
           "xaxis": {
            "backgroundcolor": "white",
            "gridcolor": "rgb(232,232,232)",
            "gridwidth": 2,
            "linecolor": "rgb(36,36,36)",
            "showbackground": true,
            "showgrid": false,
            "showline": true,
            "ticks": "outside",
            "zeroline": false,
            "zerolinecolor": "rgb(36,36,36)"
           },
           "yaxis": {
            "backgroundcolor": "white",
            "gridcolor": "rgb(232,232,232)",
            "gridwidth": 2,
            "linecolor": "rgb(36,36,36)",
            "showbackground": true,
            "showgrid": false,
            "showline": true,
            "ticks": "outside",
            "zeroline": false,
            "zerolinecolor": "rgb(36,36,36)"
           },
           "zaxis": {
            "backgroundcolor": "white",
            "gridcolor": "rgb(232,232,232)",
            "gridwidth": 2,
            "linecolor": "rgb(36,36,36)",
            "showbackground": true,
            "showgrid": false,
            "showline": true,
            "ticks": "outside",
            "zeroline": false,
            "zerolinecolor": "rgb(36,36,36)"
           }
          },
          "shapedefaults": {
           "fillcolor": "black",
           "line": {
            "width": 0
           },
           "opacity": 0.3
          },
          "ternary": {
           "aaxis": {
            "gridcolor": "rgb(232,232,232)",
            "linecolor": "rgb(36,36,36)",
            "showgrid": false,
            "showline": true,
            "ticks": "outside"
           },
           "baxis": {
            "gridcolor": "rgb(232,232,232)",
            "linecolor": "rgb(36,36,36)",
            "showgrid": false,
            "showline": true,
            "ticks": "outside"
           },
           "bgcolor": "white",
           "caxis": {
            "gridcolor": "rgb(232,232,232)",
            "linecolor": "rgb(36,36,36)",
            "showgrid": false,
            "showline": true,
            "ticks": "outside"
           }
          },
          "title": {
           "font": {
            "family": "merriserif",
            "size": 24
           },
           "x": 0.5,
           "xanchor": "center"
          },
          "xaxis": {
           "automargin": true,
           "gridcolor": "rgb(232,232,232)",
           "linecolor": "rgb(36,36,36)",
           "showgrid": false,
           "showline": true,
           "ticks": "outside",
           "title": {
            "standoff": 15
           },
           "zeroline": false,
           "zerolinecolor": "rgb(36,36,36)"
          },
          "yaxis": {
           "automargin": true,
           "gridcolor": "rgb(232,232,232)",
           "linecolor": "rgb(36,36,36)",
           "showgrid": false,
           "showline": true,
           "ticks": "outside",
           "title": {
            "standoff": 15
           },
           "zeroline": false,
           "zerolinecolor": "rgb(36,36,36)"
          }
         }
        },
        "title": {
         "text": "FTSE100 and S&P500"
        }
       }
      },
      "text/html": [
       "<div>                            <div id=\"6f01d89d-3f4b-4f7f-96d5-accdeace46b6\" class=\"plotly-graph-div\" style=\"height:525px; width:100%;\"></div>            <script type=\"text/javascript\">                require([\"plotly\"], function(Plotly) {                    window.PLOTLYENV=window.PLOTLYENV || {};                                    if (document.getElementById(\"6f01d89d-3f4b-4f7f-96d5-accdeace46b6\")) {                    Plotly.newPlot(                        \"6f01d89d-3f4b-4f7f-96d5-accdeace46b6\",                        [{\"mode\":\"lines\",\"name\":\"FTSE\",\"x\":[\"2007-08-10\",\"2007-08-13\",\"2007-08-14\",\"2007-08-15\",\"2007-08-16\",\"2007-08-17\",\"2007-08-20\",\"2007-08-21\",\"2007-08-22\",\"2007-08-23\",\"2007-08-24\"],\"y\":[100.0,102.99256413228889,101.74221221204644,101.17582763360548,97.0289651060729,100.4289286719772,100.66906248447411,100.79161353361044,102.61166222281105,102.62656708013844,103.01078118013348],\"type\":\"scatter\"},{\"mode\":\"lines\",\"name\":\"SP500\",\"x\":[\"2007-08-10\",\"2007-08-13\",\"2007-08-14\",\"2007-08-15\",\"2007-08-16\",\"2007-08-17\",\"2007-08-20\",\"2007-08-21\",\"2007-08-22\",\"2007-08-23\",\"2007-08-24\"],\"y\":[100.0,99.95046916705648,98.1357144822652,96.77086486337744,97.08524806692165,99.4702952587986,99.44346605762087,99.55147079056712,100.71750914944552,100.60950441649926,101.77003934949505],\"type\":\"scatter\"}],                        {\"template\":{\"data\":{\"barpolar\":[{\"marker\":{\"line\":{\"color\":\"white\",\"width\":0.5},\"pattern\":{\"fillmode\":\"overlay\",\"size\":10,\"solidity\":0.2}},\"type\":\"barpolar\"}],\"bar\":[{\"error_x\":{\"color\":\"rgb(36,36,36)\"},\"error_y\":{\"color\":\"rgb(36,36,36)\"},\"marker\":{\"line\":{\"color\":\"white\",\"width\":0.5},\"pattern\":{\"fillmode\":\"overlay\",\"size\":10,\"solidity\":0.2}},\"type\":\"bar\"}],\"carpet\":[{\"aaxis\":{\"endlinecolor\":\"rgb(36,36,36)\",\"gridcolor\":\"white\",\"linecolor\":\"white\",\"minorgridcolor\":\"white\",\"startlinecolor\":\"rgb(36,36,36)\"},\"baxis\":{\"endlinecolor\":\"rgb(36,36,36)\",\"gridcolor\":\"white\",\"linecolor\":\"white\",\"minorgridcolor\":\"white\",\"startlinecolor\":\"rgb(36,36,36)\"},\"type\":\"carpet\"}],\"choropleth\":[{\"colorbar\":{\"outlinewidth\":1,\"tickcolor\":\"rgb(36,36,36)\",\"ticks\":\"outside\"},\"type\":\"choropleth\"}],\"contourcarpet\":[{\"colorbar\":{\"outlinewidth\":1,\"tickcolor\":\"rgb(36,36,36)\",\"ticks\":\"outside\"},\"type\":\"contourcarpet\"}],\"contour\":[{\"colorbar\":{\"outlinewidth\":1,\"tickcolor\":\"rgb(36,36,36)\",\"ticks\":\"outside\"},\"colorscale\":[[0.0,\"#440154\"],[0.1111111111111111,\"#482878\"],[0.2222222222222222,\"#3e4989\"],[0.3333333333333333,\"#31688e\"],[0.4444444444444444,\"#26828e\"],[0.5555555555555556,\"#1f9e89\"],[0.6666666666666666,\"#35b779\"],[0.7777777777777778,\"#6ece58\"],[0.8888888888888888,\"#b5de2b\"],[1.0,\"#fde725\"]],\"type\":\"contour\"}],\"heatmapgl\":[{\"colorbar\":{\"outlinewidth\":1,\"tickcolor\":\"rgb(36,36,36)\",\"ticks\":\"outside\"},\"colorscale\":[[0.0,\"#440154\"],[0.1111111111111111,\"#482878\"],[0.2222222222222222,\"#3e4989\"],[0.3333333333333333,\"#31688e\"],[0.4444444444444444,\"#26828e\"],[0.5555555555555556,\"#1f9e89\"],[0.6666666666666666,\"#35b779\"],[0.7777777777777778,\"#6ece58\"],[0.8888888888888888,\"#b5de2b\"],[1.0,\"#fde725\"]],\"type\":\"heatmapgl\"}],\"heatmap\":[{\"colorbar\":{\"outlinewidth\":1,\"tickcolor\":\"rgb(36,36,36)\",\"ticks\":\"outside\"},\"colorscale\":[[0.0,\"#440154\"],[0.1111111111111111,\"#482878\"],[0.2222222222222222,\"#3e4989\"],[0.3333333333333333,\"#31688e\"],[0.4444444444444444,\"#26828e\"],[0.5555555555555556,\"#1f9e89\"],[0.6666666666666666,\"#35b779\"],[0.7777777777777778,\"#6ece58\"],[0.8888888888888888,\"#b5de2b\"],[1.0,\"#fde725\"]],\"type\":\"heatmap\"}],\"histogram2dcontour\":[{\"colorbar\":{\"outlinewidth\":1,\"tickcolor\":\"rgb(36,36,36)\",\"ticks\":\"outside\"},\"colorscale\":[[0.0,\"#440154\"],[0.1111111111111111,\"#482878\"],[0.2222222222222222,\"#3e4989\"],[0.3333333333333333,\"#31688e\"],[0.4444444444444444,\"#26828e\"],[0.5555555555555556,\"#1f9e89\"],[0.6666666666666666,\"#35b779\"],[0.7777777777777778,\"#6ece58\"],[0.8888888888888888,\"#b5de2b\"],[1.0,\"#fde725\"]],\"type\":\"histogram2dcontour\"}],\"histogram2d\":[{\"colorbar\":{\"outlinewidth\":1,\"tickcolor\":\"rgb(36,36,36)\",\"ticks\":\"outside\"},\"colorscale\":[[0.0,\"#440154\"],[0.1111111111111111,\"#482878\"],[0.2222222222222222,\"#3e4989\"],[0.3333333333333333,\"#31688e\"],[0.4444444444444444,\"#26828e\"],[0.5555555555555556,\"#1f9e89\"],[0.6666666666666666,\"#35b779\"],[0.7777777777777778,\"#6ece58\"],[0.8888888888888888,\"#b5de2b\"],[1.0,\"#fde725\"]],\"type\":\"histogram2d\"}],\"histogram\":[{\"marker\":{\"line\":{\"color\":\"white\",\"width\":0.6}},\"type\":\"histogram\"}],\"mesh3d\":[{\"colorbar\":{\"outlinewidth\":1,\"tickcolor\":\"rgb(36,36,36)\",\"ticks\":\"outside\"},\"type\":\"mesh3d\"}],\"parcoords\":[{\"line\":{\"colorbar\":{\"outlinewidth\":1,\"tickcolor\":\"rgb(36,36,36)\",\"ticks\":\"outside\"}},\"type\":\"parcoords\"}],\"pie\":[{\"automargin\":true,\"type\":\"pie\"}],\"scatter3d\":[{\"line\":{\"colorbar\":{\"outlinewidth\":1,\"tickcolor\":\"rgb(36,36,36)\",\"ticks\":\"outside\"}},\"marker\":{\"colorbar\":{\"outlinewidth\":1,\"tickcolor\":\"rgb(36,36,36)\",\"ticks\":\"outside\"}},\"type\":\"scatter3d\"}],\"scattercarpet\":[{\"marker\":{\"colorbar\":{\"outlinewidth\":1,\"tickcolor\":\"rgb(36,36,36)\",\"ticks\":\"outside\"}},\"type\":\"scattercarpet\"}],\"scattergeo\":[{\"marker\":{\"colorbar\":{\"outlinewidth\":1,\"tickcolor\":\"rgb(36,36,36)\",\"ticks\":\"outside\"}},\"type\":\"scattergeo\"}],\"scattergl\":[{\"marker\":{\"colorbar\":{\"outlinewidth\":1,\"tickcolor\":\"rgb(36,36,36)\",\"ticks\":\"outside\"}},\"type\":\"scattergl\"}],\"scattermapbox\":[{\"marker\":{\"colorbar\":{\"outlinewidth\":1,\"tickcolor\":\"rgb(36,36,36)\",\"ticks\":\"outside\"}},\"type\":\"scattermapbox\"}],\"scatterpolargl\":[{\"marker\":{\"colorbar\":{\"outlinewidth\":1,\"tickcolor\":\"rgb(36,36,36)\",\"ticks\":\"outside\"}},\"type\":\"scatterpolargl\"}],\"scatterpolar\":[{\"marker\":{\"colorbar\":{\"outlinewidth\":1,\"tickcolor\":\"rgb(36,36,36)\",\"ticks\":\"outside\"}},\"type\":\"scatterpolar\"}],\"scatter\":[{\"fillpattern\":{\"fillmode\":\"overlay\",\"size\":10,\"solidity\":0.2},\"type\":\"scatter\"}],\"scatterternary\":[{\"marker\":{\"colorbar\":{\"outlinewidth\":1,\"tickcolor\":\"rgb(36,36,36)\",\"ticks\":\"outside\"}},\"type\":\"scatterternary\"}],\"surface\":[{\"colorbar\":{\"outlinewidth\":1,\"tickcolor\":\"rgb(36,36,36)\",\"ticks\":\"outside\"},\"colorscale\":[[0.0,\"#440154\"],[0.1111111111111111,\"#482878\"],[0.2222222222222222,\"#3e4989\"],[0.3333333333333333,\"#31688e\"],[0.4444444444444444,\"#26828e\"],[0.5555555555555556,\"#1f9e89\"],[0.6666666666666666,\"#35b779\"],[0.7777777777777778,\"#6ece58\"],[0.8888888888888888,\"#b5de2b\"],[1.0,\"#fde725\"]],\"type\":\"surface\"}],\"table\":[{\"cells\":{\"fill\":{\"color\":\"rgb(237,237,237)\"},\"line\":{\"color\":\"white\"}},\"header\":{\"fill\":{\"color\":\"rgb(217,217,217)\"},\"line\":{\"color\":\"white\"}},\"type\":\"table\"}]},\"layout\":{\"annotationdefaults\":{\"arrowhead\":0,\"arrowwidth\":1},\"autotypenumbers\":\"strict\",\"coloraxis\":{\"colorbar\":{\"outlinewidth\":1,\"tickcolor\":\"rgb(36,36,36)\",\"ticks\":\"outside\"}},\"colorscale\":{\"diverging\":[[0.0,\"rgb(103,0,31)\"],[0.1,\"rgb(178,24,43)\"],[0.2,\"rgb(214,96,77)\"],[0.3,\"rgb(244,165,130)\"],[0.4,\"rgb(253,219,199)\"],[0.5,\"rgb(247,247,247)\"],[0.6,\"rgb(209,229,240)\"],[0.7,\"rgb(146,197,222)\"],[0.8,\"rgb(67,147,195)\"],[0.9,\"rgb(33,102,172)\"],[1.0,\"rgb(5,48,97)\"]],\"sequential\":[[0.0,\"#440154\"],[0.1111111111111111,\"#482878\"],[0.2222222222222222,\"#3e4989\"],[0.3333333333333333,\"#31688e\"],[0.4444444444444444,\"#26828e\"],[0.5555555555555556,\"#1f9e89\"],[0.6666666666666666,\"#35b779\"],[0.7777777777777778,\"#6ece58\"],[0.8888888888888888,\"#b5de2b\"],[1.0,\"#fde725\"]],\"sequentialminus\":[[0.0,\"#440154\"],[0.1111111111111111,\"#482878\"],[0.2222222222222222,\"#3e4989\"],[0.3333333333333333,\"#31688e\"],[0.4444444444444444,\"#26828e\"],[0.5555555555555556,\"#1f9e89\"],[0.6666666666666666,\"#35b779\"],[0.7777777777777778,\"#6ece58\"],[0.8888888888888888,\"#b5de2b\"],[1.0,\"#fde725\"]]},\"colorway\":[\"#4C78A8\",\"#F58518\",\"#E45756\",\"#72B7B2\",\"#54A24B\",\"#EECA3B\",\"#B279A2\",\"#FF9DA6\",\"#9D755D\",\"#BAB0AC\"],\"font\":{\"color\":\"rgb(36,36,36)\",\"family\":\"merriserif\",\"size\":12},\"geo\":{\"bgcolor\":\"white\",\"lakecolor\":\"white\",\"landcolor\":\"white\",\"showlakes\":true,\"showland\":true,\"subunitcolor\":\"white\"},\"hoverlabel\":{\"align\":\"left\"},\"hovermode\":\"closest\",\"mapbox\":{\"style\":\"light\"},\"paper_bgcolor\":\"white\",\"plot_bgcolor\":\"white\",\"polar\":{\"angularaxis\":{\"gridcolor\":\"rgb(232,232,232)\",\"linecolor\":\"rgb(36,36,36)\",\"showgrid\":false,\"showline\":true,\"ticks\":\"outside\"},\"bgcolor\":\"white\",\"radialaxis\":{\"gridcolor\":\"rgb(232,232,232)\",\"linecolor\":\"rgb(36,36,36)\",\"showgrid\":false,\"showline\":true,\"ticks\":\"outside\"}},\"scene\":{\"xaxis\":{\"backgroundcolor\":\"white\",\"gridcolor\":\"rgb(232,232,232)\",\"gridwidth\":2,\"linecolor\":\"rgb(36,36,36)\",\"showbackground\":true,\"showgrid\":false,\"showline\":true,\"ticks\":\"outside\",\"zeroline\":false,\"zerolinecolor\":\"rgb(36,36,36)\"},\"yaxis\":{\"backgroundcolor\":\"white\",\"gridcolor\":\"rgb(232,232,232)\",\"gridwidth\":2,\"linecolor\":\"rgb(36,36,36)\",\"showbackground\":true,\"showgrid\":false,\"showline\":true,\"ticks\":\"outside\",\"zeroline\":false,\"zerolinecolor\":\"rgb(36,36,36)\"},\"zaxis\":{\"backgroundcolor\":\"white\",\"gridcolor\":\"rgb(232,232,232)\",\"gridwidth\":2,\"linecolor\":\"rgb(36,36,36)\",\"showbackground\":true,\"showgrid\":false,\"showline\":true,\"ticks\":\"outside\",\"zeroline\":false,\"zerolinecolor\":\"rgb(36,36,36)\"}},\"shapedefaults\":{\"fillcolor\":\"black\",\"line\":{\"width\":0},\"opacity\":0.3},\"ternary\":{\"aaxis\":{\"gridcolor\":\"rgb(232,232,232)\",\"linecolor\":\"rgb(36,36,36)\",\"showgrid\":false,\"showline\":true,\"ticks\":\"outside\"},\"baxis\":{\"gridcolor\":\"rgb(232,232,232)\",\"linecolor\":\"rgb(36,36,36)\",\"showgrid\":false,\"showline\":true,\"ticks\":\"outside\"},\"bgcolor\":\"white\",\"caxis\":{\"gridcolor\":\"rgb(232,232,232)\",\"linecolor\":\"rgb(36,36,36)\",\"showgrid\":false,\"showline\":true,\"ticks\":\"outside\"}},\"title\":{\"x\":0.5,\"font\":{\"family\":\"merriserif\",\"size\":24},\"xanchor\":\"center\"},\"xaxis\":{\"automargin\":true,\"gridcolor\":\"rgb(232,232,232)\",\"linecolor\":\"rgb(36,36,36)\",\"showgrid\":false,\"showline\":true,\"ticks\":\"outside\",\"title\":{\"standoff\":15},\"zeroline\":false,\"zerolinecolor\":\"rgb(36,36,36)\"},\"yaxis\":{\"automargin\":true,\"gridcolor\":\"rgb(232,232,232)\",\"linecolor\":\"rgb(36,36,36)\",\"showgrid\":false,\"showline\":true,\"ticks\":\"outside\",\"title\":{\"standoff\":15},\"zeroline\":false,\"zerolinecolor\":\"rgb(36,36,36)\"},\"legend\":{\"bgcolor\":\"white\",\"bordercolor\":\"Black\",\"borderwidth\":1,\"orientation\":\"h\",\"traceorder\":\"reversed\",\"x\":0.5,\"xanchor\":\"center\",\"y\":-0.2}}},\"title\":{\"text\":\"FTSE100 and S&P500\"}},                        {\"responsive\": true}                    ).then(function(){\n",
       "                            \n",
       "var gd = document.getElementById('6f01d89d-3f4b-4f7f-96d5-accdeace46b6');\n",
       "var x = new MutationObserver(function (mutations, observer) {{\n",
       "        var display = window.getComputedStyle(gd).display;\n",
       "        if (!display || display === 'none') {{\n",
       "            console.log([gd, 'removed!']);\n",
       "            Plotly.purge(gd);\n",
       "            observer.disconnect();\n",
       "        }}\n",
       "}});\n",
       "\n",
       "// Listen for the removal of the full notebook cells\n",
       "var notebookContainer = gd.closest('#notebook-container');\n",
       "if (notebookContainer) {{\n",
       "    x.observe(notebookContainer, {childList: true});\n",
       "}}\n",
       "\n",
       "// Listen for the clearing of the current output cell\n",
       "var outputEl = gd.closest('.output');\n",
       "if (outputEl) {{\n",
       "    x.observe(outputEl, {childList: true});\n",
       "}}\n",
       "\n",
       "                        })                };                });            </script>        </div>"
      ]
     },
     "metadata": {},
     "output_type": "display_data"
    }
   ],
   "source": [
    "fig = go.Figure()\n",
    "fig.add_trace(go.Scatter(x=df.index, y=(100*df[\"FTSE\"]/df[\"FTSE\"].values[0]),\n",
    "                    mode='lines',\n",
    "                    name='FTSE'))\n",
    "fig.add_trace(go.Scatter(x=df1.index, y=(100*df1[\"SP500\"]/df1[\"SP500\"].values[0]),\n",
    "                    mode='lines',\n",
    "                    name='SP500'))\n",
    "fig.update_layout(title_text = \"FTSE100 and S&P500\")\n",
    "fig.show()"
   ]
  },
  {
   "cell_type": "code",
   "execution_count": 52,
   "id": "165dcf0a",
   "metadata": {},
   "outputs": [],
   "source": [
    "X = np.stack((df[\"LogRet\"][1:], df1[\"LogRet\"][1:]))\n",
    "cov_mx =  np.cov(X )"
   ]
  },
  {
   "cell_type": "markdown",
   "id": "16aa2eba",
   "metadata": {},
   "source": [
    "$$ Covariance Matrix$$\n",
    "$$\\begin{bmatrix}\n",
    "  0.00047 &  0.00013\\\\\n",
    "  0.00013 &  0.00015\n",
    "\\end{bmatrix}$$"
   ]
  },
  {
   "cell_type": "markdown",
   "id": "beace923",
   "metadata": {},
   "source": [
    "In case of equally weighted averages based on i.i.d. processes, we get the same results for both estimates and forecasts as the parameters are considered constant.\n",
    "However, it is usual to take the horizon of the forecast equal to the frequency of the data used for the estimate.\n",
    "Thus, daily returns data give a 1-day forecast."
   ]
  },
  {
   "cell_type": "markdown",
   "id": "d0c7ec3b",
   "metadata": {},
   "source": [
    "\n",
    "# Precision of Equally Weighted Averages"
   ]
  },
  {
   "cell_type": "markdown",
   "id": "add3d1cd",
   "metadata": {},
   "source": [
    "In general, variance and volatility are not observable because, unlike financial asssets, they are not traded. They only exist in the context of the model used to estimate it. For this reason, we use confidence interval to gauge the accuracy of equally weighted estimates and add the ^ to denote that the number is an estimate of forecast."
   ]
  },
  {
   "cell_type": "markdown",
   "id": "c7b3d812",
   "metadata": {},
   "source": [
    "### Confidence intervals for variance and volatility"
   ]
  },
  {
   "cell_type": "markdown",
   "id": "59cb38cf",
   "metadata": {},
   "source": [
    "If the assume T normally distributed returns with mean 0, then $T \\hat{\\sigma}^2 / \\sigma^2 $ will have a chi-squared distribution with T degrees of freedom and the associated confidence interval for the variance $\\sigma^2$ is\n",
    "\n",
    "\\begin{equation}\n",
    "\\left( \\frac{T \\hat{\\sigma}^2}{\\chi_{\\alpha/2, T}^2},  \\frac{T \\hat{\\sigma}^2}{\\chi_{1 -\\alpha/2, T}^2} \\right) \n",
    "\\end{equation}\n"
   ]
  },
  {
   "cell_type": "markdown",
   "id": "9e35eec9",
   "metadata": {},
   "source": [
    "Based on the consideration that the square root function is monotonic increasing and that percentiles are invariant under strictly monotonic inscreasing transfrormation such that\n",
    "\n",
    "\\begin{equation}\n",
    "P(c_{1} < X< c_{u}) = P(f(c_{1}) < f(X) < f(c_{u}))\n",
    "\\end{equation}\n",
    "\n",
    "we can simply obtain our confidence intervals for volatility by taking the sqare root and applying annualization."
   ]
  },
  {
   "cell_type": "markdown",
   "id": "be1b825b",
   "metadata": {},
   "source": [
    "### *Example: confidence interval for variance*"
   ]
  },
  {
   "cell_type": "markdown",
   "id": "c91c0dd5",
   "metadata": {},
   "source": [
    "*Assuming the daily log returns on the FTSE 100 are normally distributed, use the sample\n",
    "given in the example above to construct a 95% confidence interval for the variance of the returns.*"
   ]
  },
  {
   "cell_type": "code",
   "execution_count": 54,
   "id": "d2669308",
   "metadata": {},
   "outputs": [],
   "source": [
    "def calculate_variance_ci(var_FTSE, alpha, dfreed):\n",
    "    prob1 = alpha/2\n",
    "    prob2 = 1 - alpha/2\n",
    "    cv1 = stats.chi2.ppf(prob1, dfreed)\n",
    "    cv2 = stats.chi2.ppf(prob2,dfreed)\n",
    "    up = T*var_FTSE / cv1\n",
    "    lw = T*var_FTSE / cv2\n",
    "    return up, lw"
   ]
  },
  {
   "cell_type": "code",
   "execution_count": 55,
   "id": "1d9506e7",
   "metadata": {},
   "outputs": [],
   "source": [
    "import scipy.stats as stats\n",
    "T = len(df[\"LogRet\"][1:])\n",
    "alpha = 0.05\n",
    "upper_bound, lower_bound = calculate_variance_ci(var_FTSE, alpha, T)"
   ]
  },
  {
   "cell_type": "code",
   "execution_count": 56,
   "id": "68e0340f",
   "metadata": {},
   "outputs": [
    {
     "data": {
      "application/vnd.plotly.v1+json": {
       "config": {
        "plotlyServerURL": "https://plot.ly"
       },
       "data": [
        {
         "hovertemplate": "x=%{x}<br>y=%{y}<extra></extra>",
         "legendgroup": "",
         "line": {
          "color": "#4C78A8",
          "dash": "solid"
         },
         "marker": {
          "symbol": "circle"
         },
         "mode": "lines",
         "name": "",
         "orientation": "v",
         "showlegend": false,
         "type": "scatter",
         "x": [
          0,
          0.025025025025025027,
          0.05005005005005005,
          0.07507507507507508,
          0.1001001001001001,
          0.12512512512512514,
          0.15015015015015015,
          0.1751751751751752,
          0.2002002002002002,
          0.22522522522522523,
          0.2502502502502503,
          0.2752752752752753,
          0.3003003003003003,
          0.3253253253253253,
          0.3503503503503504,
          0.3753753753753754,
          0.4004004004004004,
          0.42542542542542544,
          0.45045045045045046,
          0.47547547547547553,
          0.5005005005005005,
          0.5255255255255256,
          0.5505505505505506,
          0.5755755755755756,
          0.6006006006006006,
          0.6256256256256256,
          0.6506506506506506,
          0.6756756756756758,
          0.7007007007007008,
          0.7257257257257258,
          0.7507507507507508,
          0.7757757757757758,
          0.8008008008008008,
          0.8258258258258259,
          0.8508508508508509,
          0.8758758758758759,
          0.9009009009009009,
          0.9259259259259259,
          0.9509509509509511,
          0.9759759759759761,
          1.001001001001001,
          1.026026026026026,
          1.0510510510510511,
          1.0760760760760761,
          1.1011011011011012,
          1.1261261261261262,
          1.1511511511511512,
          1.1761761761761762,
          1.2012012012012012,
          1.2262262262262262,
          1.2512512512512513,
          1.2762762762762763,
          1.3013013013013013,
          1.3263263263263263,
          1.3513513513513515,
          1.3763763763763766,
          1.4014014014014016,
          1.4264264264264266,
          1.4514514514514516,
          1.4764764764764766,
          1.5015015015015016,
          1.5265265265265267,
          1.5515515515515517,
          1.5765765765765767,
          1.6016016016016017,
          1.6266266266266267,
          1.6516516516516517,
          1.6766766766766767,
          1.7017017017017018,
          1.7267267267267268,
          1.7517517517517518,
          1.7767767767767768,
          1.8018018018018018,
          1.8268268268268268,
          1.8518518518518519,
          1.876876876876877,
          1.9019019019019021,
          1.9269269269269271,
          1.9519519519519521,
          1.9769769769769772,
          2.002002002002002,
          2.027027027027027,
          2.052052052052052,
          2.0770770770770772,
          2.1021021021021022,
          2.1271271271271273,
          2.1521521521521523,
          2.1771771771771773,
          2.2022022022022023,
          2.2272272272272273,
          2.2522522522522523,
          2.2772772772772774,
          2.3023023023023024,
          2.3273273273273274,
          2.3523523523523524,
          2.3773773773773774,
          2.4024024024024024,
          2.4274274274274275,
          2.4524524524524525,
          2.4774774774774775,
          2.5025025025025025,
          2.5275275275275275,
          2.5525525525525525,
          2.5775775775775776,
          2.6026026026026026,
          2.6276276276276276,
          2.6526526526526526,
          2.677677677677678,
          2.702702702702703,
          2.727727727727728,
          2.752752752752753,
          2.777777777777778,
          2.802802802802803,
          2.827827827827828,
          2.852852852852853,
          2.877877877877878,
          2.902902902902903,
          2.927927927927928,
          2.9529529529529532,
          2.9779779779779783,
          3.0030030030030033,
          3.0280280280280283,
          3.0530530530530533,
          3.0780780780780783,
          3.1031031031031033,
          3.1281281281281283,
          3.1531531531531534,
          3.1781781781781784,
          3.2032032032032034,
          3.2282282282282284,
          3.2532532532532534,
          3.2782782782782784,
          3.3033033033033035,
          3.3283283283283285,
          3.3533533533533535,
          3.3783783783783785,
          3.4034034034034035,
          3.4284284284284285,
          3.4534534534534536,
          3.4784784784784786,
          3.5035035035035036,
          3.5285285285285286,
          3.5535535535535536,
          3.5785785785785786,
          3.6036036036036037,
          3.6286286286286287,
          3.6536536536536537,
          3.6786786786786787,
          3.7037037037037037,
          3.7287287287287287,
          3.753753753753754,
          3.778778778778779,
          3.8038038038038042,
          3.8288288288288292,
          3.8538538538538543,
          3.8788788788788793,
          3.9039039039039043,
          3.9289289289289293,
          3.9539539539539543,
          3.9789789789789793,
          4.004004004004004,
          4.029029029029029,
          4.054054054054054,
          4.079079079079079,
          4.104104104104104,
          4.129129129129129,
          4.1541541541541545,
          4.1791791791791795,
          4.2042042042042045,
          4.2292292292292295,
          4.2542542542542545,
          4.2792792792792795,
          4.3043043043043046,
          4.32932932932933,
          4.354354354354355,
          4.37937937937938,
          4.404404404404405,
          4.42942942942943,
          4.454454454454455,
          4.47947947947948,
          4.504504504504505,
          4.52952952952953,
          4.554554554554555,
          4.57957957957958,
          4.604604604604605,
          4.62962962962963,
          4.654654654654655,
          4.67967967967968,
          4.704704704704705,
          4.72972972972973,
          4.754754754754755,
          4.77977977977978,
          4.804804804804805,
          4.82982982982983,
          4.854854854854855,
          4.87987987987988,
          4.904904904904905,
          4.92992992992993,
          4.954954954954955,
          4.97997997997998,
          5.005005005005005,
          5.03003003003003,
          5.055055055055055,
          5.08008008008008,
          5.105105105105105,
          5.13013013013013,
          5.155155155155155,
          5.18018018018018,
          5.205205205205205,
          5.23023023023023,
          5.255255255255255,
          5.28028028028028,
          5.305305305305305,
          5.33033033033033,
          5.355355355355356,
          5.380380380380381,
          5.405405405405406,
          5.430430430430431,
          5.455455455455456,
          5.480480480480481,
          5.505505505505506,
          5.530530530530531,
          5.555555555555556,
          5.580580580580581,
          5.605605605605606,
          5.630630630630631,
          5.655655655655656,
          5.680680680680681,
          5.705705705705706,
          5.730730730730731,
          5.755755755755756,
          5.780780780780781,
          5.805805805805806,
          5.830830830830831,
          5.855855855855856,
          5.8808808808808815,
          5.9059059059059065,
          5.9309309309309315,
          5.9559559559559565,
          5.9809809809809815,
          6.0060060060060065,
          6.0310310310310316,
          6.056056056056057,
          6.081081081081082,
          6.106106106106107,
          6.131131131131132,
          6.156156156156157,
          6.181181181181182,
          6.206206206206207,
          6.231231231231232,
          6.256256256256257,
          6.281281281281282,
          6.306306306306307,
          6.331331331331332,
          6.356356356356357,
          6.381381381381382,
          6.406406406406407,
          6.431431431431432,
          6.456456456456457,
          6.481481481481482,
          6.506506506506507,
          6.531531531531532,
          6.556556556556557,
          6.581581581581582,
          6.606606606606607,
          6.631631631631632,
          6.656656656656657,
          6.681681681681682,
          6.706706706706707,
          6.731731731731732,
          6.756756756756757,
          6.781781781781782,
          6.806806806806807,
          6.831831831831832,
          6.856856856856857,
          6.881881881881882,
          6.906906906906907,
          6.931931931931932,
          6.956956956956957,
          6.981981981981982,
          7.007007007007007,
          7.032032032032032,
          7.057057057057057,
          7.082082082082082,
          7.107107107107107,
          7.132132132132132,
          7.157157157157157,
          7.182182182182182,
          7.207207207207207,
          7.232232232232232,
          7.257257257257257,
          7.282282282282282,
          7.307307307307307,
          7.332332332332332,
          7.357357357357357,
          7.382382382382382,
          7.407407407407407,
          7.4324324324324325,
          7.4574574574574575,
          7.482482482482483,
          7.507507507507508,
          7.532532532532533,
          7.557557557557558,
          7.582582582582583,
          7.6076076076076085,
          7.6326326326326335,
          7.6576576576576585,
          7.6826826826826835,
          7.7077077077077085,
          7.7327327327327335,
          7.7577577577577586,
          7.782782782782784,
          7.807807807807809,
          7.832832832832834,
          7.857857857857859,
          7.882882882882884,
          7.907907907907909,
          7.932932932932934,
          7.957957957957959,
          7.982982982982984,
          8.008008008008009,
          8.033033033033034,
          8.058058058058059,
          8.083083083083084,
          8.108108108108109,
          8.133133133133134,
          8.158158158158159,
          8.183183183183184,
          8.208208208208209,
          8.233233233233234,
          8.258258258258259,
          8.283283283283284,
          8.308308308308309,
          8.333333333333334,
          8.358358358358359,
          8.383383383383384,
          8.408408408408409,
          8.433433433433434,
          8.458458458458459,
          8.483483483483484,
          8.508508508508509,
          8.533533533533534,
          8.558558558558559,
          8.583583583583584,
          8.608608608608609,
          8.633633633633634,
          8.65865865865866,
          8.683683683683684,
          8.70870870870871,
          8.733733733733734,
          8.75875875875876,
          8.783783783783784,
          8.80880880880881,
          8.833833833833834,
          8.85885885885886,
          8.883883883883884,
          8.90890890890891,
          8.933933933933934,
          8.95895895895896,
          8.983983983983984,
          9.00900900900901,
          9.034034034034034,
          9.05905905905906,
          9.084084084084084,
          9.10910910910911,
          9.134134134134134,
          9.15915915915916,
          9.184184184184184,
          9.20920920920921,
          9.234234234234235,
          9.25925925925926,
          9.284284284284285,
          9.30930930930931,
          9.334334334334335,
          9.35935935935936,
          9.384384384384385,
          9.40940940940941,
          9.434434434434435,
          9.45945945945946,
          9.484484484484485,
          9.50950950950951,
          9.534534534534535,
          9.55955955955956,
          9.584584584584585,
          9.60960960960961,
          9.634634634634635,
          9.65965965965966,
          9.684684684684685,
          9.70970970970971,
          9.734734734734735,
          9.75975975975976,
          9.784784784784785,
          9.80980980980981,
          9.834834834834835,
          9.85985985985986,
          9.884884884884885,
          9.90990990990991,
          9.934934934934935,
          9.95995995995996,
          9.984984984984985,
          10.01001001001001,
          10.035035035035035,
          10.06006006006006,
          10.085085085085085,
          10.11011011011011,
          10.135135135135135,
          10.16016016016016,
          10.185185185185185,
          10.21021021021021,
          10.235235235235235,
          10.26026026026026,
          10.285285285285285,
          10.31031031031031,
          10.335335335335335,
          10.36036036036036,
          10.385385385385385,
          10.41041041041041,
          10.435435435435435,
          10.46046046046046,
          10.485485485485485,
          10.51051051051051,
          10.535535535535535,
          10.56056056056056,
          10.585585585585585,
          10.61061061061061,
          10.635635635635635,
          10.66066066066066,
          10.685685685685687,
          10.710710710710712,
          10.735735735735737,
          10.760760760760762,
          10.785785785785787,
          10.810810810810812,
          10.835835835835837,
          10.860860860860862,
          10.885885885885887,
          10.910910910910912,
          10.935935935935937,
          10.960960960960962,
          10.985985985985987,
          11.011011011011012,
          11.036036036036037,
          11.061061061061062,
          11.086086086086087,
          11.111111111111112,
          11.136136136136138,
          11.161161161161163,
          11.186186186186188,
          11.211211211211213,
          11.236236236236238,
          11.261261261261263,
          11.286286286286288,
          11.311311311311313,
          11.336336336336338,
          11.361361361361363,
          11.386386386386388,
          11.411411411411413,
          11.436436436436438,
          11.461461461461463,
          11.486486486486488,
          11.511511511511513,
          11.536536536536538,
          11.561561561561563,
          11.586586586586588,
          11.611611611611613,
          11.636636636636638,
          11.661661661661663,
          11.686686686686688,
          11.711711711711713,
          11.736736736736738,
          11.761761761761763,
          11.786786786786788,
          11.811811811811813,
          11.836836836836838,
          11.861861861861863,
          11.886886886886888,
          11.911911911911913,
          11.936936936936938,
          11.961961961961963,
          11.986986986986988,
          12.012012012012013,
          12.037037037037038,
          12.062062062062063,
          12.087087087087088,
          12.112112112112113,
          12.137137137137138,
          12.162162162162163,
          12.187187187187188,
          12.212212212212213,
          12.237237237237238,
          12.262262262262263,
          12.287287287287288,
          12.312312312312313,
          12.337337337337338,
          12.362362362362363,
          12.387387387387388,
          12.412412412412413,
          12.437437437437438,
          12.462462462462463,
          12.487487487487488,
          12.512512512512513,
          12.537537537537538,
          12.562562562562563,
          12.587587587587588,
          12.612612612612613,
          12.637637637637638,
          12.662662662662663,
          12.687687687687689,
          12.712712712712714,
          12.737737737737739,
          12.762762762762764,
          12.787787787787789,
          12.812812812812814,
          12.837837837837839,
          12.862862862862864,
          12.887887887887889,
          12.912912912912914,
          12.937937937937939,
          12.962962962962964,
          12.987987987987989,
          13.013013013013014,
          13.038038038038039,
          13.063063063063064,
          13.088088088088089,
          13.113113113113114,
          13.138138138138139,
          13.163163163163164,
          13.188188188188189,
          13.213213213213214,
          13.238238238238239,
          13.263263263263264,
          13.288288288288289,
          13.313313313313314,
          13.338338338338339,
          13.363363363363364,
          13.388388388388389,
          13.413413413413414,
          13.438438438438439,
          13.463463463463464,
          13.488488488488489,
          13.513513513513514,
          13.538538538538539,
          13.563563563563564,
          13.588588588588589,
          13.613613613613614,
          13.63863863863864,
          13.663663663663664,
          13.68868868868869,
          13.713713713713714,
          13.73873873873874,
          13.763763763763764,
          13.78878878878879,
          13.813813813813814,
          13.83883883883884,
          13.863863863863864,
          13.88888888888889,
          13.913913913913914,
          13.93893893893894,
          13.963963963963964,
          13.98898898898899,
          14.014014014014014,
          14.03903903903904,
          14.064064064064064,
          14.08908908908909,
          14.114114114114114,
          14.13913913913914,
          14.164164164164164,
          14.18918918918919,
          14.214214214214214,
          14.23923923923924,
          14.264264264264265,
          14.28928928928929,
          14.314314314314315,
          14.33933933933934,
          14.364364364364365,
          14.38938938938939,
          14.414414414414415,
          14.43943943943944,
          14.464464464464465,
          14.48948948948949,
          14.514514514514515,
          14.53953953953954,
          14.564564564564565,
          14.58958958958959,
          14.614614614614615,
          14.63963963963964,
          14.664664664664665,
          14.68968968968969,
          14.714714714714715,
          14.73973973973974,
          14.764764764764765,
          14.78978978978979,
          14.814814814814815,
          14.83983983983984,
          14.864864864864865,
          14.88988988988989,
          14.914914914914915,
          14.93993993993994,
          14.964964964964967,
          14.989989989989992,
          15.015015015015017,
          15.040040040040042,
          15.065065065065067,
          15.090090090090092,
          15.115115115115117,
          15.140140140140142,
          15.165165165165167,
          15.190190190190192,
          15.215215215215217,
          15.240240240240242,
          15.265265265265267,
          15.290290290290292,
          15.315315315315317,
          15.340340340340342,
          15.365365365365367,
          15.390390390390392,
          15.415415415415417,
          15.440440440440442,
          15.465465465465467,
          15.490490490490492,
          15.515515515515517,
          15.540540540540542,
          15.565565565565567,
          15.590590590590592,
          15.615615615615617,
          15.640640640640642,
          15.665665665665667,
          15.690690690690692,
          15.715715715715717,
          15.740740740740742,
          15.765765765765767,
          15.790790790790792,
          15.815815815815817,
          15.840840840840842,
          15.865865865865867,
          15.890890890890892,
          15.915915915915917,
          15.940940940940942,
          15.965965965965967,
          15.990990990990992,
          16.016016016016017,
          16.04104104104104,
          16.066066066066067,
          16.09109109109109,
          16.116116116116117,
          16.14114114114114,
          16.166166166166168,
          16.19119119119119,
          16.216216216216218,
          16.24124124124124,
          16.266266266266268,
          16.29129129129129,
          16.316316316316318,
          16.34134134134134,
          16.366366366366368,
          16.39139139139139,
          16.416416416416418,
          16.44144144144144,
          16.466466466466468,
          16.49149149149149,
          16.516516516516518,
          16.54154154154154,
          16.566566566566568,
          16.59159159159159,
          16.616616616616618,
          16.64164164164164,
          16.666666666666668,
          16.69169169169169,
          16.716716716716718,
          16.74174174174174,
          16.766766766766768,
          16.79179179179179,
          16.816816816816818,
          16.84184184184184,
          16.866866866866868,
          16.89189189189189,
          16.916916916916918,
          16.94194194194194,
          16.966966966966968,
          16.99199199199199,
          17.017017017017018,
          17.04204204204204,
          17.067067067067068,
          17.092092092092095,
          17.117117117117118,
          17.142142142142145,
          17.167167167167168,
          17.192192192192195,
          17.217217217217218,
          17.242242242242245,
          17.26726726726727,
          17.292292292292295,
          17.31731731731732,
          17.342342342342345,
          17.36736736736737,
          17.392392392392395,
          17.41741741741742,
          17.442442442442445,
          17.46746746746747,
          17.492492492492495,
          17.51751751751752,
          17.542542542542545,
          17.56756756756757,
          17.592592592592595,
          17.61761761761762,
          17.642642642642645,
          17.66766766766767,
          17.692692692692695,
          17.71771771771772,
          17.742742742742745,
          17.76776776776777,
          17.792792792792795,
          17.81781781781782,
          17.842842842842845,
          17.86786786786787,
          17.892892892892895,
          17.91791791791792,
          17.942942942942945,
          17.96796796796797,
          17.992992992992995,
          18.01801801801802,
          18.043043043043046,
          18.06806806806807,
          18.093093093093096,
          18.11811811811812,
          18.143143143143146,
          18.16816816816817,
          18.193193193193196,
          18.21821821821822,
          18.243243243243246,
          18.26826826826827,
          18.293293293293296,
          18.31831831831832,
          18.343343343343346,
          18.36836836836837,
          18.393393393393396,
          18.41841841841842,
          18.443443443443446,
          18.46846846846847,
          18.493493493493496,
          18.51851851851852,
          18.543543543543546,
          18.56856856856857,
          18.593593593593596,
          18.61861861861862,
          18.643643643643646,
          18.66866866866867,
          18.693693693693696,
          18.71871871871872,
          18.743743743743746,
          18.76876876876877,
          18.793793793793796,
          18.81881881881882,
          18.843843843843846,
          18.86886886886887,
          18.893893893893896,
          18.91891891891892,
          18.943943943943946,
          18.96896896896897,
          18.993993993993996,
          19.01901901901902,
          19.044044044044046,
          19.06906906906907,
          19.094094094094096,
          19.11911911911912,
          19.144144144144146,
          19.16916916916917,
          19.194194194194196,
          19.21921921921922,
          19.244244244244246,
          19.26926926926927,
          19.294294294294296,
          19.31931931931932,
          19.344344344344346,
          19.36936936936937,
          19.394394394394396,
          19.41941941941942,
          19.444444444444446,
          19.46946946946947,
          19.494494494494496,
          19.51951951951952,
          19.544544544544546,
          19.56956956956957,
          19.594594594594597,
          19.61961961961962,
          19.644644644644647,
          19.66966966966967,
          19.694694694694697,
          19.71971971971972,
          19.744744744744747,
          19.76976976976977,
          19.794794794794797,
          19.81981981981982,
          19.844844844844847,
          19.86986986986987,
          19.894894894894897,
          19.91991991991992,
          19.944944944944947,
          19.96996996996997,
          19.994994994994997,
          20.02002002002002,
          20.045045045045047,
          20.07007007007007,
          20.095095095095097,
          20.12012012012012,
          20.145145145145147,
          20.17017017017017,
          20.195195195195197,
          20.22022022022022,
          20.245245245245247,
          20.27027027027027,
          20.295295295295297,
          20.32032032032032,
          20.345345345345347,
          20.37037037037037,
          20.395395395395397,
          20.42042042042042,
          20.445445445445447,
          20.47047047047047,
          20.495495495495497,
          20.52052052052052,
          20.545545545545547,
          20.57057057057057,
          20.595595595595597,
          20.62062062062062,
          20.645645645645647,
          20.67067067067067,
          20.695695695695697,
          20.72072072072072,
          20.745745745745747,
          20.77077077077077,
          20.795795795795797,
          20.82082082082082,
          20.845845845845847,
          20.87087087087087,
          20.895895895895897,
          20.92092092092092,
          20.945945945945947,
          20.97097097097097,
          20.995995995995997,
          21.02102102102102,
          21.046046046046047,
          21.07107107107107,
          21.096096096096097,
          21.12112112112112,
          21.146146146146148,
          21.17117117117117,
          21.196196196196198,
          21.22122122122122,
          21.246246246246248,
          21.27127127127127,
          21.296296296296298,
          21.32132132132132,
          21.346346346346348,
          21.371371371371374,
          21.396396396396398,
          21.421421421421424,
          21.446446446446448,
          21.471471471471475,
          21.496496496496498,
          21.521521521521525,
          21.546546546546548,
          21.571571571571575,
          21.596596596596598,
          21.621621621621625,
          21.646646646646648,
          21.671671671671675,
          21.696696696696698,
          21.721721721721725,
          21.746746746746748,
          21.771771771771775,
          21.796796796796798,
          21.821821821821825,
          21.846846846846848,
          21.871871871871875,
          21.896896896896898,
          21.921921921921925,
          21.946946946946948,
          21.971971971971975,
          21.996996996996998,
          22.022022022022025,
          22.047047047047048,
          22.072072072072075,
          22.097097097097098,
          22.122122122122125,
          22.147147147147148,
          22.172172172172175,
          22.197197197197198,
          22.222222222222225,
          22.24724724724725,
          22.272272272272275,
          22.2972972972973,
          22.322322322322325,
          22.34734734734735,
          22.372372372372375,
          22.3973973973974,
          22.422422422422425,
          22.44744744744745,
          22.472472472472475,
          22.4974974974975,
          22.522522522522525,
          22.54754754754755,
          22.572572572572575,
          22.5975975975976,
          22.622622622622625,
          22.64764764764765,
          22.672672672672675,
          22.6976976976977,
          22.722722722722725,
          22.74774774774775,
          22.772772772772775,
          22.7977977977978,
          22.822822822822825,
          22.84784784784785,
          22.872872872872875,
          22.8978978978979,
          22.922922922922925,
          22.94794794794795,
          22.972972972972975,
          22.997997997998,
          23.023023023023026,
          23.04804804804805,
          23.073073073073076,
          23.0980980980981,
          23.123123123123126,
          23.14814814814815,
          23.173173173173176,
          23.1981981981982,
          23.223223223223226,
          23.24824824824825,
          23.273273273273276,
          23.2982982982983,
          23.323323323323326,
          23.34834834834835,
          23.373373373373376,
          23.3983983983984,
          23.423423423423426,
          23.44844844844845,
          23.473473473473476,
          23.4984984984985,
          23.523523523523526,
          23.54854854854855,
          23.573573573573576,
          23.5985985985986,
          23.623623623623626,
          23.64864864864865,
          23.673673673673676,
          23.6986986986987,
          23.723723723723726,
          23.74874874874875,
          23.773773773773776,
          23.7987987987988,
          23.823823823823826,
          23.84884884884885,
          23.873873873873876,
          23.8988988988989,
          23.923923923923926,
          23.94894894894895,
          23.973973973973976,
          23.998998998999,
          24.024024024024026,
          24.04904904904905,
          24.074074074074076,
          24.0990990990991,
          24.124124124124126,
          24.14914914914915,
          24.174174174174176,
          24.1991991991992,
          24.224224224224226,
          24.24924924924925,
          24.274274274274276,
          24.2992992992993,
          24.324324324324326,
          24.34934934934935,
          24.374374374374376,
          24.3993993993994,
          24.424424424424426,
          24.44944944944945,
          24.474474474474476,
          24.4994994994995,
          24.524524524524526,
          24.54954954954955,
          24.574574574574577,
          24.5995995995996,
          24.624624624624627,
          24.64964964964965,
          24.674674674674677,
          24.6996996996997,
          24.724724724724727,
          24.74974974974975,
          24.774774774774777,
          24.7997997997998,
          24.824824824824827,
          24.84984984984985,
          24.874874874874877,
          24.8998998998999,
          24.924924924924927,
          24.94994994994995,
          24.974974974974977,
          25
         ],
         "xaxis": "x",
         "y": [
          0,
          5.043159997080146e-10,
          7.968720862584926e-09,
          3.984001884814245e-08,
          1.2434844723351584e-07,
          2.9981013046791824e-07,
          6.139558932778205e-07,
          1.1232856630355687e-06,
          1.8924477109189295e-06,
          2.993642000172634e-06,
          4.506046928144466e-06,
          6.515268766716217e-06,
          9.11281312329328e-06,
          1.2395577761662944e-05,
          1.646536613879051e-05,
          2.142842103000068e-05,
          2.739497763099822e-05,
          3.447883554082412e-05,
          4.2796949045129486e-05,
          5.2469035134084974e-05,
          6.361719870383961e-05,
          7.63655744047007e-05,
          9.083998461314253e-05,
          0.000107167613018359,
          0.00012547669332737705,
          0.00014589621260573671,
          0.0001685556287834337,
          0.0001935846018682165,
          0.00022111273842043746,
          0.00025126934885548403,
          0.00028418321715136294,
          0.00031998238255029517,
          0.00035879393285418587,
          0.00040074380892460624,
          0.0004459566200084034,
          0.0004945554695203405,
          0.000546661790924155,
          0.0006023951933632179,
          0.0006618733167015118,
          0.0007252116956449707,
          0.000792523632622317,
          0.0008639200791133954,
          0.0009395095251217015,
          0.0010193978964962256,
          0.0011036884598160078,
          0.0011924817345588474,
          0.001285875412283482,
          0.0013839642825621903,
          0.0014868401654083035,
          0.0015945918499503666,
          0.0017073050391118575,
          0.0018250623000622647,
          0.0019479430202121722,
          0.002076023368531553,
          0.0022093762619769678,
          0.002348071336819589,
          0.002492174924672224,
          0.0026417500330193342,
          0.002796856330060035,
          0.0029575501336796175,
          0.0031238844043707976,
          0.003295908741931169,
          0.0034736693857687663,
          0.0036572092186526154,
          0.0038465677737502856,
          0.004041781244799263,
          0.0042428824992637405,
          0.004449901094333072,
          0.004662863295622607,
          0.004881792098442082,
          0.005106707251500956,
          0.0053376252829243544,
          0.005574559528457198,
          0.005817520161738259,
          0.006066514226529528,
          0.006321545670790218,
          0.00658261538248821,
          0.006849721227045548,
          0.007122858086317717,
          0.007402017899010187,
          0.007687189702438703,
          0.00797835967554317,
          0.008275511183067926,
          0.008578624820824466,
          0.008887678461955416,
          0.009202647304121426,
          0.009523503917535685,
          0.009850218293773067,
          0.010182757895283959,
          0.010521087705545214,
          0.010865170279782921,
          0.011214965796204705,
          0.011570432107680998,
          0.01193152479381735,
          0.012298197213362151,
          0.012670400556895995,
          0.013048083899751138,
          0.013431194255111927,
          0.01381967662724829,
          0.014213474064837065,
          0.014612527714327304,
          0.01501677687330789,
          0.015426159043837125,
          0.015840609985696124,
          0.016260063769529275,
          0.01668445282983642,
          0.017113708017783703,
          0.01754775865380051,
          0.017986532579932407,
          0.01842995621192074,
          0.018877954590981183,
          0.019330451435254904,
          0.01978736919090733,
          0.020248629082850442,
          0.020714151165066332,
          0.02118385437051038,
          0.02165765656057381,
          0.02213547457408663,
          0.02261722427584271,
          0.023102820604629908,
          0.023592177620749586,
          0.024085208553009933,
          0.024581825845179435,
          0.025081941201887056,
          0.025585465633956847,
          0.02609230950316564,
          0.026602382566413032,
          0.027115594019293872,
          0.02763185253906431,
          0.028151066326992814,
          0.02867314315008878,
          0.029197990382201784,
          0.029725515044484962,
          0.030255623845217426,
          0.030788223218980074,
          0.031323219365180996,
          0.03186051828592631,
          0.03240002582323328,
          0.032941647695582964,
          0.03348528953381025,
          0.03403085691632945,
          0.03457825540369429,
          0.03512739057249156,
          0.035678168048567944,
          0.03623049353959012,
          0.03678427286693889,
          0.03733941199693765,
          0.03789581707141725,
          0.038453394437617854,
          0.039012050677430674,
          0.03957169263598126,
          0.04013222744955699,
          0.04069356257288208,
          0.04125560580574256,
          0.04181826531896533,
          0.04238144967975458,
          0.042945067876389555,
          0.04350902934228802,
          0.04407324397943977,
          0.04463762218121461,
          0.04520207485454991,
          0.045766513441522494,
          0.04633084994031013,
          0.04689499692554804,
          0.047458867568086024,
          0.04802237565415141,
          0.04858543560392452,
          0.04914796248953133,
          0.049709872052460934,
          0.05027108072041242,
          0.050831505623578944,
          0.051391064610374085,
          0.05194967626260806,
          0.052507259910119584,
          0.05306373564487054,
          0.0536190243345098,
          0.054173047635413744,
          0.05472572800520906,
          0.05527698871478624,
          0.05582675385980954,
          0.05637494837173104,
          0.0569214980283157,
          0.05746632946368476,
          0.058009370177883705,
          0.05855054854598338,
          0.0590897938267199,
          0.05962703617068174,
          0.060162206628050385,
          0.060695237155902075,
          0.06122606062507778,
          0.0617546108266287,
          0.06228082247784405,
          0.06280463122786892,
          0.06332597366291882,
          0.06384478731109844,
          0.06436101064683124,
          0.06487458309490766,
          0.06538544503415857,
          0.06589353780076092,
          0.06639880369118292,
          0.06690118596477557,
          0.0674006288460174,
          0.06789707752641934,
          0.0683904781660971,
          0.0688807778950169,
          0.06936792481392196,
          0.06985186799494686,
          0.07033255748192525,
          0.0708099442903989,
          0.07128398040733366,
          0.07175461879054935,
          0.07222181336787012,
          0.07268551903600094,
          0.07314569165913809,
          0.07360228806731813,
          0.07405526605451274,
          0.07450458437647613,
          0.07495020274834893,
          0.07539208184202717,
          0.075830183283301,
          0.07626446964876896,
          0.0766949044625343,
          0.07712145219268905,
          0.07754407824759088,
          0.07796274897193939,
          0.07837743164265638,
          0.07878809446457757,
          0.07919470656595783,
          0.079597237993799,
          0.07999565970900384,
          0.08038994358136013,
          0.08078006238436392,
          0.08116598978988185,
          0.08154770036266266,
          0.08192516955469947,
          0.08229837369944885,
          0.08266729000591207,
          0.0830318965525819,
          0.0833921722812614,
          0.0837480969907581,
          0.08409965133045823,
          0.08444681679378564,
          0.08478957571155052,
          0.08512791124519142,
          0.08546180737991449,
          0.08579124891773585,
          0.08611622147042926,
          0.086436711452384,
          0.08675270607337815,
          0.08706419333126889,
          0.08737116200460505,
          0.08767360164516616,
          0.08797150257043095,
          0.0882648558559781,
          0.08855365332782596,
          0.08883788755471042,
          0.08911755184030869,
          0.08939264021540907,
          0.08966314743003172,
          0.08992906894550418,
          0.09019040092649305,
          0.09044714023299652,
          0.09069928441229995,
          0.0909468316908993,
          0.09118978096639156,
          0.09142813179934024,
          0.09166188440511384,
          0.09189103964570401,
          0.09211559902152361,
          0.09233556466318818,
          0.09255093932328394,
          0.09276172636812388,
          0.09296792976949547,
          0.09316955409640151,
          0.0933666045067976,
          0.09355908673932684,
          0.0937470071050565,
          0.09393037247921589,
          0.09410919029294136,
          0.09428346852502635,
          0.09445321569368166,
          0.09461844084830778,
          0.09477915356127818,
          0.09493536391974036,
          0.09508708251743199,
          0.09523432044651722,
          0.09537708928944227,
          0.09551540111081527,
          0.09564926844930836,
          0.09577870430958643,
          0.09590372215426288,
          0.0960243358958848,
          0.0961405598889481,
          0.09625240892194349,
          0.0963598982094384,
          0.09646304338419034,
          0.09656186048929882,
          0.09665636597039312,
          0.09674657666785873,
          0.0968325098091049,
          0.0969141830008707,
          0.09699161422157569,
          0.09706482181371233,
          0.09713382447628283,
          0.09719864125728152,
          0.09725929154622362,
          0.09731579506672097,
          0.09736817186910597,
          0.09741644232310534,
          0.09746062711056187,
          0.09750074721820949,
          0.09753682393049802,
          0.09756887882247064,
          0.09759693375269496,
          0.09762101085624697,
          0.09764113253775004,
          0.09765732146446898,
          0.09766960055945872,
          0.0976779929947708,
          0.0976825221847154,
          0.0976832117791809,
          0.09768008565701192,
          0.09767316791944443,
          0.09766248288360105,
          0.09764805507604371,
          0.09762990922638788,
          0.09760807026097441,
          0.09758256329660386,
          0.09755341363432975,
          0.09752064675331282,
          0.09748428830473835,
          0.09744436410579152,
          0.09740090013369715,
          0.09735392251982078,
          0.09730345754383048,
          0.09724953162792165,
          0.0971921713311053,
          0.0971314033435565,
          0.09706725448102728,
          0.09699975167932164,
          0.09692892198883281,
          0.09685479256914367,
          0.09677739068369089,
          0.09669674369449031,
          0.09661287905692652,
          0.09652582431460423,
          0.09643560709426406,
          0.09634225510075928,
          0.09624579611209642,
          0.09614625797453857,
          0.09604366859777055,
          0.09593805595012778,
          0.09582944805388599,
          0.09571787298061445,
          0.09560335884659076,
          0.0954859338082778,
          0.09536562605786235,
          0.09524246381885562,
          0.09511647534175453,
          0.09498768889976536,
          0.09485613278458727,
          0.09472183530225764,
          0.09458482476905737,
          0.09444512950747691,
          0.0943027778422419,
          0.09415779809639913,
          0.09401021858746264,
          0.0938600676236175,
          0.09370737349998383,
          0.09355216449493987,
          0.09339446886650238,
          0.09323431484876617,
          0.09307173064840037,
          0.09290674444120382,
          0.09273938436871547,
          0.09256967853488395,
          0.0923976550027917,
          0.09222334179143654,
          0.09204676687256813,
          0.09186795816758017,
          0.09168694354445864,
          0.09150375081478257,
          0.09131840773078119,
          0.09113094198244423,
          0.09094138119468545,
          0.09074975292455989,
          0.0905560846585337,
          0.09036040380980594,
          0.09016273771568327,
          0.08996311363500518,
          0.08976155874562138,
          0.08955810014191877,
          0.08935276483239998,
          0.08914557973731083,
          0.08893657168631812,
          0.08872576741623554,
          0.08851319356879915,
          0.08829887668849074,
          0.0880828432204082,
          0.08786511950818542,
          0.08764573179195585,
          0.0874247062063659,
          0.08720206877863194,
          0.08697784542664433,
          0.08675206195711577,
          0.08652474406377506,
          0.0862959173256046,
          0.08606560720512178,
          0.08583383904670494,
          0.08560063807495992,
          0.08536602939313181,
          0.08513003798155679,
          0.08489268869615647,
          0.08465400626697317,
          0.08441401529674677,
          0.08417274025952987,
          0.08393020549934536,
          0.08368643522888132,
          0.08344145352822592,
          0.08319528434364072,
          0.08294795148637181,
          0.08269947863149868,
          0.08244988931682082,
          0.08219920694177989,
          0.08194745476641963,
          0.08169465591038053,
          0.08144083335193056,
          0.08118600992703066,
          0.08093020832843496,
          0.08067345110482523,
          0.08041576065997837,
          0.08015715925196855,
          0.07989766899240082,
          0.07963731184567743,
          0.07937610962829732,
          0.07911408400818548,
          0.078851256504055,
          0.0785876484847983,
          0.0783232811689105,
          0.07805817562394116,
          0.07779235276597626,
          0.07752583335914932,
          0.07725863801518028,
          0.07699078719294461,
          0.07672230119806764,
          0.07645320018254888,
          0.07618350414441152,
          0.07591323292737995,
          0.07564240622058215,
          0.0753710435582796,
          0.07509916431962117,
          0.07482678772842324,
          0.07455393285297351,
          0.07428061860586,
          0.0740068637438238,
          0.07373268686763484,
          0.07345810642199166,
          0.07318314069544318,
          0.07290780782033372,
          0.07263212577276945,
          0.07235611237260722,
          0.07207978528346363,
          0.07180316201274672,
          0.07152625991170666,
          0.07124909617550762,
          0.07097168784332004,
          0.07069405179843109,
          0.07041620476837543,
          0.07013816332508478,
          0.06985994388505555,
          0.06958156270953542,
          0.0693030359047273,
          0.06902437942201041,
          0.06874560905818024,
          0.06846674045570345,
          0.06818778910299032,
          0.06790877033468426,
          0.06762969933196515,
          0.06735059112287076,
          0.06707146058263143,
          0.06679232243402165,
          0.0665131912477243,
          0.06623408144271138,
          0.06595500728663747,
          0.06567598289624742,
          0.06539702223779778,
          0.06511813912749155,
          0.06483934723192504,
          0.06456066006854864,
          0.06428209100613914,
          0.06400365326528447,
          0.06372535991888048,
          0.0634472238926386,
          0.06316925796560578,
          0.06289147477069483,
          0.06261388679522557,
          0.06233650638147688,
          0.06205934572724868,
          0.06178241688643422,
          0.061505731769601536,
          0.06122930214458541,
          0.060953139637087664,
          0.06067725573128692,
          0.0604016617704573,
          0.0601263689575954,
          0.05985138835605557,
          0.059576730890193455,
          0.059302407346017647,
          0.05902842837184816,
          0.05875480447898344,
          0.05848154604237345,
          0.05820866330130075,
          0.05793616636006742,
          0.0576640651886895,
          0.057392369623597006,
          0.05712108936834032,
          0.05685023399430284,
          0.05657981294141908,
          0.05630983551889786,
          0.05604031090595223,
          0.05577124815253299,
          0.055502656180067916,
          0.055234543782206394,
          0.05496691962556688,
          0.05469979225049087,
          0.054433170071799625,
          0.05416706137955555,
          0.05390147433982735,
          0.05363641699545912,
          0.05337189726684225,
          0.053107922952692156,
          0.052844501730826124,
          0.052581641158946646,
          0.05231934867542542,
          0.05205763160009163,
          0.05179649713502206,
          0.05153595236533394,
          0.05127600425997975,
          0.051016659672544734,
          0.050757925342045825,
          0.05049980789373271,
          0.05024231383989023,
          0.0499854495806434,
          0.049729221404762255,
          0.049473635490469424,
          0.04921869790624817,
          0.04896441461165128,
          0.0487107914581118,
          0.04845783418975322,
          0.04820554844420156,
          0.0479539397533972,
          0.04770301354440765,
          0.0474527751402398,
          0.04720322976065367,
          0.0469543825229749,
          0.04670623844290813,
          0.0464588024353496,
          0.046212079315200064,
          0.045966073798177,
          0.045720790501626245,
          0.04547623394533367,
          0.045232408552335165,
          0.0449893186497271,
          0.04474696846947487,
          0.04450536214922117,
          0.04426450373309286,
          0.044024397172506856,
          0.04378504632697491,
          0.04354645496490678,
          0.04330862676441213,
          0.04307156531410116,
          0.042835274113883506,
          0.04259975657576543,
          0.04236501602464543,
          0.04213105569910794,
          0.04189787875221555,
          0.041665488252298426,
          0.041433887183742725,
          0.041203078447776334,
          0.04097306486325257,
          0.04074384916743158,
          0.04051543401675997,
          0.040287821987647125,
          0.04006101557724016,
          0.039835017204195466,
          0.03960982920944875,
          0.039385453856981265,
          0.03916189333458471,
          0.03893914975462211,
          0.03871722515478706,
          0.03849612149885951,
          0.038275840677459,
          0.03805638450879452,
          0.0378377547394122,
          0.037619953044939196,
          0.03740298103082509,
          0.03718684023307977,
          0.036971532119008596,
          0.03675705808794391,
          0.03654341947197389,
          0.03633061753666736,
          0.03611865348179614,
          0.03590752844205346,
          0.03569724348776938,
          0.03548779962562231,
          0.03527919779934774,
          0.03507143889044273,
          0.03486452371886768,
          0.034658453043743924,
          0.03445322756404794,
          0.034248847919302224,
          0.03404531469026199,
          0.03384262839959882,
          0.03364078951258006,
          0.03343979843774504,
          0.03323965552757703,
          0.03304036107917183,
          0.03284191533490244,
          0.03264431848307979,
          0.03244757065861003,
          0.03225167194364751,
          0.032056622368244095,
          0.03186242191099494,
          0.03166907049967959,
          0.03147656801189993,
          0.031284914275713886,
          0.03109410907026512,
          0.030904152126408752,
          0.030715043127333416,
          0.03052678170917899,
          0.030339367461650404,
          0.030152799928627762,
          0.02996707860877193,
          0.029782202956126356,
          0.029598172380715167,
          0.029414986249136504,
          0.02923264388515263,
          0.029051144570275286,
          0.028870487544347415,
          0.02869067200612069,
          0.02851169711382902,
          0.028333561985757826,
          0.028156265700809337,
          0.02797980729906419,
          0.027804185782337964,
          0.027629400114734796,
          0.02745544922319618,
          0.027282331998045726,
          0.027110047293530316,
          0.02693859392835654,
          0.026767970686223563,
          0.026598176316351547,
          0.026429209534006345,
          0.026261069021019826,
          0.026093753426306238,
          0.025927261366374594,
          0.025761591425836717,
          0.025596742157911797,
          0.025432712084926076,
          0.025269499698809293,
          0.02510710346158652,
          0.024945521805866254,
          0.02478475313532442,
          0.024624795825184363,
          0.024465648222692687,
          0.024307308647591366,
          0.024149775392585567,
          0.0239930467238078,
          0.023837120881277703,
          0.02368199607935834,
          0.023527670507208033,
          0.023374142329228655,
          0.02322140968550973,
          0.02306947069226895,
          0.02291832344228816,
          0.022767966005346144,
          0.02261839642864702,
          0.022469612737245147,
          0.02232161293446571,
          0.02217439500232191,
          0.02202795690192795,
          0.02188229657390863,
          0.021737411938804494,
          0.0215933008974739,
          0.021449961331490738,
          0.021307391103538728,
          0.021165588057801787,
          0.021024550020350693,
          0.02088427479952615,
          0.02074476018631782,
          0.020606003954740233,
          0.020468003862204327,
          0.020330757649885872,
          0.020194263043090036,
          0.02005851775161225,
          0.019923519470095668,
          0.01978926587838487,
          0.01965575464187597,
          0.019522983411863426,
          0.019390949825882797,
          0.01925965150805066,
          0.019129086069400367,
          0.018999251108214703,
          0.018870144210354965,
          0.018741762949586623,
          0.018614104887901346,
          0.018487167575836006,
          0.018360948552787817,
          0.018235445347326528,
          0.01811065547750286,
          0.017986576451153966,
          0.0178632057662052,
          0.017740540910968987,
          0.017618579364439967,
          0.017497318596587198,
          0.017376756068643008,
          0.017256889233388608,
          0.017137715535436422,
          0.017019232411509426,
          0.016901437290717004,
          0.016784327594828077,
          0.0166679007385406,
          0.016552154129748437,
          0.016437085169804702,
          0.01632269125378242,
          0.01620896977073177,
          0.016095918103934587,
          0.01598353363115568,
          0.01587181372489124,
          0.01576075575261421,
          0.015650357077016733,
          0.015540615056249655,
          0.015431527044159097,
          0.015323090390520225,
          0.015215302441268019,
          0.015108160538725221,
          0.015001662021827494,
          0.014895804226345752,
          0.014790584485105632,
          0.014686000128204287,
          0.014582048483224374,
          0.014478726875445203,
          0.014376032628051507,
          0.014273963062338971,
          0.014172515497917697,
          0.014071687252912529,
          0.013971475644161029,
          0.013871877987408642,
          0.013772891597501483,
          0.013674513788576313,
          0.013576741874248162,
          0.013479573167795206,
          0.013383004982341485,
          0.013287034631036585,
          0.013191659427233392,
          0.013096876684662992,
          0.01300268371760744,
          0.012909077841069701,
          0.012816056370941789,
          0.0127236166241699,
          0.012631755918917596,
          0.012540471574726528,
          0.012449760912674855,
          0.012359621255533226,
          0.012270049927918778,
          0.012181044256446538,
          0.012092601569878824,
          0.01200471919927229,
          0.011917394478122857,
          0.01183062474250835,
          0.011744407331229062,
          0.01165873958594615,
          0.011573618851317889,
          0.011489042475133732,
          0.011405007808446489,
          0.0113215122057022,
          0.011238553024868142,
          0.01115612762755861,
          0.011074233379158891,
          0.010992867648947068,
          0.010912027810213916,
          0.01083171124038083,
          0.010751915321115843,
          0.010672637438447569,
          0.010593874982877487,
          0.010515625349490047,
          0.01043788593806118,
          0.01036065415316472,
          0.010283927404277127,
          0.010207703105880338,
          0.010131978677562884,
          0.010056751544119023,
          0.009982019135646395,
          0.009907778887641692,
          0.009834028241094717,
          0.009760764642580631,
          0.00968798554435062,
          0.009615688404420751,
          0.009543870686659298,
          0.009472529860872233,
          0.009401663402887334,
          0.009331268794636409,
          0.009261343524236132,
          0.009191885086067162,
          0.009122890980851766,
          0.009054358715729856,
          0.008986285804333511,
          0.008918669766859944,
          0.00885150813014303,
          0.008784798427723256,
          0.008718538199916324,
          0.008652724993880105,
          0.0085873563636804,
          0.008522429870355038,
          0.00845794308197676,
          0.0083938935737145,
          0.008330278927893548,
          0.008267096734054043,
          0.008204344589008435,
          0.00814202009689732,
          0.008080120869244149,
          0.00801864452500856,
          0.007957588690638435,
          0.007896951000120618,
          0.007836729095030474,
          0.007776920624580157,
          0.007717523245665578,
          0.00765853462291225,
          0.007599952428719886,
          0.00754177434330575,
          0.0074839980547469955,
          0.007426621259021589,
          0.007369641660048315,
          0.007313056969725514,
          0.0072568649079687185,
          0.0072010632027472,
          0.007145649590119435,
          0.007090621814267364,
          0.007035977627529794,
          0.006981714790434489,
          0.006927831071729465,
          0.006874324248413038,
          0.0068211921057629845,
          0.006768432437364622,
          0.00671604304513797,
          0.006664021739363806,
          0.006612366338708922,
          0.006561074670250206,
          0.006510144569497973,
          0.006459573880418266,
          0.006409360455454205,
          0.006359502155546531,
          0.006309996850153116,
          0.0062608424172677,
          0.006212036743437687,
          0.006163577723781085,
          0.006115463262002604,
          0.006067691270408904,
          0.006020259669922993,
          0.005973166390097871,
          0.005926409369129243,
          0.005879986553867559,
          0.005833895899829172,
          0.005788135371206804,
          0.005742702940879124,
          0.005697596590419699,
          0.005652814310105135,
          0.005608354098922443,
          0.00556421396457577,
          0.005520391923492336,
          0.005476886000827703,
          0.005433694230470352,
          0.005390814655045536,
          0.0053482453259184925,
          0.005305984303196988,
          0.005264029655733186,
          0.00522237946112487,
          0.00518103180571604,
          0.0051399847845968825,
          0.005099236501603098,
          0.005058785069314623,
          0.005018628609053813,
          0.004978765250882883,
          0.004939193133600981,
          0.004899910404740447,
          0.0048609152205627195,
          0.004822205746053515,
          0.004783780154917612,
          0.004745636629572932,
          0.0047077733611442275,
          0.00467018854945619,
          0.004632880403026006,
          0.00459584713905549,
          0.00455908698342264,
          0.004522598170672743,
          0.004486378944008984,
          0.004450427555282602,
          0.004414742264982539,
          0.004379321342224645,
          0.004344163064740472,
          0.004309265718865547,
          0.004274627599527278,
          0.00424024701023237,
          0.004206122263053879,
          0.004172251678617806,
          0.004138633586089306,
          0.004105266323158466,
          0.004072148236025732,
          0.004039277679386934,
          0.0040066530164178885,
          0.00397427261875872,
          0.003942134866497701,
          0.003910238148154826,
          0.003878580860664996,
          0.0038471614093608503,
          0.0038159782079552743,
          0.003785029678523533,
          0.0037543142514851703,
          0.0037238303655854495,
          0.0036935764678766307,
          0.003663551013698798,
          0.003633752466660496,
          0.0036041792986190022,
          0.0035748299896603314,
          0.003545703028078948,
          0.003516796910357213,
          0.003488110141144538,
          0.0034596412332363047,
          0.0034313887075524494,
          0.003403351093115908,
          0.0033755269270306734,
          0.0033479147544597343,
          0.003320513128602665,
          0.00329332061067307,
          0.003266335769875729,
          0.003239557183383571,
          0.0032129834363143726,
          0.0031866131217073122,
          0.003160444840499241,
          0.003134477201500808,
          0.003108708821372346,
          0.0030831383245995877,
          0.0030577643434691664,
          0.0030325855180439757,
          0.0030076004961382746,
          0.002982807933292714,
          0.002958206492749079,
          0.0029337948454249856,
          0.0029095716698882995,
          0.002885535652331485,
          0.0028616854865457257,
          0.0028380198738949844,
          0.002814537523289819,
          0.002791237151161137,
          0.002768117481433753,
          0.0027451772454998623,
          0.0027224151821923503,
          0.002699830037758003,
          0.002677420565830554,
          0.002655185527403677,
          0.002633123690803793,
          0.002611233831662849,
          0.0025895147328908997,
          0.002567965184648658,
          0.0025465839843199184,
          0.0025253699364838843,
          0.0025043218528874043,
          0.0024834385524171378,
          0.002462718861071582,
          0.0024421616119331153,
          0.0024217656451398376,
          0.002401529807857457,
          0.002381452954251004,
          0.002361533945456557,
          0.002341771649552841,
          0.002322164941532809,
          0.0023027127032751323,
          0.0022834138235156634,
          0.0022642671978188086,
          0.0022452717285488867,
          0.0022264263248414325,
          0.0022077299025744334,
          0.002189181384339552,
          0.002170779699413292,
          0.002152523783728134,
          0.002134412579843654,
          0.0021164450369175734,
          0.0020986201106768213,
          0.002080936763388539,
          0.0020633939638310906,
          0.0020459906872650354,
          0.0020287259154040827,
          0.0020115986363860227,
          0.001994607844743696,
          0.001977752541375858,
          0.0019610317335181406,
          0.0019444444347139296,
          0.0019279896647852698,
          0.0019116664498037659,
          0.001895473822061497
         ],
         "yaxis": "y"
        }
       ],
       "layout": {
        "legend": {
         "tracegroupgap": 0
        },
        "margin": {
         "t": 60
        },
        "template": {
         "data": {
          "bar": [
           {
            "error_x": {
             "color": "rgb(36,36,36)"
            },
            "error_y": {
             "color": "rgb(36,36,36)"
            },
            "marker": {
             "line": {
              "color": "white",
              "width": 0.5
             },
             "pattern": {
              "fillmode": "overlay",
              "size": 10,
              "solidity": 0.2
             }
            },
            "type": "bar"
           }
          ],
          "barpolar": [
           {
            "marker": {
             "line": {
              "color": "white",
              "width": 0.5
             },
             "pattern": {
              "fillmode": "overlay",
              "size": 10,
              "solidity": 0.2
             }
            },
            "type": "barpolar"
           }
          ],
          "carpet": [
           {
            "aaxis": {
             "endlinecolor": "rgb(36,36,36)",
             "gridcolor": "white",
             "linecolor": "white",
             "minorgridcolor": "white",
             "startlinecolor": "rgb(36,36,36)"
            },
            "baxis": {
             "endlinecolor": "rgb(36,36,36)",
             "gridcolor": "white",
             "linecolor": "white",
             "minorgridcolor": "white",
             "startlinecolor": "rgb(36,36,36)"
            },
            "type": "carpet"
           }
          ],
          "choropleth": [
           {
            "colorbar": {
             "outlinewidth": 1,
             "tickcolor": "rgb(36,36,36)",
             "ticks": "outside"
            },
            "type": "choropleth"
           }
          ],
          "contour": [
           {
            "colorbar": {
             "outlinewidth": 1,
             "tickcolor": "rgb(36,36,36)",
             "ticks": "outside"
            },
            "colorscale": [
             [
              0,
              "#440154"
             ],
             [
              0.1111111111111111,
              "#482878"
             ],
             [
              0.2222222222222222,
              "#3e4989"
             ],
             [
              0.3333333333333333,
              "#31688e"
             ],
             [
              0.4444444444444444,
              "#26828e"
             ],
             [
              0.5555555555555556,
              "#1f9e89"
             ],
             [
              0.6666666666666666,
              "#35b779"
             ],
             [
              0.7777777777777778,
              "#6ece58"
             ],
             [
              0.8888888888888888,
              "#b5de2b"
             ],
             [
              1,
              "#fde725"
             ]
            ],
            "type": "contour"
           }
          ],
          "contourcarpet": [
           {
            "colorbar": {
             "outlinewidth": 1,
             "tickcolor": "rgb(36,36,36)",
             "ticks": "outside"
            },
            "type": "contourcarpet"
           }
          ],
          "heatmap": [
           {
            "colorbar": {
             "outlinewidth": 1,
             "tickcolor": "rgb(36,36,36)",
             "ticks": "outside"
            },
            "colorscale": [
             [
              0,
              "#440154"
             ],
             [
              0.1111111111111111,
              "#482878"
             ],
             [
              0.2222222222222222,
              "#3e4989"
             ],
             [
              0.3333333333333333,
              "#31688e"
             ],
             [
              0.4444444444444444,
              "#26828e"
             ],
             [
              0.5555555555555556,
              "#1f9e89"
             ],
             [
              0.6666666666666666,
              "#35b779"
             ],
             [
              0.7777777777777778,
              "#6ece58"
             ],
             [
              0.8888888888888888,
              "#b5de2b"
             ],
             [
              1,
              "#fde725"
             ]
            ],
            "type": "heatmap"
           }
          ],
          "heatmapgl": [
           {
            "colorbar": {
             "outlinewidth": 1,
             "tickcolor": "rgb(36,36,36)",
             "ticks": "outside"
            },
            "colorscale": [
             [
              0,
              "#440154"
             ],
             [
              0.1111111111111111,
              "#482878"
             ],
             [
              0.2222222222222222,
              "#3e4989"
             ],
             [
              0.3333333333333333,
              "#31688e"
             ],
             [
              0.4444444444444444,
              "#26828e"
             ],
             [
              0.5555555555555556,
              "#1f9e89"
             ],
             [
              0.6666666666666666,
              "#35b779"
             ],
             [
              0.7777777777777778,
              "#6ece58"
             ],
             [
              0.8888888888888888,
              "#b5de2b"
             ],
             [
              1,
              "#fde725"
             ]
            ],
            "type": "heatmapgl"
           }
          ],
          "histogram": [
           {
            "marker": {
             "line": {
              "color": "white",
              "width": 0.6
             }
            },
            "type": "histogram"
           }
          ],
          "histogram2d": [
           {
            "colorbar": {
             "outlinewidth": 1,
             "tickcolor": "rgb(36,36,36)",
             "ticks": "outside"
            },
            "colorscale": [
             [
              0,
              "#440154"
             ],
             [
              0.1111111111111111,
              "#482878"
             ],
             [
              0.2222222222222222,
              "#3e4989"
             ],
             [
              0.3333333333333333,
              "#31688e"
             ],
             [
              0.4444444444444444,
              "#26828e"
             ],
             [
              0.5555555555555556,
              "#1f9e89"
             ],
             [
              0.6666666666666666,
              "#35b779"
             ],
             [
              0.7777777777777778,
              "#6ece58"
             ],
             [
              0.8888888888888888,
              "#b5de2b"
             ],
             [
              1,
              "#fde725"
             ]
            ],
            "type": "histogram2d"
           }
          ],
          "histogram2dcontour": [
           {
            "colorbar": {
             "outlinewidth": 1,
             "tickcolor": "rgb(36,36,36)",
             "ticks": "outside"
            },
            "colorscale": [
             [
              0,
              "#440154"
             ],
             [
              0.1111111111111111,
              "#482878"
             ],
             [
              0.2222222222222222,
              "#3e4989"
             ],
             [
              0.3333333333333333,
              "#31688e"
             ],
             [
              0.4444444444444444,
              "#26828e"
             ],
             [
              0.5555555555555556,
              "#1f9e89"
             ],
             [
              0.6666666666666666,
              "#35b779"
             ],
             [
              0.7777777777777778,
              "#6ece58"
             ],
             [
              0.8888888888888888,
              "#b5de2b"
             ],
             [
              1,
              "#fde725"
             ]
            ],
            "type": "histogram2dcontour"
           }
          ],
          "mesh3d": [
           {
            "colorbar": {
             "outlinewidth": 1,
             "tickcolor": "rgb(36,36,36)",
             "ticks": "outside"
            },
            "type": "mesh3d"
           }
          ],
          "parcoords": [
           {
            "line": {
             "colorbar": {
              "outlinewidth": 1,
              "tickcolor": "rgb(36,36,36)",
              "ticks": "outside"
             }
            },
            "type": "parcoords"
           }
          ],
          "pie": [
           {
            "automargin": true,
            "type": "pie"
           }
          ],
          "scatter": [
           {
            "fillpattern": {
             "fillmode": "overlay",
             "size": 10,
             "solidity": 0.2
            },
            "type": "scatter"
           }
          ],
          "scatter3d": [
           {
            "line": {
             "colorbar": {
              "outlinewidth": 1,
              "tickcolor": "rgb(36,36,36)",
              "ticks": "outside"
             }
            },
            "marker": {
             "colorbar": {
              "outlinewidth": 1,
              "tickcolor": "rgb(36,36,36)",
              "ticks": "outside"
             }
            },
            "type": "scatter3d"
           }
          ],
          "scattercarpet": [
           {
            "marker": {
             "colorbar": {
              "outlinewidth": 1,
              "tickcolor": "rgb(36,36,36)",
              "ticks": "outside"
             }
            },
            "type": "scattercarpet"
           }
          ],
          "scattergeo": [
           {
            "marker": {
             "colorbar": {
              "outlinewidth": 1,
              "tickcolor": "rgb(36,36,36)",
              "ticks": "outside"
             }
            },
            "type": "scattergeo"
           }
          ],
          "scattergl": [
           {
            "marker": {
             "colorbar": {
              "outlinewidth": 1,
              "tickcolor": "rgb(36,36,36)",
              "ticks": "outside"
             }
            },
            "type": "scattergl"
           }
          ],
          "scattermapbox": [
           {
            "marker": {
             "colorbar": {
              "outlinewidth": 1,
              "tickcolor": "rgb(36,36,36)",
              "ticks": "outside"
             }
            },
            "type": "scattermapbox"
           }
          ],
          "scatterpolar": [
           {
            "marker": {
             "colorbar": {
              "outlinewidth": 1,
              "tickcolor": "rgb(36,36,36)",
              "ticks": "outside"
             }
            },
            "type": "scatterpolar"
           }
          ],
          "scatterpolargl": [
           {
            "marker": {
             "colorbar": {
              "outlinewidth": 1,
              "tickcolor": "rgb(36,36,36)",
              "ticks": "outside"
             }
            },
            "type": "scatterpolargl"
           }
          ],
          "scatterternary": [
           {
            "marker": {
             "colorbar": {
              "outlinewidth": 1,
              "tickcolor": "rgb(36,36,36)",
              "ticks": "outside"
             }
            },
            "type": "scatterternary"
           }
          ],
          "surface": [
           {
            "colorbar": {
             "outlinewidth": 1,
             "tickcolor": "rgb(36,36,36)",
             "ticks": "outside"
            },
            "colorscale": [
             [
              0,
              "#440154"
             ],
             [
              0.1111111111111111,
              "#482878"
             ],
             [
              0.2222222222222222,
              "#3e4989"
             ],
             [
              0.3333333333333333,
              "#31688e"
             ],
             [
              0.4444444444444444,
              "#26828e"
             ],
             [
              0.5555555555555556,
              "#1f9e89"
             ],
             [
              0.6666666666666666,
              "#35b779"
             ],
             [
              0.7777777777777778,
              "#6ece58"
             ],
             [
              0.8888888888888888,
              "#b5de2b"
             ],
             [
              1,
              "#fde725"
             ]
            ],
            "type": "surface"
           }
          ],
          "table": [
           {
            "cells": {
             "fill": {
              "color": "rgb(237,237,237)"
             },
             "line": {
              "color": "white"
             }
            },
            "header": {
             "fill": {
              "color": "rgb(217,217,217)"
             },
             "line": {
              "color": "white"
             }
            },
            "type": "table"
           }
          ]
         },
         "layout": {
          "annotationdefaults": {
           "arrowhead": 0,
           "arrowwidth": 1
          },
          "autotypenumbers": "strict",
          "coloraxis": {
           "colorbar": {
            "outlinewidth": 1,
            "tickcolor": "rgb(36,36,36)",
            "ticks": "outside"
           }
          },
          "colorscale": {
           "diverging": [
            [
             0,
             "rgb(103,0,31)"
            ],
            [
             0.1,
             "rgb(178,24,43)"
            ],
            [
             0.2,
             "rgb(214,96,77)"
            ],
            [
             0.3,
             "rgb(244,165,130)"
            ],
            [
             0.4,
             "rgb(253,219,199)"
            ],
            [
             0.5,
             "rgb(247,247,247)"
            ],
            [
             0.6,
             "rgb(209,229,240)"
            ],
            [
             0.7,
             "rgb(146,197,222)"
            ],
            [
             0.8,
             "rgb(67,147,195)"
            ],
            [
             0.9,
             "rgb(33,102,172)"
            ],
            [
             1,
             "rgb(5,48,97)"
            ]
           ],
           "sequential": [
            [
             0,
             "#440154"
            ],
            [
             0.1111111111111111,
             "#482878"
            ],
            [
             0.2222222222222222,
             "#3e4989"
            ],
            [
             0.3333333333333333,
             "#31688e"
            ],
            [
             0.4444444444444444,
             "#26828e"
            ],
            [
             0.5555555555555556,
             "#1f9e89"
            ],
            [
             0.6666666666666666,
             "#35b779"
            ],
            [
             0.7777777777777778,
             "#6ece58"
            ],
            [
             0.8888888888888888,
             "#b5de2b"
            ],
            [
             1,
             "#fde725"
            ]
           ],
           "sequentialminus": [
            [
             0,
             "#440154"
            ],
            [
             0.1111111111111111,
             "#482878"
            ],
            [
             0.2222222222222222,
             "#3e4989"
            ],
            [
             0.3333333333333333,
             "#31688e"
            ],
            [
             0.4444444444444444,
             "#26828e"
            ],
            [
             0.5555555555555556,
             "#1f9e89"
            ],
            [
             0.6666666666666666,
             "#35b779"
            ],
            [
             0.7777777777777778,
             "#6ece58"
            ],
            [
             0.8888888888888888,
             "#b5de2b"
            ],
            [
             1,
             "#fde725"
            ]
           ]
          },
          "colorway": [
           "#4C78A8",
           "#F58518",
           "#E45756",
           "#72B7B2",
           "#54A24B",
           "#EECA3B",
           "#B279A2",
           "#FF9DA6",
           "#9D755D",
           "#BAB0AC"
          ],
          "font": {
           "color": "rgb(36,36,36)",
           "family": "merriserif",
           "size": 12
          },
          "geo": {
           "bgcolor": "white",
           "lakecolor": "white",
           "landcolor": "white",
           "showlakes": true,
           "showland": true,
           "subunitcolor": "white"
          },
          "hoverlabel": {
           "align": "left"
          },
          "hovermode": "closest",
          "legend": {
           "bgcolor": "white",
           "bordercolor": "Black",
           "borderwidth": 1,
           "orientation": "h",
           "traceorder": "reversed",
           "x": 0.5,
           "xanchor": "center",
           "y": -0.2
          },
          "mapbox": {
           "style": "light"
          },
          "paper_bgcolor": "white",
          "plot_bgcolor": "white",
          "polar": {
           "angularaxis": {
            "gridcolor": "rgb(232,232,232)",
            "linecolor": "rgb(36,36,36)",
            "showgrid": false,
            "showline": true,
            "ticks": "outside"
           },
           "bgcolor": "white",
           "radialaxis": {
            "gridcolor": "rgb(232,232,232)",
            "linecolor": "rgb(36,36,36)",
            "showgrid": false,
            "showline": true,
            "ticks": "outside"
           }
          },
          "scene": {
           "xaxis": {
            "backgroundcolor": "white",
            "gridcolor": "rgb(232,232,232)",
            "gridwidth": 2,
            "linecolor": "rgb(36,36,36)",
            "showbackground": true,
            "showgrid": false,
            "showline": true,
            "ticks": "outside",
            "zeroline": false,
            "zerolinecolor": "rgb(36,36,36)"
           },
           "yaxis": {
            "backgroundcolor": "white",
            "gridcolor": "rgb(232,232,232)",
            "gridwidth": 2,
            "linecolor": "rgb(36,36,36)",
            "showbackground": true,
            "showgrid": false,
            "showline": true,
            "ticks": "outside",
            "zeroline": false,
            "zerolinecolor": "rgb(36,36,36)"
           },
           "zaxis": {
            "backgroundcolor": "white",
            "gridcolor": "rgb(232,232,232)",
            "gridwidth": 2,
            "linecolor": "rgb(36,36,36)",
            "showbackground": true,
            "showgrid": false,
            "showline": true,
            "ticks": "outside",
            "zeroline": false,
            "zerolinecolor": "rgb(36,36,36)"
           }
          },
          "shapedefaults": {
           "fillcolor": "black",
           "line": {
            "width": 0
           },
           "opacity": 0.3
          },
          "ternary": {
           "aaxis": {
            "gridcolor": "rgb(232,232,232)",
            "linecolor": "rgb(36,36,36)",
            "showgrid": false,
            "showline": true,
            "ticks": "outside"
           },
           "baxis": {
            "gridcolor": "rgb(232,232,232)",
            "linecolor": "rgb(36,36,36)",
            "showgrid": false,
            "showline": true,
            "ticks": "outside"
           },
           "bgcolor": "white",
           "caxis": {
            "gridcolor": "rgb(232,232,232)",
            "linecolor": "rgb(36,36,36)",
            "showgrid": false,
            "showline": true,
            "ticks": "outside"
           }
          },
          "title": {
           "font": {
            "family": "merriserif",
            "size": 24
           },
           "x": 0.5,
           "xanchor": "center"
          },
          "xaxis": {
           "automargin": true,
           "gridcolor": "rgb(232,232,232)",
           "linecolor": "rgb(36,36,36)",
           "showgrid": false,
           "showline": true,
           "ticks": "outside",
           "title": {
            "standoff": 15
           },
           "zeroline": false,
           "zerolinecolor": "rgb(36,36,36)"
          },
          "yaxis": {
           "automargin": true,
           "gridcolor": "rgb(232,232,232)",
           "linecolor": "rgb(36,36,36)",
           "showgrid": false,
           "showline": true,
           "ticks": "outside",
           "title": {
            "standoff": 15
           },
           "zeroline": false,
           "zerolinecolor": "rgb(36,36,36)"
          }
         }
        },
        "title": {
         "text": "Chi-squared PDF (df=10)"
        },
        "xaxis": {
         "anchor": "y",
         "domain": [
          0,
          1
         ],
         "title": {
          "text": "Chi-squared value"
         }
        },
        "yaxis": {
         "anchor": "x",
         "domain": [
          0,
          1
         ],
         "title": {
          "text": "Probability Density"
         }
        }
       }
      },
      "text/html": [
       "<div>                            <div id=\"d4738f52-63e3-43bf-b0a5-c72b0e0e6784\" class=\"plotly-graph-div\" style=\"height:525px; width:100%;\"></div>            <script type=\"text/javascript\">                require([\"plotly\"], function(Plotly) {                    window.PLOTLYENV=window.PLOTLYENV || {};                                    if (document.getElementById(\"d4738f52-63e3-43bf-b0a5-c72b0e0e6784\")) {                    Plotly.newPlot(                        \"d4738f52-63e3-43bf-b0a5-c72b0e0e6784\",                        [{\"hovertemplate\":\"x=%{x}<br>y=%{y}<extra></extra>\",\"legendgroup\":\"\",\"line\":{\"color\":\"#4C78A8\",\"dash\":\"solid\"},\"marker\":{\"symbol\":\"circle\"},\"mode\":\"lines\",\"name\":\"\",\"orientation\":\"v\",\"showlegend\":false,\"x\":[0.0,0.025025025025025027,0.05005005005005005,0.07507507507507508,0.1001001001001001,0.12512512512512514,0.15015015015015015,0.1751751751751752,0.2002002002002002,0.22522522522522523,0.2502502502502503,0.2752752752752753,0.3003003003003003,0.3253253253253253,0.3503503503503504,0.3753753753753754,0.4004004004004004,0.42542542542542544,0.45045045045045046,0.47547547547547553,0.5005005005005005,0.5255255255255256,0.5505505505505506,0.5755755755755756,0.6006006006006006,0.6256256256256256,0.6506506506506506,0.6756756756756758,0.7007007007007008,0.7257257257257258,0.7507507507507508,0.7757757757757758,0.8008008008008008,0.8258258258258259,0.8508508508508509,0.8758758758758759,0.9009009009009009,0.9259259259259259,0.9509509509509511,0.9759759759759761,1.001001001001001,1.026026026026026,1.0510510510510511,1.0760760760760761,1.1011011011011012,1.1261261261261262,1.1511511511511512,1.1761761761761762,1.2012012012012012,1.2262262262262262,1.2512512512512513,1.2762762762762763,1.3013013013013013,1.3263263263263263,1.3513513513513515,1.3763763763763766,1.4014014014014016,1.4264264264264266,1.4514514514514516,1.4764764764764766,1.5015015015015016,1.5265265265265267,1.5515515515515517,1.5765765765765767,1.6016016016016017,1.6266266266266267,1.6516516516516517,1.6766766766766767,1.7017017017017018,1.7267267267267268,1.7517517517517518,1.7767767767767768,1.8018018018018018,1.8268268268268268,1.8518518518518519,1.876876876876877,1.9019019019019021,1.9269269269269271,1.9519519519519521,1.9769769769769772,2.002002002002002,2.027027027027027,2.052052052052052,2.0770770770770772,2.1021021021021022,2.1271271271271273,2.1521521521521523,2.1771771771771773,2.2022022022022023,2.2272272272272273,2.2522522522522523,2.2772772772772774,2.3023023023023024,2.3273273273273274,2.3523523523523524,2.3773773773773774,2.4024024024024024,2.4274274274274275,2.4524524524524525,2.4774774774774775,2.5025025025025025,2.5275275275275275,2.5525525525525525,2.5775775775775776,2.6026026026026026,2.6276276276276276,2.6526526526526526,2.677677677677678,2.702702702702703,2.727727727727728,2.752752752752753,2.777777777777778,2.802802802802803,2.827827827827828,2.852852852852853,2.877877877877878,2.902902902902903,2.927927927927928,2.9529529529529532,2.9779779779779783,3.0030030030030033,3.0280280280280283,3.0530530530530533,3.0780780780780783,3.1031031031031033,3.1281281281281283,3.1531531531531534,3.1781781781781784,3.2032032032032034,3.2282282282282284,3.2532532532532534,3.2782782782782784,3.3033033033033035,3.3283283283283285,3.3533533533533535,3.3783783783783785,3.4034034034034035,3.4284284284284285,3.4534534534534536,3.4784784784784786,3.5035035035035036,3.5285285285285286,3.5535535535535536,3.5785785785785786,3.6036036036036037,3.6286286286286287,3.6536536536536537,3.6786786786786787,3.7037037037037037,3.7287287287287287,3.753753753753754,3.778778778778779,3.8038038038038042,3.8288288288288292,3.8538538538538543,3.8788788788788793,3.9039039039039043,3.9289289289289293,3.9539539539539543,3.9789789789789793,4.004004004004004,4.029029029029029,4.054054054054054,4.079079079079079,4.104104104104104,4.129129129129129,4.1541541541541545,4.1791791791791795,4.2042042042042045,4.2292292292292295,4.2542542542542545,4.2792792792792795,4.3043043043043046,4.32932932932933,4.354354354354355,4.37937937937938,4.404404404404405,4.42942942942943,4.454454454454455,4.47947947947948,4.504504504504505,4.52952952952953,4.554554554554555,4.57957957957958,4.604604604604605,4.62962962962963,4.654654654654655,4.67967967967968,4.704704704704705,4.72972972972973,4.754754754754755,4.77977977977978,4.804804804804805,4.82982982982983,4.854854854854855,4.87987987987988,4.904904904904905,4.92992992992993,4.954954954954955,4.97997997997998,5.005005005005005,5.03003003003003,5.055055055055055,5.08008008008008,5.105105105105105,5.13013013013013,5.155155155155155,5.18018018018018,5.205205205205205,5.23023023023023,5.255255255255255,5.28028028028028,5.305305305305305,5.33033033033033,5.355355355355356,5.380380380380381,5.405405405405406,5.430430430430431,5.455455455455456,5.480480480480481,5.505505505505506,5.530530530530531,5.555555555555556,5.580580580580581,5.605605605605606,5.630630630630631,5.655655655655656,5.680680680680681,5.705705705705706,5.730730730730731,5.755755755755756,5.780780780780781,5.805805805805806,5.830830830830831,5.855855855855856,5.8808808808808815,5.9059059059059065,5.9309309309309315,5.9559559559559565,5.9809809809809815,6.0060060060060065,6.0310310310310316,6.056056056056057,6.081081081081082,6.106106106106107,6.131131131131132,6.156156156156157,6.181181181181182,6.206206206206207,6.231231231231232,6.256256256256257,6.281281281281282,6.306306306306307,6.331331331331332,6.356356356356357,6.381381381381382,6.406406406406407,6.431431431431432,6.456456456456457,6.481481481481482,6.506506506506507,6.531531531531532,6.556556556556557,6.581581581581582,6.606606606606607,6.631631631631632,6.656656656656657,6.681681681681682,6.706706706706707,6.731731731731732,6.756756756756757,6.781781781781782,6.806806806806807,6.831831831831832,6.856856856856857,6.881881881881882,6.906906906906907,6.931931931931932,6.956956956956957,6.981981981981982,7.007007007007007,7.032032032032032,7.057057057057057,7.082082082082082,7.107107107107107,7.132132132132132,7.157157157157157,7.182182182182182,7.207207207207207,7.232232232232232,7.257257257257257,7.282282282282282,7.307307307307307,7.332332332332332,7.357357357357357,7.382382382382382,7.407407407407407,7.4324324324324325,7.4574574574574575,7.482482482482483,7.507507507507508,7.532532532532533,7.557557557557558,7.582582582582583,7.6076076076076085,7.6326326326326335,7.6576576576576585,7.6826826826826835,7.7077077077077085,7.7327327327327335,7.7577577577577586,7.782782782782784,7.807807807807809,7.832832832832834,7.857857857857859,7.882882882882884,7.907907907907909,7.932932932932934,7.957957957957959,7.982982982982984,8.008008008008009,8.033033033033034,8.058058058058059,8.083083083083084,8.108108108108109,8.133133133133134,8.158158158158159,8.183183183183184,8.208208208208209,8.233233233233234,8.258258258258259,8.283283283283284,8.308308308308309,8.333333333333334,8.358358358358359,8.383383383383384,8.408408408408409,8.433433433433434,8.458458458458459,8.483483483483484,8.508508508508509,8.533533533533534,8.558558558558559,8.583583583583584,8.608608608608609,8.633633633633634,8.65865865865866,8.683683683683684,8.70870870870871,8.733733733733734,8.75875875875876,8.783783783783784,8.80880880880881,8.833833833833834,8.85885885885886,8.883883883883884,8.90890890890891,8.933933933933934,8.95895895895896,8.983983983983984,9.00900900900901,9.034034034034034,9.05905905905906,9.084084084084084,9.10910910910911,9.134134134134134,9.15915915915916,9.184184184184184,9.20920920920921,9.234234234234235,9.25925925925926,9.284284284284285,9.30930930930931,9.334334334334335,9.35935935935936,9.384384384384385,9.40940940940941,9.434434434434435,9.45945945945946,9.484484484484485,9.50950950950951,9.534534534534535,9.55955955955956,9.584584584584585,9.60960960960961,9.634634634634635,9.65965965965966,9.684684684684685,9.70970970970971,9.734734734734735,9.75975975975976,9.784784784784785,9.80980980980981,9.834834834834835,9.85985985985986,9.884884884884885,9.90990990990991,9.934934934934935,9.95995995995996,9.984984984984985,10.01001001001001,10.035035035035035,10.06006006006006,10.085085085085085,10.11011011011011,10.135135135135135,10.16016016016016,10.185185185185185,10.21021021021021,10.235235235235235,10.26026026026026,10.285285285285285,10.31031031031031,10.335335335335335,10.36036036036036,10.385385385385385,10.41041041041041,10.435435435435435,10.46046046046046,10.485485485485485,10.51051051051051,10.535535535535535,10.56056056056056,10.585585585585585,10.61061061061061,10.635635635635635,10.66066066066066,10.685685685685687,10.710710710710712,10.735735735735737,10.760760760760762,10.785785785785787,10.810810810810812,10.835835835835837,10.860860860860862,10.885885885885887,10.910910910910912,10.935935935935937,10.960960960960962,10.985985985985987,11.011011011011012,11.036036036036037,11.061061061061062,11.086086086086087,11.111111111111112,11.136136136136138,11.161161161161163,11.186186186186188,11.211211211211213,11.236236236236238,11.261261261261263,11.286286286286288,11.311311311311313,11.336336336336338,11.361361361361363,11.386386386386388,11.411411411411413,11.436436436436438,11.461461461461463,11.486486486486488,11.511511511511513,11.536536536536538,11.561561561561563,11.586586586586588,11.611611611611613,11.636636636636638,11.661661661661663,11.686686686686688,11.711711711711713,11.736736736736738,11.761761761761763,11.786786786786788,11.811811811811813,11.836836836836838,11.861861861861863,11.886886886886888,11.911911911911913,11.936936936936938,11.961961961961963,11.986986986986988,12.012012012012013,12.037037037037038,12.062062062062063,12.087087087087088,12.112112112112113,12.137137137137138,12.162162162162163,12.187187187187188,12.212212212212213,12.237237237237238,12.262262262262263,12.287287287287288,12.312312312312313,12.337337337337338,12.362362362362363,12.387387387387388,12.412412412412413,12.437437437437438,12.462462462462463,12.487487487487488,12.512512512512513,12.537537537537538,12.562562562562563,12.587587587587588,12.612612612612613,12.637637637637638,12.662662662662663,12.687687687687689,12.712712712712714,12.737737737737739,12.762762762762764,12.787787787787789,12.812812812812814,12.837837837837839,12.862862862862864,12.887887887887889,12.912912912912914,12.937937937937939,12.962962962962964,12.987987987987989,13.013013013013014,13.038038038038039,13.063063063063064,13.088088088088089,13.113113113113114,13.138138138138139,13.163163163163164,13.188188188188189,13.213213213213214,13.238238238238239,13.263263263263264,13.288288288288289,13.313313313313314,13.338338338338339,13.363363363363364,13.388388388388389,13.413413413413414,13.438438438438439,13.463463463463464,13.488488488488489,13.513513513513514,13.538538538538539,13.563563563563564,13.588588588588589,13.613613613613614,13.63863863863864,13.663663663663664,13.68868868868869,13.713713713713714,13.73873873873874,13.763763763763764,13.78878878878879,13.813813813813814,13.83883883883884,13.863863863863864,13.88888888888889,13.913913913913914,13.93893893893894,13.963963963963964,13.98898898898899,14.014014014014014,14.03903903903904,14.064064064064064,14.08908908908909,14.114114114114114,14.13913913913914,14.164164164164164,14.18918918918919,14.214214214214214,14.23923923923924,14.264264264264265,14.28928928928929,14.314314314314315,14.33933933933934,14.364364364364365,14.38938938938939,14.414414414414415,14.43943943943944,14.464464464464465,14.48948948948949,14.514514514514515,14.53953953953954,14.564564564564565,14.58958958958959,14.614614614614615,14.63963963963964,14.664664664664665,14.68968968968969,14.714714714714715,14.73973973973974,14.764764764764765,14.78978978978979,14.814814814814815,14.83983983983984,14.864864864864865,14.88988988988989,14.914914914914915,14.93993993993994,14.964964964964967,14.989989989989992,15.015015015015017,15.040040040040042,15.065065065065067,15.090090090090092,15.115115115115117,15.140140140140142,15.165165165165167,15.190190190190192,15.215215215215217,15.240240240240242,15.265265265265267,15.290290290290292,15.315315315315317,15.340340340340342,15.365365365365367,15.390390390390392,15.415415415415417,15.440440440440442,15.465465465465467,15.490490490490492,15.515515515515517,15.540540540540542,15.565565565565567,15.590590590590592,15.615615615615617,15.640640640640642,15.665665665665667,15.690690690690692,15.715715715715717,15.740740740740742,15.765765765765767,15.790790790790792,15.815815815815817,15.840840840840842,15.865865865865867,15.890890890890892,15.915915915915917,15.940940940940942,15.965965965965967,15.990990990990992,16.016016016016017,16.04104104104104,16.066066066066067,16.09109109109109,16.116116116116117,16.14114114114114,16.166166166166168,16.19119119119119,16.216216216216218,16.24124124124124,16.266266266266268,16.29129129129129,16.316316316316318,16.34134134134134,16.366366366366368,16.39139139139139,16.416416416416418,16.44144144144144,16.466466466466468,16.49149149149149,16.516516516516518,16.54154154154154,16.566566566566568,16.59159159159159,16.616616616616618,16.64164164164164,16.666666666666668,16.69169169169169,16.716716716716718,16.74174174174174,16.766766766766768,16.79179179179179,16.816816816816818,16.84184184184184,16.866866866866868,16.89189189189189,16.916916916916918,16.94194194194194,16.966966966966968,16.99199199199199,17.017017017017018,17.04204204204204,17.067067067067068,17.092092092092095,17.117117117117118,17.142142142142145,17.167167167167168,17.192192192192195,17.217217217217218,17.242242242242245,17.26726726726727,17.292292292292295,17.31731731731732,17.342342342342345,17.36736736736737,17.392392392392395,17.41741741741742,17.442442442442445,17.46746746746747,17.492492492492495,17.51751751751752,17.542542542542545,17.56756756756757,17.592592592592595,17.61761761761762,17.642642642642645,17.66766766766767,17.692692692692695,17.71771771771772,17.742742742742745,17.76776776776777,17.792792792792795,17.81781781781782,17.842842842842845,17.86786786786787,17.892892892892895,17.91791791791792,17.942942942942945,17.96796796796797,17.992992992992995,18.01801801801802,18.043043043043046,18.06806806806807,18.093093093093096,18.11811811811812,18.143143143143146,18.16816816816817,18.193193193193196,18.21821821821822,18.243243243243246,18.26826826826827,18.293293293293296,18.31831831831832,18.343343343343346,18.36836836836837,18.393393393393396,18.41841841841842,18.443443443443446,18.46846846846847,18.493493493493496,18.51851851851852,18.543543543543546,18.56856856856857,18.593593593593596,18.61861861861862,18.643643643643646,18.66866866866867,18.693693693693696,18.71871871871872,18.743743743743746,18.76876876876877,18.793793793793796,18.81881881881882,18.843843843843846,18.86886886886887,18.893893893893896,18.91891891891892,18.943943943943946,18.96896896896897,18.993993993993996,19.01901901901902,19.044044044044046,19.06906906906907,19.094094094094096,19.11911911911912,19.144144144144146,19.16916916916917,19.194194194194196,19.21921921921922,19.244244244244246,19.26926926926927,19.294294294294296,19.31931931931932,19.344344344344346,19.36936936936937,19.394394394394396,19.41941941941942,19.444444444444446,19.46946946946947,19.494494494494496,19.51951951951952,19.544544544544546,19.56956956956957,19.594594594594597,19.61961961961962,19.644644644644647,19.66966966966967,19.694694694694697,19.71971971971972,19.744744744744747,19.76976976976977,19.794794794794797,19.81981981981982,19.844844844844847,19.86986986986987,19.894894894894897,19.91991991991992,19.944944944944947,19.96996996996997,19.994994994994997,20.02002002002002,20.045045045045047,20.07007007007007,20.095095095095097,20.12012012012012,20.145145145145147,20.17017017017017,20.195195195195197,20.22022022022022,20.245245245245247,20.27027027027027,20.295295295295297,20.32032032032032,20.345345345345347,20.37037037037037,20.395395395395397,20.42042042042042,20.445445445445447,20.47047047047047,20.495495495495497,20.52052052052052,20.545545545545547,20.57057057057057,20.595595595595597,20.62062062062062,20.645645645645647,20.67067067067067,20.695695695695697,20.72072072072072,20.745745745745747,20.77077077077077,20.795795795795797,20.82082082082082,20.845845845845847,20.87087087087087,20.895895895895897,20.92092092092092,20.945945945945947,20.97097097097097,20.995995995995997,21.02102102102102,21.046046046046047,21.07107107107107,21.096096096096097,21.12112112112112,21.146146146146148,21.17117117117117,21.196196196196198,21.22122122122122,21.246246246246248,21.27127127127127,21.296296296296298,21.32132132132132,21.346346346346348,21.371371371371374,21.396396396396398,21.421421421421424,21.446446446446448,21.471471471471475,21.496496496496498,21.521521521521525,21.546546546546548,21.571571571571575,21.596596596596598,21.621621621621625,21.646646646646648,21.671671671671675,21.696696696696698,21.721721721721725,21.746746746746748,21.771771771771775,21.796796796796798,21.821821821821825,21.846846846846848,21.871871871871875,21.896896896896898,21.921921921921925,21.946946946946948,21.971971971971975,21.996996996996998,22.022022022022025,22.047047047047048,22.072072072072075,22.097097097097098,22.122122122122125,22.147147147147148,22.172172172172175,22.197197197197198,22.222222222222225,22.24724724724725,22.272272272272275,22.2972972972973,22.322322322322325,22.34734734734735,22.372372372372375,22.3973973973974,22.422422422422425,22.44744744744745,22.472472472472475,22.4974974974975,22.522522522522525,22.54754754754755,22.572572572572575,22.5975975975976,22.622622622622625,22.64764764764765,22.672672672672675,22.6976976976977,22.722722722722725,22.74774774774775,22.772772772772775,22.7977977977978,22.822822822822825,22.84784784784785,22.872872872872875,22.8978978978979,22.922922922922925,22.94794794794795,22.972972972972975,22.997997997998,23.023023023023026,23.04804804804805,23.073073073073076,23.0980980980981,23.123123123123126,23.14814814814815,23.173173173173176,23.1981981981982,23.223223223223226,23.24824824824825,23.273273273273276,23.2982982982983,23.323323323323326,23.34834834834835,23.373373373373376,23.3983983983984,23.423423423423426,23.44844844844845,23.473473473473476,23.4984984984985,23.523523523523526,23.54854854854855,23.573573573573576,23.5985985985986,23.623623623623626,23.64864864864865,23.673673673673676,23.6986986986987,23.723723723723726,23.74874874874875,23.773773773773776,23.7987987987988,23.823823823823826,23.84884884884885,23.873873873873876,23.8988988988989,23.923923923923926,23.94894894894895,23.973973973973976,23.998998998999,24.024024024024026,24.04904904904905,24.074074074074076,24.0990990990991,24.124124124124126,24.14914914914915,24.174174174174176,24.1991991991992,24.224224224224226,24.24924924924925,24.274274274274276,24.2992992992993,24.324324324324326,24.34934934934935,24.374374374374376,24.3993993993994,24.424424424424426,24.44944944944945,24.474474474474476,24.4994994994995,24.524524524524526,24.54954954954955,24.574574574574577,24.5995995995996,24.624624624624627,24.64964964964965,24.674674674674677,24.6996996996997,24.724724724724727,24.74974974974975,24.774774774774777,24.7997997997998,24.824824824824827,24.84984984984985,24.874874874874877,24.8998998998999,24.924924924924927,24.94994994994995,24.974974974974977,25.0],\"xaxis\":\"x\",\"y\":[0.0,5.043159997080146e-10,7.968720862584926e-09,3.984001884814245e-08,1.2434844723351584e-07,2.9981013046791824e-07,6.139558932778205e-07,1.1232856630355687e-06,1.8924477109189295e-06,2.993642000172634e-06,4.506046928144466e-06,6.515268766716217e-06,9.11281312329328e-06,1.2395577761662944e-05,1.646536613879051e-05,2.142842103000068e-05,2.739497763099822e-05,3.447883554082412e-05,4.2796949045129486e-05,5.2469035134084974e-05,6.361719870383961e-05,7.63655744047007e-05,9.083998461314253e-05,0.000107167613018359,0.00012547669332737705,0.00014589621260573671,0.0001685556287834337,0.0001935846018682165,0.00022111273842043746,0.00025126934885548403,0.00028418321715136294,0.00031998238255029517,0.00035879393285418587,0.00040074380892460624,0.0004459566200084034,0.0004945554695203405,0.000546661790924155,0.0006023951933632179,0.0006618733167015118,0.0007252116956449707,0.000792523632622317,0.0008639200791133954,0.0009395095251217015,0.0010193978964962256,0.0011036884598160078,0.0011924817345588474,0.001285875412283482,0.0013839642825621903,0.0014868401654083035,0.0015945918499503666,0.0017073050391118575,0.0018250623000622647,0.0019479430202121722,0.002076023368531553,0.0022093762619769678,0.002348071336819589,0.002492174924672224,0.0026417500330193342,0.002796856330060035,0.0029575501336796175,0.0031238844043707976,0.003295908741931169,0.0034736693857687663,0.0036572092186526154,0.0038465677737502856,0.004041781244799263,0.0042428824992637405,0.004449901094333072,0.004662863295622607,0.004881792098442082,0.005106707251500956,0.0053376252829243544,0.005574559528457198,0.005817520161738259,0.006066514226529528,0.006321545670790218,0.00658261538248821,0.006849721227045548,0.007122858086317717,0.007402017899010187,0.007687189702438703,0.00797835967554317,0.008275511183067926,0.008578624820824466,0.008887678461955416,0.009202647304121426,0.009523503917535685,0.009850218293773067,0.010182757895283959,0.010521087705545214,0.010865170279782921,0.011214965796204705,0.011570432107680998,0.01193152479381735,0.012298197213362151,0.012670400556895995,0.013048083899751138,0.013431194255111927,0.01381967662724829,0.014213474064837065,0.014612527714327304,0.01501677687330789,0.015426159043837125,0.015840609985696124,0.016260063769529275,0.01668445282983642,0.017113708017783703,0.01754775865380051,0.017986532579932407,0.01842995621192074,0.018877954590981183,0.019330451435254904,0.01978736919090733,0.020248629082850442,0.020714151165066332,0.02118385437051038,0.02165765656057381,0.02213547457408663,0.02261722427584271,0.023102820604629908,0.023592177620749586,0.024085208553009933,0.024581825845179435,0.025081941201887056,0.025585465633956847,0.02609230950316564,0.026602382566413032,0.027115594019293872,0.02763185253906431,0.028151066326992814,0.02867314315008878,0.029197990382201784,0.029725515044484962,0.030255623845217426,0.030788223218980074,0.031323219365180996,0.03186051828592631,0.03240002582323328,0.032941647695582964,0.03348528953381025,0.03403085691632945,0.03457825540369429,0.03512739057249156,0.035678168048567944,0.03623049353959012,0.03678427286693889,0.03733941199693765,0.03789581707141725,0.038453394437617854,0.039012050677430674,0.03957169263598126,0.04013222744955699,0.04069356257288208,0.04125560580574256,0.04181826531896533,0.04238144967975458,0.042945067876389555,0.04350902934228802,0.04407324397943977,0.04463762218121461,0.04520207485454991,0.045766513441522494,0.04633084994031013,0.04689499692554804,0.047458867568086024,0.04802237565415141,0.04858543560392452,0.04914796248953133,0.049709872052460934,0.05027108072041242,0.050831505623578944,0.051391064610374085,0.05194967626260806,0.052507259910119584,0.05306373564487054,0.0536190243345098,0.054173047635413744,0.05472572800520906,0.05527698871478624,0.05582675385980954,0.05637494837173104,0.0569214980283157,0.05746632946368476,0.058009370177883705,0.05855054854598338,0.0590897938267199,0.05962703617068174,0.060162206628050385,0.060695237155902075,0.06122606062507778,0.0617546108266287,0.06228082247784405,0.06280463122786892,0.06332597366291882,0.06384478731109844,0.06436101064683124,0.06487458309490766,0.06538544503415857,0.06589353780076092,0.06639880369118292,0.06690118596477557,0.0674006288460174,0.06789707752641934,0.0683904781660971,0.0688807778950169,0.06936792481392196,0.06985186799494686,0.07033255748192525,0.0708099442903989,0.07128398040733366,0.07175461879054935,0.07222181336787012,0.07268551903600094,0.07314569165913809,0.07360228806731813,0.07405526605451274,0.07450458437647613,0.07495020274834893,0.07539208184202717,0.075830183283301,0.07626446964876896,0.0766949044625343,0.07712145219268905,0.07754407824759088,0.07796274897193939,0.07837743164265638,0.07878809446457757,0.07919470656595783,0.079597237993799,0.07999565970900384,0.08038994358136013,0.08078006238436392,0.08116598978988185,0.08154770036266266,0.08192516955469947,0.08229837369944885,0.08266729000591207,0.0830318965525819,0.0833921722812614,0.0837480969907581,0.08409965133045823,0.08444681679378564,0.08478957571155052,0.08512791124519142,0.08546180737991449,0.08579124891773585,0.08611622147042926,0.086436711452384,0.08675270607337815,0.08706419333126889,0.08737116200460505,0.08767360164516616,0.08797150257043095,0.0882648558559781,0.08855365332782596,0.08883788755471042,0.08911755184030869,0.08939264021540907,0.08966314743003172,0.08992906894550418,0.09019040092649305,0.09044714023299652,0.09069928441229995,0.0909468316908993,0.09118978096639156,0.09142813179934024,0.09166188440511384,0.09189103964570401,0.09211559902152361,0.09233556466318818,0.09255093932328394,0.09276172636812388,0.09296792976949547,0.09316955409640151,0.0933666045067976,0.09355908673932684,0.0937470071050565,0.09393037247921589,0.09410919029294136,0.09428346852502635,0.09445321569368166,0.09461844084830778,0.09477915356127818,0.09493536391974036,0.09508708251743199,0.09523432044651722,0.09537708928944227,0.09551540111081527,0.09564926844930836,0.09577870430958643,0.09590372215426288,0.0960243358958848,0.0961405598889481,0.09625240892194349,0.0963598982094384,0.09646304338419034,0.09656186048929882,0.09665636597039312,0.09674657666785873,0.0968325098091049,0.0969141830008707,0.09699161422157569,0.09706482181371233,0.09713382447628283,0.09719864125728152,0.09725929154622362,0.09731579506672097,0.09736817186910597,0.09741644232310534,0.09746062711056187,0.09750074721820949,0.09753682393049802,0.09756887882247064,0.09759693375269496,0.09762101085624697,0.09764113253775004,0.09765732146446898,0.09766960055945872,0.0976779929947708,0.0976825221847154,0.0976832117791809,0.09768008565701192,0.09767316791944443,0.09766248288360105,0.09764805507604371,0.09762990922638788,0.09760807026097441,0.09758256329660386,0.09755341363432975,0.09752064675331282,0.09748428830473835,0.09744436410579152,0.09740090013369715,0.09735392251982078,0.09730345754383048,0.09724953162792165,0.0971921713311053,0.0971314033435565,0.09706725448102728,0.09699975167932164,0.09692892198883281,0.09685479256914367,0.09677739068369089,0.09669674369449031,0.09661287905692652,0.09652582431460423,0.09643560709426406,0.09634225510075928,0.09624579611209642,0.09614625797453857,0.09604366859777055,0.09593805595012778,0.09582944805388599,0.09571787298061445,0.09560335884659076,0.0954859338082778,0.09536562605786235,0.09524246381885562,0.09511647534175453,0.09498768889976536,0.09485613278458727,0.09472183530225764,0.09458482476905737,0.09444512950747691,0.0943027778422419,0.09415779809639913,0.09401021858746264,0.0938600676236175,0.09370737349998383,0.09355216449493987,0.09339446886650238,0.09323431484876617,0.09307173064840037,0.09290674444120382,0.09273938436871547,0.09256967853488395,0.0923976550027917,0.09222334179143654,0.09204676687256813,0.09186795816758017,0.09168694354445864,0.09150375081478257,0.09131840773078119,0.09113094198244423,0.09094138119468545,0.09074975292455989,0.0905560846585337,0.09036040380980594,0.09016273771568327,0.08996311363500518,0.08976155874562138,0.08955810014191877,0.08935276483239998,0.08914557973731083,0.08893657168631812,0.08872576741623554,0.08851319356879915,0.08829887668849074,0.0880828432204082,0.08786511950818542,0.08764573179195585,0.0874247062063659,0.08720206877863194,0.08697784542664433,0.08675206195711577,0.08652474406377506,0.0862959173256046,0.08606560720512178,0.08583383904670494,0.08560063807495992,0.08536602939313181,0.08513003798155679,0.08489268869615647,0.08465400626697317,0.08441401529674677,0.08417274025952987,0.08393020549934536,0.08368643522888132,0.08344145352822592,0.08319528434364072,0.08294795148637181,0.08269947863149868,0.08244988931682082,0.08219920694177989,0.08194745476641963,0.08169465591038053,0.08144083335193056,0.08118600992703066,0.08093020832843496,0.08067345110482523,0.08041576065997837,0.08015715925196855,0.07989766899240082,0.07963731184567743,0.07937610962829732,0.07911408400818548,0.078851256504055,0.0785876484847983,0.0783232811689105,0.07805817562394116,0.07779235276597626,0.07752583335914932,0.07725863801518028,0.07699078719294461,0.07672230119806764,0.07645320018254888,0.07618350414441152,0.07591323292737995,0.07564240622058215,0.0753710435582796,0.07509916431962117,0.07482678772842324,0.07455393285297351,0.07428061860586,0.0740068637438238,0.07373268686763484,0.07345810642199166,0.07318314069544318,0.07290780782033372,0.07263212577276945,0.07235611237260722,0.07207978528346363,0.07180316201274672,0.07152625991170666,0.07124909617550762,0.07097168784332004,0.07069405179843109,0.07041620476837543,0.07013816332508478,0.06985994388505555,0.06958156270953542,0.0693030359047273,0.06902437942201041,0.06874560905818024,0.06846674045570345,0.06818778910299032,0.06790877033468426,0.06762969933196515,0.06735059112287076,0.06707146058263143,0.06679232243402165,0.0665131912477243,0.06623408144271138,0.06595500728663747,0.06567598289624742,0.06539702223779778,0.06511813912749155,0.06483934723192504,0.06456066006854864,0.06428209100613914,0.06400365326528447,0.06372535991888048,0.0634472238926386,0.06316925796560578,0.06289147477069483,0.06261388679522557,0.06233650638147688,0.06205934572724868,0.06178241688643422,0.061505731769601536,0.06122930214458541,0.060953139637087664,0.06067725573128692,0.0604016617704573,0.0601263689575954,0.05985138835605557,0.059576730890193455,0.059302407346017647,0.05902842837184816,0.05875480447898344,0.05848154604237345,0.05820866330130075,0.05793616636006742,0.0576640651886895,0.057392369623597006,0.05712108936834032,0.05685023399430284,0.05657981294141908,0.05630983551889786,0.05604031090595223,0.05577124815253299,0.055502656180067916,0.055234543782206394,0.05496691962556688,0.05469979225049087,0.054433170071799625,0.05416706137955555,0.05390147433982735,0.05363641699545912,0.05337189726684225,0.053107922952692156,0.052844501730826124,0.052581641158946646,0.05231934867542542,0.05205763160009163,0.05179649713502206,0.05153595236533394,0.05127600425997975,0.051016659672544734,0.050757925342045825,0.05049980789373271,0.05024231383989023,0.0499854495806434,0.049729221404762255,0.049473635490469424,0.04921869790624817,0.04896441461165128,0.0487107914581118,0.04845783418975322,0.04820554844420156,0.0479539397533972,0.04770301354440765,0.0474527751402398,0.04720322976065367,0.0469543825229749,0.04670623844290813,0.0464588024353496,0.046212079315200064,0.045966073798177,0.045720790501626245,0.04547623394533367,0.045232408552335165,0.0449893186497271,0.04474696846947487,0.04450536214922117,0.04426450373309286,0.044024397172506856,0.04378504632697491,0.04354645496490678,0.04330862676441213,0.04307156531410116,0.042835274113883506,0.04259975657576543,0.04236501602464543,0.04213105569910794,0.04189787875221555,0.041665488252298426,0.041433887183742725,0.041203078447776334,0.04097306486325257,0.04074384916743158,0.04051543401675997,0.040287821987647125,0.04006101557724016,0.039835017204195466,0.03960982920944875,0.039385453856981265,0.03916189333458471,0.03893914975462211,0.03871722515478706,0.03849612149885951,0.038275840677459,0.03805638450879452,0.0378377547394122,0.037619953044939196,0.03740298103082509,0.03718684023307977,0.036971532119008596,0.03675705808794391,0.03654341947197389,0.03633061753666736,0.03611865348179614,0.03590752844205346,0.03569724348776938,0.03548779962562231,0.03527919779934774,0.03507143889044273,0.03486452371886768,0.034658453043743924,0.03445322756404794,0.034248847919302224,0.03404531469026199,0.03384262839959882,0.03364078951258006,0.03343979843774504,0.03323965552757703,0.03304036107917183,0.03284191533490244,0.03264431848307979,0.03244757065861003,0.03225167194364751,0.032056622368244095,0.03186242191099494,0.03166907049967959,0.03147656801189993,0.031284914275713886,0.03109410907026512,0.030904152126408752,0.030715043127333416,0.03052678170917899,0.030339367461650404,0.030152799928627762,0.02996707860877193,0.029782202956126356,0.029598172380715167,0.029414986249136504,0.02923264388515263,0.029051144570275286,0.028870487544347415,0.02869067200612069,0.02851169711382902,0.028333561985757826,0.028156265700809337,0.02797980729906419,0.027804185782337964,0.027629400114734796,0.02745544922319618,0.027282331998045726,0.027110047293530316,0.02693859392835654,0.026767970686223563,0.026598176316351547,0.026429209534006345,0.026261069021019826,0.026093753426306238,0.025927261366374594,0.025761591425836717,0.025596742157911797,0.025432712084926076,0.025269499698809293,0.02510710346158652,0.024945521805866254,0.02478475313532442,0.024624795825184363,0.024465648222692687,0.024307308647591366,0.024149775392585567,0.0239930467238078,0.023837120881277703,0.02368199607935834,0.023527670507208033,0.023374142329228655,0.02322140968550973,0.02306947069226895,0.02291832344228816,0.022767966005346144,0.02261839642864702,0.022469612737245147,0.02232161293446571,0.02217439500232191,0.02202795690192795,0.02188229657390863,0.021737411938804494,0.0215933008974739,0.021449961331490738,0.021307391103538728,0.021165588057801787,0.021024550020350693,0.02088427479952615,0.02074476018631782,0.020606003954740233,0.020468003862204327,0.020330757649885872,0.020194263043090036,0.02005851775161225,0.019923519470095668,0.01978926587838487,0.01965575464187597,0.019522983411863426,0.019390949825882797,0.01925965150805066,0.019129086069400367,0.018999251108214703,0.018870144210354965,0.018741762949586623,0.018614104887901346,0.018487167575836006,0.018360948552787817,0.018235445347326528,0.01811065547750286,0.017986576451153966,0.0178632057662052,0.017740540910968987,0.017618579364439967,0.017497318596587198,0.017376756068643008,0.017256889233388608,0.017137715535436422,0.017019232411509426,0.016901437290717004,0.016784327594828077,0.0166679007385406,0.016552154129748437,0.016437085169804702,0.01632269125378242,0.01620896977073177,0.016095918103934587,0.01598353363115568,0.01587181372489124,0.01576075575261421,0.015650357077016733,0.015540615056249655,0.015431527044159097,0.015323090390520225,0.015215302441268019,0.015108160538725221,0.015001662021827494,0.014895804226345752,0.014790584485105632,0.014686000128204287,0.014582048483224374,0.014478726875445203,0.014376032628051507,0.014273963062338971,0.014172515497917697,0.014071687252912529,0.013971475644161029,0.013871877987408642,0.013772891597501483,0.013674513788576313,0.013576741874248162,0.013479573167795206,0.013383004982341485,0.013287034631036585,0.013191659427233392,0.013096876684662992,0.01300268371760744,0.012909077841069701,0.012816056370941789,0.0127236166241699,0.012631755918917596,0.012540471574726528,0.012449760912674855,0.012359621255533226,0.012270049927918778,0.012181044256446538,0.012092601569878824,0.01200471919927229,0.011917394478122857,0.01183062474250835,0.011744407331229062,0.01165873958594615,0.011573618851317889,0.011489042475133732,0.011405007808446489,0.0113215122057022,0.011238553024868142,0.01115612762755861,0.011074233379158891,0.010992867648947068,0.010912027810213916,0.01083171124038083,0.010751915321115843,0.010672637438447569,0.010593874982877487,0.010515625349490047,0.01043788593806118,0.01036065415316472,0.010283927404277127,0.010207703105880338,0.010131978677562884,0.010056751544119023,0.009982019135646395,0.009907778887641692,0.009834028241094717,0.009760764642580631,0.00968798554435062,0.009615688404420751,0.009543870686659298,0.009472529860872233,0.009401663402887334,0.009331268794636409,0.009261343524236132,0.009191885086067162,0.009122890980851766,0.009054358715729856,0.008986285804333511,0.008918669766859944,0.00885150813014303,0.008784798427723256,0.008718538199916324,0.008652724993880105,0.0085873563636804,0.008522429870355038,0.00845794308197676,0.0083938935737145,0.008330278927893548,0.008267096734054043,0.008204344589008435,0.00814202009689732,0.008080120869244149,0.00801864452500856,0.007957588690638435,0.007896951000120618,0.007836729095030474,0.007776920624580157,0.007717523245665578,0.00765853462291225,0.007599952428719886,0.00754177434330575,0.0074839980547469955,0.007426621259021589,0.007369641660048315,0.007313056969725514,0.0072568649079687185,0.0072010632027472,0.007145649590119435,0.007090621814267364,0.007035977627529794,0.006981714790434489,0.006927831071729465,0.006874324248413038,0.0068211921057629845,0.006768432437364622,0.00671604304513797,0.006664021739363806,0.006612366338708922,0.006561074670250206,0.006510144569497973,0.006459573880418266,0.006409360455454205,0.006359502155546531,0.006309996850153116,0.0062608424172677,0.006212036743437687,0.006163577723781085,0.006115463262002604,0.006067691270408904,0.006020259669922993,0.005973166390097871,0.005926409369129243,0.005879986553867559,0.005833895899829172,0.005788135371206804,0.005742702940879124,0.005697596590419699,0.005652814310105135,0.005608354098922443,0.00556421396457577,0.005520391923492336,0.005476886000827703,0.005433694230470352,0.005390814655045536,0.0053482453259184925,0.005305984303196988,0.005264029655733186,0.00522237946112487,0.00518103180571604,0.0051399847845968825,0.005099236501603098,0.005058785069314623,0.005018628609053813,0.004978765250882883,0.004939193133600981,0.004899910404740447,0.0048609152205627195,0.004822205746053515,0.004783780154917612,0.004745636629572932,0.0047077733611442275,0.00467018854945619,0.004632880403026006,0.00459584713905549,0.00455908698342264,0.004522598170672743,0.004486378944008984,0.004450427555282602,0.004414742264982539,0.004379321342224645,0.004344163064740472,0.004309265718865547,0.004274627599527278,0.00424024701023237,0.004206122263053879,0.004172251678617806,0.004138633586089306,0.004105266323158466,0.004072148236025732,0.004039277679386934,0.0040066530164178885,0.00397427261875872,0.003942134866497701,0.003910238148154826,0.003878580860664996,0.0038471614093608503,0.0038159782079552743,0.003785029678523533,0.0037543142514851703,0.0037238303655854495,0.0036935764678766307,0.003663551013698798,0.003633752466660496,0.0036041792986190022,0.0035748299896603314,0.003545703028078948,0.003516796910357213,0.003488110141144538,0.0034596412332363047,0.0034313887075524494,0.003403351093115908,0.0033755269270306734,0.0033479147544597343,0.003320513128602665,0.00329332061067307,0.003266335769875729,0.003239557183383571,0.0032129834363143726,0.0031866131217073122,0.003160444840499241,0.003134477201500808,0.003108708821372346,0.0030831383245995877,0.0030577643434691664,0.0030325855180439757,0.0030076004961382746,0.002982807933292714,0.002958206492749079,0.0029337948454249856,0.0029095716698882995,0.002885535652331485,0.0028616854865457257,0.0028380198738949844,0.002814537523289819,0.002791237151161137,0.002768117481433753,0.0027451772454998623,0.0027224151821923503,0.002699830037758003,0.002677420565830554,0.002655185527403677,0.002633123690803793,0.002611233831662849,0.0025895147328908997,0.002567965184648658,0.0025465839843199184,0.0025253699364838843,0.0025043218528874043,0.0024834385524171378,0.002462718861071582,0.0024421616119331153,0.0024217656451398376,0.002401529807857457,0.002381452954251004,0.002361533945456557,0.002341771649552841,0.002322164941532809,0.0023027127032751323,0.0022834138235156634,0.0022642671978188086,0.0022452717285488867,0.0022264263248414325,0.0022077299025744334,0.002189181384339552,0.002170779699413292,0.002152523783728134,0.002134412579843654,0.0021164450369175734,0.0020986201106768213,0.002080936763388539,0.0020633939638310906,0.0020459906872650354,0.0020287259154040827,0.0020115986363860227,0.001994607844743696,0.001977752541375858,0.0019610317335181406,0.0019444444347139296,0.0019279896647852698,0.0019116664498037659,0.001895473822061497],\"yaxis\":\"y\",\"type\":\"scatter\"}],                        {\"template\":{\"data\":{\"barpolar\":[{\"marker\":{\"line\":{\"color\":\"white\",\"width\":0.5},\"pattern\":{\"fillmode\":\"overlay\",\"size\":10,\"solidity\":0.2}},\"type\":\"barpolar\"}],\"bar\":[{\"error_x\":{\"color\":\"rgb(36,36,36)\"},\"error_y\":{\"color\":\"rgb(36,36,36)\"},\"marker\":{\"line\":{\"color\":\"white\",\"width\":0.5},\"pattern\":{\"fillmode\":\"overlay\",\"size\":10,\"solidity\":0.2}},\"type\":\"bar\"}],\"carpet\":[{\"aaxis\":{\"endlinecolor\":\"rgb(36,36,36)\",\"gridcolor\":\"white\",\"linecolor\":\"white\",\"minorgridcolor\":\"white\",\"startlinecolor\":\"rgb(36,36,36)\"},\"baxis\":{\"endlinecolor\":\"rgb(36,36,36)\",\"gridcolor\":\"white\",\"linecolor\":\"white\",\"minorgridcolor\":\"white\",\"startlinecolor\":\"rgb(36,36,36)\"},\"type\":\"carpet\"}],\"choropleth\":[{\"colorbar\":{\"outlinewidth\":1,\"tickcolor\":\"rgb(36,36,36)\",\"ticks\":\"outside\"},\"type\":\"choropleth\"}],\"contourcarpet\":[{\"colorbar\":{\"outlinewidth\":1,\"tickcolor\":\"rgb(36,36,36)\",\"ticks\":\"outside\"},\"type\":\"contourcarpet\"}],\"contour\":[{\"colorbar\":{\"outlinewidth\":1,\"tickcolor\":\"rgb(36,36,36)\",\"ticks\":\"outside\"},\"colorscale\":[[0.0,\"#440154\"],[0.1111111111111111,\"#482878\"],[0.2222222222222222,\"#3e4989\"],[0.3333333333333333,\"#31688e\"],[0.4444444444444444,\"#26828e\"],[0.5555555555555556,\"#1f9e89\"],[0.6666666666666666,\"#35b779\"],[0.7777777777777778,\"#6ece58\"],[0.8888888888888888,\"#b5de2b\"],[1.0,\"#fde725\"]],\"type\":\"contour\"}],\"heatmapgl\":[{\"colorbar\":{\"outlinewidth\":1,\"tickcolor\":\"rgb(36,36,36)\",\"ticks\":\"outside\"},\"colorscale\":[[0.0,\"#440154\"],[0.1111111111111111,\"#482878\"],[0.2222222222222222,\"#3e4989\"],[0.3333333333333333,\"#31688e\"],[0.4444444444444444,\"#26828e\"],[0.5555555555555556,\"#1f9e89\"],[0.6666666666666666,\"#35b779\"],[0.7777777777777778,\"#6ece58\"],[0.8888888888888888,\"#b5de2b\"],[1.0,\"#fde725\"]],\"type\":\"heatmapgl\"}],\"heatmap\":[{\"colorbar\":{\"outlinewidth\":1,\"tickcolor\":\"rgb(36,36,36)\",\"ticks\":\"outside\"},\"colorscale\":[[0.0,\"#440154\"],[0.1111111111111111,\"#482878\"],[0.2222222222222222,\"#3e4989\"],[0.3333333333333333,\"#31688e\"],[0.4444444444444444,\"#26828e\"],[0.5555555555555556,\"#1f9e89\"],[0.6666666666666666,\"#35b779\"],[0.7777777777777778,\"#6ece58\"],[0.8888888888888888,\"#b5de2b\"],[1.0,\"#fde725\"]],\"type\":\"heatmap\"}],\"histogram2dcontour\":[{\"colorbar\":{\"outlinewidth\":1,\"tickcolor\":\"rgb(36,36,36)\",\"ticks\":\"outside\"},\"colorscale\":[[0.0,\"#440154\"],[0.1111111111111111,\"#482878\"],[0.2222222222222222,\"#3e4989\"],[0.3333333333333333,\"#31688e\"],[0.4444444444444444,\"#26828e\"],[0.5555555555555556,\"#1f9e89\"],[0.6666666666666666,\"#35b779\"],[0.7777777777777778,\"#6ece58\"],[0.8888888888888888,\"#b5de2b\"],[1.0,\"#fde725\"]],\"type\":\"histogram2dcontour\"}],\"histogram2d\":[{\"colorbar\":{\"outlinewidth\":1,\"tickcolor\":\"rgb(36,36,36)\",\"ticks\":\"outside\"},\"colorscale\":[[0.0,\"#440154\"],[0.1111111111111111,\"#482878\"],[0.2222222222222222,\"#3e4989\"],[0.3333333333333333,\"#31688e\"],[0.4444444444444444,\"#26828e\"],[0.5555555555555556,\"#1f9e89\"],[0.6666666666666666,\"#35b779\"],[0.7777777777777778,\"#6ece58\"],[0.8888888888888888,\"#b5de2b\"],[1.0,\"#fde725\"]],\"type\":\"histogram2d\"}],\"histogram\":[{\"marker\":{\"line\":{\"color\":\"white\",\"width\":0.6}},\"type\":\"histogram\"}],\"mesh3d\":[{\"colorbar\":{\"outlinewidth\":1,\"tickcolor\":\"rgb(36,36,36)\",\"ticks\":\"outside\"},\"type\":\"mesh3d\"}],\"parcoords\":[{\"line\":{\"colorbar\":{\"outlinewidth\":1,\"tickcolor\":\"rgb(36,36,36)\",\"ticks\":\"outside\"}},\"type\":\"parcoords\"}],\"pie\":[{\"automargin\":true,\"type\":\"pie\"}],\"scatter3d\":[{\"line\":{\"colorbar\":{\"outlinewidth\":1,\"tickcolor\":\"rgb(36,36,36)\",\"ticks\":\"outside\"}},\"marker\":{\"colorbar\":{\"outlinewidth\":1,\"tickcolor\":\"rgb(36,36,36)\",\"ticks\":\"outside\"}},\"type\":\"scatter3d\"}],\"scattercarpet\":[{\"marker\":{\"colorbar\":{\"outlinewidth\":1,\"tickcolor\":\"rgb(36,36,36)\",\"ticks\":\"outside\"}},\"type\":\"scattercarpet\"}],\"scattergeo\":[{\"marker\":{\"colorbar\":{\"outlinewidth\":1,\"tickcolor\":\"rgb(36,36,36)\",\"ticks\":\"outside\"}},\"type\":\"scattergeo\"}],\"scattergl\":[{\"marker\":{\"colorbar\":{\"outlinewidth\":1,\"tickcolor\":\"rgb(36,36,36)\",\"ticks\":\"outside\"}},\"type\":\"scattergl\"}],\"scattermapbox\":[{\"marker\":{\"colorbar\":{\"outlinewidth\":1,\"tickcolor\":\"rgb(36,36,36)\",\"ticks\":\"outside\"}},\"type\":\"scattermapbox\"}],\"scatterpolargl\":[{\"marker\":{\"colorbar\":{\"outlinewidth\":1,\"tickcolor\":\"rgb(36,36,36)\",\"ticks\":\"outside\"}},\"type\":\"scatterpolargl\"}],\"scatterpolar\":[{\"marker\":{\"colorbar\":{\"outlinewidth\":1,\"tickcolor\":\"rgb(36,36,36)\",\"ticks\":\"outside\"}},\"type\":\"scatterpolar\"}],\"scatter\":[{\"fillpattern\":{\"fillmode\":\"overlay\",\"size\":10,\"solidity\":0.2},\"type\":\"scatter\"}],\"scatterternary\":[{\"marker\":{\"colorbar\":{\"outlinewidth\":1,\"tickcolor\":\"rgb(36,36,36)\",\"ticks\":\"outside\"}},\"type\":\"scatterternary\"}],\"surface\":[{\"colorbar\":{\"outlinewidth\":1,\"tickcolor\":\"rgb(36,36,36)\",\"ticks\":\"outside\"},\"colorscale\":[[0.0,\"#440154\"],[0.1111111111111111,\"#482878\"],[0.2222222222222222,\"#3e4989\"],[0.3333333333333333,\"#31688e\"],[0.4444444444444444,\"#26828e\"],[0.5555555555555556,\"#1f9e89\"],[0.6666666666666666,\"#35b779\"],[0.7777777777777778,\"#6ece58\"],[0.8888888888888888,\"#b5de2b\"],[1.0,\"#fde725\"]],\"type\":\"surface\"}],\"table\":[{\"cells\":{\"fill\":{\"color\":\"rgb(237,237,237)\"},\"line\":{\"color\":\"white\"}},\"header\":{\"fill\":{\"color\":\"rgb(217,217,217)\"},\"line\":{\"color\":\"white\"}},\"type\":\"table\"}]},\"layout\":{\"annotationdefaults\":{\"arrowhead\":0,\"arrowwidth\":1},\"autotypenumbers\":\"strict\",\"coloraxis\":{\"colorbar\":{\"outlinewidth\":1,\"tickcolor\":\"rgb(36,36,36)\",\"ticks\":\"outside\"}},\"colorscale\":{\"diverging\":[[0.0,\"rgb(103,0,31)\"],[0.1,\"rgb(178,24,43)\"],[0.2,\"rgb(214,96,77)\"],[0.3,\"rgb(244,165,130)\"],[0.4,\"rgb(253,219,199)\"],[0.5,\"rgb(247,247,247)\"],[0.6,\"rgb(209,229,240)\"],[0.7,\"rgb(146,197,222)\"],[0.8,\"rgb(67,147,195)\"],[0.9,\"rgb(33,102,172)\"],[1.0,\"rgb(5,48,97)\"]],\"sequential\":[[0.0,\"#440154\"],[0.1111111111111111,\"#482878\"],[0.2222222222222222,\"#3e4989\"],[0.3333333333333333,\"#31688e\"],[0.4444444444444444,\"#26828e\"],[0.5555555555555556,\"#1f9e89\"],[0.6666666666666666,\"#35b779\"],[0.7777777777777778,\"#6ece58\"],[0.8888888888888888,\"#b5de2b\"],[1.0,\"#fde725\"]],\"sequentialminus\":[[0.0,\"#440154\"],[0.1111111111111111,\"#482878\"],[0.2222222222222222,\"#3e4989\"],[0.3333333333333333,\"#31688e\"],[0.4444444444444444,\"#26828e\"],[0.5555555555555556,\"#1f9e89\"],[0.6666666666666666,\"#35b779\"],[0.7777777777777778,\"#6ece58\"],[0.8888888888888888,\"#b5de2b\"],[1.0,\"#fde725\"]]},\"colorway\":[\"#4C78A8\",\"#F58518\",\"#E45756\",\"#72B7B2\",\"#54A24B\",\"#EECA3B\",\"#B279A2\",\"#FF9DA6\",\"#9D755D\",\"#BAB0AC\"],\"font\":{\"color\":\"rgb(36,36,36)\",\"family\":\"merriserif\",\"size\":12},\"geo\":{\"bgcolor\":\"white\",\"lakecolor\":\"white\",\"landcolor\":\"white\",\"showlakes\":true,\"showland\":true,\"subunitcolor\":\"white\"},\"hoverlabel\":{\"align\":\"left\"},\"hovermode\":\"closest\",\"mapbox\":{\"style\":\"light\"},\"paper_bgcolor\":\"white\",\"plot_bgcolor\":\"white\",\"polar\":{\"angularaxis\":{\"gridcolor\":\"rgb(232,232,232)\",\"linecolor\":\"rgb(36,36,36)\",\"showgrid\":false,\"showline\":true,\"ticks\":\"outside\"},\"bgcolor\":\"white\",\"radialaxis\":{\"gridcolor\":\"rgb(232,232,232)\",\"linecolor\":\"rgb(36,36,36)\",\"showgrid\":false,\"showline\":true,\"ticks\":\"outside\"}},\"scene\":{\"xaxis\":{\"backgroundcolor\":\"white\",\"gridcolor\":\"rgb(232,232,232)\",\"gridwidth\":2,\"linecolor\":\"rgb(36,36,36)\",\"showbackground\":true,\"showgrid\":false,\"showline\":true,\"ticks\":\"outside\",\"zeroline\":false,\"zerolinecolor\":\"rgb(36,36,36)\"},\"yaxis\":{\"backgroundcolor\":\"white\",\"gridcolor\":\"rgb(232,232,232)\",\"gridwidth\":2,\"linecolor\":\"rgb(36,36,36)\",\"showbackground\":true,\"showgrid\":false,\"showline\":true,\"ticks\":\"outside\",\"zeroline\":false,\"zerolinecolor\":\"rgb(36,36,36)\"},\"zaxis\":{\"backgroundcolor\":\"white\",\"gridcolor\":\"rgb(232,232,232)\",\"gridwidth\":2,\"linecolor\":\"rgb(36,36,36)\",\"showbackground\":true,\"showgrid\":false,\"showline\":true,\"ticks\":\"outside\",\"zeroline\":false,\"zerolinecolor\":\"rgb(36,36,36)\"}},\"shapedefaults\":{\"fillcolor\":\"black\",\"line\":{\"width\":0},\"opacity\":0.3},\"ternary\":{\"aaxis\":{\"gridcolor\":\"rgb(232,232,232)\",\"linecolor\":\"rgb(36,36,36)\",\"showgrid\":false,\"showline\":true,\"ticks\":\"outside\"},\"baxis\":{\"gridcolor\":\"rgb(232,232,232)\",\"linecolor\":\"rgb(36,36,36)\",\"showgrid\":false,\"showline\":true,\"ticks\":\"outside\"},\"bgcolor\":\"white\",\"caxis\":{\"gridcolor\":\"rgb(232,232,232)\",\"linecolor\":\"rgb(36,36,36)\",\"showgrid\":false,\"showline\":true,\"ticks\":\"outside\"}},\"title\":{\"x\":0.5,\"font\":{\"family\":\"merriserif\",\"size\":24},\"xanchor\":\"center\"},\"xaxis\":{\"automargin\":true,\"gridcolor\":\"rgb(232,232,232)\",\"linecolor\":\"rgb(36,36,36)\",\"showgrid\":false,\"showline\":true,\"ticks\":\"outside\",\"title\":{\"standoff\":15},\"zeroline\":false,\"zerolinecolor\":\"rgb(36,36,36)\"},\"yaxis\":{\"automargin\":true,\"gridcolor\":\"rgb(232,232,232)\",\"linecolor\":\"rgb(36,36,36)\",\"showgrid\":false,\"showline\":true,\"ticks\":\"outside\",\"title\":{\"standoff\":15},\"zeroline\":false,\"zerolinecolor\":\"rgb(36,36,36)\"},\"legend\":{\"bgcolor\":\"white\",\"bordercolor\":\"Black\",\"borderwidth\":1,\"orientation\":\"h\",\"traceorder\":\"reversed\",\"x\":0.5,\"xanchor\":\"center\",\"y\":-0.2}}},\"xaxis\":{\"anchor\":\"y\",\"domain\":[0.0,1.0],\"title\":{\"text\":\"Chi-squared value\"}},\"yaxis\":{\"anchor\":\"x\",\"domain\":[0.0,1.0],\"title\":{\"text\":\"Probability Density\"}},\"legend\":{\"tracegroupgap\":0},\"margin\":{\"t\":60},\"title\":{\"text\":\"Chi-squared PDF (df=10)\"}},                        {\"responsive\": true}                    ).then(function(){\n",
       "                            \n",
       "var gd = document.getElementById('d4738f52-63e3-43bf-b0a5-c72b0e0e6784');\n",
       "var x = new MutationObserver(function (mutations, observer) {{\n",
       "        var display = window.getComputedStyle(gd).display;\n",
       "        if (!display || display === 'none') {{\n",
       "            console.log([gd, 'removed!']);\n",
       "            Plotly.purge(gd);\n",
       "            observer.disconnect();\n",
       "        }}\n",
       "}});\n",
       "\n",
       "// Listen for the removal of the full notebook cells\n",
       "var notebookContainer = gd.closest('#notebook-container');\n",
       "if (notebookContainer) {{\n",
       "    x.observe(notebookContainer, {childList: true});\n",
       "}}\n",
       "\n",
       "// Listen for the clearing of the current output cell\n",
       "var outputEl = gd.closest('.output');\n",
       "if (outputEl) {{\n",
       "    x.observe(outputEl, {childList: true});\n",
       "}}\n",
       "\n",
       "                        })                };                });            </script>        </div>"
      ]
     },
     "metadata": {},
     "output_type": "display_data"
    }
   ],
   "source": [
    "x = np.linspace(0, 25, 1000)  \n",
    "pdf = stats.chi2.pdf(x, T)\n",
    "fig = px.line(x=x, y=pdf)\n",
    "fig.update_layout(title_text = \"Chi-squared PDF (df=10)\",  xaxis_title = \"Chi-squared value\", yaxis_title = \"Probability Density\")\n",
    "fig.show()"
   ]
  },
  {
   "cell_type": "code",
   "execution_count": 57,
   "id": "0a4fccde",
   "metadata": {},
   "outputs": [
    {
     "name": "stdout",
     "output_type": "stream",
     "text": [
      "For Variance\n",
      "Upper Bound: 0.0013\n",
      "Lower Bound: 0.00021\n",
      "------------------------------\n",
      "For Volatility\n",
      "Upper Bound: 0.577\n",
      "Lower Bound: 0.23\n"
     ]
    }
   ],
   "source": [
    "print(\"For Variance\")\n",
    "print(\"Upper Bound: {}\".format(round(upper_bound, 4)))\n",
    "print(\"Lower Bound: {}\".format(round(lower_bound,  5)))\n",
    "print(\"-\"*30)\n",
    "print(\"For Volatility\")\n",
    "print(\"Upper Bound: {}\".format(round(np.sqrt(upper_bound*250), 3)))\n",
    "print(\"Lower Bound: {}\".format(round(np.sqrt(lower_bound*250),  3)))"
   ]
  },
  {
   "cell_type": "code",
   "execution_count": 67,
   "id": "b4ceacdf",
   "metadata": {},
   "outputs": [],
   "source": [
    "est_var = 1\n",
    "Ts = np.arange(10, 210, 10)\n",
    "up_bounds =  [t*est_var/ stats.chi2.ppf(0.025, t) for t in Ts]\n",
    "lw_bounds =  [t*est_var/stats.chi2.ppf(0.975, t) for t in Ts]\n",
    "ci_bounds = pd.DataFrame(np.stack((up_bounds, lw_bounds)).T, index=Ts, columns=[\"Up\", \"Lw\"])"
   ]
  },
  {
   "cell_type": "code",
   "execution_count": 68,
   "id": "7dc9e76a",
   "metadata": {},
   "outputs": [
    {
     "data": {
      "application/vnd.plotly.v1+json": {
       "config": {
        "plotlyServerURL": "https://plot.ly"
       },
       "data": [
        {
         "hovertemplate": "variable=Up<br>index=%{x}<br>value=%{y}<extra></extra>",
         "legendgroup": "Up",
         "line": {
          "color": "#4C78A8",
          "dash": "solid"
         },
         "marker": {
          "symbol": "circle"
         },
         "mode": "lines",
         "name": "Up",
         "orientation": "v",
         "showlegend": true,
         "type": "scatter",
         "x": [
          10,
          20,
          30,
          40,
          50,
          60,
          70,
          80,
          90,
          100,
          110,
          120,
          130,
          140,
          150,
          160,
          170,
          180,
          190,
          200
         ],
         "xaxis": "x",
         "y": [
          3.0797917558368253,
          2.085336691906785,
          1.7866956638749698,
          1.6371274862846865,
          1.5452433168005106,
          1.48214943525912,
          1.4356746543823469,
          1.3997473099693254,
          1.3709769569645056,
          1.3473107395895307,
          1.327427424605039,
          1.3104350547298227,
          1.2957078968658242,
          1.2827929029725922,
          1.2713532745188474,
          1.261132954796117,
          1.251933482299636,
          1.2435984366054806,
          1.2360027074148021,
          1.2290449185513057
         ],
         "yaxis": "y"
        },
        {
         "hovertemplate": "variable=Lw<br>index=%{x}<br>value=%{y}<extra></extra>",
         "legendgroup": "Lw",
         "line": {
          "color": "#F58518",
          "dash": "solid"
         },
         "marker": {
          "symbol": "circle"
         },
         "mode": "lines",
         "name": "Lw",
         "orientation": "v",
         "showlegend": true,
         "type": "scatter",
         "x": [
          10,
          20,
          30,
          40,
          50,
          60,
          70,
          80,
          90,
          100,
          110,
          120,
          130,
          140,
          150,
          160,
          170,
          180,
          190,
          200
         ],
         "xaxis": "x",
         "y": [
          0.48820550780447297,
          0.5853154839290434,
          0.6385799039583588,
          0.6740621718801201,
          0.7000820967897121,
          0.7203082209494222,
          0.7366623271614952,
          0.7502679788527465,
          0.7618345115039534,
          0.7718360293982512,
          0.7806037134180068,
          0.7883772033602782,
          0.7953349692582411,
          0.8016131562836744,
          0.8073177563288512,
          0.812532739266903,
          0.8173256438446849,
          0.821751518778785,
          0.8258557619438732,
          0.8296762052946902
         ],
         "yaxis": "y"
        }
       ],
       "layout": {
        "legend": {
         "title": {
          "text": "variable"
         },
         "tracegroupgap": 0
        },
        "margin": {
         "t": 60
        },
        "showlegend": false,
        "template": {
         "data": {
          "bar": [
           {
            "error_x": {
             "color": "rgb(36,36,36)"
            },
            "error_y": {
             "color": "rgb(36,36,36)"
            },
            "marker": {
             "line": {
              "color": "white",
              "width": 0.5
             },
             "pattern": {
              "fillmode": "overlay",
              "size": 10,
              "solidity": 0.2
             }
            },
            "type": "bar"
           }
          ],
          "barpolar": [
           {
            "marker": {
             "line": {
              "color": "white",
              "width": 0.5
             },
             "pattern": {
              "fillmode": "overlay",
              "size": 10,
              "solidity": 0.2
             }
            },
            "type": "barpolar"
           }
          ],
          "carpet": [
           {
            "aaxis": {
             "endlinecolor": "rgb(36,36,36)",
             "gridcolor": "white",
             "linecolor": "white",
             "minorgridcolor": "white",
             "startlinecolor": "rgb(36,36,36)"
            },
            "baxis": {
             "endlinecolor": "rgb(36,36,36)",
             "gridcolor": "white",
             "linecolor": "white",
             "minorgridcolor": "white",
             "startlinecolor": "rgb(36,36,36)"
            },
            "type": "carpet"
           }
          ],
          "choropleth": [
           {
            "colorbar": {
             "outlinewidth": 1,
             "tickcolor": "rgb(36,36,36)",
             "ticks": "outside"
            },
            "type": "choropleth"
           }
          ],
          "contour": [
           {
            "colorbar": {
             "outlinewidth": 1,
             "tickcolor": "rgb(36,36,36)",
             "ticks": "outside"
            },
            "colorscale": [
             [
              0,
              "#440154"
             ],
             [
              0.1111111111111111,
              "#482878"
             ],
             [
              0.2222222222222222,
              "#3e4989"
             ],
             [
              0.3333333333333333,
              "#31688e"
             ],
             [
              0.4444444444444444,
              "#26828e"
             ],
             [
              0.5555555555555556,
              "#1f9e89"
             ],
             [
              0.6666666666666666,
              "#35b779"
             ],
             [
              0.7777777777777778,
              "#6ece58"
             ],
             [
              0.8888888888888888,
              "#b5de2b"
             ],
             [
              1,
              "#fde725"
             ]
            ],
            "type": "contour"
           }
          ],
          "contourcarpet": [
           {
            "colorbar": {
             "outlinewidth": 1,
             "tickcolor": "rgb(36,36,36)",
             "ticks": "outside"
            },
            "type": "contourcarpet"
           }
          ],
          "heatmap": [
           {
            "colorbar": {
             "outlinewidth": 1,
             "tickcolor": "rgb(36,36,36)",
             "ticks": "outside"
            },
            "colorscale": [
             [
              0,
              "#440154"
             ],
             [
              0.1111111111111111,
              "#482878"
             ],
             [
              0.2222222222222222,
              "#3e4989"
             ],
             [
              0.3333333333333333,
              "#31688e"
             ],
             [
              0.4444444444444444,
              "#26828e"
             ],
             [
              0.5555555555555556,
              "#1f9e89"
             ],
             [
              0.6666666666666666,
              "#35b779"
             ],
             [
              0.7777777777777778,
              "#6ece58"
             ],
             [
              0.8888888888888888,
              "#b5de2b"
             ],
             [
              1,
              "#fde725"
             ]
            ],
            "type": "heatmap"
           }
          ],
          "heatmapgl": [
           {
            "colorbar": {
             "outlinewidth": 1,
             "tickcolor": "rgb(36,36,36)",
             "ticks": "outside"
            },
            "colorscale": [
             [
              0,
              "#440154"
             ],
             [
              0.1111111111111111,
              "#482878"
             ],
             [
              0.2222222222222222,
              "#3e4989"
             ],
             [
              0.3333333333333333,
              "#31688e"
             ],
             [
              0.4444444444444444,
              "#26828e"
             ],
             [
              0.5555555555555556,
              "#1f9e89"
             ],
             [
              0.6666666666666666,
              "#35b779"
             ],
             [
              0.7777777777777778,
              "#6ece58"
             ],
             [
              0.8888888888888888,
              "#b5de2b"
             ],
             [
              1,
              "#fde725"
             ]
            ],
            "type": "heatmapgl"
           }
          ],
          "histogram": [
           {
            "marker": {
             "line": {
              "color": "white",
              "width": 0.6
             }
            },
            "type": "histogram"
           }
          ],
          "histogram2d": [
           {
            "colorbar": {
             "outlinewidth": 1,
             "tickcolor": "rgb(36,36,36)",
             "ticks": "outside"
            },
            "colorscale": [
             [
              0,
              "#440154"
             ],
             [
              0.1111111111111111,
              "#482878"
             ],
             [
              0.2222222222222222,
              "#3e4989"
             ],
             [
              0.3333333333333333,
              "#31688e"
             ],
             [
              0.4444444444444444,
              "#26828e"
             ],
             [
              0.5555555555555556,
              "#1f9e89"
             ],
             [
              0.6666666666666666,
              "#35b779"
             ],
             [
              0.7777777777777778,
              "#6ece58"
             ],
             [
              0.8888888888888888,
              "#b5de2b"
             ],
             [
              1,
              "#fde725"
             ]
            ],
            "type": "histogram2d"
           }
          ],
          "histogram2dcontour": [
           {
            "colorbar": {
             "outlinewidth": 1,
             "tickcolor": "rgb(36,36,36)",
             "ticks": "outside"
            },
            "colorscale": [
             [
              0,
              "#440154"
             ],
             [
              0.1111111111111111,
              "#482878"
             ],
             [
              0.2222222222222222,
              "#3e4989"
             ],
             [
              0.3333333333333333,
              "#31688e"
             ],
             [
              0.4444444444444444,
              "#26828e"
             ],
             [
              0.5555555555555556,
              "#1f9e89"
             ],
             [
              0.6666666666666666,
              "#35b779"
             ],
             [
              0.7777777777777778,
              "#6ece58"
             ],
             [
              0.8888888888888888,
              "#b5de2b"
             ],
             [
              1,
              "#fde725"
             ]
            ],
            "type": "histogram2dcontour"
           }
          ],
          "mesh3d": [
           {
            "colorbar": {
             "outlinewidth": 1,
             "tickcolor": "rgb(36,36,36)",
             "ticks": "outside"
            },
            "type": "mesh3d"
           }
          ],
          "parcoords": [
           {
            "line": {
             "colorbar": {
              "outlinewidth": 1,
              "tickcolor": "rgb(36,36,36)",
              "ticks": "outside"
             }
            },
            "type": "parcoords"
           }
          ],
          "pie": [
           {
            "automargin": true,
            "type": "pie"
           }
          ],
          "scatter": [
           {
            "fillpattern": {
             "fillmode": "overlay",
             "size": 10,
             "solidity": 0.2
            },
            "type": "scatter"
           }
          ],
          "scatter3d": [
           {
            "line": {
             "colorbar": {
              "outlinewidth": 1,
              "tickcolor": "rgb(36,36,36)",
              "ticks": "outside"
             }
            },
            "marker": {
             "colorbar": {
              "outlinewidth": 1,
              "tickcolor": "rgb(36,36,36)",
              "ticks": "outside"
             }
            },
            "type": "scatter3d"
           }
          ],
          "scattercarpet": [
           {
            "marker": {
             "colorbar": {
              "outlinewidth": 1,
              "tickcolor": "rgb(36,36,36)",
              "ticks": "outside"
             }
            },
            "type": "scattercarpet"
           }
          ],
          "scattergeo": [
           {
            "marker": {
             "colorbar": {
              "outlinewidth": 1,
              "tickcolor": "rgb(36,36,36)",
              "ticks": "outside"
             }
            },
            "type": "scattergeo"
           }
          ],
          "scattergl": [
           {
            "marker": {
             "colorbar": {
              "outlinewidth": 1,
              "tickcolor": "rgb(36,36,36)",
              "ticks": "outside"
             }
            },
            "type": "scattergl"
           }
          ],
          "scattermapbox": [
           {
            "marker": {
             "colorbar": {
              "outlinewidth": 1,
              "tickcolor": "rgb(36,36,36)",
              "ticks": "outside"
             }
            },
            "type": "scattermapbox"
           }
          ],
          "scatterpolar": [
           {
            "marker": {
             "colorbar": {
              "outlinewidth": 1,
              "tickcolor": "rgb(36,36,36)",
              "ticks": "outside"
             }
            },
            "type": "scatterpolar"
           }
          ],
          "scatterpolargl": [
           {
            "marker": {
             "colorbar": {
              "outlinewidth": 1,
              "tickcolor": "rgb(36,36,36)",
              "ticks": "outside"
             }
            },
            "type": "scatterpolargl"
           }
          ],
          "scatterternary": [
           {
            "marker": {
             "colorbar": {
              "outlinewidth": 1,
              "tickcolor": "rgb(36,36,36)",
              "ticks": "outside"
             }
            },
            "type": "scatterternary"
           }
          ],
          "surface": [
           {
            "colorbar": {
             "outlinewidth": 1,
             "tickcolor": "rgb(36,36,36)",
             "ticks": "outside"
            },
            "colorscale": [
             [
              0,
              "#440154"
             ],
             [
              0.1111111111111111,
              "#482878"
             ],
             [
              0.2222222222222222,
              "#3e4989"
             ],
             [
              0.3333333333333333,
              "#31688e"
             ],
             [
              0.4444444444444444,
              "#26828e"
             ],
             [
              0.5555555555555556,
              "#1f9e89"
             ],
             [
              0.6666666666666666,
              "#35b779"
             ],
             [
              0.7777777777777778,
              "#6ece58"
             ],
             [
              0.8888888888888888,
              "#b5de2b"
             ],
             [
              1,
              "#fde725"
             ]
            ],
            "type": "surface"
           }
          ],
          "table": [
           {
            "cells": {
             "fill": {
              "color": "rgb(237,237,237)"
             },
             "line": {
              "color": "white"
             }
            },
            "header": {
             "fill": {
              "color": "rgb(217,217,217)"
             },
             "line": {
              "color": "white"
             }
            },
            "type": "table"
           }
          ]
         },
         "layout": {
          "annotationdefaults": {
           "arrowhead": 0,
           "arrowwidth": 1
          },
          "autotypenumbers": "strict",
          "coloraxis": {
           "colorbar": {
            "outlinewidth": 1,
            "tickcolor": "rgb(36,36,36)",
            "ticks": "outside"
           }
          },
          "colorscale": {
           "diverging": [
            [
             0,
             "rgb(103,0,31)"
            ],
            [
             0.1,
             "rgb(178,24,43)"
            ],
            [
             0.2,
             "rgb(214,96,77)"
            ],
            [
             0.3,
             "rgb(244,165,130)"
            ],
            [
             0.4,
             "rgb(253,219,199)"
            ],
            [
             0.5,
             "rgb(247,247,247)"
            ],
            [
             0.6,
             "rgb(209,229,240)"
            ],
            [
             0.7,
             "rgb(146,197,222)"
            ],
            [
             0.8,
             "rgb(67,147,195)"
            ],
            [
             0.9,
             "rgb(33,102,172)"
            ],
            [
             1,
             "rgb(5,48,97)"
            ]
           ],
           "sequential": [
            [
             0,
             "#440154"
            ],
            [
             0.1111111111111111,
             "#482878"
            ],
            [
             0.2222222222222222,
             "#3e4989"
            ],
            [
             0.3333333333333333,
             "#31688e"
            ],
            [
             0.4444444444444444,
             "#26828e"
            ],
            [
             0.5555555555555556,
             "#1f9e89"
            ],
            [
             0.6666666666666666,
             "#35b779"
            ],
            [
             0.7777777777777778,
             "#6ece58"
            ],
            [
             0.8888888888888888,
             "#b5de2b"
            ],
            [
             1,
             "#fde725"
            ]
           ],
           "sequentialminus": [
            [
             0,
             "#440154"
            ],
            [
             0.1111111111111111,
             "#482878"
            ],
            [
             0.2222222222222222,
             "#3e4989"
            ],
            [
             0.3333333333333333,
             "#31688e"
            ],
            [
             0.4444444444444444,
             "#26828e"
            ],
            [
             0.5555555555555556,
             "#1f9e89"
            ],
            [
             0.6666666666666666,
             "#35b779"
            ],
            [
             0.7777777777777778,
             "#6ece58"
            ],
            [
             0.8888888888888888,
             "#b5de2b"
            ],
            [
             1,
             "#fde725"
            ]
           ]
          },
          "colorway": [
           "#4C78A8",
           "#F58518",
           "#E45756",
           "#72B7B2",
           "#54A24B",
           "#EECA3B",
           "#B279A2",
           "#FF9DA6",
           "#9D755D",
           "#BAB0AC"
          ],
          "font": {
           "color": "rgb(36,36,36)",
           "family": "merriserif",
           "size": 12
          },
          "geo": {
           "bgcolor": "white",
           "lakecolor": "white",
           "landcolor": "white",
           "showlakes": true,
           "showland": true,
           "subunitcolor": "white"
          },
          "hoverlabel": {
           "align": "left"
          },
          "hovermode": "closest",
          "legend": {
           "bgcolor": "white",
           "bordercolor": "Black",
           "borderwidth": 1,
           "orientation": "h",
           "traceorder": "reversed",
           "x": 0.5,
           "xanchor": "center",
           "y": -0.2
          },
          "mapbox": {
           "style": "light"
          },
          "paper_bgcolor": "white",
          "plot_bgcolor": "white",
          "polar": {
           "angularaxis": {
            "gridcolor": "rgb(232,232,232)",
            "linecolor": "rgb(36,36,36)",
            "showgrid": false,
            "showline": true,
            "ticks": "outside"
           },
           "bgcolor": "white",
           "radialaxis": {
            "gridcolor": "rgb(232,232,232)",
            "linecolor": "rgb(36,36,36)",
            "showgrid": false,
            "showline": true,
            "ticks": "outside"
           }
          },
          "scene": {
           "xaxis": {
            "backgroundcolor": "white",
            "gridcolor": "rgb(232,232,232)",
            "gridwidth": 2,
            "linecolor": "rgb(36,36,36)",
            "showbackground": true,
            "showgrid": false,
            "showline": true,
            "ticks": "outside",
            "zeroline": false,
            "zerolinecolor": "rgb(36,36,36)"
           },
           "yaxis": {
            "backgroundcolor": "white",
            "gridcolor": "rgb(232,232,232)",
            "gridwidth": 2,
            "linecolor": "rgb(36,36,36)",
            "showbackground": true,
            "showgrid": false,
            "showline": true,
            "ticks": "outside",
            "zeroline": false,
            "zerolinecolor": "rgb(36,36,36)"
           },
           "zaxis": {
            "backgroundcolor": "white",
            "gridcolor": "rgb(232,232,232)",
            "gridwidth": 2,
            "linecolor": "rgb(36,36,36)",
            "showbackground": true,
            "showgrid": false,
            "showline": true,
            "ticks": "outside",
            "zeroline": false,
            "zerolinecolor": "rgb(36,36,36)"
           }
          },
          "shapedefaults": {
           "fillcolor": "black",
           "line": {
            "width": 0
           },
           "opacity": 0.3
          },
          "ternary": {
           "aaxis": {
            "gridcolor": "rgb(232,232,232)",
            "linecolor": "rgb(36,36,36)",
            "showgrid": false,
            "showline": true,
            "ticks": "outside"
           },
           "baxis": {
            "gridcolor": "rgb(232,232,232)",
            "linecolor": "rgb(36,36,36)",
            "showgrid": false,
            "showline": true,
            "ticks": "outside"
           },
           "bgcolor": "white",
           "caxis": {
            "gridcolor": "rgb(232,232,232)",
            "linecolor": "rgb(36,36,36)",
            "showgrid": false,
            "showline": true,
            "ticks": "outside"
           }
          },
          "title": {
           "font": {
            "family": "merriserif",
            "size": 24
           },
           "x": 0.5,
           "xanchor": "center"
          },
          "xaxis": {
           "automargin": true,
           "gridcolor": "rgb(232,232,232)",
           "linecolor": "rgb(36,36,36)",
           "showgrid": false,
           "showline": true,
           "ticks": "outside",
           "title": {
            "standoff": 15
           },
           "zeroline": false,
           "zerolinecolor": "rgb(36,36,36)"
          },
          "yaxis": {
           "automargin": true,
           "gridcolor": "rgb(232,232,232)",
           "linecolor": "rgb(36,36,36)",
           "showgrid": false,
           "showline": true,
           "ticks": "outside",
           "title": {
            "standoff": 15
           },
           "zeroline": false,
           "zerolinecolor": "rgb(36,36,36)"
          }
         }
        },
        "title": {
         "text": "Confidence Interval for Variance Forecast"
        },
        "xaxis": {
         "anchor": "y",
         "domain": [
          0,
          1
         ],
         "title": {
          "text": "T"
         }
        },
        "yaxis": {
         "anchor": "x",
         "domain": [
          0,
          1
         ],
         "title": {
          "text": "Estimated Variance"
         }
        }
       }
      },
      "text/html": [
       "<div>                            <div id=\"a1c844f6-403f-4083-959d-d4cffc970578\" class=\"plotly-graph-div\" style=\"height:525px; width:100%;\"></div>            <script type=\"text/javascript\">                require([\"plotly\"], function(Plotly) {                    window.PLOTLYENV=window.PLOTLYENV || {};                                    if (document.getElementById(\"a1c844f6-403f-4083-959d-d4cffc970578\")) {                    Plotly.newPlot(                        \"a1c844f6-403f-4083-959d-d4cffc970578\",                        [{\"hovertemplate\":\"variable=Up<br>index=%{x}<br>value=%{y}<extra></extra>\",\"legendgroup\":\"Up\",\"line\":{\"color\":\"#4C78A8\",\"dash\":\"solid\"},\"marker\":{\"symbol\":\"circle\"},\"mode\":\"lines\",\"name\":\"Up\",\"orientation\":\"v\",\"showlegend\":true,\"x\":[10,20,30,40,50,60,70,80,90,100,110,120,130,140,150,160,170,180,190,200],\"xaxis\":\"x\",\"y\":[3.0797917558368253,2.085336691906785,1.7866956638749698,1.6371274862846865,1.5452433168005106,1.48214943525912,1.4356746543823469,1.3997473099693254,1.3709769569645056,1.3473107395895307,1.327427424605039,1.3104350547298227,1.2957078968658242,1.2827929029725922,1.2713532745188474,1.261132954796117,1.251933482299636,1.2435984366054806,1.2360027074148021,1.2290449185513057],\"yaxis\":\"y\",\"type\":\"scatter\"},{\"hovertemplate\":\"variable=Lw<br>index=%{x}<br>value=%{y}<extra></extra>\",\"legendgroup\":\"Lw\",\"line\":{\"color\":\"#F58518\",\"dash\":\"solid\"},\"marker\":{\"symbol\":\"circle\"},\"mode\":\"lines\",\"name\":\"Lw\",\"orientation\":\"v\",\"showlegend\":true,\"x\":[10,20,30,40,50,60,70,80,90,100,110,120,130,140,150,160,170,180,190,200],\"xaxis\":\"x\",\"y\":[0.48820550780447297,0.5853154839290434,0.6385799039583588,0.6740621718801201,0.7000820967897121,0.7203082209494222,0.7366623271614952,0.7502679788527465,0.7618345115039534,0.7718360293982512,0.7806037134180068,0.7883772033602782,0.7953349692582411,0.8016131562836744,0.8073177563288512,0.812532739266903,0.8173256438446849,0.821751518778785,0.8258557619438732,0.8296762052946902],\"yaxis\":\"y\",\"type\":\"scatter\"}],                        {\"template\":{\"data\":{\"barpolar\":[{\"marker\":{\"line\":{\"color\":\"white\",\"width\":0.5},\"pattern\":{\"fillmode\":\"overlay\",\"size\":10,\"solidity\":0.2}},\"type\":\"barpolar\"}],\"bar\":[{\"error_x\":{\"color\":\"rgb(36,36,36)\"},\"error_y\":{\"color\":\"rgb(36,36,36)\"},\"marker\":{\"line\":{\"color\":\"white\",\"width\":0.5},\"pattern\":{\"fillmode\":\"overlay\",\"size\":10,\"solidity\":0.2}},\"type\":\"bar\"}],\"carpet\":[{\"aaxis\":{\"endlinecolor\":\"rgb(36,36,36)\",\"gridcolor\":\"white\",\"linecolor\":\"white\",\"minorgridcolor\":\"white\",\"startlinecolor\":\"rgb(36,36,36)\"},\"baxis\":{\"endlinecolor\":\"rgb(36,36,36)\",\"gridcolor\":\"white\",\"linecolor\":\"white\",\"minorgridcolor\":\"white\",\"startlinecolor\":\"rgb(36,36,36)\"},\"type\":\"carpet\"}],\"choropleth\":[{\"colorbar\":{\"outlinewidth\":1,\"tickcolor\":\"rgb(36,36,36)\",\"ticks\":\"outside\"},\"type\":\"choropleth\"}],\"contourcarpet\":[{\"colorbar\":{\"outlinewidth\":1,\"tickcolor\":\"rgb(36,36,36)\",\"ticks\":\"outside\"},\"type\":\"contourcarpet\"}],\"contour\":[{\"colorbar\":{\"outlinewidth\":1,\"tickcolor\":\"rgb(36,36,36)\",\"ticks\":\"outside\"},\"colorscale\":[[0.0,\"#440154\"],[0.1111111111111111,\"#482878\"],[0.2222222222222222,\"#3e4989\"],[0.3333333333333333,\"#31688e\"],[0.4444444444444444,\"#26828e\"],[0.5555555555555556,\"#1f9e89\"],[0.6666666666666666,\"#35b779\"],[0.7777777777777778,\"#6ece58\"],[0.8888888888888888,\"#b5de2b\"],[1.0,\"#fde725\"]],\"type\":\"contour\"}],\"heatmapgl\":[{\"colorbar\":{\"outlinewidth\":1,\"tickcolor\":\"rgb(36,36,36)\",\"ticks\":\"outside\"},\"colorscale\":[[0.0,\"#440154\"],[0.1111111111111111,\"#482878\"],[0.2222222222222222,\"#3e4989\"],[0.3333333333333333,\"#31688e\"],[0.4444444444444444,\"#26828e\"],[0.5555555555555556,\"#1f9e89\"],[0.6666666666666666,\"#35b779\"],[0.7777777777777778,\"#6ece58\"],[0.8888888888888888,\"#b5de2b\"],[1.0,\"#fde725\"]],\"type\":\"heatmapgl\"}],\"heatmap\":[{\"colorbar\":{\"outlinewidth\":1,\"tickcolor\":\"rgb(36,36,36)\",\"ticks\":\"outside\"},\"colorscale\":[[0.0,\"#440154\"],[0.1111111111111111,\"#482878\"],[0.2222222222222222,\"#3e4989\"],[0.3333333333333333,\"#31688e\"],[0.4444444444444444,\"#26828e\"],[0.5555555555555556,\"#1f9e89\"],[0.6666666666666666,\"#35b779\"],[0.7777777777777778,\"#6ece58\"],[0.8888888888888888,\"#b5de2b\"],[1.0,\"#fde725\"]],\"type\":\"heatmap\"}],\"histogram2dcontour\":[{\"colorbar\":{\"outlinewidth\":1,\"tickcolor\":\"rgb(36,36,36)\",\"ticks\":\"outside\"},\"colorscale\":[[0.0,\"#440154\"],[0.1111111111111111,\"#482878\"],[0.2222222222222222,\"#3e4989\"],[0.3333333333333333,\"#31688e\"],[0.4444444444444444,\"#26828e\"],[0.5555555555555556,\"#1f9e89\"],[0.6666666666666666,\"#35b779\"],[0.7777777777777778,\"#6ece58\"],[0.8888888888888888,\"#b5de2b\"],[1.0,\"#fde725\"]],\"type\":\"histogram2dcontour\"}],\"histogram2d\":[{\"colorbar\":{\"outlinewidth\":1,\"tickcolor\":\"rgb(36,36,36)\",\"ticks\":\"outside\"},\"colorscale\":[[0.0,\"#440154\"],[0.1111111111111111,\"#482878\"],[0.2222222222222222,\"#3e4989\"],[0.3333333333333333,\"#31688e\"],[0.4444444444444444,\"#26828e\"],[0.5555555555555556,\"#1f9e89\"],[0.6666666666666666,\"#35b779\"],[0.7777777777777778,\"#6ece58\"],[0.8888888888888888,\"#b5de2b\"],[1.0,\"#fde725\"]],\"type\":\"histogram2d\"}],\"histogram\":[{\"marker\":{\"line\":{\"color\":\"white\",\"width\":0.6}},\"type\":\"histogram\"}],\"mesh3d\":[{\"colorbar\":{\"outlinewidth\":1,\"tickcolor\":\"rgb(36,36,36)\",\"ticks\":\"outside\"},\"type\":\"mesh3d\"}],\"parcoords\":[{\"line\":{\"colorbar\":{\"outlinewidth\":1,\"tickcolor\":\"rgb(36,36,36)\",\"ticks\":\"outside\"}},\"type\":\"parcoords\"}],\"pie\":[{\"automargin\":true,\"type\":\"pie\"}],\"scatter3d\":[{\"line\":{\"colorbar\":{\"outlinewidth\":1,\"tickcolor\":\"rgb(36,36,36)\",\"ticks\":\"outside\"}},\"marker\":{\"colorbar\":{\"outlinewidth\":1,\"tickcolor\":\"rgb(36,36,36)\",\"ticks\":\"outside\"}},\"type\":\"scatter3d\"}],\"scattercarpet\":[{\"marker\":{\"colorbar\":{\"outlinewidth\":1,\"tickcolor\":\"rgb(36,36,36)\",\"ticks\":\"outside\"}},\"type\":\"scattercarpet\"}],\"scattergeo\":[{\"marker\":{\"colorbar\":{\"outlinewidth\":1,\"tickcolor\":\"rgb(36,36,36)\",\"ticks\":\"outside\"}},\"type\":\"scattergeo\"}],\"scattergl\":[{\"marker\":{\"colorbar\":{\"outlinewidth\":1,\"tickcolor\":\"rgb(36,36,36)\",\"ticks\":\"outside\"}},\"type\":\"scattergl\"}],\"scattermapbox\":[{\"marker\":{\"colorbar\":{\"outlinewidth\":1,\"tickcolor\":\"rgb(36,36,36)\",\"ticks\":\"outside\"}},\"type\":\"scattermapbox\"}],\"scatterpolargl\":[{\"marker\":{\"colorbar\":{\"outlinewidth\":1,\"tickcolor\":\"rgb(36,36,36)\",\"ticks\":\"outside\"}},\"type\":\"scatterpolargl\"}],\"scatterpolar\":[{\"marker\":{\"colorbar\":{\"outlinewidth\":1,\"tickcolor\":\"rgb(36,36,36)\",\"ticks\":\"outside\"}},\"type\":\"scatterpolar\"}],\"scatter\":[{\"fillpattern\":{\"fillmode\":\"overlay\",\"size\":10,\"solidity\":0.2},\"type\":\"scatter\"}],\"scatterternary\":[{\"marker\":{\"colorbar\":{\"outlinewidth\":1,\"tickcolor\":\"rgb(36,36,36)\",\"ticks\":\"outside\"}},\"type\":\"scatterternary\"}],\"surface\":[{\"colorbar\":{\"outlinewidth\":1,\"tickcolor\":\"rgb(36,36,36)\",\"ticks\":\"outside\"},\"colorscale\":[[0.0,\"#440154\"],[0.1111111111111111,\"#482878\"],[0.2222222222222222,\"#3e4989\"],[0.3333333333333333,\"#31688e\"],[0.4444444444444444,\"#26828e\"],[0.5555555555555556,\"#1f9e89\"],[0.6666666666666666,\"#35b779\"],[0.7777777777777778,\"#6ece58\"],[0.8888888888888888,\"#b5de2b\"],[1.0,\"#fde725\"]],\"type\":\"surface\"}],\"table\":[{\"cells\":{\"fill\":{\"color\":\"rgb(237,237,237)\"},\"line\":{\"color\":\"white\"}},\"header\":{\"fill\":{\"color\":\"rgb(217,217,217)\"},\"line\":{\"color\":\"white\"}},\"type\":\"table\"}]},\"layout\":{\"annotationdefaults\":{\"arrowhead\":0,\"arrowwidth\":1},\"autotypenumbers\":\"strict\",\"coloraxis\":{\"colorbar\":{\"outlinewidth\":1,\"tickcolor\":\"rgb(36,36,36)\",\"ticks\":\"outside\"}},\"colorscale\":{\"diverging\":[[0.0,\"rgb(103,0,31)\"],[0.1,\"rgb(178,24,43)\"],[0.2,\"rgb(214,96,77)\"],[0.3,\"rgb(244,165,130)\"],[0.4,\"rgb(253,219,199)\"],[0.5,\"rgb(247,247,247)\"],[0.6,\"rgb(209,229,240)\"],[0.7,\"rgb(146,197,222)\"],[0.8,\"rgb(67,147,195)\"],[0.9,\"rgb(33,102,172)\"],[1.0,\"rgb(5,48,97)\"]],\"sequential\":[[0.0,\"#440154\"],[0.1111111111111111,\"#482878\"],[0.2222222222222222,\"#3e4989\"],[0.3333333333333333,\"#31688e\"],[0.4444444444444444,\"#26828e\"],[0.5555555555555556,\"#1f9e89\"],[0.6666666666666666,\"#35b779\"],[0.7777777777777778,\"#6ece58\"],[0.8888888888888888,\"#b5de2b\"],[1.0,\"#fde725\"]],\"sequentialminus\":[[0.0,\"#440154\"],[0.1111111111111111,\"#482878\"],[0.2222222222222222,\"#3e4989\"],[0.3333333333333333,\"#31688e\"],[0.4444444444444444,\"#26828e\"],[0.5555555555555556,\"#1f9e89\"],[0.6666666666666666,\"#35b779\"],[0.7777777777777778,\"#6ece58\"],[0.8888888888888888,\"#b5de2b\"],[1.0,\"#fde725\"]]},\"colorway\":[\"#4C78A8\",\"#F58518\",\"#E45756\",\"#72B7B2\",\"#54A24B\",\"#EECA3B\",\"#B279A2\",\"#FF9DA6\",\"#9D755D\",\"#BAB0AC\"],\"font\":{\"color\":\"rgb(36,36,36)\",\"family\":\"merriserif\",\"size\":12},\"geo\":{\"bgcolor\":\"white\",\"lakecolor\":\"white\",\"landcolor\":\"white\",\"showlakes\":true,\"showland\":true,\"subunitcolor\":\"white\"},\"hoverlabel\":{\"align\":\"left\"},\"hovermode\":\"closest\",\"mapbox\":{\"style\":\"light\"},\"paper_bgcolor\":\"white\",\"plot_bgcolor\":\"white\",\"polar\":{\"angularaxis\":{\"gridcolor\":\"rgb(232,232,232)\",\"linecolor\":\"rgb(36,36,36)\",\"showgrid\":false,\"showline\":true,\"ticks\":\"outside\"},\"bgcolor\":\"white\",\"radialaxis\":{\"gridcolor\":\"rgb(232,232,232)\",\"linecolor\":\"rgb(36,36,36)\",\"showgrid\":false,\"showline\":true,\"ticks\":\"outside\"}},\"scene\":{\"xaxis\":{\"backgroundcolor\":\"white\",\"gridcolor\":\"rgb(232,232,232)\",\"gridwidth\":2,\"linecolor\":\"rgb(36,36,36)\",\"showbackground\":true,\"showgrid\":false,\"showline\":true,\"ticks\":\"outside\",\"zeroline\":false,\"zerolinecolor\":\"rgb(36,36,36)\"},\"yaxis\":{\"backgroundcolor\":\"white\",\"gridcolor\":\"rgb(232,232,232)\",\"gridwidth\":2,\"linecolor\":\"rgb(36,36,36)\",\"showbackground\":true,\"showgrid\":false,\"showline\":true,\"ticks\":\"outside\",\"zeroline\":false,\"zerolinecolor\":\"rgb(36,36,36)\"},\"zaxis\":{\"backgroundcolor\":\"white\",\"gridcolor\":\"rgb(232,232,232)\",\"gridwidth\":2,\"linecolor\":\"rgb(36,36,36)\",\"showbackground\":true,\"showgrid\":false,\"showline\":true,\"ticks\":\"outside\",\"zeroline\":false,\"zerolinecolor\":\"rgb(36,36,36)\"}},\"shapedefaults\":{\"fillcolor\":\"black\",\"line\":{\"width\":0},\"opacity\":0.3},\"ternary\":{\"aaxis\":{\"gridcolor\":\"rgb(232,232,232)\",\"linecolor\":\"rgb(36,36,36)\",\"showgrid\":false,\"showline\":true,\"ticks\":\"outside\"},\"baxis\":{\"gridcolor\":\"rgb(232,232,232)\",\"linecolor\":\"rgb(36,36,36)\",\"showgrid\":false,\"showline\":true,\"ticks\":\"outside\"},\"bgcolor\":\"white\",\"caxis\":{\"gridcolor\":\"rgb(232,232,232)\",\"linecolor\":\"rgb(36,36,36)\",\"showgrid\":false,\"showline\":true,\"ticks\":\"outside\"}},\"title\":{\"x\":0.5,\"font\":{\"family\":\"merriserif\",\"size\":24},\"xanchor\":\"center\"},\"xaxis\":{\"automargin\":true,\"gridcolor\":\"rgb(232,232,232)\",\"linecolor\":\"rgb(36,36,36)\",\"showgrid\":false,\"showline\":true,\"ticks\":\"outside\",\"title\":{\"standoff\":15},\"zeroline\":false,\"zerolinecolor\":\"rgb(36,36,36)\"},\"yaxis\":{\"automargin\":true,\"gridcolor\":\"rgb(232,232,232)\",\"linecolor\":\"rgb(36,36,36)\",\"showgrid\":false,\"showline\":true,\"ticks\":\"outside\",\"title\":{\"standoff\":15},\"zeroline\":false,\"zerolinecolor\":\"rgb(36,36,36)\"},\"legend\":{\"bgcolor\":\"white\",\"bordercolor\":\"Black\",\"borderwidth\":1,\"orientation\":\"h\",\"traceorder\":\"reversed\",\"x\":0.5,\"xanchor\":\"center\",\"y\":-0.2}}},\"xaxis\":{\"anchor\":\"y\",\"domain\":[0.0,1.0],\"title\":{\"text\":\"T\"}},\"yaxis\":{\"anchor\":\"x\",\"domain\":[0.0,1.0],\"title\":{\"text\":\"Estimated Variance\"}},\"legend\":{\"title\":{\"text\":\"variable\"},\"tracegroupgap\":0},\"margin\":{\"t\":60},\"title\":{\"text\":\"Confidence Interval for Variance Forecast\"},\"showlegend\":false},                        {\"responsive\": true}                    ).then(function(){\n",
       "                            \n",
       "var gd = document.getElementById('a1c844f6-403f-4083-959d-d4cffc970578');\n",
       "var x = new MutationObserver(function (mutations, observer) {{\n",
       "        var display = window.getComputedStyle(gd).display;\n",
       "        if (!display || display === 'none') {{\n",
       "            console.log([gd, 'removed!']);\n",
       "            Plotly.purge(gd);\n",
       "            observer.disconnect();\n",
       "        }}\n",
       "}});\n",
       "\n",
       "// Listen for the removal of the full notebook cells\n",
       "var notebookContainer = gd.closest('#notebook-container');\n",
       "if (notebookContainer) {{\n",
       "    x.observe(notebookContainer, {childList: true});\n",
       "}}\n",
       "\n",
       "// Listen for the clearing of the current output cell\n",
       "var outputEl = gd.closest('.output');\n",
       "if (outputEl) {{\n",
       "    x.observe(outputEl, {childList: true});\n",
       "}}\n",
       "\n",
       "                        })                };                });            </script>        </div>"
      ]
     },
     "metadata": {},
     "output_type": "display_data"
    }
   ],
   "source": [
    "fig = px.line(ci_bounds)\n",
    "fig.update_layout(title_text=\"Confidence Interval for Variance Forecast\", \n",
    "                              xaxis_title = \"T\", yaxis_title = \"Estimated Variance\",\n",
    "                             showlegend=False,)\n",
    "fig.show()"
   ]
  },
  {
   "cell_type": "markdown",
   "id": "62a093fb",
   "metadata": {},
   "source": [
    "## Standard Error of Variance, Volatility and Correlation"
   ]
  },
  {
   "cell_type": "markdown",
   "id": "cff77abd",
   "metadata": {},
   "source": [
    "**VARIANCE** \n",
    "\n",
    "A point estimate of volatility is the expectation of the distribution of the volatility estimator. To measure the accuracy of this point estimate we can use the *standard error of the estimator*, which is the standard deviation of its distribution.\n",
    "To derive a formulation for the standard error we start assuming that $E(r_{t}) = 0$. Under this assumption the variance  of the variance estimate is:\n",
    "\n",
    "\\begin{equation}\n",
    "V(\\sigma_{t}^2) = T^{-2}\\sum_{k=1}^{T} V(r_{t-k})^2\n",
    "\\end{equation}\n",
    "\n",
    "If $X = r^2$ and considering that $V(X) = E(X^2) - E(X)^2$, we get that:\n",
    "\n",
    "\\begin{equation}\n",
    "V(r_{t}^2) = E(r_{t}^4) - E(r_{t}^2)^2\n",
    "\\end{equation}\n",
    "\n",
    "Since we have assumed $E(r_{t}) = 0$ and that returns are normally distributed, we obtain\n",
    "\n",
    "$$\n",
    "E(r_{t}^2) = \\sigma^2 \n",
    "\\quad E(r_{t}^4) = 3\\sigma^4\n",
    "$$\n",
    "\n",
    "which leads to\n",
    "\n",
    "\\begin{equation}\n",
    "V(r_{t}^2) = 3\\sigma^4 - \\sigma^2 = 2\\sigma^4\n",
    "\\end{equation}\n",
    "\n",
    "Substituing Equation (8) into Equation (6) we get that the standard error and the percentage standard error of the variance are :\n",
    "\n",
    "\\begin{equation}\n",
    "s.e.(\\hat{\\sigma}^2) = \\sqrt{\\frac{2}{t}} \\sigma^2 \\quad \\frac{s.e.(\\hat{\\sigma}^2)}{\\sigma^2} = \\sqrt{\\frac{2}{t}} \n",
    "\\end{equation}\n",
    "\n",
    "**VOLATILITY**\n",
    "\n",
    "The standard error of the volatility is not simply the square root of the standard error of the variance\n",
    "$$s.e.(\\sigma) \\neq \\sqrt{s.e.(\\sigma^2)} $$\n",
    "\n",
    "\n",
    "**CORRELATION**\n",
    "\n",
    "The correlation estimate divided by the standard error has a student $t$ distribution with T degrees of freedom:\n",
    "\n",
    "\\begin{equation}\n",
    "V(\\hat{\\rho}) = T^{-1} (1 - \\rho^2)\n",
    "\\end{equation}\n",
    "\n",
    "\\begin{equation}\n",
    "\\frac{\\hat{\\rho}\\sqrt{T}}{\\sqrt{1-\\hat{\\rho}^2}} \\sim t_{T} \n",
    "\\end{equation}"
   ]
  },
  {
   "cell_type": "markdown",
   "id": "ad114b21",
   "metadata": {},
   "source": [
    "### Example: standard error of volatility"
   ]
  },
  {
   "cell_type": "markdown",
   "id": "a8954756",
   "metadata": {},
   "source": [
    "*An equally weighted volatility estimate is 20%, based on a sample of 100 observations.\n",
    "Estimate the standard error of the estimator and find an interval for the estimate based on\n",
    "one-standard-error bounds.*"
   ]
  },
  {
   "cell_type": "code",
   "execution_count": 69,
   "id": "2fda307f",
   "metadata": {},
   "outputs": [],
   "source": [
    "T = 100\n",
    "vol = 0.2\n",
    "var = vol**2\n",
    "# standard errors\n",
    "se_vol = 1/np.sqrt(2*T)\n",
    "se_var = np.sqrt(2/T)\n",
    "#bounds\n",
    "lb_vol = vol - vol*se_vol\n",
    "ub_vol = vol + vol*se_vol\n",
    "lb_var = var - vol*se_var\n",
    "ub_var = var + vol*se_var"
   ]
  },
  {
   "cell_type": "code",
   "execution_count": 82,
   "id": "72924205",
   "metadata": {},
   "outputs": [
    {
     "data": {
      "application/vnd.plotly.v1+json": {
       "config": {
        "plotlyServerURL": "https://plot.ly"
       },
       "data": [
        {
         "mode": "lines",
         "name": "Mean=0.2, Std Dev=0.01414213562373095",
         "type": "scatter",
         "x": [
          0.15757359312880714,
          0.15765853088030102,
          0.1577434686317949,
          0.1578284063832888,
          0.15791334413478267,
          0.15799828188627654,
          0.15808321963777042,
          0.1581681573892643,
          0.1582530951407582,
          0.15833803289225207,
          0.15842297064374594,
          0.15850790839523982,
          0.1585928461467337,
          0.15867778389822756,
          0.15876272164972147,
          0.15884765940121534,
          0.15893259715270922,
          0.1590175349042031,
          0.15910247265569696,
          0.15918741040719087,
          0.15927234815868474,
          0.15935728591017861,
          0.1594422236616725,
          0.15952716141316636,
          0.15961209916466026,
          0.15969703691615414,
          0.159781974667648,
          0.1598669124191419,
          0.15995185017063576,
          0.16003678792212966,
          0.16012172567362354,
          0.1602066634251174,
          0.1602916011766113,
          0.16037653892810516,
          0.16046147667959906,
          0.16054641443109294,
          0.1606313521825868,
          0.16071628993408069,
          0.16080122768557456,
          0.16088616543706846,
          0.16097110318856234,
          0.1610560409400562,
          0.16114097869155009,
          0.16122591644304396,
          0.16131085419453783,
          0.16139579194603174,
          0.1614807296975256,
          0.16156566744901948,
          0.16165060520051336,
          0.16173554295200723,
          0.16182048070350114,
          0.161905418454995,
          0.16199035620648888,
          0.16207529395798276,
          0.16216023170947663,
          0.16224516946097053,
          0.1623301072124644,
          0.16241504496395828,
          0.16249998271545216,
          0.16258492046694603,
          0.16266985821843993,
          0.1627547959699338,
          0.16283973372142768,
          0.16292467147292156,
          0.16300960922441543,
          0.1630945469759093,
          0.1631794847274032,
          0.16326442247889708,
          0.16334936023039096,
          0.16343429798188483,
          0.1635192357333787,
          0.1636041734848726,
          0.16368911123636648,
          0.16377404898786035,
          0.16385898673935423,
          0.1639439244908481,
          0.164028862242342,
          0.16411379999383588,
          0.16419873774532975,
          0.16428367549682363,
          0.1643686132483175,
          0.1644535509998114,
          0.16453848875130528,
          0.16462342650279915,
          0.16470836425429303,
          0.1647933020057869,
          0.1648782397572808,
          0.16496317750877468,
          0.16504811526026855,
          0.16513305301176243,
          0.1652179907632563,
          0.1653029285147502,
          0.16538786626624408,
          0.16547280401773795,
          0.16555774176923183,
          0.1656426795207257,
          0.16572761727221957,
          0.16581255502371348,
          0.16589749277520735,
          0.16598243052670122,
          0.1660673682781951,
          0.16615230602968897,
          0.16623724378118288,
          0.16632218153267675,
          0.16640711928417062,
          0.1664920570356645,
          0.16657699478715837,
          0.16666193253865227,
          0.16674687029014615,
          0.16683180804164002,
          0.1669167457931339,
          0.16700168354462777,
          0.16708662129612167,
          0.16717155904761555,
          0.16725649679910942,
          0.1673414345506033,
          0.16742637230209717,
          0.16751131005359104,
          0.16759624780508495,
          0.16768118555657882,
          0.1677661233080727,
          0.16785106105956657,
          0.16793599881106047,
          0.16802093656255435,
          0.16810587431404822,
          0.1681908120655421,
          0.16827574981703597,
          0.16836068756852984,
          0.16844562532002375,
          0.16853056307151762,
          0.1686155008230115,
          0.16870043857450537,
          0.16878537632599924,
          0.16887031407749314,
          0.16895525182898702,
          0.1690401895804809,
          0.16912512733197477,
          0.16921006508346864,
          0.16929500283496254,
          0.16937994058645642,
          0.1694648783379503,
          0.16954981608944417,
          0.16963475384093804,
          0.16971969159243194,
          0.16980462934392582,
          0.1698895670954197,
          0.16997450484691357,
          0.17005944259840744,
          0.17014438034990131,
          0.17022931810139522,
          0.1703142558528891,
          0.17039919360438296,
          0.17048413135587684,
          0.1705690691073707,
          0.17065400685886462,
          0.1707389446103585,
          0.17082388236185236,
          0.17090882011334624,
          0.1709937578648401,
          0.17107869561633401,
          0.1711636333678279,
          0.17124857111932176,
          0.17133350887081564,
          0.1714184466223095,
          0.1715033843738034,
          0.1715883221252973,
          0.17167325987679116,
          0.17175819762828504,
          0.1718431353797789,
          0.17192807313127279,
          0.1720130108827667,
          0.17209794863426056,
          0.17218288638575444,
          0.1722678241372483,
          0.1723527618887422,
          0.1724376996402361,
          0.17252263739172996,
          0.17260757514322383,
          0.1726925128947177,
          0.17277745064621158,
          0.17286238839770549,
          0.17294732614919936,
          0.17303226390069323,
          0.1731172016521871,
          0.17320213940368098,
          0.17328707715517488,
          0.17337201490666876,
          0.17345695265816263,
          0.1735418904096565,
          0.17362682816115038,
          0.17371176591264426,
          0.17379670366413816,
          0.17388164141563203,
          0.1739665791671259,
          0.17405151691861978,
          0.17413645467011368,
          0.17422139242160756,
          0.17430633017310143,
          0.1743912679245953,
          0.17447620567608918,
          0.17456114342758305,
          0.17464608117907696,
          0.17473101893057083,
          0.1748159566820647,
          0.17490089443355858,
          0.17498583218505248,
          0.17507076993654636,
          0.17515570768804023,
          0.1752406454395341,
          0.17532558319102798,
          0.17541052094252185,
          0.17549545869401575,
          0.17558039644550963,
          0.1756653341970035,
          0.17575027194849738,
          0.17583520969999125,
          0.17592014745148515,
          0.17600508520297903,
          0.1760900229544729,
          0.17617496070596678,
          0.17625989845746065,
          0.17634483620895453,
          0.17642977396044843,
          0.1765147117119423,
          0.17659964946343618,
          0.17668458721493005,
          0.17676952496642395,
          0.17685446271791783,
          0.1769394004694117,
          0.17702433822090557,
          0.17710927597239945,
          0.17719421372389332,
          0.17727915147538723,
          0.1773640892268811,
          0.17744902697837497,
          0.17753396472986885,
          0.17761890248136272,
          0.17770384023285662,
          0.1777887779843505,
          0.17787371573584437,
          0.17795865348733825,
          0.17804359123883212,
          0.178128528990326,
          0.1782134667418199,
          0.17829840449331377,
          0.17838334224480765,
          0.17846827999630152,
          0.17855321774779542,
          0.1786381554992893,
          0.17872309325078317,
          0.17880803100227705,
          0.17889296875377092,
          0.1789779065052648,
          0.1790628442567587,
          0.17914778200825257,
          0.17923271975974644,
          0.17931765751124032,
          0.17940259526273422,
          0.1794875330142281,
          0.17957247076572197,
          0.17965740851721584,
          0.17974234626870972,
          0.1798272840202036,
          0.1799122217716975,
          0.17999715952319137,
          0.18008209727468524,
          0.18016703502617912,
          0.180251972777673,
          0.1803369105291669,
          0.18042184828066077,
          0.18050678603215464,
          0.18059172378364852,
          0.1806766615351424,
          0.18076159928663627,
          0.18084653703813017,
          0.18093147478962404,
          0.18101641254111792,
          0.1811013502926118,
          0.1811862880441057,
          0.18127122579559957,
          0.18135616354709344,
          0.18144110129858732,
          0.1815260390500812,
          0.18161097680157506,
          0.18169591455306897,
          0.18178085230456284,
          0.18186579005605671,
          0.1819507278075506,
          0.18203566555904446,
          0.18212060331053836,
          0.18220554106203224,
          0.1822904788135261,
          0.18237541656502,
          0.18246035431651386,
          0.18254529206800774,
          0.18263022981950164,
          0.1827151675709955,
          0.1828001053224894,
          0.18288504307398326,
          0.18296998082547716,
          0.18305491857697104,
          0.1831398563284649,
          0.18322479407995879,
          0.18330973183145266,
          0.18339466958294653,
          0.18347960733444044,
          0.1835645450859343,
          0.18364948283742819,
          0.18373442058892206,
          0.18381935834041596,
          0.18390429609190984,
          0.1839892338434037,
          0.18407417159489758,
          0.18415910934639146,
          0.18424404709788533,
          0.18432898484937923,
          0.1844139226008731,
          0.18449886035236698,
          0.18458379810386086,
          0.18466873585535473,
          0.18475367360684863,
          0.1848386113583425,
          0.18492354910983638,
          0.18500848686133026,
          0.18509342461282413,
          0.185178362364318,
          0.1852633001158119,
          0.18534823786730578,
          0.18543317561879966,
          0.18551811337029353,
          0.18560305112178743,
          0.1856879888732813,
          0.18577292662477518,
          0.18585786437626906,
          0.18594280212776293,
          0.1860277398792568,
          0.1861126776307507,
          0.18619761538224458,
          0.18628255313373845,
          0.18636749088523233,
          0.1864524286367262,
          0.1865373663882201,
          0.18662230413971398,
          0.18670724189120785,
          0.18679217964270173,
          0.1868771173941956,
          0.1869620551456895,
          0.18704699289718338,
          0.18713193064867725,
          0.18721686840017113,
          0.187301806151665,
          0.1873867439031589,
          0.18747168165465278,
          0.18755661940614665,
          0.18764155715764053,
          0.1877264949091344,
          0.18781143266062827,
          0.18789637041212218,
          0.18798130816361605,
          0.18806624591510993,
          0.1881511836666038,
          0.1882361214180977,
          0.18832105916959158,
          0.18840599692108545,
          0.18849093467257932,
          0.1885758724240732,
          0.18866081017556707,
          0.18874574792706098,
          0.18883068567855485,
          0.18891562343004872,
          0.1890005611815426,
          0.18908549893303647,
          0.18917043668453037,
          0.18925537443602425,
          0.18934031218751812,
          0.189425249939012,
          0.18951018769050587,
          0.18959512544199975,
          0.18968006319349365,
          0.18976500094498752,
          0.1898499386964814,
          0.18993487644797527,
          0.19001981419946917,
          0.19010475195096305,
          0.19018968970245692,
          0.1902746274539508,
          0.19035956520544467,
          0.19044450295693854,
          0.19052944070843245,
          0.19061437845992632,
          0.1906993162114202,
          0.19078425396291407,
          0.19086919171440797,
          0.19095412946590185,
          0.19103906721739572,
          0.1911240049688896,
          0.19120894272038347,
          0.19129388047187734,
          0.19137881822337122,
          0.19146375597486512,
          0.191548693726359,
          0.19163363147785287,
          0.19171856922934674,
          0.19180350698084064,
          0.19188844473233452,
          0.1919733824838284,
          0.19205832023532227,
          0.19214325798681614,
          0.19222819573831001,
          0.19231313348980392,
          0.1923980712412978,
          0.19248300899279167,
          0.19256794674428554,
          0.19265288449577944,
          0.19273782224727332,
          0.1928227599987672,
          0.19290769775026106,
          0.19299263550175494,
          0.1930775732532488,
          0.1931625110047427,
          0.1932474487562366,
          0.19333238650773046,
          0.19341732425922434,
          0.19350226201071824,
          0.19358719976221211,
          0.193672137513706,
          0.19375707526519986,
          0.19384201301669374,
          0.1939269507681876,
          0.19401188851968149,
          0.1940968262711754,
          0.19418176402266926,
          0.19426670177416314,
          0.194351639525657,
          0.1944365772771509,
          0.1945215150286448,
          0.19460645278013866,
          0.19469139053163254,
          0.1947763282831264,
          0.19486126603462028,
          0.19494620378611419,
          0.19503114153760806,
          0.19511607928910193,
          0.1952010170405958,
          0.1952859547920897,
          0.19537089254358359,
          0.19545583029507746,
          0.19554076804657133,
          0.1956257057980652,
          0.19571064354955908,
          0.19579558130105296,
          0.19588051905254686,
          0.19596545680404073,
          0.1960503945555346,
          0.19613533230702848,
          0.19622027005852238,
          0.19630520781001626,
          0.19639014556151013,
          0.196475083313004,
          0.19656002106449788,
          0.19664495881599175,
          0.19672989656748566,
          0.19681483431897953,
          0.1968997720704734,
          0.19698470982196728,
          0.19706964757346118,
          0.19715458532495506,
          0.19723952307644893,
          0.1973244608279428,
          0.19740939857943668,
          0.19749433633093055,
          0.19757927408242443,
          0.19766421183391833,
          0.1977491495854122,
          0.19783408733690608,
          0.19791902508839998,
          0.19800396283989385,
          0.19808890059138773,
          0.1981738383428816,
          0.19825877609437548,
          0.19834371384586935,
          0.19842865159736323,
          0.19851358934885713,
          0.198598527100351,
          0.19868346485184488,
          0.19876840260333875,
          0.19885334035483265,
          0.19893827810632653,
          0.1990232158578204,
          0.19910815360931428,
          0.19919309136080815,
          0.19927802911230202,
          0.19936296686379593,
          0.1994479046152898,
          0.19953284236678367,
          0.19961778011827755,
          0.19970271786977145,
          0.19978765562126533,
          0.1998725933727592,
          0.19995753112425307,
          0.20004246887574695,
          0.20012740662724082,
          0.2002123443787347,
          0.2002972821302286,
          0.20038221988172247,
          0.20046715763321635,
          0.20055209538471022,
          0.20063703313620412,
          0.200721970887698,
          0.20080690863919187,
          0.20089184639068575,
          0.20097678414217962,
          0.2010617218936735,
          0.2011466596451674,
          0.20123159739666127,
          0.20131653514815515,
          0.20140147289964902,
          0.20148641065114292,
          0.2015713484026368,
          0.20165628615413067,
          0.20174122390562454,
          0.20182616165711842,
          0.2019110994086123,
          0.20199603716010617,
          0.20208097491160007,
          0.20216591266309394,
          0.20225085041458782,
          0.20233578816608172,
          0.2024207259175756,
          0.20250566366906947,
          0.20259060142056334,
          0.20267553917205722,
          0.2027604769235511,
          0.20284541467504497,
          0.20293035242653887,
          0.20301529017803274,
          0.20310022792952662,
          0.2031851656810205,
          0.2032701034325144,
          0.20335504118400827,
          0.20343997893550214,
          0.20352491668699602,
          0.2036098544384899,
          0.20369479218998376,
          0.20377972994147767,
          0.20386466769297154,
          0.20394960544446541,
          0.2040345431959593,
          0.2041194809474532,
          0.20420441869894707,
          0.20428935645044094,
          0.20437429420193481,
          0.2044592319534287,
          0.20454416970492256,
          0.20462910745641644,
          0.20471404520791034,
          0.2047989829594042,
          0.2048839207108981,
          0.20496885846239196,
          0.20505379621388586,
          0.20513873396537974,
          0.2052236717168736,
          0.2053086094683675,
          0.20539354721986136,
          0.20547848497135524,
          0.20556342272284914,
          0.205648360474343,
          0.20573329822583689,
          0.20581823597733076,
          0.20590317372882466,
          0.20598811148031854,
          0.2060730492318124,
          0.20615798698330629,
          0.20624292473480016,
          0.20632786248629403,
          0.2064128002377879,
          0.2064977379892818,
          0.20658267574077568,
          0.20666761349226956,
          0.20675255124376346,
          0.20683748899525733,
          0.2069224267467512,
          0.20700736449824508,
          0.20709230224973896,
          0.20717724000123283,
          0.2072621777527267,
          0.2073471155042206,
          0.20743205325571448,
          0.20751699100720836,
          0.20760192875870223,
          0.20768686651019613,
          0.20777180426169,
          0.20785674201318388,
          0.20794167976467776,
          0.20802661751617163,
          0.2081115552676655,
          0.2081964930191594,
          0.20828143077065328,
          0.20836636852214716,
          0.20845130627364103,
          0.20853624402513493,
          0.2086211817766288,
          0.20870611952812268,
          0.20879105727961655,
          0.20887599503111043,
          0.2089609327826043,
          0.20904587053409818,
          0.20913080828559208,
          0.20921574603708595,
          0.20930068378857983,
          0.2093856215400737,
          0.2094705592915676,
          0.20955549704306148,
          0.20964043479455535,
          0.20972537254604923,
          0.2098103102975431,
          0.20989524804903698,
          0.20998018580053088,
          0.21006512355202475,
          0.21015006130351863,
          0.2102349990550125,
          0.2103199368065064,
          0.21040487455800028,
          0.21048981230949415,
          0.21057475006098803,
          0.2106596878124819,
          0.21074462556397577,
          0.21082956331546965,
          0.21091450106696355,
          0.21099943881845742,
          0.2110843765699513,
          0.2111693143214452,
          0.21125425207293907,
          0.21133918982443295,
          0.21142412757592682,
          0.2115090653274207,
          0.21159400307891457,
          0.21167894083040845,
          0.21176387858190235,
          0.21184881633339622,
          0.2119337540848901,
          0.21201869183638397,
          0.21210362958787787,
          0.21218856733937175,
          0.21227350509086562,
          0.2123584428423595,
          0.21244338059385337,
          0.21252831834534724,
          0.21261325609684115,
          0.21269819384833502,
          0.2127831315998289,
          0.21286806935132277,
          0.21295300710281667,
          0.21303794485431055,
          0.21312288260580442,
          0.2132078203572983,
          0.21329275810879217,
          0.21337769586028604,
          0.21346263361177992,
          0.21354757136327382,
          0.2136325091147677,
          0.21371744686626157,
          0.21380238461775544,
          0.21388732236924934,
          0.21397226012074322,
          0.2140571978722371,
          0.21414213562373097,
          0.21422707337522484,
          0.21431201112671872,
          0.21439694887821262,
          0.2144818866297065,
          0.21456682438120037,
          0.21465176213269424,
          0.21473669988418814,
          0.21482163763568202,
          0.2149065753871759,
          0.21499151313866977,
          0.21507645089016364,
          0.2151613886416575,
          0.21524632639315142,
          0.2153312641446453,
          0.21541620189613916,
          0.21550113964763304,
          0.21558607739912694,
          0.21567101515062082,
          0.2157559529021147,
          0.21584089065360856,
          0.21592582840510244,
          0.2160107661565963,
          0.2160957039080902,
          0.2161806416595841,
          0.21626557941107796,
          0.21635051716257184,
          0.2164354549140657,
          0.2165203926655596,
          0.2166053304170535,
          0.21669026816854736,
          0.21677520592004124,
          0.2168601436715351,
          0.21694508142302898,
          0.2170300191745229,
          0.21711495692601676,
          0.21719989467751064,
          0.2172848324290045,
          0.2173697701804984,
          0.21745470793199229,
          0.21753964568348616,
          0.21762458343498003,
          0.2177095211864739,
          0.21779445893796778,
          0.21787939668946166,
          0.21796433444095556,
          0.21804927219244943,
          0.2181342099439433,
          0.21821914769543718,
          0.21830408544693108,
          0.21838902319842496,
          0.21847396094991883,
          0.2185588987014127,
          0.21864383645290658,
          0.21872877420440046,
          0.21881371195589436,
          0.21889864970738823,
          0.2189835874588821,
          0.21906852521037598,
          0.21915346296186988,
          0.21923840071336376,
          0.21932333846485763,
          0.2194082762163515,
          0.21949321396784538,
          0.21957815171933925,
          0.21966308947083316,
          0.21974802722232703,
          0.2198329649738209,
          0.21991790272531478,
          0.22000284047680868,
          0.22008777822830256,
          0.22017271597979643,
          0.2202576537312903,
          0.22034259148278418,
          0.22042752923427805,
          0.22051246698577193,
          0.2205974047372658,
          0.2206823424887597,
          0.22076728024025358,
          0.22085221799174748,
          0.22093715574324135,
          0.22102209349473523,
          0.2211070312462291,
          0.22119196899772298,
          0.22127690674921685,
          0.22136184450071072,
          0.2214467822522046,
          0.2215317200036985,
          0.22161665775519238,
          0.22170159550668625,
          0.22178653325818015,
          0.22187147100967403,
          0.2219564087611679,
          0.22204134651266177,
          0.22212628426415565,
          0.22221122201564952,
          0.2222961597671434,
          0.2223810975186373,
          0.22246603527013117,
          0.22255097302162505,
          0.22263591077311895,
          0.22272084852461282,
          0.2228057862761067,
          0.22289072402760057,
          0.22297566177909445,
          0.22306059953058832,
          0.2231455372820822,
          0.22323047503357607,
          0.22331541278506997,
          0.22340035053656385,
          0.22348528828805775,
          0.22357022603955162,
          0.2236551637910455,
          0.22374010154253937,
          0.22382503929403325,
          0.22390997704552712,
          0.223994914797021,
          0.22407985254851487,
          0.22416479030000877,
          0.22424972805150264,
          0.22433466580299652,
          0.22441960355449042,
          0.2245045413059843,
          0.22458947905747817,
          0.22467441680897204,
          0.22475935456046592,
          0.2248442923119598,
          0.22492923006345367,
          0.22501416781494757,
          0.22509910556644144,
          0.22518404331793532,
          0.22526898106942922,
          0.2253539188209231,
          0.22543885657241697,
          0.22552379432391084,
          0.22560873207540472,
          0.2256936698268986,
          0.22577860757839247,
          0.22586354532988634,
          0.22594848308138024,
          0.22603342083287412,
          0.22611835858436802,
          0.2262032963358619,
          0.22628823408735577,
          0.22637317183884964,
          0.22645810959034351,
          0.2265430473418374,
          0.22662798509333126,
          0.22671292284482514,
          0.22679786059631904,
          0.22688279834781291,
          0.2269677360993068,
          0.2270526738508007,
          0.22713761160229456,
          0.22722254935378844,
          0.2273074871052823,
          0.2273924248567762,
          0.22747736260827006,
          0.22756230035976394,
          0.2276472381112578,
          0.2277321758627517,
          0.2278171136142456,
          0.2279020513657395,
          0.22798698911723336,
          0.22807192686872724,
          0.2281568646202211,
          0.22824180237171499,
          0.22832674012320886,
          0.22841167787470273,
          0.2284966156261966,
          0.2285815533776905,
          0.22866649112918438,
          0.22875142888067826,
          0.22883636663217216,
          0.22892130438366604,
          0.2290062421351599,
          0.22909117988665378,
          0.22917611763814766,
          0.22926105538964153,
          0.2293459931411354,
          0.2294309308926293,
          0.22951586864412318,
          0.22960080639561706,
          0.22968574414711096,
          0.22977068189860483,
          0.2298556196500987,
          0.22994055740159258,
          0.23002549515308646,
          0.23011043290458033,
          0.2301953706560742,
          0.23028030840756808,
          0.23036524615906198,
          0.23045018391055586,
          0.23053512166204976,
          0.23062005941354363,
          0.2307049971650375,
          0.23078993491653138,
          0.23087487266802525,
          0.23095981041951913,
          0.231044748171013,
          0.23112968592250688,
          0.23121462367400078,
          0.23129956142549465,
          0.23138449917698853,
          0.23146943692848243,
          0.2315543746799763,
          0.23163931243147018,
          0.23172425018296405,
          0.23180918793445793,
          0.2318941256859518,
          0.23197906343744568,
          0.23206400118893955,
          0.23214893894043345,
          0.23223387669192733,
          0.23231881444342123,
          0.2324037521949151,
          0.23248868994640898,
          0.23257362769790285,
          0.23265856544939673,
          0.2327435032008906,
          0.23282844095238447,
          0.23291337870387835,
          0.23299831645537225,
          0.23308325420686613,
          0.23316819195836,
          0.2332531297098539,
          0.23333806746134778,
          0.23342300521284165,
          0.23350794296433552,
          0.2335928807158294,
          0.23367781846732327,
          0.23376275621881715,
          0.23384769397031105,
          0.23393263172180492,
          0.2340175694732988,
          0.2341025072247927,
          0.23418744497628657,
          0.23427238272778045,
          0.23435732047927432,
          0.2344422582307682,
          0.23452719598226207,
          0.23461213373375595,
          0.23469707148524982,
          0.23478200923674372,
          0.2348669469882376,
          0.2349518847397315,
          0.23503682249122537,
          0.23512176024271925,
          0.23520669799421312,
          0.235291635745707,
          0.23537657349720087,
          0.23546151124869474,
          0.23554644900018862,
          0.23563138675168252,
          0.2357163245031764,
          0.23580126225467027,
          0.23588620000616417,
          0.23597113775765804,
          0.23605607550915192,
          0.2361410132606458,
          0.23622595101213967,
          0.23631088876363354,
          0.23639582651512742,
          0.2364807642666213,
          0.2365657020181152,
          0.23665063976960907,
          0.23673557752110297,
          0.23682051527259684,
          0.23690545302409072,
          0.2369903907755846,
          0.23707532852707847,
          0.23716026627857234,
          0.23724520403006621,
          0.2373301417815601,
          0.237415079533054,
          0.23750001728454787,
          0.23758495503604174,
          0.23766989278753564,
          0.23775483053902952,
          0.2378397682905234,
          0.23792470604201726,
          0.23800964379351114,
          0.238094581545005,
          0.2381795192964989,
          0.2382644570479928,
          0.23834939479948666,
          0.23843433255098054,
          0.23851927030247444,
          0.23860420805396831,
          0.2386891458054622,
          0.23877408355695606,
          0.23885902130844994,
          0.2389439590599438,
          0.23902889681143769,
          0.23911383456293156,
          0.23919877231442546,
          0.23928371006591934,
          0.23936864781741324,
          0.2394535855689071,
          0.239538523320401,
          0.23962346107189486,
          0.23970839882338874,
          0.2397933365748826,
          0.23987827432637648,
          0.23996321207787036,
          0.24004814982936426,
          0.24013308758085813,
          0.240218025332352,
          0.2403029630838459,
          0.24038790083533979,
          0.24047283858683366,
          0.24055777633832753,
          0.2406427140898214,
          0.24072765184131528,
          0.24081258959280916,
          0.24089752734430303,
          0.24098246509579693,
          0.2410674028472908,
          0.2411523405987847,
          0.24123727835027858,
          0.24132221610177246,
          0.24140715385326633,
          0.2414920916047602,
          0.24157702935625408,
          0.24166196710774795,
          0.24174690485924183,
          0.24183184261073573,
          0.2419167803622296,
          0.24200171811372348,
          0.24208665586521738,
          0.24217159361671126,
          0.24225653136820513,
          0.242341469119699,
          0.24242640687119288
         ],
         "y": [
          0.31337900652721884,
          0.319070896269049,
          0.32485444916917594,
          0.3307309057113385,
          0.33670151869735127,
          0.3427675532875539,
          0.3489302870397183,
          0.35519100994641495,
          0.36155102447078574,
          0.36801164558068383,
          0.3745742007811667,
          0.3812400301452694,
          0.38801048634305313,
          0.39488693466887487,
          0.40187075306684567,
          0.40896333215443204,
          0.41616607524418636,
          0.42348039836353424,
          0.4309077302726044,
          0.4384495124800585,
          0.44610719925686615,
          0.4538822576480249,
          0.4617761674821338,
          0.46979042137882543,
          0.47792652475399683,
          0.48618599582279004,
          0.4945703656003258,
          0.5030811779000915,
          0.5117199893299883,
          0.5204883692859829,
          0.529387899943309,
          0.538420176245222,
          0.5475868058892106,
          0.5568894093106687,
          0.5663296196639678,
          0.5759090828008858,
          0.5856294572463839,
          0.5954924141716421,
          0.6054996373643532,
          0.6156528231962219,
          0.6259536805876111,
          0.6364039309693474,
          0.6470053082415753,
          0.6577595587296772,
          0.6686684411371919,
          0.6797337264957035,
          0.690957198111637,
          0.7023406515099826,
          0.7138858943748213,
          0.7255947464866855,
          0.7374690396566868,
          0.7495106176573522,
          0.7617213361501973,
          0.77410306260991,
          0.7866576762451696,
          0.7993870679160476,
          0.8122931400479246,
          0.8253778065419534,
          0.8386429926819454,
          0.8520906350377098,
          0.8657226813647818,
          0.8795410905004902,
          0.8935478322563856,
          0.9077448873069124,
          0.922134247074355,
          0.9367179136099906,
          0.9514978994714347,
          0.9664762275961069,
          0.9816549311708598,
          0.9970360534976409,
          1.0126216478552332,
          1.0284137773570061,
          1.0444145148046307,
          1.0606259425378033,
          1.0770501522798435,
          1.0936892449792042,
          1.1105453306468602,
          1.127620528189499,
          1.1449169652385804,
          1.1624367779751221,
          1.1801821109502668,
          1.1981551169015845,
          1.2163579565650446,
          1.2347927984827283,
          1.2534618188061406,
          1.2723672010951839,
          1.2915111361127398,
          1.310895821614813,
          1.3305234621363027,
          1.3503962687722602,
          1.3705164589547107,
          1.3908862562249826,
          1.4115078900014972,
          1.4323835953431048,
          1.4535156127078137,
          1.4749061877069978,
          1.4965575708550354,
          1.5184720173143706,
          1.5406517866359468,
          1.5630991424951177,
          1.585816352422863,
          1.6088056875324237,
          1.6320694222413203,
          1.6556098339886696,
          1.6794292029479674,
          1.7035298117351332,
          1.727913945111943,
          1.7525838896848205,
          1.77754193359893,
          1.8027903662276965,
          1.8283314778575985,
          1.8541675593683489,
          1.8803009019084376,
          1.906733796565984,
          1.9334685340350453,
          1.9605074042772173,
          1.9878526961786482,
          2.0155066972024533,
          2.0434716930365258,
          2.071749967236735,
          2.1003438008656308,
          2.12925547212651,
          2.158487255993005,
          2.188041423834087,
          2.2179202430346727,
          2.2481259766116497,
          2.2786608828254997,
          2.309527214787477,
          2.3407272200623828,
          2.372263140266921,
          2.404137210663793,
          2.436351659751368,
          2.4689087088491197,
          2.5018105716787935,
          2.5350594539413094,
          2.568657552889566,
          2.602607056896994,
          2.6369101450220556,
          2.6715689865686585,
          2.7065857406424967,
          2.741962555703501,
          2.777701569114248,
          2.8138049066845214,
          2.8502746822120346,
          2.887112997019281,
          2.924321939486777,
          2.9619035845824797,
          2.9998599933876373,
          3.038193212619022,
          3.0769052741476832,
          3.115998194514151,
          3.1554739744403766,
          3.1953345983381967,
          3.235582033814593,
          3.2762182311737367,
          3.3172451229158404,
          3.358664623233049,
          3.4004786275022116,
          3.4426890117747977,
          3.4852976322639493,
          3.5283063248286917,
          3.5717169044555845,
          3.615531164737617,
          3.6597508773506324,
          3.704377791527294,
          3.749413633528619,
          3.794860106113357,
          3.8407188880050445,
          3.8869916333570003,
          3.933679971215318,
          3.9807855049799343,
          4.02830981186378,
          4.076254442350371,
          4.124620919649598,
          4.173410739152076,
          4.222625367881946,
          4.2722662439485255,
          4.322334775996547,
          4.372832342655356,
          4.423760291987084,
          4.4751199409339035,
          4.5269125747644114,
          4.579139446519496,
          4.631801776457443,
          4.684900751498661,
          4.738437524670081,
          4.792413214549201,
          4.846828904708231,
          4.901685643158029,
          4.956984441792288,
          5.012726275831929,
          5.068912083269903,
          5.12554276431639,
          5.182619180844802,
          5.240142155838376,
          5.298112472837727,
          5.356530875389333,
          5.415398066495322,
          5.474714708064363,
          5.534481420364063,
          5.594698781474859,
          5.655367326745656,
          5.716487548251133,
          5.7780598942512285,
          5.840084768652523,
          5.902562530471954,
          5.965493493302795,
          6.028877924783349,
          6.092716046068098,
          6.157008031301748,
          6.221754007096204,
          6.286954052010659,
          6.352608196034794,
          6.418716420075605,
          6.485278655447506,
          6.552294783366247,
          6.619764634446643,
          6.687687988204164,
          6.756064572560882,
          6.824894063355451,
          6.894176083857649,
          6.963910204287437,
          7.034095941338799,
          7.104732757708317,
          7.175820061629041,
          7.247357206409259,
          7.3193434899767835,
          7.39177815442857,
          7.4646603855862,
          7.537989312556928,
          7.611764007300788,
          7.685983484203777,
          7.760646699657308,
          7.8357525516439495,
          7.911299879329948,
          7.987287462664235,
          8.063714021984403,
          8.140578217629688,
          8.217878649561005,
          8.295613856988535,
          8.373782318006521,
          8.452382449235825,
          8.531412605474209,
          8.610871079354549,
          8.690756101010997,
          8.7710658377536,
          8.851798393751036,
          8.932951809721981,
          9.014524062634985,
          9.096513065417419,
          9.178916666673057,
          9.26173265040892,
          9.344958735771282,
          9.42859257679107,
          9.512631762138659,
          9.597073814888539,
          9.68191619229354,
          9.76715628556909,
          9.852791419687389,
          9.938818853182038,
          10.0252357779627,
          10.112039319140361,
          10.19922653486312,
          10.286794416162737,
          10.374739886811852,
          10.46305980319245,
          10.551750954175116,
          10.640810061009635,
          10.730233777226912,
          10.820018688552175,
          10.910161312830022,
          11.000658099960841,
          11.091505431849159,
          11.182699622363828,
          11.274236917310251,
          11.36611349441455,
          11.458325463320227,
          11.550868865596826,
          11.643739674761184,
          11.736933796311,
          11.830447067771255,
          11.92427525875307,
          12.01841407102543,
          12.11285913859976,
          12.207606027827469,
          12.30265023751034,
          12.397987199024355,
          12.493612276456355,
          12.589520766754125,
          12.685707899889758,
          12.782168839036299,
          12.878898680758097,
          12.975892455214392,
          13.073145126376597,
          13.170651592259183,
          13.268406685164289,
          13.36640517193985,
          13.464641754251868,
          13.563111068870134,
          13.661807687968029,
          13.76072611943599,
          13.859860807209259,
          13.959206131609227,
          14.058756409698946,
          14.158505895652604,
          14.25844878113904,
          14.358579195719189,
          14.458891207257825,
          14.559378822349133,
          14.660035986756478,
          14.76085658586608,
          14.861834445155088,
          14.962963330673396,
          15.064236949539676,
          15.165648950451427,
          15.267192924209104,
          15.368862404254068,
          15.4706508672209,
          15.572551733503312,
          15.674558367834173,
          15.776664079879467,
          15.878862124845883,
          15.981145704102635,
          16.08350796581667,
          16.185942005601824,
          16.288440867181578,
          16.39099754306548,
          16.493604975239002,
          16.596256055867155,
          16.698943628011268,
          16.801660486359285,
          16.904399377969174,
          17.007153003025824,
          17.109914015610823,
          17.21267502448529,
          17.315428593885773,
          17.418167244332935,
          17.52088345345284,
          17.623569656811227,
          17.726218248759995,
          17.8288215832963,
          17.931371974933928,
          18.033861699586733,
          18.13628299546451,
          18.238628063980418,
          18.340889070670496,
          18.44305814612477,
          18.545127386929828,
          18.647088856623103,
          18.74893458665813,
          18.85065657738106,
          18.952246799018173,
          19.053697192674058,
          19.154999671340768,
          19.25614612091715,
          19.357128401238686,
          19.457938347117462,
          19.55856776939219,
          19.659008455987852,
          19.75925217298533,
          19.859290665700197,
          19.959115659770937,
          20.05871886225608,
          20.158091962740553,
          20.257226634450397,
          20.356114535376175,
          20.454747309404606,
          20.553116587458362,
          20.65121398864355,
          20.749031121405267,
          20.846559584690198,
          20.943790969116673,
          21.04071685815179,
          21.13732882929509,
          21.233618455269198,
          21.329577305216475,
          21.42519694590196,
          21.52046894292214,
          21.615384861919427,
          21.70993626980192,
          21.804114735968568,
          21.897911833539048,
          21.991319140588438,
          22.08432824138621,
          22.176930727639657,
          22.269118199740994,
          22.360882268018262,
          22.45221455398966,
          22.543106691621045,
          22.63355032858622,
          22.723537127530154,
          22.813058767334272,
          22.902106944384087,
          22.99067337383845,
          23.078749790900744,
          23.16632795209105,
          23.25339963651952,
          23.339956647160502,
          23.425990812127168,
          23.511493985946363,
          23.596458050833302,
          23.680874917966207,
          23.764736528760046,
          23.848034856139577,
          23.930761905811057,
          24.012909717532764,
          24.094470366383568,
          24.175435964029578,
          24.255798659988535,
          24.33555064289162,
          24.414684141742292,
          24.49319142717228,
          24.571064812693873,
          24.648296655948688,
          24.72487935995227,
          24.800805374334743,
          24.876067196576628,
          24.950657373239945,
          25.024568501194214,
          25.09779322883707,
          25.170324257309193,
          25.242154341703234,
          25.313276292266657,
          25.383682975597964,
          25.45336731583607,
          25.522322295842812,
          25.590540958377968,
          25.658016407266686,
          25.72474180855907,
          25.790710391681557,
          25.855915450579932,
          25.9203503448535,
          25.984008500880527,
          26.04688341293421,
          26.108968644289316,
          26.17025782831887,
          26.230744669581096,
          26.290422944895813,
          26.34928650441043,
          26.40732927265512,
          26.464545249586912,
          26.52092851162249,
          26.57647321265954,
          26.631173585086135,
          26.68502394077825,
          26.738018672084806,
          26.79015225280043,
          26.84141923912527,
          26.89181427061188,
          26.941332071098937,
          26.989967449631422,
          27.037715301367236,
          27.084570608469782,
          27.130528440986605,
          27.175583957713595,
          27.219732407044667,
          27.26296912780668,
          27.305289550079507,
          27.346689196000813,
          27.387163680555556,
          27.426708712349935,
          27.4653200943696,
          27.502993724721886,
          27.53972559736204,
          27.57551180280306,
          27.610348528809148,
          27.644232061072376,
          27.67715878387282,
          27.70912518072141,
          27.740127834985902,
          27.770163430499384,
          27.79922875215148,
          27.82732068646187,
          27.854436222136123,
          27.880572450603694,
          27.905726566537865,
          27.929895868357537,
          27.95307775871088,
          27.97526974494045,
          27.996469439529946,
          28.016674560532238,
          28.0358829319788,
          28.05409248427024,
          28.071301254547905,
          28.087507387046585,
          28.102709133427982,
          28.11690485309511,
          28.130093013487322,
          28.142272190356117,
          28.153441068021483,
          28.16359843960874,
          28.172743207265917,
          28.18087438236153,
          28.187991085662663,
          28.194092547493472,
          28.199178107873898,
          28.203247216638637,
          28.206299433536355,
          28.20833442830905,
          28.209351980751634,
          28.209351980751634,
          28.20833442830905,
          28.206299433536355,
          28.203247216638637,
          28.199178107873898,
          28.194092547493472,
          28.187991085662663,
          28.18087438236153,
          28.172743207265917,
          28.16359843960874,
          28.153441068021483,
          28.142272190356117,
          28.130093013487322,
          28.116904853095107,
          28.102709133427982,
          28.087507387046585,
          28.071301254547905,
          28.05409248427023,
          28.0358829319788,
          28.016674560532238,
          27.996469439529946,
          27.97526974494045,
          27.95307775871088,
          27.929895868357537,
          27.905726566537854,
          27.880572450603694,
          27.854436222136123,
          27.827320686461857,
          27.79922875215148,
          27.770163430499384,
          27.740127834985902,
          27.70912518072141,
          27.67715878387282,
          27.644232061072376,
          27.61034852880913,
          27.57551180280306,
          27.53972559736204,
          27.502993724721886,
          27.465320094369588,
          27.426708712349935,
          27.387163680555556,
          27.346689196000813,
          27.305289550079507,
          27.26296912780668,
          27.219732407044653,
          27.175583957713595,
          27.130528440986605,
          27.084570608469782,
          27.03771530136722,
          26.989967449631422,
          26.941332071098937,
          26.89181427061188,
          26.84141923912527,
          26.79015225280043,
          26.738018672084806,
          26.68502394077823,
          26.631173585086135,
          26.57647321265954,
          26.52092851162249,
          26.464545249586898,
          26.40732927265512,
          26.34928650441043,
          26.290422944895813,
          26.230744669581096,
          26.17025782831887,
          26.1089686442893,
          26.04688341293421,
          25.984008500880527,
          25.9203503448535,
          25.85591545057991,
          25.790710391681557,
          25.72474180855907,
          25.658016407266686,
          25.590540958377968,
          25.522322295842812,
          25.45336731583607,
          25.383682975597946,
          25.313276292266657,
          25.242154341703234,
          25.170324257309176,
          25.09779322883707,
          25.024568501194214,
          24.950657373239945,
          24.876067196576628,
          24.800805374334743,
          24.72487935995227,
          24.64829665594866,
          24.571064812693873,
          24.49319142717228,
          24.414684141742292,
          24.335550642891594,
          24.255798659988535,
          24.175435964029578,
          24.094470366383568,
          24.012909717532764,
          23.930761905811057,
          23.84803485613955,
          23.764736528760046,
          23.680874917966207,
          23.596458050833302,
          23.511493985946334,
          23.425990812127168,
          23.339956647160502,
          23.25339963651952,
          23.16632795209105,
          23.078749790900744,
          22.99067337383845,
          22.90210694438406,
          22.813058767334272,
          22.723537127530154,
          22.63355032858622,
          22.543106691621016,
          22.45221455398966,
          22.360882268018262,
          22.269118199740994,
          22.176930727639657,
          22.08432824138621,
          21.991319140588406,
          21.897911833539048,
          21.804114735968568,
          21.70993626980192,
          21.615384861919395,
          21.52046894292214,
          21.42519694590196,
          21.329577305216475,
          21.233618455269198,
          21.13732882929509,
          21.04071685815179,
          20.943790969116673,
          20.846559584690198,
          20.749031121405267,
          20.65121398864352,
          20.553116587458327,
          20.454747309404606,
          20.356114535376175,
          20.257226634450397,
          20.158091962740553,
          20.05871886225608,
          19.959115659770905,
          19.859290665700197,
          19.75925217298533,
          19.659008455987852,
          19.55856776939216,
          19.457938347117462,
          19.357128401238686,
          19.25614612091715,
          19.154999671340768,
          19.053697192674058,
          18.952246799018138,
          18.85065657738106,
          18.74893458665813,
          18.647088856623103,
          18.545127386929796,
          18.44305814612474,
          18.340889070670496,
          18.238628063980418,
          18.13628299546451,
          18.033861699586733,
          17.931371974933928,
          17.8288215832963,
          17.726218248759995,
          17.623569656811227,
          17.52088345345284,
          17.418167244332903,
          17.315428593885773,
          17.21267502448529,
          17.109914015610823,
          17.007153003025824,
          16.904399377969174,
          16.80166048635925,
          16.698943628011268,
          16.596256055867155,
          16.493604975239002,
          16.39099754306545,
          16.288440867181578,
          16.185942005601824,
          16.08350796581667,
          15.981145704102635,
          15.878862124845883,
          15.776664079879433,
          15.674558367834173,
          15.572551733503312,
          15.4706508672209,
          15.368862404254035,
          15.26719292420907,
          15.165648950451427,
          15.064236949539676,
          14.962963330673396,
          14.861834445155088,
          14.76085658586608,
          14.660035986756446,
          14.559378822349133,
          14.458891207257825,
          14.358579195719189,
          14.258448781139013,
          14.158505895652604,
          14.058756409698946,
          13.959206131609227,
          13.859860807209259,
          13.76072611943599,
          13.661807687967997,
          13.563111068870134,
          13.464641754251868,
          13.36640517193985,
          13.268406685164258,
          13.170651592259183,
          13.073145126376597,
          12.975892455214392,
          12.878898680758097,
          12.782168839036299,
          12.685707899889758,
          12.589520766754125,
          12.493612276456355,
          12.397987199024355,
          12.30265023751034,
          12.207606027827435,
          12.11285913859976,
          12.01841407102543,
          11.92427525875307,
          11.830447067771255,
          11.736933796311,
          11.643739674761154,
          11.550868865596826,
          11.458325463320227,
          11.36611349441455,
          11.27423691731022,
          11.182699622363828,
          11.091505431849159,
          11.000658099960841,
          10.910161312830022,
          10.820018688552175,
          10.730233777226886,
          10.640810061009635,
          10.551750954175116,
          10.46305980319245,
          10.374739886811824,
          10.286794416162708,
          10.19922653486312,
          10.112039319140361,
          10.0252357779627,
          9.938818853182038,
          9.852791419687389,
          9.76715628556909,
          9.68191619229354,
          9.597073814888539,
          9.512631762138628,
          9.428592576791045,
          9.344958735771282,
          9.26173265040892,
          9.178916666673057,
          9.096513065417419,
          9.014524062634985,
          8.932951809721981,
          8.851798393751036,
          8.7710658377536,
          8.690756101010997,
          8.61087107935452,
          8.531412605474209,
          8.452382449235825,
          8.373782318006521,
          8.295613856988535,
          8.217878649561005,
          8.140578217629688,
          8.063714021984403,
          7.987287462664235,
          7.911299879329948,
          7.835752551643925,
          7.760646699657286,
          7.685983484203777,
          7.611764007300788,
          7.537989312556928,
          7.4646603855862,
          7.39177815442857,
          7.3193434899767835,
          7.247357206409259,
          7.175820061629041,
          7.104732757708296,
          7.034095941338775,
          6.963910204287437,
          6.894176083857649,
          6.824894063355451,
          6.756064572560882,
          6.687687988204164,
          6.619764634446643,
          6.552294783366247,
          6.485278655447506,
          6.418716420075605,
          6.352608196034773,
          6.286954052010636,
          6.221754007096204,
          6.157008031301748,
          6.092716046068098,
          6.028877924783349,
          5.965493493302795,
          5.9025625304719345,
          5.840084768652523,
          5.7780598942512285,
          5.716487548251112,
          5.655367326745637,
          5.594698781474859,
          5.534481420364063,
          5.474714708064363,
          5.415398066495322,
          5.356530875389333,
          5.298112472837727,
          5.240142155838376,
          5.182619180844802,
          5.125542764316371,
          5.068912083269884,
          5.012726275831929,
          4.956984441792288,
          4.901685643158029,
          4.846828904708231,
          4.792413214549201,
          4.738437524670081,
          4.684900751498661,
          4.631801776457443,
          4.579139446519496,
          4.526912574764395,
          4.475119940933887,
          4.423760291987084,
          4.372832342655356,
          4.322334775996547,
          4.2722662439485255,
          4.222625367881946,
          4.173410739152076,
          4.124620919649598,
          4.076254442350371,
          4.028309811863764,
          3.980785504979919,
          3.933679971215318,
          3.8869916333570003,
          3.8407188880050445,
          3.794860106113357,
          3.749413633528619,
          3.704377791527294,
          3.6597508773506324,
          3.615531164737617,
          3.5717169044555845,
          3.528306324828679,
          3.4852976322639364,
          3.4426890117747977,
          3.4004786275022116,
          3.358664623233049,
          3.3172451229158404,
          3.2762182311737367,
          3.235582033814593,
          3.1953345983381967,
          3.1554739744403766,
          3.115998194514137,
          3.0769052741476695,
          3.038193212619022,
          2.9998599933876373,
          2.9619035845824797,
          2.924321939486777,
          2.887112997019281,
          2.8502746822120346,
          2.8138049066845214,
          2.777701569114248,
          2.7419625557034903,
          2.7065857406424856,
          2.6715689865686474,
          2.6369101450220556,
          2.602607056896994,
          2.568657552889566,
          2.5350594539413094,
          2.5018105716787935,
          2.4689087088491197,
          2.436351659751368,
          2.404137210663793,
          2.37226314026691,
          2.3407272200623734,
          2.309527214787477,
          2.2786608828254997,
          2.2481259766116497,
          2.2179202430346727,
          2.188041423834087,
          2.158487255993005,
          2.12925547212651,
          2.1003438008656308,
          2.071749967236727,
          2.0434716930365178,
          2.0155066972024533,
          1.9878526961786482,
          1.9605074042772173,
          1.9334685340350453,
          1.906733796565984,
          1.8803009019084376,
          1.8541675593683489,
          1.8283314778575985,
          1.8027903662276965,
          1.7775419335989229,
          1.7525838896848125,
          1.727913945111943,
          1.7035298117351332,
          1.6794292029479674,
          1.6556098339886696,
          1.6320694222413203,
          1.6088056875324237,
          1.585816352422863,
          1.5630991424951177,
          1.5406517866359388,
          1.5184720173143627,
          1.4965575708550354,
          1.4749061877069978,
          1.4535156127078137,
          1.4323835953431048,
          1.4115078900014972,
          1.3908862562249826,
          1.3705164589547107,
          1.3503962687722602,
          1.3305234621362967,
          1.3108958216148077,
          1.291511136112734,
          1.2723672010951839,
          1.2534618188061406,
          1.2347927984827283,
          1.2163579565650446,
          1.1981551169015845,
          1.1801821109502668,
          1.1624367779751221,
          1.1449169652385804,
          1.1276205281894927,
          1.110545330646854,
          1.0936892449792042,
          1.0770501522798435,
          1.0606259425378033,
          1.0444145148046307,
          1.0284137773570061,
          1.012621647855239,
          0.9970360534976409,
          0.9816549311708598,
          0.9664762275961025,
          0.9514978994714303,
          0.9367179136099906,
          0.922134247074355,
          0.9077448873069124,
          0.8935478322563856,
          0.8795410905004902,
          0.8657226813647818,
          0.8520906350377098,
          0.8386429926819454,
          0.8253778065419534,
          0.8122931400479199,
          0.7993870679160437,
          0.7866576762451696,
          0.77410306260991,
          0.7617213361501973,
          0.7495106176573522,
          0.7374690396566868,
          0.7255947464866855,
          0.7138858943748213,
          0.7023406515099826,
          0.6909571981116338,
          0.6797337264956996,
          0.6686684411371919,
          0.6577595587296772,
          0.6470053082415753,
          0.6364039309693474,
          0.6259536805876111,
          0.6156528231962219,
          0.6054996373643532,
          0.5954924141716421,
          0.5856294572463809,
          0.575909082800883,
          0.5663296196639651,
          0.5568894093106687,
          0.5475868058892106,
          0.538420176245222,
          0.529387899943309,
          0.5204883692859829,
          0.5117199893299883,
          0.5030811779000915,
          0.4945703656003258,
          0.486185995822787,
          0.47792652475399394,
          0.46979042137882543,
          0.4617761674821338,
          0.4538822576480249,
          0.44610719925686615,
          0.4384495124800585,
          0.4309077302726067,
          0.42348039836353424,
          0.41616607524418636,
          0.40896333215442987,
          0.40187075306684383,
          0.39488693466887487,
          0.38801048634305313,
          0.3812400301452694,
          0.3745742007811667,
          0.36801164558068383,
          0.36155102447078574,
          0.35519100994641495,
          0.3489302870397183,
          0.3427675532875539,
          0.33670151869734893,
          0.3307309057113361,
          0.32485444916917594,
          0.319070896269049,
          0.31337900652721884
         ]
        }
       ],
       "layout": {
        "legend": {
         "x": 0.7,
         "y": 0.9
        },
        "shapes": [
         {
          "line": {
           "color": "green",
           "dash": "dash",
           "width": 3
          },
          "type": "line",
          "x0": 0.2,
          "x1": 0.2,
          "xref": "x",
          "y0": 0,
          "y1": 1,
          "yref": "y domain"
         },
         {
          "line": {
           "color": "red",
           "dash": "dash",
           "width": 3
          },
          "type": "line",
          "x0": 0.21414213562373097,
          "x1": 0.21414213562373097,
          "xref": "x",
          "y0": 0,
          "y1": 1,
          "yref": "y domain"
         },
         {
          "line": {
           "color": "red",
           "dash": "dash",
           "width": 3
          },
          "type": "line",
          "x0": 0.18585786437626906,
          "x1": 0.18585786437626906,
          "xref": "x",
          "y0": 0,
          "y1": 1,
          "yref": "y domain"
         }
        ],
        "template": {
         "data": {
          "bar": [
           {
            "error_x": {
             "color": "rgb(36,36,36)"
            },
            "error_y": {
             "color": "rgb(36,36,36)"
            },
            "marker": {
             "line": {
              "color": "white",
              "width": 0.5
             },
             "pattern": {
              "fillmode": "overlay",
              "size": 10,
              "solidity": 0.2
             }
            },
            "type": "bar"
           }
          ],
          "barpolar": [
           {
            "marker": {
             "line": {
              "color": "white",
              "width": 0.5
             },
             "pattern": {
              "fillmode": "overlay",
              "size": 10,
              "solidity": 0.2
             }
            },
            "type": "barpolar"
           }
          ],
          "carpet": [
           {
            "aaxis": {
             "endlinecolor": "rgb(36,36,36)",
             "gridcolor": "white",
             "linecolor": "white",
             "minorgridcolor": "white",
             "startlinecolor": "rgb(36,36,36)"
            },
            "baxis": {
             "endlinecolor": "rgb(36,36,36)",
             "gridcolor": "white",
             "linecolor": "white",
             "minorgridcolor": "white",
             "startlinecolor": "rgb(36,36,36)"
            },
            "type": "carpet"
           }
          ],
          "choropleth": [
           {
            "colorbar": {
             "outlinewidth": 1,
             "tickcolor": "rgb(36,36,36)",
             "ticks": "outside"
            },
            "type": "choropleth"
           }
          ],
          "contour": [
           {
            "colorbar": {
             "outlinewidth": 1,
             "tickcolor": "rgb(36,36,36)",
             "ticks": "outside"
            },
            "colorscale": [
             [
              0,
              "#440154"
             ],
             [
              0.1111111111111111,
              "#482878"
             ],
             [
              0.2222222222222222,
              "#3e4989"
             ],
             [
              0.3333333333333333,
              "#31688e"
             ],
             [
              0.4444444444444444,
              "#26828e"
             ],
             [
              0.5555555555555556,
              "#1f9e89"
             ],
             [
              0.6666666666666666,
              "#35b779"
             ],
             [
              0.7777777777777778,
              "#6ece58"
             ],
             [
              0.8888888888888888,
              "#b5de2b"
             ],
             [
              1,
              "#fde725"
             ]
            ],
            "type": "contour"
           }
          ],
          "contourcarpet": [
           {
            "colorbar": {
             "outlinewidth": 1,
             "tickcolor": "rgb(36,36,36)",
             "ticks": "outside"
            },
            "type": "contourcarpet"
           }
          ],
          "heatmap": [
           {
            "colorbar": {
             "outlinewidth": 1,
             "tickcolor": "rgb(36,36,36)",
             "ticks": "outside"
            },
            "colorscale": [
             [
              0,
              "#440154"
             ],
             [
              0.1111111111111111,
              "#482878"
             ],
             [
              0.2222222222222222,
              "#3e4989"
             ],
             [
              0.3333333333333333,
              "#31688e"
             ],
             [
              0.4444444444444444,
              "#26828e"
             ],
             [
              0.5555555555555556,
              "#1f9e89"
             ],
             [
              0.6666666666666666,
              "#35b779"
             ],
             [
              0.7777777777777778,
              "#6ece58"
             ],
             [
              0.8888888888888888,
              "#b5de2b"
             ],
             [
              1,
              "#fde725"
             ]
            ],
            "type": "heatmap"
           }
          ],
          "heatmapgl": [
           {
            "colorbar": {
             "outlinewidth": 1,
             "tickcolor": "rgb(36,36,36)",
             "ticks": "outside"
            },
            "colorscale": [
             [
              0,
              "#440154"
             ],
             [
              0.1111111111111111,
              "#482878"
             ],
             [
              0.2222222222222222,
              "#3e4989"
             ],
             [
              0.3333333333333333,
              "#31688e"
             ],
             [
              0.4444444444444444,
              "#26828e"
             ],
             [
              0.5555555555555556,
              "#1f9e89"
             ],
             [
              0.6666666666666666,
              "#35b779"
             ],
             [
              0.7777777777777778,
              "#6ece58"
             ],
             [
              0.8888888888888888,
              "#b5de2b"
             ],
             [
              1,
              "#fde725"
             ]
            ],
            "type": "heatmapgl"
           }
          ],
          "histogram": [
           {
            "marker": {
             "line": {
              "color": "white",
              "width": 0.6
             }
            },
            "type": "histogram"
           }
          ],
          "histogram2d": [
           {
            "colorbar": {
             "outlinewidth": 1,
             "tickcolor": "rgb(36,36,36)",
             "ticks": "outside"
            },
            "colorscale": [
             [
              0,
              "#440154"
             ],
             [
              0.1111111111111111,
              "#482878"
             ],
             [
              0.2222222222222222,
              "#3e4989"
             ],
             [
              0.3333333333333333,
              "#31688e"
             ],
             [
              0.4444444444444444,
              "#26828e"
             ],
             [
              0.5555555555555556,
              "#1f9e89"
             ],
             [
              0.6666666666666666,
              "#35b779"
             ],
             [
              0.7777777777777778,
              "#6ece58"
             ],
             [
              0.8888888888888888,
              "#b5de2b"
             ],
             [
              1,
              "#fde725"
             ]
            ],
            "type": "histogram2d"
           }
          ],
          "histogram2dcontour": [
           {
            "colorbar": {
             "outlinewidth": 1,
             "tickcolor": "rgb(36,36,36)",
             "ticks": "outside"
            },
            "colorscale": [
             [
              0,
              "#440154"
             ],
             [
              0.1111111111111111,
              "#482878"
             ],
             [
              0.2222222222222222,
              "#3e4989"
             ],
             [
              0.3333333333333333,
              "#31688e"
             ],
             [
              0.4444444444444444,
              "#26828e"
             ],
             [
              0.5555555555555556,
              "#1f9e89"
             ],
             [
              0.6666666666666666,
              "#35b779"
             ],
             [
              0.7777777777777778,
              "#6ece58"
             ],
             [
              0.8888888888888888,
              "#b5de2b"
             ],
             [
              1,
              "#fde725"
             ]
            ],
            "type": "histogram2dcontour"
           }
          ],
          "mesh3d": [
           {
            "colorbar": {
             "outlinewidth": 1,
             "tickcolor": "rgb(36,36,36)",
             "ticks": "outside"
            },
            "type": "mesh3d"
           }
          ],
          "parcoords": [
           {
            "line": {
             "colorbar": {
              "outlinewidth": 1,
              "tickcolor": "rgb(36,36,36)",
              "ticks": "outside"
             }
            },
            "type": "parcoords"
           }
          ],
          "pie": [
           {
            "automargin": true,
            "type": "pie"
           }
          ],
          "scatter": [
           {
            "fillpattern": {
             "fillmode": "overlay",
             "size": 10,
             "solidity": 0.2
            },
            "type": "scatter"
           }
          ],
          "scatter3d": [
           {
            "line": {
             "colorbar": {
              "outlinewidth": 1,
              "tickcolor": "rgb(36,36,36)",
              "ticks": "outside"
             }
            },
            "marker": {
             "colorbar": {
              "outlinewidth": 1,
              "tickcolor": "rgb(36,36,36)",
              "ticks": "outside"
             }
            },
            "type": "scatter3d"
           }
          ],
          "scattercarpet": [
           {
            "marker": {
             "colorbar": {
              "outlinewidth": 1,
              "tickcolor": "rgb(36,36,36)",
              "ticks": "outside"
             }
            },
            "type": "scattercarpet"
           }
          ],
          "scattergeo": [
           {
            "marker": {
             "colorbar": {
              "outlinewidth": 1,
              "tickcolor": "rgb(36,36,36)",
              "ticks": "outside"
             }
            },
            "type": "scattergeo"
           }
          ],
          "scattergl": [
           {
            "marker": {
             "colorbar": {
              "outlinewidth": 1,
              "tickcolor": "rgb(36,36,36)",
              "ticks": "outside"
             }
            },
            "type": "scattergl"
           }
          ],
          "scattermapbox": [
           {
            "marker": {
             "colorbar": {
              "outlinewidth": 1,
              "tickcolor": "rgb(36,36,36)",
              "ticks": "outside"
             }
            },
            "type": "scattermapbox"
           }
          ],
          "scatterpolar": [
           {
            "marker": {
             "colorbar": {
              "outlinewidth": 1,
              "tickcolor": "rgb(36,36,36)",
              "ticks": "outside"
             }
            },
            "type": "scatterpolar"
           }
          ],
          "scatterpolargl": [
           {
            "marker": {
             "colorbar": {
              "outlinewidth": 1,
              "tickcolor": "rgb(36,36,36)",
              "ticks": "outside"
             }
            },
            "type": "scatterpolargl"
           }
          ],
          "scatterternary": [
           {
            "marker": {
             "colorbar": {
              "outlinewidth": 1,
              "tickcolor": "rgb(36,36,36)",
              "ticks": "outside"
             }
            },
            "type": "scatterternary"
           }
          ],
          "surface": [
           {
            "colorbar": {
             "outlinewidth": 1,
             "tickcolor": "rgb(36,36,36)",
             "ticks": "outside"
            },
            "colorscale": [
             [
              0,
              "#440154"
             ],
             [
              0.1111111111111111,
              "#482878"
             ],
             [
              0.2222222222222222,
              "#3e4989"
             ],
             [
              0.3333333333333333,
              "#31688e"
             ],
             [
              0.4444444444444444,
              "#26828e"
             ],
             [
              0.5555555555555556,
              "#1f9e89"
             ],
             [
              0.6666666666666666,
              "#35b779"
             ],
             [
              0.7777777777777778,
              "#6ece58"
             ],
             [
              0.8888888888888888,
              "#b5de2b"
             ],
             [
              1,
              "#fde725"
             ]
            ],
            "type": "surface"
           }
          ],
          "table": [
           {
            "cells": {
             "fill": {
              "color": "rgb(237,237,237)"
             },
             "line": {
              "color": "white"
             }
            },
            "header": {
             "fill": {
              "color": "rgb(217,217,217)"
             },
             "line": {
              "color": "white"
             }
            },
            "type": "table"
           }
          ]
         },
         "layout": {
          "annotationdefaults": {
           "arrowhead": 0,
           "arrowwidth": 1
          },
          "autotypenumbers": "strict",
          "coloraxis": {
           "colorbar": {
            "outlinewidth": 1,
            "tickcolor": "rgb(36,36,36)",
            "ticks": "outside"
           }
          },
          "colorscale": {
           "diverging": [
            [
             0,
             "rgb(103,0,31)"
            ],
            [
             0.1,
             "rgb(178,24,43)"
            ],
            [
             0.2,
             "rgb(214,96,77)"
            ],
            [
             0.3,
             "rgb(244,165,130)"
            ],
            [
             0.4,
             "rgb(253,219,199)"
            ],
            [
             0.5,
             "rgb(247,247,247)"
            ],
            [
             0.6,
             "rgb(209,229,240)"
            ],
            [
             0.7,
             "rgb(146,197,222)"
            ],
            [
             0.8,
             "rgb(67,147,195)"
            ],
            [
             0.9,
             "rgb(33,102,172)"
            ],
            [
             1,
             "rgb(5,48,97)"
            ]
           ],
           "sequential": [
            [
             0,
             "#440154"
            ],
            [
             0.1111111111111111,
             "#482878"
            ],
            [
             0.2222222222222222,
             "#3e4989"
            ],
            [
             0.3333333333333333,
             "#31688e"
            ],
            [
             0.4444444444444444,
             "#26828e"
            ],
            [
             0.5555555555555556,
             "#1f9e89"
            ],
            [
             0.6666666666666666,
             "#35b779"
            ],
            [
             0.7777777777777778,
             "#6ece58"
            ],
            [
             0.8888888888888888,
             "#b5de2b"
            ],
            [
             1,
             "#fde725"
            ]
           ],
           "sequentialminus": [
            [
             0,
             "#440154"
            ],
            [
             0.1111111111111111,
             "#482878"
            ],
            [
             0.2222222222222222,
             "#3e4989"
            ],
            [
             0.3333333333333333,
             "#31688e"
            ],
            [
             0.4444444444444444,
             "#26828e"
            ],
            [
             0.5555555555555556,
             "#1f9e89"
            ],
            [
             0.6666666666666666,
             "#35b779"
            ],
            [
             0.7777777777777778,
             "#6ece58"
            ],
            [
             0.8888888888888888,
             "#b5de2b"
            ],
            [
             1,
             "#fde725"
            ]
           ]
          },
          "colorway": [
           "#4C78A8",
           "#F58518",
           "#E45756",
           "#72B7B2",
           "#54A24B",
           "#EECA3B",
           "#B279A2",
           "#FF9DA6",
           "#9D755D",
           "#BAB0AC"
          ],
          "font": {
           "color": "rgb(36,36,36)",
           "family": "merriserif",
           "size": 12
          },
          "geo": {
           "bgcolor": "white",
           "lakecolor": "white",
           "landcolor": "white",
           "showlakes": true,
           "showland": true,
           "subunitcolor": "white"
          },
          "hoverlabel": {
           "align": "left"
          },
          "hovermode": "closest",
          "legend": {
           "bgcolor": "white",
           "bordercolor": "Black",
           "borderwidth": 1,
           "orientation": "h",
           "traceorder": "reversed",
           "x": 0.5,
           "xanchor": "center",
           "y": -0.2
          },
          "mapbox": {
           "style": "light"
          },
          "paper_bgcolor": "white",
          "plot_bgcolor": "white",
          "polar": {
           "angularaxis": {
            "gridcolor": "rgb(232,232,232)",
            "linecolor": "rgb(36,36,36)",
            "showgrid": false,
            "showline": true,
            "ticks": "outside"
           },
           "bgcolor": "white",
           "radialaxis": {
            "gridcolor": "rgb(232,232,232)",
            "linecolor": "rgb(36,36,36)",
            "showgrid": false,
            "showline": true,
            "ticks": "outside"
           }
          },
          "scene": {
           "xaxis": {
            "backgroundcolor": "white",
            "gridcolor": "rgb(232,232,232)",
            "gridwidth": 2,
            "linecolor": "rgb(36,36,36)",
            "showbackground": true,
            "showgrid": false,
            "showline": true,
            "ticks": "outside",
            "zeroline": false,
            "zerolinecolor": "rgb(36,36,36)"
           },
           "yaxis": {
            "backgroundcolor": "white",
            "gridcolor": "rgb(232,232,232)",
            "gridwidth": 2,
            "linecolor": "rgb(36,36,36)",
            "showbackground": true,
            "showgrid": false,
            "showline": true,
            "ticks": "outside",
            "zeroline": false,
            "zerolinecolor": "rgb(36,36,36)"
           },
           "zaxis": {
            "backgroundcolor": "white",
            "gridcolor": "rgb(232,232,232)",
            "gridwidth": 2,
            "linecolor": "rgb(36,36,36)",
            "showbackground": true,
            "showgrid": false,
            "showline": true,
            "ticks": "outside",
            "zeroline": false,
            "zerolinecolor": "rgb(36,36,36)"
           }
          },
          "shapedefaults": {
           "fillcolor": "black",
           "line": {
            "width": 0
           },
           "opacity": 0.3
          },
          "ternary": {
           "aaxis": {
            "gridcolor": "rgb(232,232,232)",
            "linecolor": "rgb(36,36,36)",
            "showgrid": false,
            "showline": true,
            "ticks": "outside"
           },
           "baxis": {
            "gridcolor": "rgb(232,232,232)",
            "linecolor": "rgb(36,36,36)",
            "showgrid": false,
            "showline": true,
            "ticks": "outside"
           },
           "bgcolor": "white",
           "caxis": {
            "gridcolor": "rgb(232,232,232)",
            "linecolor": "rgb(36,36,36)",
            "showgrid": false,
            "showline": true,
            "ticks": "outside"
           }
          },
          "title": {
           "font": {
            "family": "merriserif",
            "size": 24
           },
           "x": 0.5,
           "xanchor": "center"
          },
          "xaxis": {
           "automargin": true,
           "gridcolor": "rgb(232,232,232)",
           "linecolor": "rgb(36,36,36)",
           "showgrid": false,
           "showline": true,
           "ticks": "outside",
           "title": {
            "standoff": 15
           },
           "zeroline": false,
           "zerolinecolor": "rgb(36,36,36)"
          },
          "yaxis": {
           "automargin": true,
           "gridcolor": "rgb(232,232,232)",
           "linecolor": "rgb(36,36,36)",
           "showgrid": false,
           "showline": true,
           "ticks": "outside",
           "title": {
            "standoff": 15
           },
           "zeroline": false,
           "zerolinecolor": "rgb(36,36,36)"
          }
         }
        },
        "title": {
         "text": "One Standard Error for Volatility"
        },
        "xaxis": {
         "title": {
          "text": ""
         }
        },
        "yaxis": {
         "title": {
          "text": "PDF"
         }
        }
       }
      },
      "text/html": [
       "<div>                            <div id=\"27640168-b8ce-4bad-885d-9c956a13f442\" class=\"plotly-graph-div\" style=\"height:525px; width:100%;\"></div>            <script type=\"text/javascript\">                require([\"plotly\"], function(Plotly) {                    window.PLOTLYENV=window.PLOTLYENV || {};                                    if (document.getElementById(\"27640168-b8ce-4bad-885d-9c956a13f442\")) {                    Plotly.newPlot(                        \"27640168-b8ce-4bad-885d-9c956a13f442\",                        [{\"mode\":\"lines\",\"name\":\"Mean=0.2, Std Dev=0.01414213562373095\",\"x\":[0.15757359312880714,0.15765853088030102,0.1577434686317949,0.1578284063832888,0.15791334413478267,0.15799828188627654,0.15808321963777042,0.1581681573892643,0.1582530951407582,0.15833803289225207,0.15842297064374594,0.15850790839523982,0.1585928461467337,0.15867778389822756,0.15876272164972147,0.15884765940121534,0.15893259715270922,0.1590175349042031,0.15910247265569696,0.15918741040719087,0.15927234815868474,0.15935728591017861,0.1594422236616725,0.15952716141316636,0.15961209916466026,0.15969703691615414,0.159781974667648,0.1598669124191419,0.15995185017063576,0.16003678792212966,0.16012172567362354,0.1602066634251174,0.1602916011766113,0.16037653892810516,0.16046147667959906,0.16054641443109294,0.1606313521825868,0.16071628993408069,0.16080122768557456,0.16088616543706846,0.16097110318856234,0.1610560409400562,0.16114097869155009,0.16122591644304396,0.16131085419453783,0.16139579194603174,0.1614807296975256,0.16156566744901948,0.16165060520051336,0.16173554295200723,0.16182048070350114,0.161905418454995,0.16199035620648888,0.16207529395798276,0.16216023170947663,0.16224516946097053,0.1623301072124644,0.16241504496395828,0.16249998271545216,0.16258492046694603,0.16266985821843993,0.1627547959699338,0.16283973372142768,0.16292467147292156,0.16300960922441543,0.1630945469759093,0.1631794847274032,0.16326442247889708,0.16334936023039096,0.16343429798188483,0.1635192357333787,0.1636041734848726,0.16368911123636648,0.16377404898786035,0.16385898673935423,0.1639439244908481,0.164028862242342,0.16411379999383588,0.16419873774532975,0.16428367549682363,0.1643686132483175,0.1644535509998114,0.16453848875130528,0.16462342650279915,0.16470836425429303,0.1647933020057869,0.1648782397572808,0.16496317750877468,0.16504811526026855,0.16513305301176243,0.1652179907632563,0.1653029285147502,0.16538786626624408,0.16547280401773795,0.16555774176923183,0.1656426795207257,0.16572761727221957,0.16581255502371348,0.16589749277520735,0.16598243052670122,0.1660673682781951,0.16615230602968897,0.16623724378118288,0.16632218153267675,0.16640711928417062,0.1664920570356645,0.16657699478715837,0.16666193253865227,0.16674687029014615,0.16683180804164002,0.1669167457931339,0.16700168354462777,0.16708662129612167,0.16717155904761555,0.16725649679910942,0.1673414345506033,0.16742637230209717,0.16751131005359104,0.16759624780508495,0.16768118555657882,0.1677661233080727,0.16785106105956657,0.16793599881106047,0.16802093656255435,0.16810587431404822,0.1681908120655421,0.16827574981703597,0.16836068756852984,0.16844562532002375,0.16853056307151762,0.1686155008230115,0.16870043857450537,0.16878537632599924,0.16887031407749314,0.16895525182898702,0.1690401895804809,0.16912512733197477,0.16921006508346864,0.16929500283496254,0.16937994058645642,0.1694648783379503,0.16954981608944417,0.16963475384093804,0.16971969159243194,0.16980462934392582,0.1698895670954197,0.16997450484691357,0.17005944259840744,0.17014438034990131,0.17022931810139522,0.1703142558528891,0.17039919360438296,0.17048413135587684,0.1705690691073707,0.17065400685886462,0.1707389446103585,0.17082388236185236,0.17090882011334624,0.1709937578648401,0.17107869561633401,0.1711636333678279,0.17124857111932176,0.17133350887081564,0.1714184466223095,0.1715033843738034,0.1715883221252973,0.17167325987679116,0.17175819762828504,0.1718431353797789,0.17192807313127279,0.1720130108827667,0.17209794863426056,0.17218288638575444,0.1722678241372483,0.1723527618887422,0.1724376996402361,0.17252263739172996,0.17260757514322383,0.1726925128947177,0.17277745064621158,0.17286238839770549,0.17294732614919936,0.17303226390069323,0.1731172016521871,0.17320213940368098,0.17328707715517488,0.17337201490666876,0.17345695265816263,0.1735418904096565,0.17362682816115038,0.17371176591264426,0.17379670366413816,0.17388164141563203,0.1739665791671259,0.17405151691861978,0.17413645467011368,0.17422139242160756,0.17430633017310143,0.1743912679245953,0.17447620567608918,0.17456114342758305,0.17464608117907696,0.17473101893057083,0.1748159566820647,0.17490089443355858,0.17498583218505248,0.17507076993654636,0.17515570768804023,0.1752406454395341,0.17532558319102798,0.17541052094252185,0.17549545869401575,0.17558039644550963,0.1756653341970035,0.17575027194849738,0.17583520969999125,0.17592014745148515,0.17600508520297903,0.1760900229544729,0.17617496070596678,0.17625989845746065,0.17634483620895453,0.17642977396044843,0.1765147117119423,0.17659964946343618,0.17668458721493005,0.17676952496642395,0.17685446271791783,0.1769394004694117,0.17702433822090557,0.17710927597239945,0.17719421372389332,0.17727915147538723,0.1773640892268811,0.17744902697837497,0.17753396472986885,0.17761890248136272,0.17770384023285662,0.1777887779843505,0.17787371573584437,0.17795865348733825,0.17804359123883212,0.178128528990326,0.1782134667418199,0.17829840449331377,0.17838334224480765,0.17846827999630152,0.17855321774779542,0.1786381554992893,0.17872309325078317,0.17880803100227705,0.17889296875377092,0.1789779065052648,0.1790628442567587,0.17914778200825257,0.17923271975974644,0.17931765751124032,0.17940259526273422,0.1794875330142281,0.17957247076572197,0.17965740851721584,0.17974234626870972,0.1798272840202036,0.1799122217716975,0.17999715952319137,0.18008209727468524,0.18016703502617912,0.180251972777673,0.1803369105291669,0.18042184828066077,0.18050678603215464,0.18059172378364852,0.1806766615351424,0.18076159928663627,0.18084653703813017,0.18093147478962404,0.18101641254111792,0.1811013502926118,0.1811862880441057,0.18127122579559957,0.18135616354709344,0.18144110129858732,0.1815260390500812,0.18161097680157506,0.18169591455306897,0.18178085230456284,0.18186579005605671,0.1819507278075506,0.18203566555904446,0.18212060331053836,0.18220554106203224,0.1822904788135261,0.18237541656502,0.18246035431651386,0.18254529206800774,0.18263022981950164,0.1827151675709955,0.1828001053224894,0.18288504307398326,0.18296998082547716,0.18305491857697104,0.1831398563284649,0.18322479407995879,0.18330973183145266,0.18339466958294653,0.18347960733444044,0.1835645450859343,0.18364948283742819,0.18373442058892206,0.18381935834041596,0.18390429609190984,0.1839892338434037,0.18407417159489758,0.18415910934639146,0.18424404709788533,0.18432898484937923,0.1844139226008731,0.18449886035236698,0.18458379810386086,0.18466873585535473,0.18475367360684863,0.1848386113583425,0.18492354910983638,0.18500848686133026,0.18509342461282413,0.185178362364318,0.1852633001158119,0.18534823786730578,0.18543317561879966,0.18551811337029353,0.18560305112178743,0.1856879888732813,0.18577292662477518,0.18585786437626906,0.18594280212776293,0.1860277398792568,0.1861126776307507,0.18619761538224458,0.18628255313373845,0.18636749088523233,0.1864524286367262,0.1865373663882201,0.18662230413971398,0.18670724189120785,0.18679217964270173,0.1868771173941956,0.1869620551456895,0.18704699289718338,0.18713193064867725,0.18721686840017113,0.187301806151665,0.1873867439031589,0.18747168165465278,0.18755661940614665,0.18764155715764053,0.1877264949091344,0.18781143266062827,0.18789637041212218,0.18798130816361605,0.18806624591510993,0.1881511836666038,0.1882361214180977,0.18832105916959158,0.18840599692108545,0.18849093467257932,0.1885758724240732,0.18866081017556707,0.18874574792706098,0.18883068567855485,0.18891562343004872,0.1890005611815426,0.18908549893303647,0.18917043668453037,0.18925537443602425,0.18934031218751812,0.189425249939012,0.18951018769050587,0.18959512544199975,0.18968006319349365,0.18976500094498752,0.1898499386964814,0.18993487644797527,0.19001981419946917,0.19010475195096305,0.19018968970245692,0.1902746274539508,0.19035956520544467,0.19044450295693854,0.19052944070843245,0.19061437845992632,0.1906993162114202,0.19078425396291407,0.19086919171440797,0.19095412946590185,0.19103906721739572,0.1911240049688896,0.19120894272038347,0.19129388047187734,0.19137881822337122,0.19146375597486512,0.191548693726359,0.19163363147785287,0.19171856922934674,0.19180350698084064,0.19188844473233452,0.1919733824838284,0.19205832023532227,0.19214325798681614,0.19222819573831001,0.19231313348980392,0.1923980712412978,0.19248300899279167,0.19256794674428554,0.19265288449577944,0.19273782224727332,0.1928227599987672,0.19290769775026106,0.19299263550175494,0.1930775732532488,0.1931625110047427,0.1932474487562366,0.19333238650773046,0.19341732425922434,0.19350226201071824,0.19358719976221211,0.193672137513706,0.19375707526519986,0.19384201301669374,0.1939269507681876,0.19401188851968149,0.1940968262711754,0.19418176402266926,0.19426670177416314,0.194351639525657,0.1944365772771509,0.1945215150286448,0.19460645278013866,0.19469139053163254,0.1947763282831264,0.19486126603462028,0.19494620378611419,0.19503114153760806,0.19511607928910193,0.1952010170405958,0.1952859547920897,0.19537089254358359,0.19545583029507746,0.19554076804657133,0.1956257057980652,0.19571064354955908,0.19579558130105296,0.19588051905254686,0.19596545680404073,0.1960503945555346,0.19613533230702848,0.19622027005852238,0.19630520781001626,0.19639014556151013,0.196475083313004,0.19656002106449788,0.19664495881599175,0.19672989656748566,0.19681483431897953,0.1968997720704734,0.19698470982196728,0.19706964757346118,0.19715458532495506,0.19723952307644893,0.1973244608279428,0.19740939857943668,0.19749433633093055,0.19757927408242443,0.19766421183391833,0.1977491495854122,0.19783408733690608,0.19791902508839998,0.19800396283989385,0.19808890059138773,0.1981738383428816,0.19825877609437548,0.19834371384586935,0.19842865159736323,0.19851358934885713,0.198598527100351,0.19868346485184488,0.19876840260333875,0.19885334035483265,0.19893827810632653,0.1990232158578204,0.19910815360931428,0.19919309136080815,0.19927802911230202,0.19936296686379593,0.1994479046152898,0.19953284236678367,0.19961778011827755,0.19970271786977145,0.19978765562126533,0.1998725933727592,0.19995753112425307,0.20004246887574695,0.20012740662724082,0.2002123443787347,0.2002972821302286,0.20038221988172247,0.20046715763321635,0.20055209538471022,0.20063703313620412,0.200721970887698,0.20080690863919187,0.20089184639068575,0.20097678414217962,0.2010617218936735,0.2011466596451674,0.20123159739666127,0.20131653514815515,0.20140147289964902,0.20148641065114292,0.2015713484026368,0.20165628615413067,0.20174122390562454,0.20182616165711842,0.2019110994086123,0.20199603716010617,0.20208097491160007,0.20216591266309394,0.20225085041458782,0.20233578816608172,0.2024207259175756,0.20250566366906947,0.20259060142056334,0.20267553917205722,0.2027604769235511,0.20284541467504497,0.20293035242653887,0.20301529017803274,0.20310022792952662,0.2031851656810205,0.2032701034325144,0.20335504118400827,0.20343997893550214,0.20352491668699602,0.2036098544384899,0.20369479218998376,0.20377972994147767,0.20386466769297154,0.20394960544446541,0.2040345431959593,0.2041194809474532,0.20420441869894707,0.20428935645044094,0.20437429420193481,0.2044592319534287,0.20454416970492256,0.20462910745641644,0.20471404520791034,0.2047989829594042,0.2048839207108981,0.20496885846239196,0.20505379621388586,0.20513873396537974,0.2052236717168736,0.2053086094683675,0.20539354721986136,0.20547848497135524,0.20556342272284914,0.205648360474343,0.20573329822583689,0.20581823597733076,0.20590317372882466,0.20598811148031854,0.2060730492318124,0.20615798698330629,0.20624292473480016,0.20632786248629403,0.2064128002377879,0.2064977379892818,0.20658267574077568,0.20666761349226956,0.20675255124376346,0.20683748899525733,0.2069224267467512,0.20700736449824508,0.20709230224973896,0.20717724000123283,0.2072621777527267,0.2073471155042206,0.20743205325571448,0.20751699100720836,0.20760192875870223,0.20768686651019613,0.20777180426169,0.20785674201318388,0.20794167976467776,0.20802661751617163,0.2081115552676655,0.2081964930191594,0.20828143077065328,0.20836636852214716,0.20845130627364103,0.20853624402513493,0.2086211817766288,0.20870611952812268,0.20879105727961655,0.20887599503111043,0.2089609327826043,0.20904587053409818,0.20913080828559208,0.20921574603708595,0.20930068378857983,0.2093856215400737,0.2094705592915676,0.20955549704306148,0.20964043479455535,0.20972537254604923,0.2098103102975431,0.20989524804903698,0.20998018580053088,0.21006512355202475,0.21015006130351863,0.2102349990550125,0.2103199368065064,0.21040487455800028,0.21048981230949415,0.21057475006098803,0.2106596878124819,0.21074462556397577,0.21082956331546965,0.21091450106696355,0.21099943881845742,0.2110843765699513,0.2111693143214452,0.21125425207293907,0.21133918982443295,0.21142412757592682,0.2115090653274207,0.21159400307891457,0.21167894083040845,0.21176387858190235,0.21184881633339622,0.2119337540848901,0.21201869183638397,0.21210362958787787,0.21218856733937175,0.21227350509086562,0.2123584428423595,0.21244338059385337,0.21252831834534724,0.21261325609684115,0.21269819384833502,0.2127831315998289,0.21286806935132277,0.21295300710281667,0.21303794485431055,0.21312288260580442,0.2132078203572983,0.21329275810879217,0.21337769586028604,0.21346263361177992,0.21354757136327382,0.2136325091147677,0.21371744686626157,0.21380238461775544,0.21388732236924934,0.21397226012074322,0.2140571978722371,0.21414213562373097,0.21422707337522484,0.21431201112671872,0.21439694887821262,0.2144818866297065,0.21456682438120037,0.21465176213269424,0.21473669988418814,0.21482163763568202,0.2149065753871759,0.21499151313866977,0.21507645089016364,0.2151613886416575,0.21524632639315142,0.2153312641446453,0.21541620189613916,0.21550113964763304,0.21558607739912694,0.21567101515062082,0.2157559529021147,0.21584089065360856,0.21592582840510244,0.2160107661565963,0.2160957039080902,0.2161806416595841,0.21626557941107796,0.21635051716257184,0.2164354549140657,0.2165203926655596,0.2166053304170535,0.21669026816854736,0.21677520592004124,0.2168601436715351,0.21694508142302898,0.2170300191745229,0.21711495692601676,0.21719989467751064,0.2172848324290045,0.2173697701804984,0.21745470793199229,0.21753964568348616,0.21762458343498003,0.2177095211864739,0.21779445893796778,0.21787939668946166,0.21796433444095556,0.21804927219244943,0.2181342099439433,0.21821914769543718,0.21830408544693108,0.21838902319842496,0.21847396094991883,0.2185588987014127,0.21864383645290658,0.21872877420440046,0.21881371195589436,0.21889864970738823,0.2189835874588821,0.21906852521037598,0.21915346296186988,0.21923840071336376,0.21932333846485763,0.2194082762163515,0.21949321396784538,0.21957815171933925,0.21966308947083316,0.21974802722232703,0.2198329649738209,0.21991790272531478,0.22000284047680868,0.22008777822830256,0.22017271597979643,0.2202576537312903,0.22034259148278418,0.22042752923427805,0.22051246698577193,0.2205974047372658,0.2206823424887597,0.22076728024025358,0.22085221799174748,0.22093715574324135,0.22102209349473523,0.2211070312462291,0.22119196899772298,0.22127690674921685,0.22136184450071072,0.2214467822522046,0.2215317200036985,0.22161665775519238,0.22170159550668625,0.22178653325818015,0.22187147100967403,0.2219564087611679,0.22204134651266177,0.22212628426415565,0.22221122201564952,0.2222961597671434,0.2223810975186373,0.22246603527013117,0.22255097302162505,0.22263591077311895,0.22272084852461282,0.2228057862761067,0.22289072402760057,0.22297566177909445,0.22306059953058832,0.2231455372820822,0.22323047503357607,0.22331541278506997,0.22340035053656385,0.22348528828805775,0.22357022603955162,0.2236551637910455,0.22374010154253937,0.22382503929403325,0.22390997704552712,0.223994914797021,0.22407985254851487,0.22416479030000877,0.22424972805150264,0.22433466580299652,0.22441960355449042,0.2245045413059843,0.22458947905747817,0.22467441680897204,0.22475935456046592,0.2248442923119598,0.22492923006345367,0.22501416781494757,0.22509910556644144,0.22518404331793532,0.22526898106942922,0.2253539188209231,0.22543885657241697,0.22552379432391084,0.22560873207540472,0.2256936698268986,0.22577860757839247,0.22586354532988634,0.22594848308138024,0.22603342083287412,0.22611835858436802,0.2262032963358619,0.22628823408735577,0.22637317183884964,0.22645810959034351,0.2265430473418374,0.22662798509333126,0.22671292284482514,0.22679786059631904,0.22688279834781291,0.2269677360993068,0.2270526738508007,0.22713761160229456,0.22722254935378844,0.2273074871052823,0.2273924248567762,0.22747736260827006,0.22756230035976394,0.2276472381112578,0.2277321758627517,0.2278171136142456,0.2279020513657395,0.22798698911723336,0.22807192686872724,0.2281568646202211,0.22824180237171499,0.22832674012320886,0.22841167787470273,0.2284966156261966,0.2285815533776905,0.22866649112918438,0.22875142888067826,0.22883636663217216,0.22892130438366604,0.2290062421351599,0.22909117988665378,0.22917611763814766,0.22926105538964153,0.2293459931411354,0.2294309308926293,0.22951586864412318,0.22960080639561706,0.22968574414711096,0.22977068189860483,0.2298556196500987,0.22994055740159258,0.23002549515308646,0.23011043290458033,0.2301953706560742,0.23028030840756808,0.23036524615906198,0.23045018391055586,0.23053512166204976,0.23062005941354363,0.2307049971650375,0.23078993491653138,0.23087487266802525,0.23095981041951913,0.231044748171013,0.23112968592250688,0.23121462367400078,0.23129956142549465,0.23138449917698853,0.23146943692848243,0.2315543746799763,0.23163931243147018,0.23172425018296405,0.23180918793445793,0.2318941256859518,0.23197906343744568,0.23206400118893955,0.23214893894043345,0.23223387669192733,0.23231881444342123,0.2324037521949151,0.23248868994640898,0.23257362769790285,0.23265856544939673,0.2327435032008906,0.23282844095238447,0.23291337870387835,0.23299831645537225,0.23308325420686613,0.23316819195836,0.2332531297098539,0.23333806746134778,0.23342300521284165,0.23350794296433552,0.2335928807158294,0.23367781846732327,0.23376275621881715,0.23384769397031105,0.23393263172180492,0.2340175694732988,0.2341025072247927,0.23418744497628657,0.23427238272778045,0.23435732047927432,0.2344422582307682,0.23452719598226207,0.23461213373375595,0.23469707148524982,0.23478200923674372,0.2348669469882376,0.2349518847397315,0.23503682249122537,0.23512176024271925,0.23520669799421312,0.235291635745707,0.23537657349720087,0.23546151124869474,0.23554644900018862,0.23563138675168252,0.2357163245031764,0.23580126225467027,0.23588620000616417,0.23597113775765804,0.23605607550915192,0.2361410132606458,0.23622595101213967,0.23631088876363354,0.23639582651512742,0.2364807642666213,0.2365657020181152,0.23665063976960907,0.23673557752110297,0.23682051527259684,0.23690545302409072,0.2369903907755846,0.23707532852707847,0.23716026627857234,0.23724520403006621,0.2373301417815601,0.237415079533054,0.23750001728454787,0.23758495503604174,0.23766989278753564,0.23775483053902952,0.2378397682905234,0.23792470604201726,0.23800964379351114,0.238094581545005,0.2381795192964989,0.2382644570479928,0.23834939479948666,0.23843433255098054,0.23851927030247444,0.23860420805396831,0.2386891458054622,0.23877408355695606,0.23885902130844994,0.2389439590599438,0.23902889681143769,0.23911383456293156,0.23919877231442546,0.23928371006591934,0.23936864781741324,0.2394535855689071,0.239538523320401,0.23962346107189486,0.23970839882338874,0.2397933365748826,0.23987827432637648,0.23996321207787036,0.24004814982936426,0.24013308758085813,0.240218025332352,0.2403029630838459,0.24038790083533979,0.24047283858683366,0.24055777633832753,0.2406427140898214,0.24072765184131528,0.24081258959280916,0.24089752734430303,0.24098246509579693,0.2410674028472908,0.2411523405987847,0.24123727835027858,0.24132221610177246,0.24140715385326633,0.2414920916047602,0.24157702935625408,0.24166196710774795,0.24174690485924183,0.24183184261073573,0.2419167803622296,0.24200171811372348,0.24208665586521738,0.24217159361671126,0.24225653136820513,0.242341469119699,0.24242640687119288],\"y\":[0.31337900652721884,0.319070896269049,0.32485444916917594,0.3307309057113385,0.33670151869735127,0.3427675532875539,0.3489302870397183,0.35519100994641495,0.36155102447078574,0.36801164558068383,0.3745742007811667,0.3812400301452694,0.38801048634305313,0.39488693466887487,0.40187075306684567,0.40896333215443204,0.41616607524418636,0.42348039836353424,0.4309077302726044,0.4384495124800585,0.44610719925686615,0.4538822576480249,0.4617761674821338,0.46979042137882543,0.47792652475399683,0.48618599582279004,0.4945703656003258,0.5030811779000915,0.5117199893299883,0.5204883692859829,0.529387899943309,0.538420176245222,0.5475868058892106,0.5568894093106687,0.5663296196639678,0.5759090828008858,0.5856294572463839,0.5954924141716421,0.6054996373643532,0.6156528231962219,0.6259536805876111,0.6364039309693474,0.6470053082415753,0.6577595587296772,0.6686684411371919,0.6797337264957035,0.690957198111637,0.7023406515099826,0.7138858943748213,0.7255947464866855,0.7374690396566868,0.7495106176573522,0.7617213361501973,0.77410306260991,0.7866576762451696,0.7993870679160476,0.8122931400479246,0.8253778065419534,0.8386429926819454,0.8520906350377098,0.8657226813647818,0.8795410905004902,0.8935478322563856,0.9077448873069124,0.922134247074355,0.9367179136099906,0.9514978994714347,0.9664762275961069,0.9816549311708598,0.9970360534976409,1.0126216478552332,1.0284137773570061,1.0444145148046307,1.0606259425378033,1.0770501522798435,1.0936892449792042,1.1105453306468602,1.127620528189499,1.1449169652385804,1.1624367779751221,1.1801821109502668,1.1981551169015845,1.2163579565650446,1.2347927984827283,1.2534618188061406,1.2723672010951839,1.2915111361127398,1.310895821614813,1.3305234621363027,1.3503962687722602,1.3705164589547107,1.3908862562249826,1.4115078900014972,1.4323835953431048,1.4535156127078137,1.4749061877069978,1.4965575708550354,1.5184720173143706,1.5406517866359468,1.5630991424951177,1.585816352422863,1.6088056875324237,1.6320694222413203,1.6556098339886696,1.6794292029479674,1.7035298117351332,1.727913945111943,1.7525838896848205,1.77754193359893,1.8027903662276965,1.8283314778575985,1.8541675593683489,1.8803009019084376,1.906733796565984,1.9334685340350453,1.9605074042772173,1.9878526961786482,2.0155066972024533,2.0434716930365258,2.071749967236735,2.1003438008656308,2.12925547212651,2.158487255993005,2.188041423834087,2.2179202430346727,2.2481259766116497,2.2786608828254997,2.309527214787477,2.3407272200623828,2.372263140266921,2.404137210663793,2.436351659751368,2.4689087088491197,2.5018105716787935,2.5350594539413094,2.568657552889566,2.602607056896994,2.6369101450220556,2.6715689865686585,2.7065857406424967,2.741962555703501,2.777701569114248,2.8138049066845214,2.8502746822120346,2.887112997019281,2.924321939486777,2.9619035845824797,2.9998599933876373,3.038193212619022,3.0769052741476832,3.115998194514151,3.1554739744403766,3.1953345983381967,3.235582033814593,3.2762182311737367,3.3172451229158404,3.358664623233049,3.4004786275022116,3.4426890117747977,3.4852976322639493,3.5283063248286917,3.5717169044555845,3.615531164737617,3.6597508773506324,3.704377791527294,3.749413633528619,3.794860106113357,3.8407188880050445,3.8869916333570003,3.933679971215318,3.9807855049799343,4.02830981186378,4.076254442350371,4.124620919649598,4.173410739152076,4.222625367881946,4.2722662439485255,4.322334775996547,4.372832342655356,4.423760291987084,4.4751199409339035,4.5269125747644114,4.579139446519496,4.631801776457443,4.684900751498661,4.738437524670081,4.792413214549201,4.846828904708231,4.901685643158029,4.956984441792288,5.012726275831929,5.068912083269903,5.12554276431639,5.182619180844802,5.240142155838376,5.298112472837727,5.356530875389333,5.415398066495322,5.474714708064363,5.534481420364063,5.594698781474859,5.655367326745656,5.716487548251133,5.7780598942512285,5.840084768652523,5.902562530471954,5.965493493302795,6.028877924783349,6.092716046068098,6.157008031301748,6.221754007096204,6.286954052010659,6.352608196034794,6.418716420075605,6.485278655447506,6.552294783366247,6.619764634446643,6.687687988204164,6.756064572560882,6.824894063355451,6.894176083857649,6.963910204287437,7.034095941338799,7.104732757708317,7.175820061629041,7.247357206409259,7.3193434899767835,7.39177815442857,7.4646603855862,7.537989312556928,7.611764007300788,7.685983484203777,7.760646699657308,7.8357525516439495,7.911299879329948,7.987287462664235,8.063714021984403,8.140578217629688,8.217878649561005,8.295613856988535,8.373782318006521,8.452382449235825,8.531412605474209,8.610871079354549,8.690756101010997,8.7710658377536,8.851798393751036,8.932951809721981,9.014524062634985,9.096513065417419,9.178916666673057,9.26173265040892,9.344958735771282,9.42859257679107,9.512631762138659,9.597073814888539,9.68191619229354,9.76715628556909,9.852791419687389,9.938818853182038,10.0252357779627,10.112039319140361,10.19922653486312,10.286794416162737,10.374739886811852,10.46305980319245,10.551750954175116,10.640810061009635,10.730233777226912,10.820018688552175,10.910161312830022,11.000658099960841,11.091505431849159,11.182699622363828,11.274236917310251,11.36611349441455,11.458325463320227,11.550868865596826,11.643739674761184,11.736933796311,11.830447067771255,11.92427525875307,12.01841407102543,12.11285913859976,12.207606027827469,12.30265023751034,12.397987199024355,12.493612276456355,12.589520766754125,12.685707899889758,12.782168839036299,12.878898680758097,12.975892455214392,13.073145126376597,13.170651592259183,13.268406685164289,13.36640517193985,13.464641754251868,13.563111068870134,13.661807687968029,13.76072611943599,13.859860807209259,13.959206131609227,14.058756409698946,14.158505895652604,14.25844878113904,14.358579195719189,14.458891207257825,14.559378822349133,14.660035986756478,14.76085658586608,14.861834445155088,14.962963330673396,15.064236949539676,15.165648950451427,15.267192924209104,15.368862404254068,15.4706508672209,15.572551733503312,15.674558367834173,15.776664079879467,15.878862124845883,15.981145704102635,16.08350796581667,16.185942005601824,16.288440867181578,16.39099754306548,16.493604975239002,16.596256055867155,16.698943628011268,16.801660486359285,16.904399377969174,17.007153003025824,17.109914015610823,17.21267502448529,17.315428593885773,17.418167244332935,17.52088345345284,17.623569656811227,17.726218248759995,17.8288215832963,17.931371974933928,18.033861699586733,18.13628299546451,18.238628063980418,18.340889070670496,18.44305814612477,18.545127386929828,18.647088856623103,18.74893458665813,18.85065657738106,18.952246799018173,19.053697192674058,19.154999671340768,19.25614612091715,19.357128401238686,19.457938347117462,19.55856776939219,19.659008455987852,19.75925217298533,19.859290665700197,19.959115659770937,20.05871886225608,20.158091962740553,20.257226634450397,20.356114535376175,20.454747309404606,20.553116587458362,20.65121398864355,20.749031121405267,20.846559584690198,20.943790969116673,21.04071685815179,21.13732882929509,21.233618455269198,21.329577305216475,21.42519694590196,21.52046894292214,21.615384861919427,21.70993626980192,21.804114735968568,21.897911833539048,21.991319140588438,22.08432824138621,22.176930727639657,22.269118199740994,22.360882268018262,22.45221455398966,22.543106691621045,22.63355032858622,22.723537127530154,22.813058767334272,22.902106944384087,22.99067337383845,23.078749790900744,23.16632795209105,23.25339963651952,23.339956647160502,23.425990812127168,23.511493985946363,23.596458050833302,23.680874917966207,23.764736528760046,23.848034856139577,23.930761905811057,24.012909717532764,24.094470366383568,24.175435964029578,24.255798659988535,24.33555064289162,24.414684141742292,24.49319142717228,24.571064812693873,24.648296655948688,24.72487935995227,24.800805374334743,24.876067196576628,24.950657373239945,25.024568501194214,25.09779322883707,25.170324257309193,25.242154341703234,25.313276292266657,25.383682975597964,25.45336731583607,25.522322295842812,25.590540958377968,25.658016407266686,25.72474180855907,25.790710391681557,25.855915450579932,25.9203503448535,25.984008500880527,26.04688341293421,26.108968644289316,26.17025782831887,26.230744669581096,26.290422944895813,26.34928650441043,26.40732927265512,26.464545249586912,26.52092851162249,26.57647321265954,26.631173585086135,26.68502394077825,26.738018672084806,26.79015225280043,26.84141923912527,26.89181427061188,26.941332071098937,26.989967449631422,27.037715301367236,27.084570608469782,27.130528440986605,27.175583957713595,27.219732407044667,27.26296912780668,27.305289550079507,27.346689196000813,27.387163680555556,27.426708712349935,27.4653200943696,27.502993724721886,27.53972559736204,27.57551180280306,27.610348528809148,27.644232061072376,27.67715878387282,27.70912518072141,27.740127834985902,27.770163430499384,27.79922875215148,27.82732068646187,27.854436222136123,27.880572450603694,27.905726566537865,27.929895868357537,27.95307775871088,27.97526974494045,27.996469439529946,28.016674560532238,28.0358829319788,28.05409248427024,28.071301254547905,28.087507387046585,28.102709133427982,28.11690485309511,28.130093013487322,28.142272190356117,28.153441068021483,28.16359843960874,28.172743207265917,28.18087438236153,28.187991085662663,28.194092547493472,28.199178107873898,28.203247216638637,28.206299433536355,28.20833442830905,28.209351980751634,28.209351980751634,28.20833442830905,28.206299433536355,28.203247216638637,28.199178107873898,28.194092547493472,28.187991085662663,28.18087438236153,28.172743207265917,28.16359843960874,28.153441068021483,28.142272190356117,28.130093013487322,28.116904853095107,28.102709133427982,28.087507387046585,28.071301254547905,28.05409248427023,28.0358829319788,28.016674560532238,27.996469439529946,27.97526974494045,27.95307775871088,27.929895868357537,27.905726566537854,27.880572450603694,27.854436222136123,27.827320686461857,27.79922875215148,27.770163430499384,27.740127834985902,27.70912518072141,27.67715878387282,27.644232061072376,27.61034852880913,27.57551180280306,27.53972559736204,27.502993724721886,27.465320094369588,27.426708712349935,27.387163680555556,27.346689196000813,27.305289550079507,27.26296912780668,27.219732407044653,27.175583957713595,27.130528440986605,27.084570608469782,27.03771530136722,26.989967449631422,26.941332071098937,26.89181427061188,26.84141923912527,26.79015225280043,26.738018672084806,26.68502394077823,26.631173585086135,26.57647321265954,26.52092851162249,26.464545249586898,26.40732927265512,26.34928650441043,26.290422944895813,26.230744669581096,26.17025782831887,26.1089686442893,26.04688341293421,25.984008500880527,25.9203503448535,25.85591545057991,25.790710391681557,25.72474180855907,25.658016407266686,25.590540958377968,25.522322295842812,25.45336731583607,25.383682975597946,25.313276292266657,25.242154341703234,25.170324257309176,25.09779322883707,25.024568501194214,24.950657373239945,24.876067196576628,24.800805374334743,24.72487935995227,24.64829665594866,24.571064812693873,24.49319142717228,24.414684141742292,24.335550642891594,24.255798659988535,24.175435964029578,24.094470366383568,24.012909717532764,23.930761905811057,23.84803485613955,23.764736528760046,23.680874917966207,23.596458050833302,23.511493985946334,23.425990812127168,23.339956647160502,23.25339963651952,23.16632795209105,23.078749790900744,22.99067337383845,22.90210694438406,22.813058767334272,22.723537127530154,22.63355032858622,22.543106691621016,22.45221455398966,22.360882268018262,22.269118199740994,22.176930727639657,22.08432824138621,21.991319140588406,21.897911833539048,21.804114735968568,21.70993626980192,21.615384861919395,21.52046894292214,21.42519694590196,21.329577305216475,21.233618455269198,21.13732882929509,21.04071685815179,20.943790969116673,20.846559584690198,20.749031121405267,20.65121398864352,20.553116587458327,20.454747309404606,20.356114535376175,20.257226634450397,20.158091962740553,20.05871886225608,19.959115659770905,19.859290665700197,19.75925217298533,19.659008455987852,19.55856776939216,19.457938347117462,19.357128401238686,19.25614612091715,19.154999671340768,19.053697192674058,18.952246799018138,18.85065657738106,18.74893458665813,18.647088856623103,18.545127386929796,18.44305814612474,18.340889070670496,18.238628063980418,18.13628299546451,18.033861699586733,17.931371974933928,17.8288215832963,17.726218248759995,17.623569656811227,17.52088345345284,17.418167244332903,17.315428593885773,17.21267502448529,17.109914015610823,17.007153003025824,16.904399377969174,16.80166048635925,16.698943628011268,16.596256055867155,16.493604975239002,16.39099754306545,16.288440867181578,16.185942005601824,16.08350796581667,15.981145704102635,15.878862124845883,15.776664079879433,15.674558367834173,15.572551733503312,15.4706508672209,15.368862404254035,15.26719292420907,15.165648950451427,15.064236949539676,14.962963330673396,14.861834445155088,14.76085658586608,14.660035986756446,14.559378822349133,14.458891207257825,14.358579195719189,14.258448781139013,14.158505895652604,14.058756409698946,13.959206131609227,13.859860807209259,13.76072611943599,13.661807687967997,13.563111068870134,13.464641754251868,13.36640517193985,13.268406685164258,13.170651592259183,13.073145126376597,12.975892455214392,12.878898680758097,12.782168839036299,12.685707899889758,12.589520766754125,12.493612276456355,12.397987199024355,12.30265023751034,12.207606027827435,12.11285913859976,12.01841407102543,11.92427525875307,11.830447067771255,11.736933796311,11.643739674761154,11.550868865596826,11.458325463320227,11.36611349441455,11.27423691731022,11.182699622363828,11.091505431849159,11.000658099960841,10.910161312830022,10.820018688552175,10.730233777226886,10.640810061009635,10.551750954175116,10.46305980319245,10.374739886811824,10.286794416162708,10.19922653486312,10.112039319140361,10.0252357779627,9.938818853182038,9.852791419687389,9.76715628556909,9.68191619229354,9.597073814888539,9.512631762138628,9.428592576791045,9.344958735771282,9.26173265040892,9.178916666673057,9.096513065417419,9.014524062634985,8.932951809721981,8.851798393751036,8.7710658377536,8.690756101010997,8.61087107935452,8.531412605474209,8.452382449235825,8.373782318006521,8.295613856988535,8.217878649561005,8.140578217629688,8.063714021984403,7.987287462664235,7.911299879329948,7.835752551643925,7.760646699657286,7.685983484203777,7.611764007300788,7.537989312556928,7.4646603855862,7.39177815442857,7.3193434899767835,7.247357206409259,7.175820061629041,7.104732757708296,7.034095941338775,6.963910204287437,6.894176083857649,6.824894063355451,6.756064572560882,6.687687988204164,6.619764634446643,6.552294783366247,6.485278655447506,6.418716420075605,6.352608196034773,6.286954052010636,6.221754007096204,6.157008031301748,6.092716046068098,6.028877924783349,5.965493493302795,5.9025625304719345,5.840084768652523,5.7780598942512285,5.716487548251112,5.655367326745637,5.594698781474859,5.534481420364063,5.474714708064363,5.415398066495322,5.356530875389333,5.298112472837727,5.240142155838376,5.182619180844802,5.125542764316371,5.068912083269884,5.012726275831929,4.956984441792288,4.901685643158029,4.846828904708231,4.792413214549201,4.738437524670081,4.684900751498661,4.631801776457443,4.579139446519496,4.526912574764395,4.475119940933887,4.423760291987084,4.372832342655356,4.322334775996547,4.2722662439485255,4.222625367881946,4.173410739152076,4.124620919649598,4.076254442350371,4.028309811863764,3.980785504979919,3.933679971215318,3.8869916333570003,3.8407188880050445,3.794860106113357,3.749413633528619,3.704377791527294,3.6597508773506324,3.615531164737617,3.5717169044555845,3.528306324828679,3.4852976322639364,3.4426890117747977,3.4004786275022116,3.358664623233049,3.3172451229158404,3.2762182311737367,3.235582033814593,3.1953345983381967,3.1554739744403766,3.115998194514137,3.0769052741476695,3.038193212619022,2.9998599933876373,2.9619035845824797,2.924321939486777,2.887112997019281,2.8502746822120346,2.8138049066845214,2.777701569114248,2.7419625557034903,2.7065857406424856,2.6715689865686474,2.6369101450220556,2.602607056896994,2.568657552889566,2.5350594539413094,2.5018105716787935,2.4689087088491197,2.436351659751368,2.404137210663793,2.37226314026691,2.3407272200623734,2.309527214787477,2.2786608828254997,2.2481259766116497,2.2179202430346727,2.188041423834087,2.158487255993005,2.12925547212651,2.1003438008656308,2.071749967236727,2.0434716930365178,2.0155066972024533,1.9878526961786482,1.9605074042772173,1.9334685340350453,1.906733796565984,1.8803009019084376,1.8541675593683489,1.8283314778575985,1.8027903662276965,1.7775419335989229,1.7525838896848125,1.727913945111943,1.7035298117351332,1.6794292029479674,1.6556098339886696,1.6320694222413203,1.6088056875324237,1.585816352422863,1.5630991424951177,1.5406517866359388,1.5184720173143627,1.4965575708550354,1.4749061877069978,1.4535156127078137,1.4323835953431048,1.4115078900014972,1.3908862562249826,1.3705164589547107,1.3503962687722602,1.3305234621362967,1.3108958216148077,1.291511136112734,1.2723672010951839,1.2534618188061406,1.2347927984827283,1.2163579565650446,1.1981551169015845,1.1801821109502668,1.1624367779751221,1.1449169652385804,1.1276205281894927,1.110545330646854,1.0936892449792042,1.0770501522798435,1.0606259425378033,1.0444145148046307,1.0284137773570061,1.012621647855239,0.9970360534976409,0.9816549311708598,0.9664762275961025,0.9514978994714303,0.9367179136099906,0.922134247074355,0.9077448873069124,0.8935478322563856,0.8795410905004902,0.8657226813647818,0.8520906350377098,0.8386429926819454,0.8253778065419534,0.8122931400479199,0.7993870679160437,0.7866576762451696,0.77410306260991,0.7617213361501973,0.7495106176573522,0.7374690396566868,0.7255947464866855,0.7138858943748213,0.7023406515099826,0.6909571981116338,0.6797337264956996,0.6686684411371919,0.6577595587296772,0.6470053082415753,0.6364039309693474,0.6259536805876111,0.6156528231962219,0.6054996373643532,0.5954924141716421,0.5856294572463809,0.575909082800883,0.5663296196639651,0.5568894093106687,0.5475868058892106,0.538420176245222,0.529387899943309,0.5204883692859829,0.5117199893299883,0.5030811779000915,0.4945703656003258,0.486185995822787,0.47792652475399394,0.46979042137882543,0.4617761674821338,0.4538822576480249,0.44610719925686615,0.4384495124800585,0.4309077302726067,0.42348039836353424,0.41616607524418636,0.40896333215442987,0.40187075306684383,0.39488693466887487,0.38801048634305313,0.3812400301452694,0.3745742007811667,0.36801164558068383,0.36155102447078574,0.35519100994641495,0.3489302870397183,0.3427675532875539,0.33670151869734893,0.3307309057113361,0.32485444916917594,0.319070896269049,0.31337900652721884],\"type\":\"scatter\"}],                        {\"template\":{\"data\":{\"barpolar\":[{\"marker\":{\"line\":{\"color\":\"white\",\"width\":0.5},\"pattern\":{\"fillmode\":\"overlay\",\"size\":10,\"solidity\":0.2}},\"type\":\"barpolar\"}],\"bar\":[{\"error_x\":{\"color\":\"rgb(36,36,36)\"},\"error_y\":{\"color\":\"rgb(36,36,36)\"},\"marker\":{\"line\":{\"color\":\"white\",\"width\":0.5},\"pattern\":{\"fillmode\":\"overlay\",\"size\":10,\"solidity\":0.2}},\"type\":\"bar\"}],\"carpet\":[{\"aaxis\":{\"endlinecolor\":\"rgb(36,36,36)\",\"gridcolor\":\"white\",\"linecolor\":\"white\",\"minorgridcolor\":\"white\",\"startlinecolor\":\"rgb(36,36,36)\"},\"baxis\":{\"endlinecolor\":\"rgb(36,36,36)\",\"gridcolor\":\"white\",\"linecolor\":\"white\",\"minorgridcolor\":\"white\",\"startlinecolor\":\"rgb(36,36,36)\"},\"type\":\"carpet\"}],\"choropleth\":[{\"colorbar\":{\"outlinewidth\":1,\"tickcolor\":\"rgb(36,36,36)\",\"ticks\":\"outside\"},\"type\":\"choropleth\"}],\"contourcarpet\":[{\"colorbar\":{\"outlinewidth\":1,\"tickcolor\":\"rgb(36,36,36)\",\"ticks\":\"outside\"},\"type\":\"contourcarpet\"}],\"contour\":[{\"colorbar\":{\"outlinewidth\":1,\"tickcolor\":\"rgb(36,36,36)\",\"ticks\":\"outside\"},\"colorscale\":[[0.0,\"#440154\"],[0.1111111111111111,\"#482878\"],[0.2222222222222222,\"#3e4989\"],[0.3333333333333333,\"#31688e\"],[0.4444444444444444,\"#26828e\"],[0.5555555555555556,\"#1f9e89\"],[0.6666666666666666,\"#35b779\"],[0.7777777777777778,\"#6ece58\"],[0.8888888888888888,\"#b5de2b\"],[1.0,\"#fde725\"]],\"type\":\"contour\"}],\"heatmapgl\":[{\"colorbar\":{\"outlinewidth\":1,\"tickcolor\":\"rgb(36,36,36)\",\"ticks\":\"outside\"},\"colorscale\":[[0.0,\"#440154\"],[0.1111111111111111,\"#482878\"],[0.2222222222222222,\"#3e4989\"],[0.3333333333333333,\"#31688e\"],[0.4444444444444444,\"#26828e\"],[0.5555555555555556,\"#1f9e89\"],[0.6666666666666666,\"#35b779\"],[0.7777777777777778,\"#6ece58\"],[0.8888888888888888,\"#b5de2b\"],[1.0,\"#fde725\"]],\"type\":\"heatmapgl\"}],\"heatmap\":[{\"colorbar\":{\"outlinewidth\":1,\"tickcolor\":\"rgb(36,36,36)\",\"ticks\":\"outside\"},\"colorscale\":[[0.0,\"#440154\"],[0.1111111111111111,\"#482878\"],[0.2222222222222222,\"#3e4989\"],[0.3333333333333333,\"#31688e\"],[0.4444444444444444,\"#26828e\"],[0.5555555555555556,\"#1f9e89\"],[0.6666666666666666,\"#35b779\"],[0.7777777777777778,\"#6ece58\"],[0.8888888888888888,\"#b5de2b\"],[1.0,\"#fde725\"]],\"type\":\"heatmap\"}],\"histogram2dcontour\":[{\"colorbar\":{\"outlinewidth\":1,\"tickcolor\":\"rgb(36,36,36)\",\"ticks\":\"outside\"},\"colorscale\":[[0.0,\"#440154\"],[0.1111111111111111,\"#482878\"],[0.2222222222222222,\"#3e4989\"],[0.3333333333333333,\"#31688e\"],[0.4444444444444444,\"#26828e\"],[0.5555555555555556,\"#1f9e89\"],[0.6666666666666666,\"#35b779\"],[0.7777777777777778,\"#6ece58\"],[0.8888888888888888,\"#b5de2b\"],[1.0,\"#fde725\"]],\"type\":\"histogram2dcontour\"}],\"histogram2d\":[{\"colorbar\":{\"outlinewidth\":1,\"tickcolor\":\"rgb(36,36,36)\",\"ticks\":\"outside\"},\"colorscale\":[[0.0,\"#440154\"],[0.1111111111111111,\"#482878\"],[0.2222222222222222,\"#3e4989\"],[0.3333333333333333,\"#31688e\"],[0.4444444444444444,\"#26828e\"],[0.5555555555555556,\"#1f9e89\"],[0.6666666666666666,\"#35b779\"],[0.7777777777777778,\"#6ece58\"],[0.8888888888888888,\"#b5de2b\"],[1.0,\"#fde725\"]],\"type\":\"histogram2d\"}],\"histogram\":[{\"marker\":{\"line\":{\"color\":\"white\",\"width\":0.6}},\"type\":\"histogram\"}],\"mesh3d\":[{\"colorbar\":{\"outlinewidth\":1,\"tickcolor\":\"rgb(36,36,36)\",\"ticks\":\"outside\"},\"type\":\"mesh3d\"}],\"parcoords\":[{\"line\":{\"colorbar\":{\"outlinewidth\":1,\"tickcolor\":\"rgb(36,36,36)\",\"ticks\":\"outside\"}},\"type\":\"parcoords\"}],\"pie\":[{\"automargin\":true,\"type\":\"pie\"}],\"scatter3d\":[{\"line\":{\"colorbar\":{\"outlinewidth\":1,\"tickcolor\":\"rgb(36,36,36)\",\"ticks\":\"outside\"}},\"marker\":{\"colorbar\":{\"outlinewidth\":1,\"tickcolor\":\"rgb(36,36,36)\",\"ticks\":\"outside\"}},\"type\":\"scatter3d\"}],\"scattercarpet\":[{\"marker\":{\"colorbar\":{\"outlinewidth\":1,\"tickcolor\":\"rgb(36,36,36)\",\"ticks\":\"outside\"}},\"type\":\"scattercarpet\"}],\"scattergeo\":[{\"marker\":{\"colorbar\":{\"outlinewidth\":1,\"tickcolor\":\"rgb(36,36,36)\",\"ticks\":\"outside\"}},\"type\":\"scattergeo\"}],\"scattergl\":[{\"marker\":{\"colorbar\":{\"outlinewidth\":1,\"tickcolor\":\"rgb(36,36,36)\",\"ticks\":\"outside\"}},\"type\":\"scattergl\"}],\"scattermapbox\":[{\"marker\":{\"colorbar\":{\"outlinewidth\":1,\"tickcolor\":\"rgb(36,36,36)\",\"ticks\":\"outside\"}},\"type\":\"scattermapbox\"}],\"scatterpolargl\":[{\"marker\":{\"colorbar\":{\"outlinewidth\":1,\"tickcolor\":\"rgb(36,36,36)\",\"ticks\":\"outside\"}},\"type\":\"scatterpolargl\"}],\"scatterpolar\":[{\"marker\":{\"colorbar\":{\"outlinewidth\":1,\"tickcolor\":\"rgb(36,36,36)\",\"ticks\":\"outside\"}},\"type\":\"scatterpolar\"}],\"scatter\":[{\"fillpattern\":{\"fillmode\":\"overlay\",\"size\":10,\"solidity\":0.2},\"type\":\"scatter\"}],\"scatterternary\":[{\"marker\":{\"colorbar\":{\"outlinewidth\":1,\"tickcolor\":\"rgb(36,36,36)\",\"ticks\":\"outside\"}},\"type\":\"scatterternary\"}],\"surface\":[{\"colorbar\":{\"outlinewidth\":1,\"tickcolor\":\"rgb(36,36,36)\",\"ticks\":\"outside\"},\"colorscale\":[[0.0,\"#440154\"],[0.1111111111111111,\"#482878\"],[0.2222222222222222,\"#3e4989\"],[0.3333333333333333,\"#31688e\"],[0.4444444444444444,\"#26828e\"],[0.5555555555555556,\"#1f9e89\"],[0.6666666666666666,\"#35b779\"],[0.7777777777777778,\"#6ece58\"],[0.8888888888888888,\"#b5de2b\"],[1.0,\"#fde725\"]],\"type\":\"surface\"}],\"table\":[{\"cells\":{\"fill\":{\"color\":\"rgb(237,237,237)\"},\"line\":{\"color\":\"white\"}},\"header\":{\"fill\":{\"color\":\"rgb(217,217,217)\"},\"line\":{\"color\":\"white\"}},\"type\":\"table\"}]},\"layout\":{\"annotationdefaults\":{\"arrowhead\":0,\"arrowwidth\":1},\"autotypenumbers\":\"strict\",\"coloraxis\":{\"colorbar\":{\"outlinewidth\":1,\"tickcolor\":\"rgb(36,36,36)\",\"ticks\":\"outside\"}},\"colorscale\":{\"diverging\":[[0.0,\"rgb(103,0,31)\"],[0.1,\"rgb(178,24,43)\"],[0.2,\"rgb(214,96,77)\"],[0.3,\"rgb(244,165,130)\"],[0.4,\"rgb(253,219,199)\"],[0.5,\"rgb(247,247,247)\"],[0.6,\"rgb(209,229,240)\"],[0.7,\"rgb(146,197,222)\"],[0.8,\"rgb(67,147,195)\"],[0.9,\"rgb(33,102,172)\"],[1.0,\"rgb(5,48,97)\"]],\"sequential\":[[0.0,\"#440154\"],[0.1111111111111111,\"#482878\"],[0.2222222222222222,\"#3e4989\"],[0.3333333333333333,\"#31688e\"],[0.4444444444444444,\"#26828e\"],[0.5555555555555556,\"#1f9e89\"],[0.6666666666666666,\"#35b779\"],[0.7777777777777778,\"#6ece58\"],[0.8888888888888888,\"#b5de2b\"],[1.0,\"#fde725\"]],\"sequentialminus\":[[0.0,\"#440154\"],[0.1111111111111111,\"#482878\"],[0.2222222222222222,\"#3e4989\"],[0.3333333333333333,\"#31688e\"],[0.4444444444444444,\"#26828e\"],[0.5555555555555556,\"#1f9e89\"],[0.6666666666666666,\"#35b779\"],[0.7777777777777778,\"#6ece58\"],[0.8888888888888888,\"#b5de2b\"],[1.0,\"#fde725\"]]},\"colorway\":[\"#4C78A8\",\"#F58518\",\"#E45756\",\"#72B7B2\",\"#54A24B\",\"#EECA3B\",\"#B279A2\",\"#FF9DA6\",\"#9D755D\",\"#BAB0AC\"],\"font\":{\"color\":\"rgb(36,36,36)\",\"family\":\"merriserif\",\"size\":12},\"geo\":{\"bgcolor\":\"white\",\"lakecolor\":\"white\",\"landcolor\":\"white\",\"showlakes\":true,\"showland\":true,\"subunitcolor\":\"white\"},\"hoverlabel\":{\"align\":\"left\"},\"hovermode\":\"closest\",\"mapbox\":{\"style\":\"light\"},\"paper_bgcolor\":\"white\",\"plot_bgcolor\":\"white\",\"polar\":{\"angularaxis\":{\"gridcolor\":\"rgb(232,232,232)\",\"linecolor\":\"rgb(36,36,36)\",\"showgrid\":false,\"showline\":true,\"ticks\":\"outside\"},\"bgcolor\":\"white\",\"radialaxis\":{\"gridcolor\":\"rgb(232,232,232)\",\"linecolor\":\"rgb(36,36,36)\",\"showgrid\":false,\"showline\":true,\"ticks\":\"outside\"}},\"scene\":{\"xaxis\":{\"backgroundcolor\":\"white\",\"gridcolor\":\"rgb(232,232,232)\",\"gridwidth\":2,\"linecolor\":\"rgb(36,36,36)\",\"showbackground\":true,\"showgrid\":false,\"showline\":true,\"ticks\":\"outside\",\"zeroline\":false,\"zerolinecolor\":\"rgb(36,36,36)\"},\"yaxis\":{\"backgroundcolor\":\"white\",\"gridcolor\":\"rgb(232,232,232)\",\"gridwidth\":2,\"linecolor\":\"rgb(36,36,36)\",\"showbackground\":true,\"showgrid\":false,\"showline\":true,\"ticks\":\"outside\",\"zeroline\":false,\"zerolinecolor\":\"rgb(36,36,36)\"},\"zaxis\":{\"backgroundcolor\":\"white\",\"gridcolor\":\"rgb(232,232,232)\",\"gridwidth\":2,\"linecolor\":\"rgb(36,36,36)\",\"showbackground\":true,\"showgrid\":false,\"showline\":true,\"ticks\":\"outside\",\"zeroline\":false,\"zerolinecolor\":\"rgb(36,36,36)\"}},\"shapedefaults\":{\"fillcolor\":\"black\",\"line\":{\"width\":0},\"opacity\":0.3},\"ternary\":{\"aaxis\":{\"gridcolor\":\"rgb(232,232,232)\",\"linecolor\":\"rgb(36,36,36)\",\"showgrid\":false,\"showline\":true,\"ticks\":\"outside\"},\"baxis\":{\"gridcolor\":\"rgb(232,232,232)\",\"linecolor\":\"rgb(36,36,36)\",\"showgrid\":false,\"showline\":true,\"ticks\":\"outside\"},\"bgcolor\":\"white\",\"caxis\":{\"gridcolor\":\"rgb(232,232,232)\",\"linecolor\":\"rgb(36,36,36)\",\"showgrid\":false,\"showline\":true,\"ticks\":\"outside\"}},\"title\":{\"x\":0.5,\"font\":{\"family\":\"merriserif\",\"size\":24},\"xanchor\":\"center\"},\"xaxis\":{\"automargin\":true,\"gridcolor\":\"rgb(232,232,232)\",\"linecolor\":\"rgb(36,36,36)\",\"showgrid\":false,\"showline\":true,\"ticks\":\"outside\",\"title\":{\"standoff\":15},\"zeroline\":false,\"zerolinecolor\":\"rgb(36,36,36)\"},\"yaxis\":{\"automargin\":true,\"gridcolor\":\"rgb(232,232,232)\",\"linecolor\":\"rgb(36,36,36)\",\"showgrid\":false,\"showline\":true,\"ticks\":\"outside\",\"title\":{\"standoff\":15},\"zeroline\":false,\"zerolinecolor\":\"rgb(36,36,36)\"},\"legend\":{\"bgcolor\":\"white\",\"bordercolor\":\"Black\",\"borderwidth\":1,\"orientation\":\"h\",\"traceorder\":\"reversed\",\"x\":0.5,\"xanchor\":\"center\",\"y\":-0.2}}},\"shapes\":[{\"line\":{\"color\":\"green\",\"dash\":\"dash\",\"width\":3},\"type\":\"line\",\"x0\":0.2,\"x1\":0.2,\"xref\":\"x\",\"y0\":0,\"y1\":1,\"yref\":\"y domain\"},{\"line\":{\"color\":\"red\",\"dash\":\"dash\",\"width\":3},\"type\":\"line\",\"x0\":0.21414213562373097,\"x1\":0.21414213562373097,\"xref\":\"x\",\"y0\":0,\"y1\":1,\"yref\":\"y domain\"},{\"line\":{\"color\":\"red\",\"dash\":\"dash\",\"width\":3},\"type\":\"line\",\"x0\":0.18585786437626906,\"x1\":0.18585786437626906,\"xref\":\"x\",\"y0\":0,\"y1\":1,\"yref\":\"y domain\"}],\"legend\":{\"x\":0.7,\"y\":0.9},\"title\":{\"text\":\"One Standard Error for Volatility\"},\"xaxis\":{\"title\":{\"text\":\"\"}},\"yaxis\":{\"title\":{\"text\":\"PDF\"}}},                        {\"responsive\": true}                    ).then(function(){\n",
       "                            \n",
       "var gd = document.getElementById('27640168-b8ce-4bad-885d-9c956a13f442');\n",
       "var x = new MutationObserver(function (mutations, observer) {{\n",
       "        var display = window.getComputedStyle(gd).display;\n",
       "        if (!display || display === 'none') {{\n",
       "            console.log([gd, 'removed!']);\n",
       "            Plotly.purge(gd);\n",
       "            observer.disconnect();\n",
       "        }}\n",
       "}});\n",
       "\n",
       "// Listen for the removal of the full notebook cells\n",
       "var notebookContainer = gd.closest('#notebook-container');\n",
       "if (notebookContainer) {{\n",
       "    x.observe(notebookContainer, {childList: true});\n",
       "}}\n",
       "\n",
       "// Listen for the clearing of the current output cell\n",
       "var outputEl = gd.closest('.output');\n",
       "if (outputEl) {{\n",
       "    x.observe(outputEl, {childList: true});\n",
       "}}\n",
       "\n",
       "                        })                };                });            </script>        </div>"
      ]
     },
     "metadata": {},
     "output_type": "display_data"
    }
   ],
   "source": [
    "import numpy as np\n",
    "import matplotlib.pyplot as plt\n",
    "from scipy.stats import norm\n",
    "\n",
    "mean = 0.2  \n",
    "std_dev = mean/np.sqrt(2*100) \n",
    "x = np.linspace(mean - 3 * std_dev, mean + 3 * std_dev, 1000)\n",
    "pdf = norm.pdf(x, loc=mean, scale=std_dev)\n",
    "\n",
    "# Plot Estimator\n",
    "fig = go.Figure()\n",
    "fig.add_trace(go.Scatter(x=x, y=pdf, mode='lines', name=f'Mean={mean}, Std Dev={std_dev}'))\n",
    "fig.add_vline(x=vol, line_width=3, line_dash=\"dash\", line_color=\"green\")\n",
    "fig.add_vline(x=ub_vol, line_width=3, line_dash=\"dash\", line_color=\"red\")\n",
    "fig.add_vline(x=lb_vol, line_width=3, line_dash=\"dash\", line_color=\"red\")\n",
    "\n",
    "fig.update_layout(\n",
    "    title='One Standard Error for Volatility',\n",
    "    xaxis_title='',\n",
    "    yaxis_title='PDF',\n",
    "    legend=dict(x=0.7, y=0.9),\n",
    ")\n",
    "fig.show()"
   ]
  },
  {
   "cell_type": "markdown",
   "id": "ce3ff33c",
   "metadata": {},
   "source": [
    "### Example: standard error of correlation"
   ]
  },
  {
   "cell_type": "markdown",
   "id": "5e474f71",
   "metadata": {},
   "source": [
    "*A historical correlation estimate of 0.2 is obtained using 36 observations. Is this significantly\n",
    "greater than 0?*"
   ]
  },
  {
   "cell_type": "code",
   "execution_count": 83,
   "id": "a98bfdfd",
   "metadata": {},
   "outputs": [
    {
     "name": "stdout",
     "output_type": "stream",
     "text": [
      "1.2247448713915894\n"
     ]
    }
   ],
   "source": [
    "corr = 0.2\n",
    "N = 36\n",
    "\n",
    "def tstats_corr(corr, N):\n",
    "    return (corr*np.sqrt(N))/np.sqrt(1- corr**2)\n",
    "\n",
    "t  = tstats_corr(corr, N)\n",
    "print(t)"
   ]
  },
  {
   "cell_type": "markdown",
   "id": "7b800735",
   "metadata": {},
   "source": [
    "The 10% upper critical value of the $t$ distribution with 36 degrees of freedom is greater then this 1.225. Hence we cannot reject the null hypthesis of correlation greater than 0"
   ]
  }
 ],
 "metadata": {
  "kernelspec": {
   "display_name": "Python 3",
   "language": "python",
   "name": "python3"
  },
  "language_info": {
   "codemirror_mode": {
    "name": "ipython",
    "version": 3
   },
   "file_extension": ".py",
   "mimetype": "text/x-python",
   "name": "python",
   "nbconvert_exporter": "python",
   "pygments_lexer": "ipython3",
   "version": "3.8.3"
  }
 },
 "nbformat": 4,
 "nbformat_minor": 5
}
