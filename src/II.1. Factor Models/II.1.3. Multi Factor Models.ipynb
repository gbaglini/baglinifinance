{
 "cells": [
  {
   "cell_type": "markdown",
   "id": "1bf8cb07",
   "metadata": {},
   "source": [
    "# Multi Factor Models"
   ]
  },
  {
   "cell_type": "code",
   "execution_count": 31,
   "id": "747f4b13",
   "metadata": {},
   "outputs": [],
   "source": [
    "import yfinance as yf\n",
    "import pandas as pd\n",
    "from scipy import stats\n",
    "import numpy as np\n",
    "import plotly.express as px\n",
    "from scipy.optimize import minimize\n",
    "import plotly.graph_objects as go\n",
    "import plotly.io as pio"
   ]
  },
  {
   "cell_type": "code",
   "execution_count": 32,
   "id": "32aab6c9",
   "metadata": {},
   "outputs": [],
   "source": [
    "import pathlib\n",
    "import sys\n",
    "utils_path = pathlib.Path().absolute().parent.parent\n",
    "sys.path.append(utils_path.__str__())\n",
    "import utils.layout  as lay"
   ]
  },
  {
   "cell_type": "code",
   "execution_count": 33,
   "id": "49381cb4",
   "metadata": {},
   "outputs": [],
   "source": [
    "pio.templates.default = 'simple_white+blog_mra'"
   ]
  },
  {
   "cell_type": "markdown",
   "id": "ed04fc81",
   "metadata": {},
   "source": [
    "### Portfolio Returns"
   ]
  },
  {
   "cell_type": "markdown",
   "id": "127cf4bc",
   "metadata": {},
   "source": [
    "$$\\boldsymbol{y = \\alpha + X\\beta + \\epsilon}$$\n",
    "$$y = \\tilde{X}\\tilde{B} + \\epsilon $$\n",
    "$\\tilde{X} = (1  X) $"
   ]
  },
  {
   "cell_type": "markdown",
   "id": "5dc39647",
   "metadata": {},
   "source": [
    "### <font color='Hunter Green'>**Example II.1.3**</font>"
   ]
  },
  {
   "cell_type": "code",
   "execution_count": 3,
   "id": "e17dd9e6",
   "metadata": {},
   "outputs": [],
   "source": [
    "betas = np.array([0.8,  1.2])\n",
    "cov_matrix = np.array([[0.0225, -0.015], [-0.015, 0.04]])\n",
    "ptf_vol = 0.25\n"
   ]
  },
  {
   "cell_type": "code",
   "execution_count": 4,
   "id": "36678d4a",
   "metadata": {},
   "outputs": [],
   "source": [
    "stock_fct_var = betas.T.dot(cov_matrix).dot(betas)\n",
    "stock_fct_vol = stock_fct_var**0.5\n",
    "ptf_var = 0.25**2\n",
    "specs_var = ptf_var - stock_fct_var\n",
    "specs_vol = specs_var**0.5"
   ]
  },
  {
   "cell_type": "code",
   "execution_count": 5,
   "id": "bd64e264",
   "metadata": {},
   "outputs": [
    {
     "name": "stdout",
     "output_type": "stream",
     "text": [
      "Volatility due to risk factors: 0.20784609690826528\n",
      "Idiosyncratic volatility: 0.13892443989449804\n"
     ]
    }
   ],
   "source": [
    "print(\"Volatility due to risk factors: {}\".format(stock_fct_vol))\n",
    "print(\"Idiosyncratic volatility: {}\".format(specs_vol))"
   ]
  },
  {
   "cell_type": "markdown",
   "id": "02f6ae12",
   "metadata": {},
   "source": [
    "$$ 25\\% = (20.78\\%^2 + 13.89\\%^2) $$"
   ]
  },
  {
   "cell_type": "markdown",
   "id": "3d779ecf",
   "metadata": {},
   "source": [
    "Key points:\n",
    "* additivity of the variances (not volatilities), but only when we assume zero covariance between specific returns and risk factors\n",
    "* the portfolio alpha does not affect the risk decomposition, but it does affect the assets expected returns"
   ]
  },
  {
   "cell_type": "markdown",
   "id": "a34c8915",
   "metadata": {},
   "source": [
    "### Style attribution analysis"
   ]
  },
  {
   "cell_type": "markdown",
   "id": "ea183a49",
   "metadata": {},
   "source": [
    "### <font color='Hunter Green'>**Example II.1.4**</font>"
   ]
  },
  {
   "cell_type": "code",
   "execution_count": 6,
   "id": "b2e08485",
   "metadata": {},
   "outputs": [],
   "source": [
    "df = pd.read_excel(r\"data\\Examples_II.1.xls\", sheet_name=\"EX_II.1.4\", usecols=\"G:O\").set_index(\"Date\")\n",
    "ret = np.log(df/df.shift())[1:]"
   ]
  },
  {
   "cell_type": "code",
   "execution_count": 7,
   "id": "f2d8226b",
   "metadata": {},
   "outputs": [],
   "source": [
    "def min_squared_res(betas0, fund_ret, fct_ret):\n",
    "    \"\"\"Minimize squared residuals\"\"\"\n",
    "    return np.sum((fund_ret - fct_ret.dot(betas0))**2)\n",
    "\n",
    "def sum_weights(betas0):\n",
    "    return sum(betas0) - 1\n",
    "\n",
    "def no_short(betas0):\n",
    "    return betas0\n",
    "\n",
    "betas0 = [0.5, 0.5, 0.5, 0.5]\n",
    "cons = [{'type':'eq', 'fun': sum_weights},\n",
    "         {'type':'ineq', 'fun': no_short}]\n"
   ]
  },
  {
   "cell_type": "code",
   "execution_count": 8,
   "id": "21253b78",
   "metadata": {},
   "outputs": [],
   "source": [
    "#ret_opt = ret.iloc[ret.index<=\"2004-12-31\"]\n",
    "opt_res = pd.DataFrame(columns=[\"R1000V\", \"R1000G\", \"R2000V\", \"R2000G\"], \n",
    "                       index = [\"VAA\", \"VIT\", \"FAA\", \"FID\"])\n",
    "for col in [\"VAA\", \"VIT\", \"FAA\", \"FID\"]:\n",
    "    res = minimize(min_squared_res, betas0, \n",
    "                   args=(ret[col], ret[[\"R1000V\", \"R1000G\", \"R2000V\", \"R2000G\"]]),\n",
    "                   constraints=cons)\n",
    "    opt_res.loc[col, :] = res.x"
   ]
  },
  {
   "cell_type": "markdown",
   "id": "4ecddb88",
   "metadata": {},
   "source": [
    "$$\\begin{array}{lllll}\n",
    "\\hline\n",
    " & R1000V & R1000G & R2000V & R2000G \\\\\n",
    "\\hline\n",
    "VAA & 0.95 & 0.02 & -0.00 & 0.02 \\\\\n",
    "VIT & 0.93 & -0.00 & 0.00 & 0.07 \\\\\n",
    "FAA & 0.35 & 0.05 & 0.00 & 0.59 \\\\\n",
    "FID & 0.88 & 0.01 & -0.00 & 0.11 \\\\\n",
    "\\hline\n",
    "\\end{array}\n",
    "$$"
   ]
  },
  {
   "cell_type": "markdown",
   "id": "968ab173",
   "metadata": {},
   "source": [
    "## Generalization of multifactor models"
   ]
  },
  {
   "cell_type": "markdown",
   "id": "646752db",
   "metadata": {},
   "source": [
    "<font color='Hunter Green'>**Example II.1.5**</font>"
   ]
  },
  {
   "cell_type": "code",
   "execution_count": 9,
   "id": "d9f3de10",
   "metadata": {},
   "outputs": [],
   "source": [
    "betas = np.array([[0.2, 1.2], [0.9, 0.2], [1.3, 0.7]])\n",
    "weights = np.array([-0.25, 0.75, 0.5])"
   ]
  },
  {
   "cell_type": "code",
   "execution_count": 10,
   "id": "9812b4e8",
   "metadata": {},
   "outputs": [
    {
     "data": {
      "text/plain": [
       "0.1747185236315829"
      ]
     },
     "execution_count": 10,
     "metadata": {},
     "output_type": "execute_result"
    }
   ],
   "source": [
    "#net portfolio betas\n",
    "ptf_net_betas = betas.T.dot(weights)\n",
    "#using the cov matrix for risk factor of the previous example\n",
    "ptf_risk_fct_var = ptf_net_betas.dot(cov_matrix).dot(ptf_net_betas)\n",
    "ptf_risk_fct_vol = ptf_risk_fct_var**0.5\n",
    "ptf_risk_fct_vol"
   ]
  },
  {
   "cell_type": "markdown",
   "id": "5fb0ccd1",
   "metadata": {},
   "source": [
    "### Multi-factor models of international portfolios"
   ]
  },
  {
   "cell_type": "markdown",
   "id": "ac9c0dfc",
   "metadata": {},
   "source": [
    "<font color='Hunter Green'>**Example II.1.6**</font>"
   ]
  },
  {
   "cell_type": "code",
   "execution_count": 6,
   "id": "7d177a75",
   "metadata": {},
   "outputs": [],
   "source": [
    "data = {'FTSE 100': [2.5,  1.5, 0.20], 'SP 500': [1, 1.2, 0.22], 'DAX 30': [1.5, 0.8, 0.25],\n",
    "       'USD/GBP': [1,  1, 0.1], 'EUR/GBP': [1.5,  1, 0.12]}\n",
    "covs = {'FTSE 100': [0.04, 0.035, 0.035, 0.004, 0.0072], 'SP 500': [0.0352, 0.0484, 0.033,-0.0055, 0.00132], \n",
    "        'DAX 30': [0.035, 0.033, 0.0625, 0.00125, -0.0045],\n",
    "       'USD/GBP': [0.004, -0.0055, 0.00125, 0.01, 0.0072], 'EUR/GBP': [0.0072, 0.00132, -0.0045, 0.0072, 0.0144]}\n",
    "df_ptf = pd.DataFrame(data, index=[\"Holding\", \"Beta\", \"Volatility\"])\n",
    "df_ptf.loc[\"Weights\", : \"DAX 30\"] = df_ptf.loc[\"Holding\", :\"DAX 30\"] / df_ptf.loc[\"Holding\", :\"DAX 30\"].sum()\n",
    "weights = df_ptf.loc[\"Weights\", : \"DAX 30\"]\n",
    "df_covs = pd.DataFrame(covs, index=list(covs.keys()))"
   ]
  },
  {
   "cell_type": "markdown",
   "id": "50232d08",
   "metadata": {},
   "source": [
    "$$Portfolio$$\n",
    "$$\\begin{array}{lrrrrr}\n",
    "\\hline\n",
    " & FTSE 100 & SP 500 & DAX 30 & USD/GBP & EUR/GBP \\\\\n",
    "\\hline\n",
    "Holding & 2.50 & 1.00 & 1.50 & 1.00 & 1.50 \\\\\n",
    "Beta & 1.50 & 1.20 & 0.80 & 1.00 & 1.00 \\\\\n",
    "Volatility & 0.20 & 0.22 & 0.25 & 0.10 & 0.12 \\\\\n",
    "Weights & 0.50 & 0.20 & 0.30 & NaN & NaN \\\\\n",
    "\\hline\n",
    "\\end{array}$$\n",
    "\n",
    "$$Covariances$$\n",
    "$$\n",
    "\\begin{array}{lrrr|rr}\n",
    "\\hline\n",
    " & FTSE 100 & SP 500 & DAX 30 &  USD/GBP & EUR/GBP \\\\\n",
    "\\hline\n",
    "FTSE 100 & 0.04 & 0.04 & 0.04 & 0.00 & 0.01 \\\\\n",
    "SP 500 & 0.04 & 0.05 & 0.03 & -0.01 & 0.00 \\\\\n",
    "DAX 30 & 0.04 & 0.03 & 0.06 & 0.00 & -0.00 \\\\ \\hline\n",
    "USD/GBP & 0.00 & -0.01 & 0.00 & 0.01 & 0.01 \\\\ \n",
    "EUR/GBP & 0.01 & 0.00 & -0.00 & 0.01 & 0.01 \\\\\n",
    "\\hline\n",
    "\\end{array}\n",
    "$$"
   ]
  },
  {
   "cell_type": "code",
   "execution_count": 42,
   "id": "dc3cbf39",
   "metadata": {},
   "outputs": [],
   "source": [
    "betas = np.diag(df_ptf.loc[\"Beta\", :\"DAX 30\"])\n",
    "betas = np.append(betas, [[0, 1, 0], [0,0,1]], axis=0)"
   ]
  },
  {
   "cell_type": "markdown",
   "id": "960274c8",
   "metadata": {},
   "source": [
    "$$Betas$$\n",
    "$$\\begin{array}{lrrr}\n",
    "\\hline\n",
    " & FTSE 100 & SP 500 & DAX 30 \\\\\n",
    "\\hline\n",
    "FTSE 100 & 1.50 & 0.00 & 0.00 \\\\\n",
    "SP 500 & 0.00 & 1.20 & 0.00 \\\\\n",
    "DAX 30 & 0.00 & 0.00 & 0.80 \\\\\n",
    "USD/GBP & 0.00 & 1.00 & 0.00 \\\\\n",
    "EUR/GBP & 0.00 & 0.00 & 1.00 \\\\\n",
    "\\hline\n",
    "\\end{array}$$"
   ]
  },
  {
   "cell_type": "code",
   "execution_count": 13,
   "id": "643f0f56",
   "metadata": {},
   "outputs": [],
   "source": [
    "bw = betas.dot(weights)"
   ]
  },
  {
   "cell_type": "code",
   "execution_count": 15,
   "id": "ddd2da65",
   "metadata": {},
   "outputs": [],
   "source": [
    "#total variance\n",
    "sys_var = bw.T.dot(df_covs).dot(bw)\n",
    "sys_risk = sys_var**0.5"
   ]
  },
  {
   "cell_type": "code",
   "execution_count": 18,
   "id": "6a5af5b5",
   "metadata": {},
   "outputs": [],
   "source": [
    "#equity variance\n",
    "sys_var_equity = bw[:3].T.dot(df_covs.iloc[:3, :3]).dot(bw[:3])\n",
    "sys_risk_equity = sys_var_equity**0.5"
   ]
  },
  {
   "cell_type": "code",
   "execution_count": 19,
   "id": "7c84a730",
   "metadata": {},
   "outputs": [],
   "source": [
    "#forex variance\n",
    "sys_var_forex = bw[3:].T.dot(df_covs.iloc[3:, 3:]).dot(bw[3:])\n",
    "sys_risk_forex = sys_var_forex**0.5"
   ]
  },
  {
   "cell_type": "code",
   "execution_count": 43,
   "id": "dc551e44",
   "metadata": {},
   "outputs": [],
   "source": [
    "#quanto variance\n",
    "sys_var_quanto = bw[:3].T.dot(df_covs.iloc[:3, 3:]).dot(weights[1:].T)\n",
    "sys_risk_quanto= sys_var_quanto**0.5"
   ]
  },
  {
   "cell_type": "code",
   "execution_count": 35,
   "id": "b496b884",
   "metadata": {},
   "outputs": [
    {
     "data": {
      "application/vnd.plotly.v1+json": {
       "config": {
        "plotlyServerURL": "https://plot.ly"
       },
       "data": [
        {
         "labels": [
          "Equity",
          "Forex",
          "Quanto"
         ],
         "type": "pie",
         "values": [
          0.05792544000000001,
          0.00256,
          0.00178704
         ]
        }
       ],
       "layout": {
        "height": 600,
        "template": {
         "data": {
          "bar": [
           {
            "error_x": {
             "color": "rgb(36,36,36)"
            },
            "error_y": {
             "color": "rgb(36,36,36)"
            },
            "marker": {
             "line": {
              "color": "white",
              "width": 0.5
             },
             "pattern": {
              "fillmode": "overlay",
              "size": 10,
              "solidity": 0.2
             }
            },
            "type": "bar"
           }
          ],
          "barpolar": [
           {
            "marker": {
             "line": {
              "color": "white",
              "width": 0.5
             },
             "pattern": {
              "fillmode": "overlay",
              "size": 10,
              "solidity": 0.2
             }
            },
            "type": "barpolar"
           }
          ],
          "carpet": [
           {
            "aaxis": {
             "endlinecolor": "rgb(36,36,36)",
             "gridcolor": "white",
             "linecolor": "white",
             "minorgridcolor": "white",
             "startlinecolor": "rgb(36,36,36)"
            },
            "baxis": {
             "endlinecolor": "rgb(36,36,36)",
             "gridcolor": "white",
             "linecolor": "white",
             "minorgridcolor": "white",
             "startlinecolor": "rgb(36,36,36)"
            },
            "type": "carpet"
           }
          ],
          "choropleth": [
           {
            "colorbar": {
             "outlinewidth": 1,
             "tickcolor": "rgb(36,36,36)",
             "ticks": "outside"
            },
            "type": "choropleth"
           }
          ],
          "contour": [
           {
            "colorbar": {
             "outlinewidth": 1,
             "tickcolor": "rgb(36,36,36)",
             "ticks": "outside"
            },
            "colorscale": [
             [
              0,
              "#440154"
             ],
             [
              0.1111111111111111,
              "#482878"
             ],
             [
              0.2222222222222222,
              "#3e4989"
             ],
             [
              0.3333333333333333,
              "#31688e"
             ],
             [
              0.4444444444444444,
              "#26828e"
             ],
             [
              0.5555555555555556,
              "#1f9e89"
             ],
             [
              0.6666666666666666,
              "#35b779"
             ],
             [
              0.7777777777777778,
              "#6ece58"
             ],
             [
              0.8888888888888888,
              "#b5de2b"
             ],
             [
              1,
              "#fde725"
             ]
            ],
            "type": "contour"
           }
          ],
          "contourcarpet": [
           {
            "colorbar": {
             "outlinewidth": 1,
             "tickcolor": "rgb(36,36,36)",
             "ticks": "outside"
            },
            "type": "contourcarpet"
           }
          ],
          "heatmap": [
           {
            "colorbar": {
             "outlinewidth": 1,
             "tickcolor": "rgb(36,36,36)",
             "ticks": "outside"
            },
            "colorscale": [
             [
              0,
              "#440154"
             ],
             [
              0.1111111111111111,
              "#482878"
             ],
             [
              0.2222222222222222,
              "#3e4989"
             ],
             [
              0.3333333333333333,
              "#31688e"
             ],
             [
              0.4444444444444444,
              "#26828e"
             ],
             [
              0.5555555555555556,
              "#1f9e89"
             ],
             [
              0.6666666666666666,
              "#35b779"
             ],
             [
              0.7777777777777778,
              "#6ece58"
             ],
             [
              0.8888888888888888,
              "#b5de2b"
             ],
             [
              1,
              "#fde725"
             ]
            ],
            "type": "heatmap"
           }
          ],
          "heatmapgl": [
           {
            "colorbar": {
             "outlinewidth": 1,
             "tickcolor": "rgb(36,36,36)",
             "ticks": "outside"
            },
            "colorscale": [
             [
              0,
              "#440154"
             ],
             [
              0.1111111111111111,
              "#482878"
             ],
             [
              0.2222222222222222,
              "#3e4989"
             ],
             [
              0.3333333333333333,
              "#31688e"
             ],
             [
              0.4444444444444444,
              "#26828e"
             ],
             [
              0.5555555555555556,
              "#1f9e89"
             ],
             [
              0.6666666666666666,
              "#35b779"
             ],
             [
              0.7777777777777778,
              "#6ece58"
             ],
             [
              0.8888888888888888,
              "#b5de2b"
             ],
             [
              1,
              "#fde725"
             ]
            ],
            "type": "heatmapgl"
           }
          ],
          "histogram": [
           {
            "marker": {
             "line": {
              "color": "white",
              "width": 0.6
             }
            },
            "type": "histogram"
           }
          ],
          "histogram2d": [
           {
            "colorbar": {
             "outlinewidth": 1,
             "tickcolor": "rgb(36,36,36)",
             "ticks": "outside"
            },
            "colorscale": [
             [
              0,
              "#440154"
             ],
             [
              0.1111111111111111,
              "#482878"
             ],
             [
              0.2222222222222222,
              "#3e4989"
             ],
             [
              0.3333333333333333,
              "#31688e"
             ],
             [
              0.4444444444444444,
              "#26828e"
             ],
             [
              0.5555555555555556,
              "#1f9e89"
             ],
             [
              0.6666666666666666,
              "#35b779"
             ],
             [
              0.7777777777777778,
              "#6ece58"
             ],
             [
              0.8888888888888888,
              "#b5de2b"
             ],
             [
              1,
              "#fde725"
             ]
            ],
            "type": "histogram2d"
           }
          ],
          "histogram2dcontour": [
           {
            "colorbar": {
             "outlinewidth": 1,
             "tickcolor": "rgb(36,36,36)",
             "ticks": "outside"
            },
            "colorscale": [
             [
              0,
              "#440154"
             ],
             [
              0.1111111111111111,
              "#482878"
             ],
             [
              0.2222222222222222,
              "#3e4989"
             ],
             [
              0.3333333333333333,
              "#31688e"
             ],
             [
              0.4444444444444444,
              "#26828e"
             ],
             [
              0.5555555555555556,
              "#1f9e89"
             ],
             [
              0.6666666666666666,
              "#35b779"
             ],
             [
              0.7777777777777778,
              "#6ece58"
             ],
             [
              0.8888888888888888,
              "#b5de2b"
             ],
             [
              1,
              "#fde725"
             ]
            ],
            "type": "histogram2dcontour"
           }
          ],
          "mesh3d": [
           {
            "colorbar": {
             "outlinewidth": 1,
             "tickcolor": "rgb(36,36,36)",
             "ticks": "outside"
            },
            "type": "mesh3d"
           }
          ],
          "parcoords": [
           {
            "line": {
             "colorbar": {
              "outlinewidth": 1,
              "tickcolor": "rgb(36,36,36)",
              "ticks": "outside"
             }
            },
            "type": "parcoords"
           }
          ],
          "pie": [
           {
            "automargin": true,
            "type": "pie"
           }
          ],
          "scatter": [
           {
            "fillpattern": {
             "fillmode": "overlay",
             "size": 10,
             "solidity": 0.2
            },
            "type": "scatter"
           }
          ],
          "scatter3d": [
           {
            "line": {
             "colorbar": {
              "outlinewidth": 1,
              "tickcolor": "rgb(36,36,36)",
              "ticks": "outside"
             }
            },
            "marker": {
             "colorbar": {
              "outlinewidth": 1,
              "tickcolor": "rgb(36,36,36)",
              "ticks": "outside"
             }
            },
            "type": "scatter3d"
           }
          ],
          "scattercarpet": [
           {
            "marker": {
             "colorbar": {
              "outlinewidth": 1,
              "tickcolor": "rgb(36,36,36)",
              "ticks": "outside"
             }
            },
            "type": "scattercarpet"
           }
          ],
          "scattergeo": [
           {
            "marker": {
             "colorbar": {
              "outlinewidth": 1,
              "tickcolor": "rgb(36,36,36)",
              "ticks": "outside"
             }
            },
            "type": "scattergeo"
           }
          ],
          "scattergl": [
           {
            "marker": {
             "colorbar": {
              "outlinewidth": 1,
              "tickcolor": "rgb(36,36,36)",
              "ticks": "outside"
             }
            },
            "type": "scattergl"
           }
          ],
          "scattermapbox": [
           {
            "marker": {
             "colorbar": {
              "outlinewidth": 1,
              "tickcolor": "rgb(36,36,36)",
              "ticks": "outside"
             }
            },
            "type": "scattermapbox"
           }
          ],
          "scatterpolar": [
           {
            "marker": {
             "colorbar": {
              "outlinewidth": 1,
              "tickcolor": "rgb(36,36,36)",
              "ticks": "outside"
             }
            },
            "type": "scatterpolar"
           }
          ],
          "scatterpolargl": [
           {
            "marker": {
             "colorbar": {
              "outlinewidth": 1,
              "tickcolor": "rgb(36,36,36)",
              "ticks": "outside"
             }
            },
            "type": "scatterpolargl"
           }
          ],
          "scatterternary": [
           {
            "marker": {
             "colorbar": {
              "outlinewidth": 1,
              "tickcolor": "rgb(36,36,36)",
              "ticks": "outside"
             }
            },
            "type": "scatterternary"
           }
          ],
          "surface": [
           {
            "colorbar": {
             "outlinewidth": 1,
             "tickcolor": "rgb(36,36,36)",
             "ticks": "outside"
            },
            "colorscale": [
             [
              0,
              "#440154"
             ],
             [
              0.1111111111111111,
              "#482878"
             ],
             [
              0.2222222222222222,
              "#3e4989"
             ],
             [
              0.3333333333333333,
              "#31688e"
             ],
             [
              0.4444444444444444,
              "#26828e"
             ],
             [
              0.5555555555555556,
              "#1f9e89"
             ],
             [
              0.6666666666666666,
              "#35b779"
             ],
             [
              0.7777777777777778,
              "#6ece58"
             ],
             [
              0.8888888888888888,
              "#b5de2b"
             ],
             [
              1,
              "#fde725"
             ]
            ],
            "type": "surface"
           }
          ],
          "table": [
           {
            "cells": {
             "fill": {
              "color": "rgb(237,237,237)"
             },
             "line": {
              "color": "white"
             }
            },
            "header": {
             "fill": {
              "color": "rgb(217,217,217)"
             },
             "line": {
              "color": "white"
             }
            },
            "type": "table"
           }
          ]
         },
         "layout": {
          "annotationdefaults": {
           "arrowhead": 0,
           "arrowwidth": 1
          },
          "autotypenumbers": "strict",
          "coloraxis": {
           "colorbar": {
            "outlinewidth": 1,
            "tickcolor": "rgb(36,36,36)",
            "ticks": "outside"
           }
          },
          "colorscale": {
           "diverging": [
            [
             0,
             "rgb(103,0,31)"
            ],
            [
             0.1,
             "rgb(178,24,43)"
            ],
            [
             0.2,
             "rgb(214,96,77)"
            ],
            [
             0.3,
             "rgb(244,165,130)"
            ],
            [
             0.4,
             "rgb(253,219,199)"
            ],
            [
             0.5,
             "rgb(247,247,247)"
            ],
            [
             0.6,
             "rgb(209,229,240)"
            ],
            [
             0.7,
             "rgb(146,197,222)"
            ],
            [
             0.8,
             "rgb(67,147,195)"
            ],
            [
             0.9,
             "rgb(33,102,172)"
            ],
            [
             1,
             "rgb(5,48,97)"
            ]
           ],
           "sequential": [
            [
             0,
             "#440154"
            ],
            [
             0.1111111111111111,
             "#482878"
            ],
            [
             0.2222222222222222,
             "#3e4989"
            ],
            [
             0.3333333333333333,
             "#31688e"
            ],
            [
             0.4444444444444444,
             "#26828e"
            ],
            [
             0.5555555555555556,
             "#1f9e89"
            ],
            [
             0.6666666666666666,
             "#35b779"
            ],
            [
             0.7777777777777778,
             "#6ece58"
            ],
            [
             0.8888888888888888,
             "#b5de2b"
            ],
            [
             1,
             "#fde725"
            ]
           ],
           "sequentialminus": [
            [
             0,
             "#440154"
            ],
            [
             0.1111111111111111,
             "#482878"
            ],
            [
             0.2222222222222222,
             "#3e4989"
            ],
            [
             0.3333333333333333,
             "#31688e"
            ],
            [
             0.4444444444444444,
             "#26828e"
            ],
            [
             0.5555555555555556,
             "#1f9e89"
            ],
            [
             0.6666666666666666,
             "#35b779"
            ],
            [
             0.7777777777777778,
             "#6ece58"
            ],
            [
             0.8888888888888888,
             "#b5de2b"
            ],
            [
             1,
             "#fde725"
            ]
           ]
          },
          "colorway": [
           "#4C78A8",
           "#F58518",
           "#E45756",
           "#72B7B2",
           "#54A24B",
           "#EECA3B",
           "#B279A2",
           "#FF9DA6",
           "#9D755D",
           "#BAB0AC"
          ],
          "font": {
           "color": "rgb(36,36,36)",
           "family": "merriserif",
           "size": 12
          },
          "geo": {
           "bgcolor": "white",
           "lakecolor": "white",
           "landcolor": "white",
           "showlakes": true,
           "showland": true,
           "subunitcolor": "white"
          },
          "hoverlabel": {
           "align": "left"
          },
          "hovermode": "closest",
          "legend": {
           "bgcolor": "white",
           "bordercolor": "Black",
           "borderwidth": 1,
           "orientation": "h",
           "traceorder": "reversed",
           "x": 0.5,
           "xanchor": "center",
           "y": -0.2
          },
          "mapbox": {
           "style": "light"
          },
          "paper_bgcolor": "white",
          "plot_bgcolor": "white",
          "polar": {
           "angularaxis": {
            "gridcolor": "rgb(232,232,232)",
            "linecolor": "rgb(36,36,36)",
            "showgrid": false,
            "showline": true,
            "ticks": "outside"
           },
           "bgcolor": "white",
           "radialaxis": {
            "gridcolor": "rgb(232,232,232)",
            "linecolor": "rgb(36,36,36)",
            "showgrid": false,
            "showline": true,
            "ticks": "outside"
           }
          },
          "scene": {
           "xaxis": {
            "backgroundcolor": "white",
            "gridcolor": "rgb(232,232,232)",
            "gridwidth": 2,
            "linecolor": "rgb(36,36,36)",
            "showbackground": true,
            "showgrid": false,
            "showline": true,
            "ticks": "outside",
            "zeroline": false,
            "zerolinecolor": "rgb(36,36,36)"
           },
           "yaxis": {
            "backgroundcolor": "white",
            "gridcolor": "rgb(232,232,232)",
            "gridwidth": 2,
            "linecolor": "rgb(36,36,36)",
            "showbackground": true,
            "showgrid": false,
            "showline": true,
            "ticks": "outside",
            "zeroline": false,
            "zerolinecolor": "rgb(36,36,36)"
           },
           "zaxis": {
            "backgroundcolor": "white",
            "gridcolor": "rgb(232,232,232)",
            "gridwidth": 2,
            "linecolor": "rgb(36,36,36)",
            "showbackground": true,
            "showgrid": false,
            "showline": true,
            "ticks": "outside",
            "zeroline": false,
            "zerolinecolor": "rgb(36,36,36)"
           }
          },
          "shapedefaults": {
           "fillcolor": "black",
           "line": {
            "width": 0
           },
           "opacity": 0.3
          },
          "ternary": {
           "aaxis": {
            "gridcolor": "rgb(232,232,232)",
            "linecolor": "rgb(36,36,36)",
            "showgrid": false,
            "showline": true,
            "ticks": "outside"
           },
           "baxis": {
            "gridcolor": "rgb(232,232,232)",
            "linecolor": "rgb(36,36,36)",
            "showgrid": false,
            "showline": true,
            "ticks": "outside"
           },
           "bgcolor": "white",
           "caxis": {
            "gridcolor": "rgb(232,232,232)",
            "linecolor": "rgb(36,36,36)",
            "showgrid": false,
            "showline": true,
            "ticks": "outside"
           }
          },
          "title": {
           "font": {
            "family": "merriserif",
            "size": 24
           },
           "x": 0.5,
           "xanchor": "center"
          },
          "xaxis": {
           "automargin": true,
           "gridcolor": "rgb(232,232,232)",
           "linecolor": "rgb(36,36,36)",
           "showgrid": false,
           "showline": true,
           "ticks": "outside",
           "title": {
            "standoff": 15
           },
           "zeroline": false,
           "zerolinecolor": "rgb(36,36,36)"
          },
          "yaxis": {
           "automargin": true,
           "gridcolor": "rgb(232,232,232)",
           "linecolor": "rgb(36,36,36)",
           "showgrid": false,
           "showline": true,
           "ticks": "outside",
           "title": {
            "standoff": 15
           },
           "zeroline": false,
           "zerolinecolor": "rgb(36,36,36)"
          }
         }
        },
        "title": {
         "text": "Decomposition of the total systematic variance"
        },
        "width": 900
       }
      },
      "text/html": [
       "<div>                            <div id=\"9c4026d1-abde-45c7-bf3a-2ed815c6c31e\" class=\"plotly-graph-div\" style=\"height:600px; width:900px;\"></div>            <script type=\"text/javascript\">                require([\"plotly\"], function(Plotly) {                    window.PLOTLYENV=window.PLOTLYENV || {};                                    if (document.getElementById(\"9c4026d1-abde-45c7-bf3a-2ed815c6c31e\")) {                    Plotly.newPlot(                        \"9c4026d1-abde-45c7-bf3a-2ed815c6c31e\",                        [{\"labels\":[\"Equity\",\"Forex\",\"Quanto\"],\"values\":[0.05792544000000001,0.00256,0.00178704],\"type\":\"pie\"}],                        {\"template\":{\"data\":{\"barpolar\":[{\"marker\":{\"line\":{\"color\":\"white\",\"width\":0.5},\"pattern\":{\"fillmode\":\"overlay\",\"size\":10,\"solidity\":0.2}},\"type\":\"barpolar\"}],\"bar\":[{\"error_x\":{\"color\":\"rgb(36,36,36)\"},\"error_y\":{\"color\":\"rgb(36,36,36)\"},\"marker\":{\"line\":{\"color\":\"white\",\"width\":0.5},\"pattern\":{\"fillmode\":\"overlay\",\"size\":10,\"solidity\":0.2}},\"type\":\"bar\"}],\"carpet\":[{\"aaxis\":{\"endlinecolor\":\"rgb(36,36,36)\",\"gridcolor\":\"white\",\"linecolor\":\"white\",\"minorgridcolor\":\"white\",\"startlinecolor\":\"rgb(36,36,36)\"},\"baxis\":{\"endlinecolor\":\"rgb(36,36,36)\",\"gridcolor\":\"white\",\"linecolor\":\"white\",\"minorgridcolor\":\"white\",\"startlinecolor\":\"rgb(36,36,36)\"},\"type\":\"carpet\"}],\"choropleth\":[{\"colorbar\":{\"outlinewidth\":1,\"tickcolor\":\"rgb(36,36,36)\",\"ticks\":\"outside\"},\"type\":\"choropleth\"}],\"contourcarpet\":[{\"colorbar\":{\"outlinewidth\":1,\"tickcolor\":\"rgb(36,36,36)\",\"ticks\":\"outside\"},\"type\":\"contourcarpet\"}],\"contour\":[{\"colorbar\":{\"outlinewidth\":1,\"tickcolor\":\"rgb(36,36,36)\",\"ticks\":\"outside\"},\"colorscale\":[[0.0,\"#440154\"],[0.1111111111111111,\"#482878\"],[0.2222222222222222,\"#3e4989\"],[0.3333333333333333,\"#31688e\"],[0.4444444444444444,\"#26828e\"],[0.5555555555555556,\"#1f9e89\"],[0.6666666666666666,\"#35b779\"],[0.7777777777777778,\"#6ece58\"],[0.8888888888888888,\"#b5de2b\"],[1.0,\"#fde725\"]],\"type\":\"contour\"}],\"heatmapgl\":[{\"colorbar\":{\"outlinewidth\":1,\"tickcolor\":\"rgb(36,36,36)\",\"ticks\":\"outside\"},\"colorscale\":[[0.0,\"#440154\"],[0.1111111111111111,\"#482878\"],[0.2222222222222222,\"#3e4989\"],[0.3333333333333333,\"#31688e\"],[0.4444444444444444,\"#26828e\"],[0.5555555555555556,\"#1f9e89\"],[0.6666666666666666,\"#35b779\"],[0.7777777777777778,\"#6ece58\"],[0.8888888888888888,\"#b5de2b\"],[1.0,\"#fde725\"]],\"type\":\"heatmapgl\"}],\"heatmap\":[{\"colorbar\":{\"outlinewidth\":1,\"tickcolor\":\"rgb(36,36,36)\",\"ticks\":\"outside\"},\"colorscale\":[[0.0,\"#440154\"],[0.1111111111111111,\"#482878\"],[0.2222222222222222,\"#3e4989\"],[0.3333333333333333,\"#31688e\"],[0.4444444444444444,\"#26828e\"],[0.5555555555555556,\"#1f9e89\"],[0.6666666666666666,\"#35b779\"],[0.7777777777777778,\"#6ece58\"],[0.8888888888888888,\"#b5de2b\"],[1.0,\"#fde725\"]],\"type\":\"heatmap\"}],\"histogram2dcontour\":[{\"colorbar\":{\"outlinewidth\":1,\"tickcolor\":\"rgb(36,36,36)\",\"ticks\":\"outside\"},\"colorscale\":[[0.0,\"#440154\"],[0.1111111111111111,\"#482878\"],[0.2222222222222222,\"#3e4989\"],[0.3333333333333333,\"#31688e\"],[0.4444444444444444,\"#26828e\"],[0.5555555555555556,\"#1f9e89\"],[0.6666666666666666,\"#35b779\"],[0.7777777777777778,\"#6ece58\"],[0.8888888888888888,\"#b5de2b\"],[1.0,\"#fde725\"]],\"type\":\"histogram2dcontour\"}],\"histogram2d\":[{\"colorbar\":{\"outlinewidth\":1,\"tickcolor\":\"rgb(36,36,36)\",\"ticks\":\"outside\"},\"colorscale\":[[0.0,\"#440154\"],[0.1111111111111111,\"#482878\"],[0.2222222222222222,\"#3e4989\"],[0.3333333333333333,\"#31688e\"],[0.4444444444444444,\"#26828e\"],[0.5555555555555556,\"#1f9e89\"],[0.6666666666666666,\"#35b779\"],[0.7777777777777778,\"#6ece58\"],[0.8888888888888888,\"#b5de2b\"],[1.0,\"#fde725\"]],\"type\":\"histogram2d\"}],\"histogram\":[{\"marker\":{\"line\":{\"color\":\"white\",\"width\":0.6}},\"type\":\"histogram\"}],\"mesh3d\":[{\"colorbar\":{\"outlinewidth\":1,\"tickcolor\":\"rgb(36,36,36)\",\"ticks\":\"outside\"},\"type\":\"mesh3d\"}],\"parcoords\":[{\"line\":{\"colorbar\":{\"outlinewidth\":1,\"tickcolor\":\"rgb(36,36,36)\",\"ticks\":\"outside\"}},\"type\":\"parcoords\"}],\"pie\":[{\"automargin\":true,\"type\":\"pie\"}],\"scatter3d\":[{\"line\":{\"colorbar\":{\"outlinewidth\":1,\"tickcolor\":\"rgb(36,36,36)\",\"ticks\":\"outside\"}},\"marker\":{\"colorbar\":{\"outlinewidth\":1,\"tickcolor\":\"rgb(36,36,36)\",\"ticks\":\"outside\"}},\"type\":\"scatter3d\"}],\"scattercarpet\":[{\"marker\":{\"colorbar\":{\"outlinewidth\":1,\"tickcolor\":\"rgb(36,36,36)\",\"ticks\":\"outside\"}},\"type\":\"scattercarpet\"}],\"scattergeo\":[{\"marker\":{\"colorbar\":{\"outlinewidth\":1,\"tickcolor\":\"rgb(36,36,36)\",\"ticks\":\"outside\"}},\"type\":\"scattergeo\"}],\"scattergl\":[{\"marker\":{\"colorbar\":{\"outlinewidth\":1,\"tickcolor\":\"rgb(36,36,36)\",\"ticks\":\"outside\"}},\"type\":\"scattergl\"}],\"scattermapbox\":[{\"marker\":{\"colorbar\":{\"outlinewidth\":1,\"tickcolor\":\"rgb(36,36,36)\",\"ticks\":\"outside\"}},\"type\":\"scattermapbox\"}],\"scatterpolargl\":[{\"marker\":{\"colorbar\":{\"outlinewidth\":1,\"tickcolor\":\"rgb(36,36,36)\",\"ticks\":\"outside\"}},\"type\":\"scatterpolargl\"}],\"scatterpolar\":[{\"marker\":{\"colorbar\":{\"outlinewidth\":1,\"tickcolor\":\"rgb(36,36,36)\",\"ticks\":\"outside\"}},\"type\":\"scatterpolar\"}],\"scatter\":[{\"fillpattern\":{\"fillmode\":\"overlay\",\"size\":10,\"solidity\":0.2},\"type\":\"scatter\"}],\"scatterternary\":[{\"marker\":{\"colorbar\":{\"outlinewidth\":1,\"tickcolor\":\"rgb(36,36,36)\",\"ticks\":\"outside\"}},\"type\":\"scatterternary\"}],\"surface\":[{\"colorbar\":{\"outlinewidth\":1,\"tickcolor\":\"rgb(36,36,36)\",\"ticks\":\"outside\"},\"colorscale\":[[0.0,\"#440154\"],[0.1111111111111111,\"#482878\"],[0.2222222222222222,\"#3e4989\"],[0.3333333333333333,\"#31688e\"],[0.4444444444444444,\"#26828e\"],[0.5555555555555556,\"#1f9e89\"],[0.6666666666666666,\"#35b779\"],[0.7777777777777778,\"#6ece58\"],[0.8888888888888888,\"#b5de2b\"],[1.0,\"#fde725\"]],\"type\":\"surface\"}],\"table\":[{\"cells\":{\"fill\":{\"color\":\"rgb(237,237,237)\"},\"line\":{\"color\":\"white\"}},\"header\":{\"fill\":{\"color\":\"rgb(217,217,217)\"},\"line\":{\"color\":\"white\"}},\"type\":\"table\"}]},\"layout\":{\"annotationdefaults\":{\"arrowhead\":0,\"arrowwidth\":1},\"autotypenumbers\":\"strict\",\"coloraxis\":{\"colorbar\":{\"outlinewidth\":1,\"tickcolor\":\"rgb(36,36,36)\",\"ticks\":\"outside\"}},\"colorscale\":{\"diverging\":[[0.0,\"rgb(103,0,31)\"],[0.1,\"rgb(178,24,43)\"],[0.2,\"rgb(214,96,77)\"],[0.3,\"rgb(244,165,130)\"],[0.4,\"rgb(253,219,199)\"],[0.5,\"rgb(247,247,247)\"],[0.6,\"rgb(209,229,240)\"],[0.7,\"rgb(146,197,222)\"],[0.8,\"rgb(67,147,195)\"],[0.9,\"rgb(33,102,172)\"],[1.0,\"rgb(5,48,97)\"]],\"sequential\":[[0.0,\"#440154\"],[0.1111111111111111,\"#482878\"],[0.2222222222222222,\"#3e4989\"],[0.3333333333333333,\"#31688e\"],[0.4444444444444444,\"#26828e\"],[0.5555555555555556,\"#1f9e89\"],[0.6666666666666666,\"#35b779\"],[0.7777777777777778,\"#6ece58\"],[0.8888888888888888,\"#b5de2b\"],[1.0,\"#fde725\"]],\"sequentialminus\":[[0.0,\"#440154\"],[0.1111111111111111,\"#482878\"],[0.2222222222222222,\"#3e4989\"],[0.3333333333333333,\"#31688e\"],[0.4444444444444444,\"#26828e\"],[0.5555555555555556,\"#1f9e89\"],[0.6666666666666666,\"#35b779\"],[0.7777777777777778,\"#6ece58\"],[0.8888888888888888,\"#b5de2b\"],[1.0,\"#fde725\"]]},\"colorway\":[\"#4C78A8\",\"#F58518\",\"#E45756\",\"#72B7B2\",\"#54A24B\",\"#EECA3B\",\"#B279A2\",\"#FF9DA6\",\"#9D755D\",\"#BAB0AC\"],\"font\":{\"color\":\"rgb(36,36,36)\",\"family\":\"merriserif\",\"size\":12},\"geo\":{\"bgcolor\":\"white\",\"lakecolor\":\"white\",\"landcolor\":\"white\",\"showlakes\":true,\"showland\":true,\"subunitcolor\":\"white\"},\"hoverlabel\":{\"align\":\"left\"},\"hovermode\":\"closest\",\"mapbox\":{\"style\":\"light\"},\"paper_bgcolor\":\"white\",\"plot_bgcolor\":\"white\",\"polar\":{\"angularaxis\":{\"gridcolor\":\"rgb(232,232,232)\",\"linecolor\":\"rgb(36,36,36)\",\"showgrid\":false,\"showline\":true,\"ticks\":\"outside\"},\"bgcolor\":\"white\",\"radialaxis\":{\"gridcolor\":\"rgb(232,232,232)\",\"linecolor\":\"rgb(36,36,36)\",\"showgrid\":false,\"showline\":true,\"ticks\":\"outside\"}},\"scene\":{\"xaxis\":{\"backgroundcolor\":\"white\",\"gridcolor\":\"rgb(232,232,232)\",\"gridwidth\":2,\"linecolor\":\"rgb(36,36,36)\",\"showbackground\":true,\"showgrid\":false,\"showline\":true,\"ticks\":\"outside\",\"zeroline\":false,\"zerolinecolor\":\"rgb(36,36,36)\"},\"yaxis\":{\"backgroundcolor\":\"white\",\"gridcolor\":\"rgb(232,232,232)\",\"gridwidth\":2,\"linecolor\":\"rgb(36,36,36)\",\"showbackground\":true,\"showgrid\":false,\"showline\":true,\"ticks\":\"outside\",\"zeroline\":false,\"zerolinecolor\":\"rgb(36,36,36)\"},\"zaxis\":{\"backgroundcolor\":\"white\",\"gridcolor\":\"rgb(232,232,232)\",\"gridwidth\":2,\"linecolor\":\"rgb(36,36,36)\",\"showbackground\":true,\"showgrid\":false,\"showline\":true,\"ticks\":\"outside\",\"zeroline\":false,\"zerolinecolor\":\"rgb(36,36,36)\"}},\"shapedefaults\":{\"fillcolor\":\"black\",\"line\":{\"width\":0},\"opacity\":0.3},\"ternary\":{\"aaxis\":{\"gridcolor\":\"rgb(232,232,232)\",\"linecolor\":\"rgb(36,36,36)\",\"showgrid\":false,\"showline\":true,\"ticks\":\"outside\"},\"baxis\":{\"gridcolor\":\"rgb(232,232,232)\",\"linecolor\":\"rgb(36,36,36)\",\"showgrid\":false,\"showline\":true,\"ticks\":\"outside\"},\"bgcolor\":\"white\",\"caxis\":{\"gridcolor\":\"rgb(232,232,232)\",\"linecolor\":\"rgb(36,36,36)\",\"showgrid\":false,\"showline\":true,\"ticks\":\"outside\"}},\"title\":{\"x\":0.5,\"font\":{\"family\":\"merriserif\",\"size\":24},\"xanchor\":\"center\"},\"xaxis\":{\"automargin\":true,\"gridcolor\":\"rgb(232,232,232)\",\"linecolor\":\"rgb(36,36,36)\",\"showgrid\":false,\"showline\":true,\"ticks\":\"outside\",\"title\":{\"standoff\":15},\"zeroline\":false,\"zerolinecolor\":\"rgb(36,36,36)\"},\"yaxis\":{\"automargin\":true,\"gridcolor\":\"rgb(232,232,232)\",\"linecolor\":\"rgb(36,36,36)\",\"showgrid\":false,\"showline\":true,\"ticks\":\"outside\",\"title\":{\"standoff\":15},\"zeroline\":false,\"zerolinecolor\":\"rgb(36,36,36)\"},\"legend\":{\"bgcolor\":\"white\",\"bordercolor\":\"Black\",\"borderwidth\":1,\"orientation\":\"h\",\"traceorder\":\"reversed\",\"x\":0.5,\"xanchor\":\"center\",\"y\":-0.2}}},\"title\":{\"text\":\"Decomposition of the total systematic variance\"},\"height\":600,\"width\":900},                        {\"responsive\": true}                    ).then(function(){\n",
       "                            \n",
       "var gd = document.getElementById('9c4026d1-abde-45c7-bf3a-2ed815c6c31e');\n",
       "var x = new MutationObserver(function (mutations, observer) {{\n",
       "        var display = window.getComputedStyle(gd).display;\n",
       "        if (!display || display === 'none') {{\n",
       "            console.log([gd, 'removed!']);\n",
       "            Plotly.purge(gd);\n",
       "            observer.disconnect();\n",
       "        }}\n",
       "}});\n",
       "\n",
       "// Listen for the removal of the full notebook cells\n",
       "var notebookContainer = gd.closest('#notebook-container');\n",
       "if (notebookContainer) {{\n",
       "    x.observe(notebookContainer, {childList: true});\n",
       "}}\n",
       "\n",
       "// Listen for the clearing of the current output cell\n",
       "var outputEl = gd.closest('.output');\n",
       "if (outputEl) {{\n",
       "    x.observe(outputEl, {childList: true});\n",
       "}}\n",
       "\n",
       "                        })                };                });            </script>        </div>"
      ]
     },
     "metadata": {},
     "output_type": "display_data"
    }
   ],
   "source": [
    "labels = ['Equity','Forex','Quanto']\n",
    "values = [sys_var_equity, sys_var_forex, sys_var_quanto]\n",
    "\n",
    "fig = go.Figure(data=[go.Pie(labels=labels, values=values)])\n",
    "fig.update_layout(height=600, width=900, title_text=\"Decomposition of the total systematic variance\")\n",
    "fig.show()"
   ]
  },
  {
   "cell_type": "code",
   "execution_count": null,
   "id": "c1c06b13",
   "metadata": {},
   "outputs": [],
   "source": []
  }
 ],
 "metadata": {
  "kernelspec": {
   "display_name": "Python 3",
   "language": "python",
   "name": "python3"
  },
  "language_info": {
   "codemirror_mode": {
    "name": "ipython",
    "version": 3
   },
   "file_extension": ".py",
   "mimetype": "text/x-python",
   "name": "python",
   "nbconvert_exporter": "python",
   "pygments_lexer": "ipython3",
   "version": "3.8.3"
  },
  "toc": {
   "base_numbering": 1,
   "nav_menu": {},
   "number_sections": true,
   "sideBar": true,
   "skip_h1_title": false,
   "title_cell": "Table of Contents",
   "title_sidebar": "Contents",
   "toc_cell": false,
   "toc_position": {},
   "toc_section_display": true,
   "toc_window_display": false
  }
 },
 "nbformat": 4,
 "nbformat_minor": 5
}
