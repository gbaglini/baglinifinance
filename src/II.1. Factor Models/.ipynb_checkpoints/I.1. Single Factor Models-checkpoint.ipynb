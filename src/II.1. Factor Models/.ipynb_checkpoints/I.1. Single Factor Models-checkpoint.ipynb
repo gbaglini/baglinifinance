{
 "cells": [
  {
   "cell_type": "code",
   "execution_count": 100,
   "metadata": {},
   "outputs": [],
   "source": [
    "import yfinance as yf\n",
    "from scipy import stats\n",
    "import numpy as np"
   ]
  },
  {
   "cell_type": "code",
   "execution_count": 33,
   "metadata": {},
   "outputs": [],
   "source": [
    "def download_data_yf(string_tickers, start=None, end=None, interval=\"1wk\"):\n",
    "    data = yf.download(string_tickers, start=start, end=end, interval=interval)\n",
    "    data.index  = data.index.date \n",
    "    return data"
   ]
  },
  {
   "cell_type": "code",
   "execution_count": 13,
   "metadata": {},
   "outputs": [
    {
     "data": {
      "application/javascript": [
       "MathJax.Hub.Config({\n",
       "    TeX: { equationNumbers: { autoNumber: \"AMS\" } }\n",
       "});\n"
      ],
      "text/plain": [
       "<IPython.core.display.Javascript object>"
      ]
     },
     "metadata": {},
     "output_type": "display_data"
    }
   ],
   "source": [
    "%%javascript\n",
    "MathJax.Hub.Config({\n",
    "    TeX: { equationNumbers: { autoNumber: \"AMS\" } }\n",
    "});"
   ]
  },
  {
   "cell_type": "code",
   "execution_count": 14,
   "metadata": {},
   "outputs": [
    {
     "data": {
      "application/javascript": [
       "MathJax.Hub.Queue(\n",
       "  [\"resetEquationNumbers\", MathJax.InputJax.TeX],\n",
       "  [\"PreProcess\", MathJax.Hub],\n",
       "  [\"Reprocess\", MathJax.Hub]\n",
       ");\n"
      ],
      "text/plain": [
       "<IPython.core.display.Javascript object>"
      ]
     },
     "metadata": {},
     "output_type": "display_data"
    }
   ],
   "source": [
    "%%javascript\n",
    "MathJax.Hub.Queue(\n",
    "  [\"resetEquationNumbers\", MathJax.InputJax.TeX],\n",
    "  [\"PreProcess\", MathJax.Hub],\n",
    "  [\"Reprocess\", MathJax.Hub]\n",
    ");"
   ]
  },
  {
   "cell_type": "code",
   "execution_count": 10,
   "metadata": {
    "scrolled": false
   },
   "outputs": [
    {
     "data": {
      "text/plain": [
       "' \\nhttps://stackoverflow.com/questions/41241984/equation-numbering-in-jupyter-notebooks/42940005#42940005\\n! pip install jupyter_contrib_nbextensions\\n! jupyter nbextension enable equation-numbering/main\\n! jupyter contrib nbextension install --user\\n'"
      ]
     },
     "execution_count": 10,
     "metadata": {},
     "output_type": "execute_result"
    }
   ],
   "source": [
    "\"\"\" \n",
    "https://stackoverflow.com/questions/41241984/equation-numbering-in-jupyter-notebooks/42940005#42940005\n",
    "! pip install jupyter_contrib_nbextensions\n",
    "! jupyter nbextension enable equation-numbering/main\n",
    "! jupyter contrib nbextension install --user\n",
    "\"\"\""
   ]
  },
  {
   "cell_type": "markdown",
   "metadata": {},
   "source": [
    "# Single Factor Models"
   ]
  },
  {
   "cell_type": "markdown",
   "metadata": {},
   "source": [
    "### Single Index Models"
   ]
  },
  {
   "cell_type": "markdown",
   "metadata": {},
   "source": [
    "$$ E_{R_{i}} - R_{f} = \\beta_{i}(E(R_{M} - R_{f})) $$"
   ]
  },
  {
   "cell_type": "markdown",
   "metadata": {},
   "source": [
    "finire"
   ]
  },
  {
   "cell_type": "markdown",
   "metadata": {},
   "source": [
    "### Estimation"
   ]
  },
  {
   "cell_type": "markdown",
   "metadata": {},
   "source": [
    " * Asset managers: weekl/monthly observations and costant parameters\n",
    " * Risk managers: daily observations and time-varying parameters assumption i.e. emwa, garch"
   ]
  },
  {
   "cell_type": "markdown",
   "metadata": {},
   "source": [
    "$$ \\beta_{i} = \\frac {\\sum_{t=1}^{T} (X_{t} - \\bar{X})  (R_{it} - \\bar{R_{i}})} {\\sum_{t=1}^{T} (X_{t} - \\bar{X_{t}})^2} $$ and  $$ \\hat{\\alpha_{i}} = \\bar{R_{i}}  - \\hat{\\beta_{i}}  \\bar{X}  $$"
   ]
  },
  {
   "cell_type": "code",
   "execution_count": null,
   "metadata": {},
   "outputs": [],
   "source": []
  },
  {
   "cell_type": "markdown",
   "metadata": {},
   "source": [
    "$$ s_{i} = \\sqrt{\\frac{RSS_{i}}{T-2}} $$"
   ]
  },
  {
   "cell_type": "code",
   "execution_count": null,
   "metadata": {},
   "outputs": [],
   "source": []
  },
  {
   "cell_type": "markdown",
   "metadata": {},
   "source": [
    "# <font color='Hunter Green'>**Example**</font> "
   ]
  },
  {
   "cell_type": "code",
   "execution_count": 60,
   "metadata": {},
   "outputs": [
    {
     "name": "stdout",
     "output_type": "stream",
     "text": [
      "[*********************100%***********************]  3 of 3 completed\n"
     ]
    },
    {
     "data": {
      "text/html": [
       "<div>\n",
       "<style scoped>\n",
       "    .dataframe tbody tr th:only-of-type {\n",
       "        vertical-align: middle;\n",
       "    }\n",
       "\n",
       "    .dataframe tbody tr th {\n",
       "        vertical-align: top;\n",
       "    }\n",
       "\n",
       "    .dataframe thead th {\n",
       "        text-align: right;\n",
       "    }\n",
       "</style>\n",
       "<table border=\"1\" class=\"dataframe\">\n",
       "  <thead>\n",
       "    <tr style=\"text-align: right;\">\n",
       "      <th></th>\n",
       "      <th>MSFT</th>\n",
       "      <th>SPY</th>\n",
       "      <th>WMT</th>\n",
       "    </tr>\n",
       "  </thead>\n",
       "  <tbody>\n",
       "    <tr>\n",
       "      <th>2015-01-08</th>\n",
       "      <td>-0.005840</td>\n",
       "      <td>-0.007167</td>\n",
       "      <td>-0.022460</td>\n",
       "    </tr>\n",
       "    <tr>\n",
       "      <th>2015-01-15</th>\n",
       "      <td>-0.000870</td>\n",
       "      <td>0.011053</td>\n",
       "      <td>0.000346</td>\n",
       "    </tr>\n",
       "    <tr>\n",
       "      <th>2015-01-22</th>\n",
       "      <td>-0.103005</td>\n",
       "      <td>-0.014477</td>\n",
       "      <td>0.002078</td>\n",
       "    </tr>\n",
       "    <tr>\n",
       "      <th>2015-01-29</th>\n",
       "      <td>0.015780</td>\n",
       "      <td>0.019586</td>\n",
       "      <td>-0.001958</td>\n",
       "    </tr>\n",
       "    <tr>\n",
       "      <th>2015-02-05</th>\n",
       "      <td>0.012907</td>\n",
       "      <td>0.014064</td>\n",
       "      <td>-0.003577</td>\n",
       "    </tr>\n",
       "  </tbody>\n",
       "</table>\n",
       "</div>"
      ],
      "text/plain": [
       "                MSFT       SPY       WMT\n",
       "2015-01-08 -0.005840 -0.007167 -0.022460\n",
       "2015-01-15 -0.000870  0.011053  0.000346\n",
       "2015-01-22 -0.103005 -0.014477  0.002078\n",
       "2015-01-29  0.015780  0.019586 -0.001958\n",
       "2015-02-05  0.012907  0.014064 -0.003577"
      ]
     },
     "execution_count": 60,
     "metadata": {},
     "output_type": "execute_result"
    }
   ],
   "source": [
    "start = \"2015-01-01\"\n",
    "string_tickers = \"SPY WMT MSFT\"\n",
    "df = download_data_yf(string_tickers, start, None)[\"Adj Close\"]\n",
    "\n",
    "#returs\n",
    "ret = df.pct_change()[1:]\n",
    "ret.head()"
   ]
  },
  {
   "cell_type": "code",
   "execution_count": 90,
   "metadata": {},
   "outputs": [],
   "source": [
    "reg_msft = stats.linregress(ret.SPY, ret.MSFT)\n",
    "reg_wmt = stats.linregress(ret.SPY, ret.WMT)"
   ]
  },
  {
   "cell_type": "code",
   "execution_count": 65,
   "metadata": {},
   "outputs": [
    {
     "data": {
      "text/plain": [
       "LinregressResult(slope=1.042919232699001, intercept=0.0028668067523914278, rvalue=0.7427433841424609, pvalue=1.2838059095683535e-77, stderr=0.0451301749531183, intercept_stderr=0.001039289163448395)"
      ]
     },
     "execution_count": 65,
     "metadata": {},
     "output_type": "execute_result"
    }
   ],
   "source": [
    "reg_msft"
   ]
  },
  {
   "cell_type": "code",
   "execution_count": 80,
   "metadata": {},
   "outputs": [],
   "source": [
    "beta_msft = reg_msft.slope\n",
    "alpha_msft = reg_msft.intercept\n",
    "stderr_msft = reg_msft.stderr\n",
    "annual_vol_msft = stderr_msft * np.sqrt(12)\n",
    "\n",
    "beta_wmt = reg_wmt.slope\n",
    "alpha_wmt = reg_wmt.intercept\n",
    "stderr_wmt = reg_wmt.stderr\n",
    "annual_vol_wmt = stderr_wmt * np.sqrt(12)\n"
   ]
  },
  {
   "cell_type": "code",
   "execution_count": 81,
   "metadata": {},
   "outputs": [
    {
     "name": "stdout",
     "output_type": "stream",
     "text": [
      "MSFT\n",
      "Alpha: 0.0029\n",
      "Beta: 1.0429\n",
      "Std Err: 0.0029\n",
      "Annual Vol: 0.1563\n",
      "\n",
      "WMT\n",
      "Alpha: 0.0011\n",
      "Beta: 0.4106\n",
      "Std Err: 0.0548\n",
      "Annual Vol: 0.1897\n"
     ]
    }
   ],
   "source": [
    "print(\"MSFT\")\n",
    "print(\"Alpha: \"+str(round(alpha_msft, 4)))\n",
    "print(\"Beta: \"+str(round(beta_msft, 4)))\n",
    "print(\"Std Err: \"+str(round(alpha_msft, 4)))\n",
    "print(\"Annual Vol: \"+str(round(annual_vol_msft, 4)))\n",
    "\n",
    "\n",
    "print(\"\")\n",
    "print(\"WMT\")\n",
    "print(\"Alpha: \"+str(round(alpha_wmt, 4)))\n",
    "print(\"Beta: \"+str(round(beta_wmt, 4)))\n",
    "print(\"Std Err: \"+str(round(stderr_wmt, 4)))\n",
    "print(\"Annual Vol: \"+str(round(annual_vol_wmt, 4)))"
   ]
  },
  {
   "cell_type": "markdown",
   "metadata": {},
   "source": [
    "Assume to construct a portfolio which invests 70% in MSFT and 30% in WMT "
   ]
  },
  {
   "cell_type": "markdown",
   "metadata": {},
   "source": [
    "### Return"
   ]
  },
  {
   "cell_type": "markdown",
   "metadata": {},
   "source": [
    "At stocks level\n"
   ]
  },
  {
   "cell_type": "markdown",
   "metadata": {},
   "source": [
    "$$ \\hat{\\alpha} = \\hat{\\alpha}_{MSFT}\\cdot0.7 + \\hat{\\alpha}_{WMT}\\cdot0.3 = 0.002348$$\n",
    "$$ \\hat{\\beta} = \\hat{\\beta}_{MSFT}\\cdot0.7 + \\hat{\\beta}_{WMT}\\cdot0.3 = 0.85322$$"
   ]
  },
  {
   "cell_type": "markdown",
   "metadata": {},
   "source": [
    "At portfolio level\n"
   ]
  },
  {
   "cell_type": "code",
   "execution_count": null,
   "metadata": {},
   "outputs": [],
   "source": [
    "#define weights\n",
    "w = np.full((len(ret), 2), [0.7, 0.3])\n",
    "# portfolio returns\n",
    "ret[\"PTF\"] = ret[[\"MSFT\", \"WMT\"]].mul(w).sum(axis=1)\n",
    "ret.head()"
   ]
  },
  {
   "cell_type": "code",
   "execution_count": 97,
   "metadata": {},
   "outputs": [
    {
     "name": "stdout",
     "output_type": "stream",
     "text": [
      "Ptf alpha: 0.0023483331932946556\n",
      "Ptf beta: 0.8532280808789459\n"
     ]
    }
   ],
   "source": [
    "reg_ptf = stats.linregress(ret.SPY, ret.PTF)\n",
    "print(\"Ptf alpha: \" +str(reg_ptf.intercept))\n",
    "print(\"Ptf beta: \" +str(reg_ptf.slope))"
   ]
  },
  {
   "cell_type": "markdown",
   "metadata": {},
   "source": [
    "### Risk"
   ]
  },
  {
   "cell_type": "markdown",
   "metadata": {},
   "source": [
    "At stock level (assuming uncorrelated returns)"
   ]
  },
  {
   "cell_type": "markdown",
   "metadata": {},
   "source": [
    "$$ s_{PTF} = \\sqrt{0.7^2 \\cdot s_{MFST}^2 + 0.3^2 \\cdot s_{WMT}^2} = 16.56\\% $$"
   ]
  },
  {
   "cell_type": "markdown",
   "metadata": {},
   "source": [
    "At portfolio level"
   ]
  },
  {
   "cell_type": "code",
   "execution_count": 110,
   "metadata": {},
   "outputs": [
    {
     "name": "stdout",
     "output_type": "stream",
     "text": [
      "s= 0.122\n"
     ]
    }
   ],
   "source": [
    "print(\"s= \" +str(round(reg_ptf.stderr*np.sqrt(12), 3)))"
   ]
  },
  {
   "cell_type": "markdown",
   "metadata": {},
   "source": [
    "<b>Note</b>: For returns, applying weights to alpha and betas for each stocks yields the same results as by using an OLS regression on the portfolio returns. However, it does make a difference for the specific risk of the portfolio!\n",
    "\n",
    "<b>Why</b>: The reason is that specific risks are not uncorrelated\n",
    "\n",
    "<b>Solution</b>: To compute specific risk correcly, it is recommended to first construct the constant weighted portfolio and then to apply OLS regression. Alternatively, we can calculate the covariance matrix with the regression residuals.  "
   ]
  },
  {
   "cell_type": "code",
   "execution_count": null,
   "metadata": {},
   "outputs": [],
   "source": []
  },
  {
   "cell_type": "markdown",
   "metadata": {},
   "source": [
    "\\begin{equation*}\n",
    "E_{R_{i}} - R_{f} = \\beta_{i}(E(R_{M} - R_{f})) \n",
    "\\label{eq:vector_ray} \\tag{1}\n",
    "\\end{equation*}"
   ]
  },
  {
   "cell_type": "markdown",
   "metadata": {},
   "source": [
    "\\ref(eq:vector_ray)"
   ]
  },
  {
   "cell_type": "markdown",
   "metadata": {},
   "source": [
    "This is a cross cell reference to Eq. \\ref{eq:vector_ray}"
   ]
  },
  {
   "cell_type": "code",
   "execution_count": null,
   "metadata": {},
   "outputs": [],
   "source": []
  }
 ],
 "metadata": {
  "kernelspec": {
   "display_name": "Python 3",
   "language": "python",
   "name": "python3"
  },
  "language_info": {
   "codemirror_mode": {
    "name": "ipython",
    "version": 3
   },
   "file_extension": ".py",
   "mimetype": "text/x-python",
   "name": "python",
   "nbconvert_exporter": "python",
   "pygments_lexer": "ipython3",
   "version": "3.8.3"
  }
 },
 "nbformat": 4,
 "nbformat_minor": 4
}
