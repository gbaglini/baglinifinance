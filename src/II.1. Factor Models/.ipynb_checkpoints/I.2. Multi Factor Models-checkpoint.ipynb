{
 "cells": [
  {
   "cell_type": "markdown",
   "id": "4d1370e2",
   "metadata": {},
   "source": [
    "# Multi Factor Models"
   ]
  },
  {
   "cell_type": "markdown",
   "id": "cd3209fb",
   "metadata": {},
   "source": [
    "### Portfolio Returns"
   ]
  },
  {
   "cell_type": "markdown",
   "id": "6cf2da6e",
   "metadata": {},
   "source": [
    "$$\\boldsymbol{y = \\alpha + X\\beta + \\epsilon}$$\n",
    "$$y = \\tilde{X}\\tilde{B} + \\epsilon $$\n",
    "$\\tilde{X} = (1  X) $"
   ]
  },
  {
   "cell_type": "code",
   "execution_count": null,
   "id": "7d09a622",
   "metadata": {},
   "outputs": [],
   "source": []
  },
  {
   "cell_type": "code",
   "execution_count": null,
   "id": "7bdb8da0",
   "metadata": {},
   "outputs": [],
   "source": []
  }
 ],
 "metadata": {
  "kernelspec": {
   "display_name": "Python 3",
   "language": "python",
   "name": "python3"
  },
  "language_info": {
   "codemirror_mode": {
    "name": "ipython",
    "version": 3
   },
   "file_extension": ".py",
   "mimetype": "text/x-python",
   "name": "python",
   "nbconvert_exporter": "python",
   "pygments_lexer": "ipython3",
   "version": "3.8.3"
  }
 },
 "nbformat": 4,
 "nbformat_minor": 5
}
