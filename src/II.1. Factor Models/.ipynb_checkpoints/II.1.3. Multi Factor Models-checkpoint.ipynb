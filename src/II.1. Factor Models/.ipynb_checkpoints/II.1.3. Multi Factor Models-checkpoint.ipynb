{
 "cells": [
  {
   "cell_type": "code",
   "execution_count": 7,
   "id": "7d4f0020",
   "metadata": {},
   "outputs": [],
   "source": [
    "#! pip install getFamaFrenchFactors"
   ]
  },
  {
   "cell_type": "code",
   "execution_count": 35,
   "id": "93ef3ee9",
   "metadata": {},
   "outputs": [],
   "source": [
    "import yfinance as yf\n",
    "import pandas as pd\n",
    "from scipy import stats\n",
    "import numpy as np\n",
    "import plotly.express as px\n",
    "from scipy.optimize import minimize"
   ]
  },
  {
   "cell_type": "markdown",
   "id": "58927087",
   "metadata": {},
   "source": [
    "# Multi Factor Models"
   ]
  },
  {
   "cell_type": "markdown",
   "id": "16e6f93a",
   "metadata": {},
   "source": [
    "### Portfolio Returns"
   ]
  },
  {
   "cell_type": "markdown",
   "id": "eb422245",
   "metadata": {},
   "source": [
    "$$\\boldsymbol{y = \\alpha + X\\beta + \\epsilon}$$\n",
    "$$y = \\tilde{X}\\tilde{B} + \\epsilon $$\n",
    "$\\tilde{X} = (1  X) $"
   ]
  },
  {
   "cell_type": "markdown",
   "id": "26fa27e7",
   "metadata": {},
   "source": [
    "### <font color='Hunter Green'>**Example II.1.3**</font>"
   ]
  },
  {
   "cell_type": "code",
   "execution_count": 3,
   "id": "175c8f06",
   "metadata": {},
   "outputs": [],
   "source": [
    "betas = np.array([0.8,  1.2])\n",
    "cov_matrix = np.array([[0.0225, -0.015], [-0.015, 0.04]])\n",
    "ptf_vol = 0.25\n"
   ]
  },
  {
   "cell_type": "code",
   "execution_count": 21,
   "id": "5904256d",
   "metadata": {},
   "outputs": [],
   "source": [
    "stock_fct_var = betas.T.dot(cov_matrix).dot(betas)\n",
    "stock_fct_vol = stock_fct_var**0.5\n",
    "ptf_var = 0.25**2\n",
    "specs_var = ptf_var - stock_fct_var\n",
    "specs_vol = specs_var**0.5"
   ]
  },
  {
   "cell_type": "code",
   "execution_count": 22,
   "id": "b3c42f60",
   "metadata": {},
   "outputs": [
    {
     "name": "stdout",
     "output_type": "stream",
     "text": [
      "Volatility due to risk factors: 0.20784609690826528\n",
      "Idiosyncratic volatility: 0.13892443989449804\n"
     ]
    }
   ],
   "source": [
    "print(\"Volatility due to risk factors: {}\".format(stock_fct_vol))\n",
    "print(\"Idiosyncratic volatility: {}\".format(specs_vol))"
   ]
  },
  {
   "cell_type": "markdown",
   "id": "768f80ab",
   "metadata": {},
   "source": [
    "$$ 25\\% = (20.78\\%^2 + 13.89\\%^2) $$"
   ]
  },
  {
   "cell_type": "markdown",
   "id": "ab55a106",
   "metadata": {},
   "source": [
    "Key points:\n",
    "* additivity of the variances (not volatilities), but only when we assume zero covariance between specific returns and risk factors\n",
    "* the portfolio alpha does not affect the risk decomposition, but it does affect the assets expected returns"
   ]
  },
  {
   "cell_type": "markdown",
   "id": "b874d6da",
   "metadata": {},
   "source": [
    "### Style attribution analysis"
   ]
  },
  {
   "cell_type": "markdown",
   "id": "28b46274",
   "metadata": {},
   "source": [
    "### <font color='Hunter Green'>**Example II.1.4**</font>"
   ]
  },
  {
   "cell_type": "code",
   "execution_count": 46,
   "id": "3f10dbfc",
   "metadata": {},
   "outputs": [],
   "source": [
    "df = pd.read_excel(r\"data\\Examples_II.1.xls\", sheet_name=\"EX_II.1.4\", usecols=\"G:O\").set_index(\"Date\")\n",
    "ret = np.log(df/df.shift())[1:]"
   ]
  },
  {
   "cell_type": "code",
   "execution_count": 136,
   "id": "b2ef5f83",
   "metadata": {},
   "outputs": [],
   "source": [
    "def min_squared_res(betas0, fund_ret, fct_ret):\n",
    "    \"\"\"Minimize squared residuals\"\"\"\n",
    "    return np.sum((fund_ret - fct_ret.dot(betas0))**2)\n",
    "\n",
    "def sum_weights(betas0):\n",
    "    return sum(betas0) - 1\n",
    "\n",
    "def no_short(betas0):\n",
    "    return betas0\n",
    "\n",
    "betas0 = [0.5, 0.5, 0.5, 0.5]\n",
    "cons = [{'type':'eq', 'fun': sum_weights},\n",
    "         {'type':'ineq', 'fun': no_short}]\n"
   ]
  },
  {
   "cell_type": "code",
   "execution_count": 154,
   "id": "b0444114",
   "metadata": {},
   "outputs": [],
   "source": [
    "#ret_opt = ret.iloc[ret.index<=\"2004-12-31\"]\n",
    "opt_res = pd.DataFrame(columns=[\"R1000V\", \"R1000G\", \"R2000V\", \"R2000G\"], \n",
    "                       index = [\"VAA\", \"VIT\", \"FAA\", \"FID\"])\n",
    "for col in [\"VAA\", \"VIT\", \"FAA\", \"FID\"]:\n",
    "    res = minimize(min_squared_res, betas0, \n",
    "                   args=(ret[col], ret[[\"R1000V\", \"R1000G\", \"R2000V\", \"R2000G\"]]),\n",
    "                   constraints=cons)\n",
    "    opt_res.loc[col, :] = res.x"
   ]
  },
  {
   "cell_type": "code",
   "execution_count": 155,
   "id": "80ac1918",
   "metadata": {},
   "outputs": [
    {
     "data": {
      "text/html": [
       "<div>\n",
       "<style scoped>\n",
       "    .dataframe tbody tr th:only-of-type {\n",
       "        vertical-align: middle;\n",
       "    }\n",
       "\n",
       "    .dataframe tbody tr th {\n",
       "        vertical-align: top;\n",
       "    }\n",
       "\n",
       "    .dataframe thead th {\n",
       "        text-align: right;\n",
       "    }\n",
       "</style>\n",
       "<table border=\"1\" class=\"dataframe\">\n",
       "  <thead>\n",
       "    <tr style=\"text-align: right;\">\n",
       "      <th></th>\n",
       "      <th>R1000V</th>\n",
       "      <th>R1000G</th>\n",
       "      <th>R2000V</th>\n",
       "      <th>R2000G</th>\n",
       "    </tr>\n",
       "  </thead>\n",
       "  <tbody>\n",
       "    <tr>\n",
       "      <th>VAA</th>\n",
       "      <td>0.952679</td>\n",
       "      <td>0.024357</td>\n",
       "      <td>-0.0</td>\n",
       "      <td>0.022964</td>\n",
       "    </tr>\n",
       "    <tr>\n",
       "      <th>VIT</th>\n",
       "      <td>0.925415</td>\n",
       "      <td>-0.0</td>\n",
       "      <td>0.0</td>\n",
       "      <td>0.074585</td>\n",
       "    </tr>\n",
       "    <tr>\n",
       "      <th>FAA</th>\n",
       "      <td>0.353576</td>\n",
       "      <td>0.051749</td>\n",
       "      <td>0.0</td>\n",
       "      <td>0.594675</td>\n",
       "    </tr>\n",
       "    <tr>\n",
       "      <th>FID</th>\n",
       "      <td>0.883386</td>\n",
       "      <td>0.005289</td>\n",
       "      <td>-0.0</td>\n",
       "      <td>0.111325</td>\n",
       "    </tr>\n",
       "  </tbody>\n",
       "</table>\n",
       "</div>"
      ],
      "text/plain": [
       "       R1000V    R1000G R2000V    R2000G\n",
       "VAA  0.952679  0.024357   -0.0  0.022964\n",
       "VIT  0.925415      -0.0    0.0  0.074585\n",
       "FAA  0.353576  0.051749    0.0  0.594675\n",
       "FID  0.883386  0.005289   -0.0  0.111325"
      ]
     },
     "execution_count": 155,
     "metadata": {},
     "output_type": "execute_result"
    }
   ],
   "source": [
    "opt_res"
   ]
  },
  {
   "cell_type": "markdown",
   "id": "49d19935",
   "metadata": {},
   "source": [
    "## Generalization of multifactor models"
   ]
  },
  {
   "cell_type": "markdown",
   "id": "d681f4f8",
   "metadata": {},
   "source": [
    "<font color='Hunter Green'>**Example II.1.5**</font>"
   ]
  },
  {
   "cell_type": "code",
   "execution_count": 160,
   "id": "a1f623ea",
   "metadata": {},
   "outputs": [],
   "source": [
    "betas = np.array([[0.2, 1.2], [0.9, 0.2], [1.3, 0.7]])\n",
    "weights = np.array([-0.25, 0.75, 0.5])"
   ]
  },
  {
   "cell_type": "code",
   "execution_count": 167,
   "id": "decc6f6a",
   "metadata": {},
   "outputs": [
    {
     "data": {
      "text/plain": [
       "0.1747185236315829"
      ]
     },
     "execution_count": 167,
     "metadata": {},
     "output_type": "execute_result"
    }
   ],
   "source": [
    "#net portfolio betas\n",
    "ptf_net_betas = betas.T.dot(weights)\n",
    "#using the cov matrix for risk factor of the previous example\n",
    "ptf_risk_fct_var = ptf_net_betas.dot(cov_matrix).dot(ptf_net_betas)\n",
    "ptf_risk_fct_vol = ptf_risk_fct_var**0.5\n",
    "ptf_risk_fct_vol"
   ]
  },
  {
   "cell_type": "markdown",
   "id": "71b09447",
   "metadata": {},
   "source": [
    "### Multi-factor models of international portfolios"
   ]
  },
  {
   "cell_type": "markdown",
   "id": "0a71e9ab",
   "metadata": {},
   "source": [
    "<font color='Hunter Green'>**Example II.1.6**</font>"
   ]
  },
  {
   "cell_type": "code",
   "execution_count": null,
   "id": "999048ef",
   "metadata": {},
   "outputs": [],
   "source": []
  }
 ],
 "metadata": {
  "kernelspec": {
   "display_name": "Python 3",
   "language": "python",
   "name": "python3"
  },
  "language_info": {
   "codemirror_mode": {
    "name": "ipython",
    "version": 3
   },
   "file_extension": ".py",
   "mimetype": "text/x-python",
   "name": "python",
   "nbconvert_exporter": "python",
   "pygments_lexer": "ipython3",
   "version": "3.8.3"
  },
  "toc": {
   "base_numbering": 1,
   "nav_menu": {},
   "number_sections": true,
   "sideBar": true,
   "skip_h1_title": false,
   "title_cell": "Table of Contents",
   "title_sidebar": "Contents",
   "toc_cell": false,
   "toc_position": {},
   "toc_section_display": true,
   "toc_window_display": false
  }
 },
 "nbformat": 4,
 "nbformat_minor": 5
}
