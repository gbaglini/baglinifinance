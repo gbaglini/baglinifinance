{
 "cells": [
  {
   "cell_type": "code",
   "execution_count": 7,
   "id": "7edc8962",
   "metadata": {},
   "outputs": [],
   "source": [
    "#! pip install getFamaFrenchFactors"
   ]
  },
  {
   "cell_type": "code",
   "execution_count": 6,
   "id": "24f06a78",
   "metadata": {},
   "outputs": [],
   "source": [
    "import yfinance as yf\n",
    "from scipy import stats\n",
    "import numpy as np\n",
    "import plotly.express as px\n",
    "import getFamaFrenchFactors as gff"
   ]
  },
  {
   "cell_type": "code",
   "execution_count": 3,
   "id": "efd99cb9",
   "metadata": {},
   "outputs": [],
   "source": [
    "def download_data_yf(string_tickers, start=None, end=None, interval=\"1wk\"):\n",
    "    data = yf.download(string_tickers, start=start, end=end, interval=interval)\n",
    "    data.index  = data.index.date \n",
    "    return data"
   ]
  },
  {
   "cell_type": "markdown",
   "id": "ed9f9dea",
   "metadata": {},
   "source": [
    "# Multi Factor Models"
   ]
  },
  {
   "cell_type": "markdown",
   "id": "df2bb2bf",
   "metadata": {},
   "source": [
    "### Portfolio Returns"
   ]
  },
  {
   "cell_type": "markdown",
   "id": "6084304f",
   "metadata": {},
   "source": [
    "$$\\boldsymbol{y = \\alpha + X\\beta + \\epsilon}$$\n",
    "$$y = \\tilde{X}\\tilde{B} + \\epsilon $$\n",
    "$\\tilde{X} = (1  X) $"
   ]
  },
  {
   "cell_type": "markdown",
   "id": "4f32f5d9",
   "metadata": {},
   "source": [
    "# <font color='Hunter Green'>**Example**</font>"
   ]
  },
  {
   "cell_type": "code",
   "execution_count": 14,
   "id": "2b421325",
   "metadata": {},
   "outputs": [
    {
     "name": "stdout",
     "output_type": "stream",
     "text": [
      "[*********************100%***********************]  1 of 1 completed\n"
     ]
    },
    {
     "data": {
      "text/plain": [
       "2000-01-01     30.532030\n",
       "2000-02-01     27.880459\n",
       "2000-03-01     33.144592\n",
       "2000-04-01     21.758455\n",
       "2000-05-01     19.516319\n",
       "                 ...    \n",
       "2023-01-01    247.190857\n",
       "2023-02-01    248.796829\n",
       "2023-03-01    288.299988\n",
       "2023-04-01    307.260010\n",
       "2023-05-01    308.700012\n",
       "Name: Adj Close, Length: 281, dtype: float64"
      ]
     },
     "execution_count": 14,
     "metadata": {},
     "output_type": "execute_result"
    }
   ],
   "source": [
    "tickers = 'MSFT'\n",
    "interval = '1mo'\n",
    "start = \"2000-01-01\"\n",
    "stock_data = download_data_yf(tickers, start, None, interval)[\"Adj Close\"]\n",
    "stock_data"
   ]
  },
  {
   "cell_type": "code",
   "execution_count": 10,
   "id": "12abaa57",
   "metadata": {},
   "outputs": [
    {
     "data": {
      "text/html": [
       "<div>\n",
       "<style scoped>\n",
       "    .dataframe tbody tr th:only-of-type {\n",
       "        vertical-align: middle;\n",
       "    }\n",
       "\n",
       "    .dataframe tbody tr th {\n",
       "        vertical-align: top;\n",
       "    }\n",
       "\n",
       "    .dataframe thead th {\n",
       "        text-align: right;\n",
       "    }\n",
       "</style>\n",
       "<table border=\"1\" class=\"dataframe\">\n",
       "  <thead>\n",
       "    <tr style=\"text-align: right;\">\n",
       "      <th></th>\n",
       "      <th>Mkt-RF</th>\n",
       "      <th>SMB</th>\n",
       "      <th>HML</th>\n",
       "      <th>RF</th>\n",
       "    </tr>\n",
       "    <tr>\n",
       "      <th>Date</th>\n",
       "      <th></th>\n",
       "      <th></th>\n",
       "      <th></th>\n",
       "      <th></th>\n",
       "    </tr>\n",
       "  </thead>\n",
       "  <tbody>\n",
       "    <tr>\n",
       "      <th>1926-07-31</th>\n",
       "      <td>0.0296</td>\n",
       "      <td>-0.0256</td>\n",
       "      <td>-0.0243</td>\n",
       "      <td>0.0022</td>\n",
       "    </tr>\n",
       "    <tr>\n",
       "      <th>1926-08-31</th>\n",
       "      <td>0.0264</td>\n",
       "      <td>-0.0117</td>\n",
       "      <td>0.0382</td>\n",
       "      <td>0.0025</td>\n",
       "    </tr>\n",
       "    <tr>\n",
       "      <th>1926-09-30</th>\n",
       "      <td>0.0036</td>\n",
       "      <td>-0.0140</td>\n",
       "      <td>0.0013</td>\n",
       "      <td>0.0023</td>\n",
       "    </tr>\n",
       "    <tr>\n",
       "      <th>1926-10-31</th>\n",
       "      <td>-0.0324</td>\n",
       "      <td>-0.0009</td>\n",
       "      <td>0.0070</td>\n",
       "      <td>0.0032</td>\n",
       "    </tr>\n",
       "    <tr>\n",
       "      <th>1926-11-30</th>\n",
       "      <td>0.0253</td>\n",
       "      <td>-0.0010</td>\n",
       "      <td>-0.0051</td>\n",
       "      <td>0.0031</td>\n",
       "    </tr>\n",
       "    <tr>\n",
       "      <th>...</th>\n",
       "      <td>...</td>\n",
       "      <td>...</td>\n",
       "      <td>...</td>\n",
       "      <td>...</td>\n",
       "    </tr>\n",
       "    <tr>\n",
       "      <th>2022-11-30</th>\n",
       "      <td>0.0460</td>\n",
       "      <td>-0.0340</td>\n",
       "      <td>0.0138</td>\n",
       "      <td>0.0029</td>\n",
       "    </tr>\n",
       "    <tr>\n",
       "      <th>2022-12-31</th>\n",
       "      <td>-0.0641</td>\n",
       "      <td>-0.0068</td>\n",
       "      <td>0.0132</td>\n",
       "      <td>0.0033</td>\n",
       "    </tr>\n",
       "    <tr>\n",
       "      <th>2023-01-31</th>\n",
       "      <td>0.0665</td>\n",
       "      <td>0.0502</td>\n",
       "      <td>-0.0405</td>\n",
       "      <td>0.0035</td>\n",
       "    </tr>\n",
       "    <tr>\n",
       "      <th>2023-02-28</th>\n",
       "      <td>-0.0258</td>\n",
       "      <td>0.0121</td>\n",
       "      <td>-0.0078</td>\n",
       "      <td>0.0034</td>\n",
       "    </tr>\n",
       "    <tr>\n",
       "      <th>2023-03-31</th>\n",
       "      <td>0.0251</td>\n",
       "      <td>-0.0559</td>\n",
       "      <td>-0.0901</td>\n",
       "      <td>0.0036</td>\n",
       "    </tr>\n",
       "  </tbody>\n",
       "</table>\n",
       "<p>1161 rows × 4 columns</p>\n",
       "</div>"
      ],
      "text/plain": [
       "            Mkt-RF     SMB     HML      RF\n",
       "Date                                      \n",
       "1926-07-31  0.0296 -0.0256 -0.0243  0.0022\n",
       "1926-08-31  0.0264 -0.0117  0.0382  0.0025\n",
       "1926-09-30  0.0036 -0.0140  0.0013  0.0023\n",
       "1926-10-31 -0.0324 -0.0009  0.0070  0.0032\n",
       "1926-11-30  0.0253 -0.0010 -0.0051  0.0031\n",
       "...            ...     ...     ...     ...\n",
       "2022-11-30  0.0460 -0.0340  0.0138  0.0029\n",
       "2022-12-31 -0.0641 -0.0068  0.0132  0.0033\n",
       "2023-01-31  0.0665  0.0502 -0.0405  0.0035\n",
       "2023-02-28 -0.0258  0.0121 -0.0078  0.0034\n",
       "2023-03-31  0.0251 -0.0559 -0.0901  0.0036\n",
       "\n",
       "[1161 rows x 4 columns]"
      ]
     },
     "execution_count": 10,
     "metadata": {},
     "output_type": "execute_result"
    }
   ],
   "source": [
    "ff3_monthly = gff.famaFrench3Factor(frequency='m')\n",
    "ff3_monthly.rename(columns={\"date_ff_factors\": 'Date'}, inplace=True)\n",
    "ff3_monthly.set_index('Date', inplace=True)\n",
    "ff3_monthly"
   ]
  },
  {
   "cell_type": "code",
   "execution_count": null,
   "id": "30209857",
   "metadata": {},
   "outputs": [],
   "source": []
  }
 ],
 "metadata": {
  "kernelspec": {
   "display_name": "Python 3",
   "language": "python",
   "name": "python3"
  },
  "language_info": {
   "codemirror_mode": {
    "name": "ipython",
    "version": 3
   },
   "file_extension": ".py",
   "mimetype": "text/x-python",
   "name": "python",
   "nbconvert_exporter": "python",
   "pygments_lexer": "ipython3",
   "version": "3.8.3"
  }
 },
 "nbformat": 4,
 "nbformat_minor": 5
}
